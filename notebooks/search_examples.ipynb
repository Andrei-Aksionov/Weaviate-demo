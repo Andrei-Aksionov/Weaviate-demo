{
 "cells": [
  {
   "cell_type": "markdown",
   "metadata": {},
   "source": [
    "# TODO:\n",
    "- add description for each request (describe what we are looking for)\n",
    "- finish TOC"
   ]
  },
  {
   "cell_type": "markdown",
   "metadata": {},
   "source": [
    "<h1><center>WEAVIATE SEARCH REQUEST EXAMPLES</center></h1>"
   ]
  },
  {
   "cell_type": "markdown",
   "metadata": {},
   "source": [
    "As described on their [website](https://weaviate.io/): \"Weaviate is an open source vector search engine that stores both objects and vectors, allowing for combining vector search with structured filtering with the fault-tolerance and scalability of a cloud-native database, all accessible through GraphQL, REST, and various language clients.\"\n",
    "\n",
    "In other words Weaviate is a search engine that is especially created with vector search in mind hence includes some nifty vector search optimizations and search filters."
   ]
  },
  {
   "cell_type": "markdown",
   "metadata": {},
   "source": [
    "As for data CNBC news dataset from [data.world](https://data.world/crawlfeeds/cnbc-news-dataset) is used. It is relatively small (~600 articles), but it's sufficient for demo purposes."
   ]
  },
  {
   "cell_type": "markdown",
   "metadata": {},
   "source": [
    "## Table of content:\n",
    "* [Near text filer](#near-text-filer)"
   ]
  },
  {
   "cell_type": "markdown",
   "metadata": {},
   "source": [
    "# Preparations"
   ]
  },
  {
   "cell_type": "markdown",
   "metadata": {},
   "source": [
    "Required imports."
   ]
  },
  {
   "cell_type": "code",
   "execution_count": 2,
   "metadata": {},
   "outputs": [],
   "source": [
    "import re\n",
    "from datetime import datetime, timezone\n",
    "from string import Template\n",
    "from typing import Optional\n",
    "\n",
    "import weaviate\n",
    "from termcolor import colored\n"
   ]
  },
  {
   "cell_type": "markdown",
   "metadata": {},
   "source": [
    "Helper utils."
   ]
  },
  {
   "cell_type": "code",
   "execution_count": 14,
   "metadata": {},
   "outputs": [],
   "source": [
    "def pprint_response(response: dict, description_size_limit: Optional[int] = 500) -> None:\n",
    "    \"\"\"Prints response in a prettier way.\n",
    "\n",
    "    Parameters\n",
    "    ----------\n",
    "    response : dict\n",
    "    description_size_limit : Optional[int], optional\n",
    "        if set \"descripton\" and \"short_description\" will be limited to that amount, by default 500\n",
    "    \"\"\"\n",
    "    response = response[\"data\"][\"Get\"]\n",
    "\n",
    "    for class_name in response:\n",
    "        print(colored(class_name.upper(), \"red\", \"on_white\", attrs=[\"bold\"]))\n",
    "\n",
    "        for idx, resp in enumerate(response[class_name]):\n",
    "            print(f\"Response # {idx}\")\n",
    "            for key, value in resp.items():\n",
    "                if key in {\"description\", \"short_description\"} and description_size_limit:\n",
    "                    value = value[:description_size_limit]\n",
    "                print(f\"{colored(key, 'magenta', 'on_grey')}: {value}\")\n",
    "            print(\"=\" * 120)\n"
   ]
  },
  {
   "cell_type": "markdown",
   "metadata": {},
   "source": [
    "Establishing connection to Weaviate."
   ]
  },
  {
   "cell_type": "code",
   "execution_count": 10,
   "metadata": {},
   "outputs": [
    {
     "name": "stdout",
     "output_type": "stream",
     "text": [
      "Weaviate:\n",
      "\tis live: True\n",
      "\tis ready: True\n"
     ]
    }
   ],
   "source": [
    "client = weaviate.Client(\"http://localhost:8080\")\n",
    "print(f\"Weaviate:\\n\\tis live: {client.is_live()}\\n\\tis ready: {client.is_ready()}\")"
   ]
  },
  {
   "cell_type": "code",
   "execution_count": 12,
   "metadata": {},
   "outputs": [
    {
     "name": "stdout",
     "output_type": "stream",
     "text": [
      "Class name: Article\n",
      "\tObjects count: 593\n",
      "Class name: Author\n",
      "\tObjects count: 187\n"
     ]
    }
   ],
   "source": [
    "for weaviate_class in client.schema.get()[\"classes\"]:\n",
    "    class_name = weaviate_class[\"class\"]\n",
    "    response = client.query.aggregate(class_name).with_meta_count().do()\n",
    "    class_object_count = response[\"data\"][\"Aggregate\"][class_name][0][\"meta\"][\"count\"]\n",
    "    print(f\"Class name: {class_name}\\n\\tObjects count: {class_object_count}\")"
   ]
  },
  {
   "cell_type": "markdown",
   "metadata": {},
   "source": [
    "Now, as Weaviate instance is live and ready and contains articles/authors data we can start writing queries."
   ]
  },
  {
   "cell_type": "markdown",
   "metadata": {},
   "source": [
    "# Weaviate query"
   ]
  },
  {
   "cell_type": "markdown",
   "metadata": {},
   "source": [
    "Weaviate query can be formed in two ways:\n",
    "- using **GetBuilder** (basically calling query method from `client.query`)\n",
    "- using **GraphQL** (passed as a raw string into `client.query.raw` method)"
   ]
  },
  {
   "cell_type": "markdown",
   "metadata": {},
   "source": [
    "Typical GetBuilder looks like this:\n",
    "```python\n",
    "client.query.get( \n",
    "    \"name of a class\",\n",
    "    \"what properties to return\")\n",
    "    .with_near_text(\n",
    "        \"dictionary with text for vector search\"\n",
    "        )\n",
    "    .with_where(\n",
    "        \"here are described filters like title/keyword to match\"\n",
    "    )\n",
    "    .with_limit(\n",
    "        \"return top N responses\"\n",
    "    )\n",
    "    .do() # runs query\n",
    "```\n"
   ]
  },
  {
   "cell_type": "markdown",
   "metadata": {},
   "source": [
    "GraphQL looks like this:\n",
    "```json\n",
    "{\n",
    "  Get {\n",
    "    Article(\n",
    "      where: {operator: GreaterThanEqual, path: [\"descriptionWordCount\"], valueInt: 100}\n",
    "      limit: 5\n",
    "    ) {\n",
    "      descriptionWordCount\n",
    "      title\n",
    "      url\n",
    "    }\n",
    "  }\n",
    "}\n",
    "```\n",
    "\n",
    "The main limitation is that GraphQL has to be in a form of raw string hence it's a bit inconvenient to format with variables.\n",
    "\n",
    "**IMPORTANT**: the above is true at the moment of notebook creation.</br>\n",
    "In order to see whether desired type of request is supported by GetBuilder check [weaviate filter doc page](https://weaviate.io/developers/weaviate/current/graphql-references/filters.html). "
   ]
  },
  {
   "cell_type": "markdown",
   "metadata": {},
   "source": [
    "In my opinion Query builder approach looks better but unfortunately not all queries can be formed with the builder (but every request can be formed with GraphQL syntax).</br>\n",
    "That's why I separated all examples into two categories: that can be formed without GraphQL syntax and that cannot."
   ]
  },
  {
   "cell_type": "markdown",
   "metadata": {},
   "source": [
    "# 1. Requests with filters that are supported by GetBuilder "
   ]
  },
  {
   "cell_type": "markdown",
   "metadata": {},
   "source": [
    "## 1.1. Near text filer (vector search) <a class=\"anchor\" id=\"near-text-filer\"></a>"
   ]
  },
  {
   "cell_type": "markdown",
   "metadata": {},
   "source": [
    "https://weaviate.io/developers/weaviate/current/graphql-references/filters.html#nearvector-filter"
   ]
  },
  {
   "cell_type": "code",
   "execution_count": 5,
   "metadata": {},
   "outputs": [
    {
     "name": "stdout",
     "output_type": "stream",
     "text": [
      "\u001b[1m\u001b[47m\u001b[31mARTICLE\u001b[0m\n",
      "Response # 0\n",
      "\u001b[40m\u001b[35m_additional\u001b[0m: {'certainty': 0.6303598}\n",
      "\u001b[40m\u001b[35mtitle\u001b[0m: Nadja Swarovski: The luxury sector has been ‘incredibly resilient’ amid the pandemic\n",
      "========================================================================================================================\n",
      "Response # 1\n",
      "\u001b[40m\u001b[35m_additional\u001b[0m: {'certainty': 0.6030835}\n",
      "\u001b[40m\u001b[35mtitle\u001b[0m: The world’s most powerful women are …\n",
      "========================================================================================================================\n",
      "Response # 2\n",
      "\u001b[40m\u001b[35m_additional\u001b[0m: {'certainty': 0.57555836}\n",
      "\u001b[40m\u001b[35mtitle\u001b[0m: Luxury Motorbike Sales Accelerate in India\n",
      "========================================================================================================================\n",
      "Response # 3\n",
      "\u001b[40m\u001b[35m_additional\u001b[0m: {'certainty': 0.56418556}\n",
      "\u001b[40m\u001b[35mtitle\u001b[0m: Star Wars meets Uniqlo as Fast Retailing, Disney expand product tie-up\n",
      "========================================================================================================================\n",
      "Response # 4\n",
      "\u001b[40m\u001b[35m_additional\u001b[0m: {'certainty': 0.5591956}\n",
      "\u001b[40m\u001b[35mtitle\u001b[0m: Amazon's PillPack is battling with CVS and Walgreens over getting patient prescriptions\n",
      "========================================================================================================================\n"
     ]
    }
   ],
   "source": [
    "class_name = \"Article\"\n",
    "properties = [\n",
    "    \"title\",\n",
    "    # \"short_description\",\n",
    "    \"_additional {certainty}\",\n",
    "]\n",
    "\n",
    "nearText = {\n",
    "    \"concepts\": [\"fashion\"],\n",
    "    \"certainty\": 0.5,\n",
    "}\n",
    "\n",
    "response = client.query.get(class_name, properties).with_near_text(nearText).with_limit(5).do()\n",
    "\n",
    "pprint_response(response)\n"
   ]
  },
  {
   "cell_type": "code",
   "execution_count": 6,
   "metadata": {},
   "outputs": [
    {
     "name": "stdout",
     "output_type": "stream",
     "text": [
      "\u001b[1m\u001b[47m\u001b[31mARTICLE\u001b[0m\n",
      "Response # 0\n",
      "\u001b[40m\u001b[35m_additional\u001b[0m: {'certainty': 0.628858}\n",
      "\u001b[40m\u001b[35mtitle\u001b[0m: Nadja Swarovski: The luxury sector has been ‘incredibly resilient’ amid the pandemic\n",
      "========================================================================================================================\n",
      "Response # 1\n",
      "\u001b[40m\u001b[35m_additional\u001b[0m: {'certainty': 0.586373}\n",
      "\u001b[40m\u001b[35mtitle\u001b[0m: Luxury Motorbike Sales Accelerate in India\n",
      "========================================================================================================================\n",
      "Response # 2\n",
      "\u001b[40m\u001b[35m_additional\u001b[0m: {'certainty': 0.57763237}\n",
      "\u001b[40m\u001b[35mtitle\u001b[0m: The world’s most powerful women are …\n",
      "========================================================================================================================\n",
      "Response # 3\n",
      "\u001b[40m\u001b[35m_additional\u001b[0m: {'certainty': 0.57247543}\n",
      "\u001b[40m\u001b[35mtitle\u001b[0m: Star Wars meets Uniqlo as Fast Retailing, Disney expand product tie-up\n",
      "========================================================================================================================\n",
      "Response # 4\n",
      "\u001b[40m\u001b[35m_additional\u001b[0m: {'certainty': 0.5706278}\n",
      "\u001b[40m\u001b[35mtitle\u001b[0m: Amazon's PillPack is battling with CVS and Walgreens over getting patient prescriptions\n",
      "========================================================================================================================\n"
     ]
    }
   ],
   "source": [
    "nearText = {\n",
    "    \"concepts\": [\"fashion\"],\n",
    "    \"certainty\": 0.5,\n",
    "    \"moveAwayFrom\": {\n",
    "        \"concepts\": [\"financial\"],\n",
    "        \"force\": 0.8,\n",
    "    },\n",
    "}\n",
    "\n",
    "response = client.query.get(class_name, properties).with_near_text(nearText).with_limit(5).do()\n",
    "\n",
    "pprint_response(response)\n"
   ]
  },
  {
   "cell_type": "code",
   "execution_count": 7,
   "metadata": {},
   "outputs": [
    {
     "name": "stdout",
     "output_type": "stream",
     "text": [
      "\u001b[1m\u001b[47m\u001b[31mARTICLE\u001b[0m\n",
      "Response # 0\n",
      "\u001b[40m\u001b[35m_additional\u001b[0m: {'certainty': 0.628858}\n",
      "\u001b[40m\u001b[35mtitle\u001b[0m: Nadja Swarovski: The luxury sector has been ‘incredibly resilient’ amid the pandemic\n",
      "========================================================================================================================\n",
      "Response # 1\n",
      "\u001b[40m\u001b[35m_additional\u001b[0m: {'certainty': 0.586373}\n",
      "\u001b[40m\u001b[35mtitle\u001b[0m: Luxury Motorbike Sales Accelerate in India\n",
      "========================================================================================================================\n",
      "Response # 2\n",
      "\u001b[40m\u001b[35m_additional\u001b[0m: {'certainty': 0.57763237}\n",
      "\u001b[40m\u001b[35mtitle\u001b[0m: The world’s most powerful women are …\n",
      "========================================================================================================================\n",
      "Response # 3\n",
      "\u001b[40m\u001b[35m_additional\u001b[0m: {'certainty': 0.57247543}\n",
      "\u001b[40m\u001b[35mtitle\u001b[0m: Star Wars meets Uniqlo as Fast Retailing, Disney expand product tie-up\n",
      "========================================================================================================================\n",
      "Response # 4\n",
      "\u001b[40m\u001b[35m_additional\u001b[0m: {'certainty': 0.5706278}\n",
      "\u001b[40m\u001b[35mtitle\u001b[0m: Amazon's PillPack is battling with CVS and Walgreens over getting patient prescriptions\n",
      "========================================================================================================================\n"
     ]
    }
   ],
   "source": [
    "neartext = {\n",
    "    \"concepts\": [\"fashion\"],\n",
    "    \"certainty\": 0.5,\n",
    "    \"moveawayfrom\": {\n",
    "        \"concepts\": [\"financial\"],\n",
    "        \"force\": 0.8,\n",
    "    },\n",
    "    \"moveto\": {\n",
    "        \"concepts\": [\"couturier\"],\n",
    "        \"force\": 0.85,\n",
    "    },\n",
    "}\n",
    "response = client.query.get(class_name, properties).with_near_text(nearText).with_limit(5).do()\n",
    "\n",
    "pprint_response(response)\n"
   ]
  },
  {
   "cell_type": "markdown",
   "metadata": {},
   "source": [
    "## 1.2. Filter by date"
   ]
  },
  {
   "cell_type": "markdown",
   "metadata": {},
   "source": [
    "https://github.com/semi-technologies/weaviate/issues/1271"
   ]
  },
  {
   "cell_type": "code",
   "execution_count": 8,
   "metadata": {},
   "outputs": [
    {
     "name": "stdout",
     "output_type": "stream",
     "text": [
      "2020-01-01T00:00:00+00:00\n"
     ]
    }
   ],
   "source": [
    "date = datetime(year=2020, month=1, day=1, tzinfo=timezone.utc).isoformat()\n",
    "print(date)\n"
   ]
  },
  {
   "cell_type": "code",
   "execution_count": 9,
   "metadata": {},
   "outputs": [
    {
     "name": "stdout",
     "output_type": "stream",
     "text": [
      "\u001b[1m\u001b[47m\u001b[31mARTICLE\u001b[0m\n",
      "Response # 0\n",
      "\u001b[40m\u001b[35m_additional\u001b[0m: {'certainty': 0.71583223}\n",
      "\u001b[40m\u001b[35mpublished_at\u001b[0m: 2017-09-20T10:05:17Z\n",
      "\u001b[40m\u001b[35mshort_description\u001b[0m: Cybersecurity, health of the global economy, energy price shock and terrorist attacks are some of the top risks that concern businesses and may threaten their ability to operate, according to results from a new survey by the World Economic Forum (WEF) published Wednesday.The survey, conducted annually by the WEF's strategic partners Marsh & McLennan Companies and Zurich Insurance Group, highlighted the following ten risks that businesses are presently concerned about:While concerns about the ove\n",
      "\u001b[40m\u001b[35mtitle\u001b[0m: Here are the top 10 major worries for global business leaders right now, according to WEF\n",
      "========================================================================================================================\n",
      "Response # 1\n",
      "\u001b[40m\u001b[35m_additional\u001b[0m: {'certainty': 0.7157191}\n",
      "\u001b[40m\u001b[35mpublished_at\u001b[0m: 2019-02-01T07:02:21Z\n",
      "\u001b[40m\u001b[35mshort_description\u001b[0m: European stocks closed higher Friday, as market participants monitored a flurry of corporate results and key economic reports.\n",
      "\u001b[40m\u001b[35mtitle\u001b[0m: European stocks close higher amid earnings, US jobs report; Wirecard plummets 25%\n",
      "========================================================================================================================\n",
      "Response # 2\n",
      "\u001b[40m\u001b[35m_additional\u001b[0m: {'certainty': 0.7053139}\n",
      "\u001b[40m\u001b[35mpublished_at\u001b[0m: 2016-09-09T09:17:00Z\n",
      "\u001b[40m\u001b[35mshort_description\u001b[0m: The political and economic \"noise\" created by the U.K.'s decision  to leave the European Union is masking a \"large number\" of risks  in Europe, according to the region's political experts.\"A large number of material political risks in southern and core  Europe are being masked by the noise emanating from Brexit,\"  Mujtaba Rahman, managing director of Europe at political risk  consultancy Eurasia Group, said in a note Thursday.He and his team were not alone, with other political risk  consultanci\n",
      "\u001b[40m\u001b[35mtitle\u001b[0m: Forget the Brexit 'noise,' these are the real risks Europe faces\n",
      "========================================================================================================================\n"
     ]
    }
   ],
   "source": [
    "nearText = {\n",
    "    \"concepts\": [\"car industry\", \"risks\", \"europe\"],\n",
    "    \"certainty\": 0.5,\n",
    "}\n",
    "\n",
    "response = (\n",
    "    client.query.get(\n",
    "        \"Article\",\n",
    "        [\n",
    "            \"title\",\n",
    "            \"short_description\",\n",
    "            # \"description\",\n",
    "            \"published_at\",\n",
    "            \"_additional {certainty}\",\n",
    "        ],\n",
    "    )\n",
    "    .with_near_text(nearText)\n",
    "    .with_where(\n",
    "        {\n",
    "            \"operator\": \"LessThan\",\n",
    "            \"path\": [\"published_at\"],\n",
    "            # valueDate: The date (ISO 8601 timestamp, formatted as RFC3339) value that the Path’s last property name should be compared to.\n",
    "            \"valueDate\": date,\n",
    "        }\n",
    "    )\n",
    "    .with_limit(3)\n",
    "    .do()\n",
    ")\n",
    "\n",
    "pprint_response(response)\n"
   ]
  },
  {
   "cell_type": "markdown",
   "metadata": {},
   "source": [
    "## 1.3. Filter by keywords"
   ]
  },
  {
   "cell_type": "code",
   "execution_count": 10,
   "metadata": {},
   "outputs": [
    {
     "name": "stdout",
     "output_type": "stream",
     "text": [
      "\u001b[1m\u001b[47m\u001b[31mARTICLE\u001b[0m\n",
      "Response # 0\n",
      "\u001b[40m\u001b[35m_additional\u001b[0m: {'certainty': 0.6724188}\n",
      "\u001b[40m\u001b[35mkeywords\u001b[0m: ['cnbc', 'Articles', 'World Markets', 'Bonds', 'Markets', 'Corporate bonds', 'Investment strategy', 'Corporate Debt', 'Investing', 'Credit and Debt', 'Squawk on the Street', 'Market Outlook', 'Europe Economy', 'source:tagname:CNBC US Source']\n",
      "\u001b[40m\u001b[35mtitle\u001b[0m: Lasry: Europe could face Japan-style deflation era\n",
      "========================================================================================================================\n",
      "Response # 1\n",
      "\u001b[40m\u001b[35m_additional\u001b[0m: {'certainty': 0.60360354}\n",
      "\u001b[40m\u001b[35mkeywords\u001b[0m: ['cnbc', 'Articles', 'Commodity markets', 'Currency markets', 'Bonds', 'Barclays PLC', 'HSBC Holdings PLC', 'Meta Platforms Inc', 'Microsoft Corp', 'Alphabet Class A', 'International Business Machines Corp', 'Howmet Aerospace Inc', 'Citigroup Inc', 'Goldman Sachs Group Inc', 'Currencies', 'Futures & Commodities', 'DOW 30', 'Markets', 'stocks', 'Stock Blog', 'source:tagname:CNBC US Source']\n",
      "\u001b[40m\u001b[35mtitle\u001b[0m: The Stocks Analysts Are Talking About\n",
      "========================================================================================================================\n"
     ]
    }
   ],
   "source": [
    "nearText = {\n",
    "    \"concepts\": [\"car industry\", \"risks\", \"europe\"],\n",
    "    \"certainty\": 0.5,\n",
    "}\n",
    "\n",
    "class_name = \"Article\"\n",
    "properties = [\n",
    "    \"title\",\n",
    "    \"keywords\",\n",
    "    \"_additional {certainty}\",\n",
    "]\n",
    "\n",
    "response = (\n",
    "    client.query.get(class_name, properties)\n",
    "    .with_near_text(nearText)\n",
    "    .with_where(\n",
    "        {\n",
    "            \"operator\": \"Equal\",\n",
    "            \"path\": [\"keywords\"],\n",
    "            \"valueText\": [\"bonds\"],  # there are no articles with these keywords at the same time\n",
    "        }\n",
    "    )\n",
    "    .with_limit(2)\n",
    "    .do()\n",
    ")\n",
    "\n",
    "pprint_response(response)\n"
   ]
  },
  {
   "cell_type": "code",
   "execution_count": 11,
   "metadata": {},
   "outputs": [
    {
     "name": "stdout",
     "output_type": "stream",
     "text": [
      "\u001b[1m\u001b[47m\u001b[31mARTICLE\u001b[0m\n",
      "Response # 0\n",
      "\u001b[40m\u001b[35m_additional\u001b[0m: {'certainty': 0.65679705}\n",
      "\u001b[40m\u001b[35mkeywords\u001b[0m: ['cnbc', 'Articles', 'CNBC TV', 'Fast Money Halftime Report', 'source:tagname:CNBC US Source']\n",
      "\u001b[40m\u001b[35mtitle\u001b[0m: EU, Iran to Impact Crude Oil Prices, Experts Say\n",
      "========================================================================================================================\n",
      "Response # 1\n",
      "\u001b[40m\u001b[35m_additional\u001b[0m: {'certainty': 0.6142397}\n",
      "\u001b[40m\u001b[35mkeywords\u001b[0m: ['cnbc', 'Articles', 'S&P 500 Index', 'Bank of America Corp', 'BHP Group Ltd', 'Freeport-McMoRan Inc', 'HP Inc', 'Intel Corp', 'Oracle Corp', 'US Bancorp', 'CBOE Volatility Index', 'United States Steel Corp', 'Industrial Select Sector SPDR Fund', \"McDonald's Corp\", 'CNBC TV', 'Fast Money', 'source:tagname:CNBC US Source']\n",
      "\u001b[40m\u001b[35mtitle\u001b[0m: Sellers Worried about Europe, or Playing Range Game?\n",
      "========================================================================================================================\n"
     ]
    }
   ],
   "source": [
    "response = (\n",
    "    client.query.get(class_name, properties)\n",
    "    .with_near_text(nearText)\n",
    "    .with_where(\n",
    "        {\n",
    "            \"operator\": \"Equal\",\n",
    "            \"path\": [\"keywords\"],\n",
    "            \"valueText\": [\"fast money\"],  # there are no articles with these keywords at the same time\n",
    "        }\n",
    "    )\n",
    "    .with_limit(2)\n",
    "    .do()\n",
    ")\n",
    "\n",
    "pprint_response(response)\n"
   ]
  },
  {
   "cell_type": "code",
   "execution_count": 12,
   "metadata": {},
   "outputs": [
    {
     "name": "stdout",
     "output_type": "stream",
     "text": [
      "\u001b[1m\u001b[47m\u001b[31mARTICLE\u001b[0m\n"
     ]
    }
   ],
   "source": [
    "response = (\n",
    "    client.query.get(class_name, properties)\n",
    "    .with_near_text(nearText)\n",
    "    .with_where(\n",
    "        {\n",
    "            \"operator\": \"Equal\",\n",
    "            \"path\": [\"keywords\"],\n",
    "            \"valueText\": [\"bonds\", \"fast money\"],  # there are no articles with these keywords at the same time\n",
    "        }\n",
    "    )\n",
    "    .with_limit(5)\n",
    "    .do()\n",
    ")\n",
    "\n",
    "pprint_response(response)\n"
   ]
  },
  {
   "cell_type": "code",
   "execution_count": 13,
   "metadata": {},
   "outputs": [
    {
     "name": "stdout",
     "output_type": "stream",
     "text": [
      "\u001b[1m\u001b[47m\u001b[31mARTICLE\u001b[0m\n",
      "Response # 0\n",
      "\u001b[40m\u001b[35m_additional\u001b[0m: {'certainty': 0.6724188}\n",
      "\u001b[40m\u001b[35mkeywords\u001b[0m: ['cnbc', 'Articles', 'World Markets', 'Bonds', 'Markets', 'Corporate bonds', 'Investment strategy', 'Corporate Debt', 'Investing', 'Credit and Debt', 'Squawk on the Street', 'Market Outlook', 'Europe Economy', 'source:tagname:CNBC US Source']\n",
      "\u001b[40m\u001b[35mtitle\u001b[0m: Lasry: Europe could face Japan-style deflation era\n",
      "========================================================================================================================\n",
      "Response # 1\n",
      "\u001b[40m\u001b[35m_additional\u001b[0m: {'certainty': 0.65679705}\n",
      "\u001b[40m\u001b[35mkeywords\u001b[0m: ['cnbc', 'Articles', 'CNBC TV', 'Fast Money Halftime Report', 'source:tagname:CNBC US Source']\n",
      "\u001b[40m\u001b[35mtitle\u001b[0m: EU, Iran to Impact Crude Oil Prices, Experts Say\n",
      "========================================================================================================================\n",
      "Response # 2\n",
      "\u001b[40m\u001b[35m_additional\u001b[0m: {'certainty': 0.6142397}\n",
      "\u001b[40m\u001b[35mkeywords\u001b[0m: ['cnbc', 'Articles', 'S&P 500 Index', 'Bank of America Corp', 'BHP Group Ltd', 'Freeport-McMoRan Inc', 'HP Inc', 'Intel Corp', 'Oracle Corp', 'US Bancorp', 'CBOE Volatility Index', 'United States Steel Corp', 'Industrial Select Sector SPDR Fund', \"McDonald's Corp\", 'CNBC TV', 'Fast Money', 'source:tagname:CNBC US Source']\n",
      "\u001b[40m\u001b[35mtitle\u001b[0m: Sellers Worried about Europe, or Playing Range Game?\n",
      "========================================================================================================================\n",
      "Response # 3\n",
      "\u001b[40m\u001b[35m_additional\u001b[0m: {'certainty': 0.61110544}\n",
      "\u001b[40m\u001b[35mkeywords\u001b[0m: ['cnbc', 'Articles', 'CNBC TV', 'Fast Money', 'source:tagname:CNBC US Source']\n",
      "\u001b[40m\u001b[35mtitle\u001b[0m: The Word On GM, J. Crew & Airline Puts\n",
      "========================================================================================================================\n",
      "Response # 4\n",
      "\u001b[40m\u001b[35m_additional\u001b[0m: {'certainty': 0.60470885}\n",
      "\u001b[40m\u001b[35mkeywords\u001b[0m: ['cnbc', 'Articles', 'CNBC TV', 'Fast Money', 'source:tagname:CNBC US Source']\n",
      "\u001b[40m\u001b[35mtitle\u001b[0m: Pick a Direction and Go With It!\n",
      "========================================================================================================================\n"
     ]
    }
   ],
   "source": [
    "where_filter = {\n",
    "    \"operator\": \"Or\",\n",
    "    \"operands\": [\n",
    "        {\n",
    "            \"operator\": \"Equal\",\n",
    "            \"path\": [\"keywords\"],\n",
    "            \"valueText\": \"bonds\",\n",
    "        },\n",
    "        {\n",
    "            \"operator\": \"Equal\",\n",
    "            \"path\": [\"keywords\"],\n",
    "            \"valueText\": \"fast money\",\n",
    "        },\n",
    "    ],\n",
    "}\n",
    "\n",
    "response = client.query.get(class_name, properties).with_near_text(nearText).with_where(where_filter).with_limit(5).do()\n",
    "\n",
    "pprint_response(response)\n"
   ]
  },
  {
   "cell_type": "markdown",
   "metadata": {},
   "source": [
    "## 1.4. Filter by minimum description length"
   ]
  },
  {
   "cell_type": "code",
   "execution_count": 14,
   "metadata": {},
   "outputs": [
    {
     "name": "stdout",
     "output_type": "stream",
     "text": [
      "\u001b[1m\u001b[47m\u001b[31mARTICLE\u001b[0m\n",
      "Response # 0\n",
      "\u001b[40m\u001b[35m_additional\u001b[0m: {'certainty': 0.6416493}\n",
      "\u001b[40m\u001b[35mdescription\u001b[0m: More from CNBC.comEuropean Futures Rise after Fed CutLatest European Business News\n",
      "\u001b[40m\u001b[35mkeywords\u001b[0m: ['cnbc', 'Articles', 'Europe News', 'Business News', 'Economy', 'World Economy', 'source:tagname:CNBC US Source']\n",
      "\u001b[40m\u001b[35mtitle\u001b[0m: Opening Calls for Europe's Major Indexes\n",
      "========================================================================================================================\n",
      "Response # 1\n",
      "\u001b[40m\u001b[35m_additional\u001b[0m: {'certainty': 0.6053186}\n",
      "\u001b[40m\u001b[35mdescription\u001b[0m: Squawk Box Live in Europe kept you up to date with China's stock markets, which staged a late rally Wednesday. This came as investors geared up for another bumper day of earnings and the conclusion of this month's Federal Reserve monetary policy meeting.(App users please click here).\n",
      "\u001b[40m\u001b[35mkeywords\u001b[0m: ['cnbc', 'Articles', 'FTSE 100', 'Stock markets', 'World Markets', 'DAX', 'CAC 40 Index', 'Europe News', 'Politics', 'stocks', 'Europe Markets', 'Europe Economy', 'CNBC TV', 'Video and TV', 'Europe Business Day', 'Squawk Box Europe', 'Squawk Box Live', 'source:tagname:CNBC Europe Source']\n",
      "\u001b[40m\u001b[35mtitle\u001b[0m: As it happened: China stocks stage late rally; up 4%\n",
      "========================================================================================================================\n",
      "Response # 2\n",
      "\u001b[40m\u001b[35m_additional\u001b[0m: {'certainty': 0.5827662}\n",
      "\u001b[40m\u001b[35mdescription\u001b[0m: This is a developing story, please check back for more(Read More: Berlusconi Rules Out Alliance With Monti)(Read More: European Shares Sharply Lower on Italy Poll Results)\n",
      "\u001b[40m\u001b[35mkeywords\u001b[0m: ['cnbc', 'Articles', 'Politics', 'Economy', 'Business News', 'World Economy', 'Europe News', 'source:tagname:CNBC US Source']\n",
      "\u001b[40m\u001b[35mtitle\u001b[0m: Italy Prime Minister Monti to Meet Central Bank Governor, Economy Minister on Post-Election Crisis\n",
      "========================================================================================================================\n",
      "Response # 3\n",
      "\u001b[40m\u001b[35m_additional\u001b[0m: {'certainty': 0.5826304}\n",
      "\u001b[40m\u001b[35mdescription\u001b[0m: Murphy Oil : “I like Murphy Oil.”VeriFone : “Ever since that accounting debacle, I don’t want to get near that darn thing.”Otter Tail : “Use the weakness to buy. Wind power’s real.”Questions for Cramer? Questions, comments, suggestions for the Mad Money website? madcap@cnbc.com\n",
      "\u001b[40m\u001b[35mkeywords\u001b[0m: ['cnbc', 'Articles', 'Murphy Oil Corp', 'Otter Tail Corp', 'VeriFone Systems Inc', 'CNBC TV', 'Mad Money', 'source:tagname:CNBC US Source']\n",
      "\u001b[40m\u001b[35mtitle\u001b[0m: Sudden Death: Murphy Oil, VeriFone and More\n",
      "========================================================================================================================\n",
      "Response # 4\n",
      "\u001b[40m\u001b[35m_additional\u001b[0m: {'certainty': 0.5701473}\n",
      "\u001b[40m\u001b[35mdescription\u001b[0m: Short-term pain, long-term gain.   That's how top fund manager Bill Nygren views investing into the  precipitous fall in energy stock prices, telling CNBC.com, \"Given  the recent selloff, this is the area to be opportunistic in.\"\n",
      "\u001b[40m\u001b[35mkeywords\u001b[0m: ['cnbc', 'Premium', 'Articles', 'Stock markets', 'Investment strategy', 'Oil and Gas', 'Energy', 'Chesapeake Energy Corp', 'Investing', 'Energy Commodities', 'stocks', 'Stock Picks', 'source:tagname:CNBC US Source']\n",
      "\u001b[40m\u001b[35mtitle\u001b[0m: Value investor Nygren catching Chesapeake Energy\n",
      "========================================================================================================================\n"
     ]
    }
   ],
   "source": [
    "nearText = {\n",
    "    \"concepts\": [\"car industry\", \"risks\", \"europe\"],\n",
    "    \"certainty\": 0.5,\n",
    "}\n",
    "\n",
    "response = (\n",
    "    client.query.get(\n",
    "        \"Article\",\n",
    "        [\n",
    "            \"title\",\n",
    "            \"keywords\",\n",
    "            \"description\",\n",
    "            \"_additional {certainty}\",\n",
    "        ],\n",
    "    )\n",
    "    .with_where(\n",
    "        {\n",
    "            \"operator\": \"LessThan\",\n",
    "            \"path\": [\"descriptionWordCount\"],\n",
    "            \"valueInt\": 50,\n",
    "        }\n",
    "    )\n",
    "    .with_near_text(nearText)\n",
    "    .with_limit(5)\n",
    "    .do()\n",
    ")\n",
    "\n",
    "pprint_response(response)\n"
   ]
  },
  {
   "cell_type": "markdown",
   "metadata": {},
   "source": [
    "## 1.5. Filter by title (text search)"
   ]
  },
  {
   "cell_type": "code",
   "execution_count": 15,
   "metadata": {},
   "outputs": [
    {
     "name": "stdout",
     "output_type": "stream",
     "text": [
      "\u001b[1m\u001b[47m\u001b[31mARTICLE\u001b[0m\n",
      "Response # 0\n",
      "\u001b[40m\u001b[35m_additional\u001b[0m: {'certainty': 0.556478}\n",
      "\u001b[40m\u001b[35mdescription\u001b[0m: Google's $12.5 billion acquisition of Motorola Mobilitygives the Internet search company patent protection while putting it squarely into the smartphone hardware business, Executive Chairman Eric Schmidt told CNBC Monday. But the acquisition won't affect how Google  does business with the other phone makers that use its Android operating system, including HTC, he added.\"We are going into the hardware business, but we’re going to keep it separate and we’re going to treat everybody else on a fair \n",
      "\u001b[40m\u001b[35mtitle\u001b[0m: Motorola Deal Buys Google Patent Protection: Schmidt\n",
      "========================================================================================================================\n"
     ]
    }
   ],
   "source": [
    "nearText = {\n",
    "    \"concepts\": [\"market prediction\"],\n",
    "    \"certainty\": 0.5,\n",
    "}\n",
    "\n",
    "where_filter = {\n",
    "    \"operator\": \"Equal\",\n",
    "    \"path\": [\"title\"],\n",
    "    \"valueText\": [\"google motorola\"],\n",
    "}\n",
    "\n",
    "response = (\n",
    "    client.query.get(\n",
    "        \"Article\",\n",
    "        [\n",
    "            \"title\",\n",
    "            \"description\",\n",
    "            \"_additional {certainty}\",\n",
    "        ],\n",
    "    )\n",
    "    .with_where(where_filter)\n",
    "    .with_near_text(nearText)\n",
    "    .with_limit(5)\n",
    "    .do()\n",
    ")\n",
    "\n",
    "pprint_response(response)\n"
   ]
  },
  {
   "cell_type": "markdown",
   "metadata": {},
   "source": [
    "## 1.6. \"Like\" filter (fuzzy match)"
   ]
  },
  {
   "cell_type": "markdown",
   "metadata": {},
   "source": [
    "https://weaviate.io/developers/weaviate/current/graphql-references/filters.html#like-operator\n",
    "\n",
    "Notes\n",
    "\n",
    "Each query using the Like operator iterates over the entire inverted index for that property. The search time will go up linearly with the dataset size. Be aware that there might be a point where this query is too expensive and will not work anymore."
   ]
  },
  {
   "cell_type": "code",
   "execution_count": 16,
   "metadata": {},
   "outputs": [
    {
     "name": "stdout",
     "output_type": "stream",
     "text": [
      "\u001b[1m\u001b[47m\u001b[31mAUTHOR\u001b[0m\n",
      "Response # 0\n",
      "\u001b[40m\u001b[35mname\u001b[0m: Katie Holliday\n",
      "========================================================================================================================\n"
     ]
    }
   ],
   "source": [
    "where_filter = {\n",
    "    \"operator\": \"Like\",\n",
    "    \"path\": [\"name\"],\n",
    "    \"valueString\": \"Katie H*\",\n",
    "}\n",
    "\n",
    "response = (\n",
    "    client.query.get(\n",
    "        \"Author\",\n",
    "        [\n",
    "            \"name\",\n",
    "        ],\n",
    "    )\n",
    "    .with_where(where_filter)\n",
    "    .with_limit(5)\n",
    "    .do()\n",
    ")\n",
    "\n",
    "pprint_response(response)\n"
   ]
  },
  {
   "cell_type": "markdown",
   "metadata": {},
   "source": [
    "# 2. Filters that accepts only raw string (GraphQL syntax)"
   ]
  },
  {
   "cell_type": "markdown",
   "metadata": {},
   "source": [
    "As it was mentioned in the beginning of the notebook in order to use GraphQL syntax we need to provide it as a raw string into `client.query.raw` method.\n",
    "\n",
    "It's inconvenient in cases when variables has to be provided as values for GraphQL search.\n",
    "\n",
    "It can be tackled with any of these options: \n",
    "- with regex\n",
    "- with .format method\n",
    "- with string's builtin [Template class](https://docs.python.org/3.6/library/string.html#template-strings) (safer varian as you can see in an [example](https://realpython.com/python-string-formatting/#4-template-strings-standard-library))\n",
    "\n",
    "Let's say we have such query for filtering articles by keywords.\n",
    "\n",
    "GraphQL query will look like this:\n",
    "\n",
    "```json\n",
    "{\n",
    "  Get {\n",
    "    Article(where: {\n",
    "        path: [\"keywords\"],\n",
    "        operator: Equal,\n",
    "        valueText: \"bonds\",\n",
    "      }, limit: 5) {\n",
    "      title\n",
    "      hasAuthors {\n",
    "        ... on Author {\n",
    "          name\n",
    "        }\n",
    "      }\n",
    "    }\n",
    "  }\n",
    "}\n",
    "```\n",
    "The goal is to create raw string where `path` and `valueText` are filled with provided variables."
   ]
  },
  {
   "cell_type": "markdown",
   "metadata": {},
   "source": [
    "Let's take a look at each option with an example."
   ]
  },
  {
   "cell_type": "markdown",
   "metadata": {},
   "source": [
    "### 2.0.1. Regex approach of formatting raw string"
   ]
  },
  {
   "cell_type": "markdown",
   "metadata": {},
   "source": [
    "Create raw string with some arbitrary placeholder which then will be replaced by regex. "
   ]
  },
  {
   "cell_type": "code",
   "execution_count": 15,
   "metadata": {},
   "outputs": [
    {
     "name": "stdout",
     "output_type": "stream",
     "text": [
      "\n",
      "{\n",
      "  Get {\n",
      "    Article(where: {\n",
      "        path: [\"keywords\"],\n",
      "        operator: Equal,  # operator\n",
      "        valueText: \"bonds\",\n",
      "      }, limit: 5) {\n",
      "      title\n",
      "      hasAuthors {\n",
      "        ... on Author {\n",
      "          name\n",
      "        }\n",
      "      }\n",
      "    }\n",
      "  }\n",
      "}\n",
      "\n",
      "\u001b[1m\u001b[47m\u001b[31mARTICLE\u001b[0m\n",
      "Response # 0\n",
      "\u001b[40m\u001b[35mhasAuthors\u001b[0m: [{'name': 'Tom DiChristopher'}]\n",
      "\u001b[40m\u001b[35mtitle\u001b[0m: Instead of shunning Saudi Arabia after Khashoggi killing, investors flock to $7.5 billion bond sale\n",
      "========================================================================================================================\n",
      "Response # 1\n",
      "\u001b[40m\u001b[35mhasAuthors\u001b[0m: [{'name': 'Silvia Amaro'}]\n",
      "\u001b[40m\u001b[35mtitle\u001b[0m: US Treasurys lower as investors focus on data, monitor Russia-US relations\n",
      "========================================================================================================================\n",
      "Response # 2\n",
      "\u001b[40m\u001b[35mhasAuthors\u001b[0m: [{'name': 'Unknown'}]\n",
      "\u001b[40m\u001b[35mtitle\u001b[0m: 5 Stocks Insiders Love Right Now\n",
      "========================================================================================================================\n",
      "Response # 3\n",
      "\u001b[40m\u001b[35mhasAuthors\u001b[0m: [{'name': 'Elliot Smith'}]\n",
      "\u001b[40m\u001b[35mtitle\u001b[0m: 10-year Treasury yield falls to 0.8% as investors return to safety amid pause in stock rally\n",
      "========================================================================================================================\n",
      "Response # 4\n",
      "\u001b[40m\u001b[35mhasAuthors\u001b[0m: [{'name': 'Herb Greenberg'}]\n",
      "\u001b[40m\u001b[35mtitle\u001b[0m: Greenberg: Momentum King’s Next Big Move\n",
      "========================================================================================================================\n"
     ]
    }
   ],
   "source": [
    "query = \"\"\"\n",
    "{\n",
    "  Get {\n",
    "    Article(where: {\n",
    "        path: [\"{placeholder}\"],\n",
    "        operator: Equal,  # operator\n",
    "        valueText: \"{placeholder}\",\n",
    "      }, limit: 5) {\n",
    "      title\n",
    "      hasAuthors {\n",
    "        ... on Author {\n",
    "          name\n",
    "        }\n",
    "      }\n",
    "    }\n",
    "  }\n",
    "}\n",
    "\"\"\"\n",
    "\n",
    "\n",
    "def format_raw_request(query: str, *args, template: str = \"{placeholder}\"):\n",
    "    for arg in args:\n",
    "        query = re.sub(template, arg, query, count=1)\n",
    "    return query\n",
    "\n",
    "\n",
    "query = format_raw_request(query, \"keywords\", \"bonds\")\n",
    "print(query)\n",
    "\n",
    "response = client.query.raw(query)\n",
    "pprint_response(response)\n"
   ]
  },
  {
   "cell_type": "markdown",
   "metadata": {},
   "source": [
    "### 2.0.2. .format approach of formatting raw string"
   ]
  },
  {
   "cell_type": "markdown",
   "metadata": {},
   "source": [
    "As for me it is the most inconvenient approach as it requires to escape curly braces by changing single brace to double (in places where we don't wont to format with provided variable)."
   ]
  },
  {
   "cell_type": "code",
   "execution_count": 16,
   "metadata": {},
   "outputs": [
    {
     "name": "stdout",
     "output_type": "stream",
     "text": [
      "\n",
      "{\n",
      "  Get {\n",
      "    Article(where: {\n",
      "        path: [\"keywords\"],    # Path to the property that should be used\n",
      "        operator: Equal,  # operator\n",
      "        valueText: \"bonds\"         # value (which is always = to the type of the path property)\n",
      "      }, limit: 5) {\n",
      "      title\n",
      "      hasAuthors {\n",
      "        ... on Author {\n",
      "          name\n",
      "        }\n",
      "      }\n",
      "    }\n",
      "  }\n",
      "}\n",
      "\n",
      "\u001b[1m\u001b[47m\u001b[31mARTICLE\u001b[0m\n",
      "Response # 0\n",
      "\u001b[40m\u001b[35mhasAuthors\u001b[0m: [{'name': 'Tom DiChristopher'}]\n",
      "\u001b[40m\u001b[35mtitle\u001b[0m: Instead of shunning Saudi Arabia after Khashoggi killing, investors flock to $7.5 billion bond sale\n",
      "========================================================================================================================\n",
      "Response # 1\n",
      "\u001b[40m\u001b[35mhasAuthors\u001b[0m: [{'name': 'Silvia Amaro'}]\n",
      "\u001b[40m\u001b[35mtitle\u001b[0m: US Treasurys lower as investors focus on data, monitor Russia-US relations\n",
      "========================================================================================================================\n",
      "Response # 2\n",
      "\u001b[40m\u001b[35mhasAuthors\u001b[0m: [{'name': 'Unknown'}]\n",
      "\u001b[40m\u001b[35mtitle\u001b[0m: 5 Stocks Insiders Love Right Now\n",
      "========================================================================================================================\n",
      "Response # 3\n",
      "\u001b[40m\u001b[35mhasAuthors\u001b[0m: [{'name': 'Elliot Smith'}]\n",
      "\u001b[40m\u001b[35mtitle\u001b[0m: 10-year Treasury yield falls to 0.8% as investors return to safety amid pause in stock rally\n",
      "========================================================================================================================\n",
      "Response # 4\n",
      "\u001b[40m\u001b[35mhasAuthors\u001b[0m: [{'name': 'Herb Greenberg'}]\n",
      "\u001b[40m\u001b[35mtitle\u001b[0m: Greenberg: Momentum King’s Next Big Move\n",
      "========================================================================================================================\n"
     ]
    }
   ],
   "source": [
    "query = \"\"\"\n",
    "{{\n",
    "  Get {{\n",
    "    Article(where: {{\n",
    "        path: [\"{path}\"],    # Path to the property that should be used\n",
    "        operator: Equal,  # operator\n",
    "        valueText: \"{valueText}\"         # value (which is always = to the type of the path property)\n",
    "      }}, limit: 5) {{\n",
    "      title\n",
    "      hasAuthors {{\n",
    "        ... on Author {{\n",
    "          name\n",
    "        }}\n",
    "      }}\n",
    "    }}\n",
    "  }}\n",
    "}}\n",
    "\"\"\"\n",
    "\n",
    "query = query.format(path=\"keywords\", valueText=\"bonds\")\n",
    "print(query)\n",
    "\n",
    "response = client.query.raw(query)\n",
    "pprint_response(response)\n"
   ]
  },
  {
   "cell_type": "markdown",
   "metadata": {},
   "source": [
    "### 2.0.3. Template approach of formatting raw string"
   ]
  },
  {
   "cell_type": "markdown",
   "metadata": {},
   "source": [
    "As for me the easiest way: mark with dollar sing place where to put provided variable, convert raw string into Template class as substitute."
   ]
  },
  {
   "cell_type": "code",
   "execution_count": 19,
   "metadata": {},
   "outputs": [
    {
     "name": "stdout",
     "output_type": "stream",
     "text": [
      "\n",
      "{\n",
      "  Get {\n",
      "    Article(where: {\n",
      "        path: [\"keywords\"],    # Path to the property that should be used\n",
      "        operator: Equal,  # operator\n",
      "        valueText: \"bonds\"         # value (which is always = to the type of the path property)\n",
      "      }, limit: 5) {\n",
      "      title\n",
      "      hasAuthors {\n",
      "        ... on Author {\n",
      "          name\n",
      "        }\n",
      "      }\n",
      "    }\n",
      "  }\n",
      "}\n",
      "\n",
      "\u001b[1m\u001b[47m\u001b[31mARTICLE\u001b[0m\n",
      "Response # 0\n",
      "\u001b[40m\u001b[35mhasAuthors\u001b[0m: [{'name': 'Tom DiChristopher'}]\n",
      "\u001b[40m\u001b[35mtitle\u001b[0m: Instead of shunning Saudi Arabia after Khashoggi killing, investors flock to $7.5 billion bond sale\n",
      "========================================================================================================================\n",
      "Response # 1\n",
      "\u001b[40m\u001b[35mhasAuthors\u001b[0m: [{'name': 'Silvia Amaro'}]\n",
      "\u001b[40m\u001b[35mtitle\u001b[0m: US Treasurys lower as investors focus on data, monitor Russia-US relations\n",
      "========================================================================================================================\n",
      "Response # 2\n",
      "\u001b[40m\u001b[35mhasAuthors\u001b[0m: [{'name': 'Unknown'}]\n",
      "\u001b[40m\u001b[35mtitle\u001b[0m: 5 Stocks Insiders Love Right Now\n",
      "========================================================================================================================\n",
      "Response # 3\n",
      "\u001b[40m\u001b[35mhasAuthors\u001b[0m: [{'name': 'Elliot Smith'}]\n",
      "\u001b[40m\u001b[35mtitle\u001b[0m: 10-year Treasury yield falls to 0.8% as investors return to safety amid pause in stock rally\n",
      "========================================================================================================================\n",
      "Response # 4\n",
      "\u001b[40m\u001b[35mhasAuthors\u001b[0m: [{'name': 'Herb Greenberg'}]\n",
      "\u001b[40m\u001b[35mtitle\u001b[0m: Greenberg: Momentum King’s Next Big Move\n",
      "========================================================================================================================\n"
     ]
    }
   ],
   "source": [
    "query = \"\"\"\n",
    "{\n",
    "  Get {\n",
    "    Article(where: {\n",
    "        path: [\"${path}\"],    # Path to the property that should be used\n",
    "        operator: Equal,  # operator\n",
    "        valueText: \"${valueText}\"         # value (which is always = to the type of the path property)\n",
    "      }, limit: 5) {\n",
    "      title\n",
    "      hasAuthors {\n",
    "        ... on Author {\n",
    "          name\n",
    "        }\n",
    "      }\n",
    "    }\n",
    "  }\n",
    "}\n",
    "\"\"\"\n",
    "\n",
    "query = Template(query)\n",
    "query = query.substitute(path=\"keywords\", valueText=\"bonds\")\n",
    "print(query)\n",
    "\n",
    "response = client.query.raw(query)\n",
    "pprint_response(response)\n"
   ]
  },
  {
   "cell_type": "markdown",
   "metadata": {},
   "source": [
    "<ins>From here and on Template approach is used.</ins>"
   ]
  },
  {
   "cell_type": "markdown",
   "metadata": {},
   "source": [
    "## 2.1. Author name as a property"
   ]
  },
  {
   "cell_type": "code",
   "execution_count": 18,
   "metadata": {},
   "outputs": [
    {
     "name": "stdout",
     "output_type": "stream",
     "text": [
      "\u001b[1m\u001b[47m\u001b[31mARTICLE\u001b[0m\n",
      "Response # 0\n",
      "\u001b[40m\u001b[35mhasAuthors\u001b[0m: [{'name': 'Tom DiChristopher'}]\n",
      "\u001b[40m\u001b[35mtitle\u001b[0m: Instead of shunning Saudi Arabia after Khashoggi killing, investors flock to $7.5 billion bond sale\n",
      "========================================================================================================================\n",
      "Response # 1\n",
      "\u001b[40m\u001b[35mhasAuthors\u001b[0m: [{'name': 'Silvia Amaro'}]\n",
      "\u001b[40m\u001b[35mtitle\u001b[0m: US Treasurys lower as investors focus on data, monitor Russia-US relations\n",
      "========================================================================================================================\n",
      "Response # 2\n",
      "\u001b[40m\u001b[35mhasAuthors\u001b[0m: [{'name': 'Unknown'}]\n",
      "\u001b[40m\u001b[35mtitle\u001b[0m: 5 Stocks Insiders Love Right Now\n",
      "========================================================================================================================\n",
      "Response # 3\n",
      "\u001b[40m\u001b[35mhasAuthors\u001b[0m: [{'name': 'Elliot Smith'}]\n",
      "\u001b[40m\u001b[35mtitle\u001b[0m: 10-year Treasury yield falls to 0.8% as investors return to safety amid pause in stock rally\n",
      "========================================================================================================================\n",
      "Response # 4\n",
      "\u001b[40m\u001b[35mhasAuthors\u001b[0m: [{'name': 'Herb Greenberg'}]\n",
      "\u001b[40m\u001b[35mtitle\u001b[0m: Greenberg: Momentum King’s Next Big Move\n",
      "========================================================================================================================\n"
     ]
    }
   ],
   "source": [
    "query = \"\"\"\n",
    "{\n",
    "  Get {\n",
    "    Article(where: {\n",
    "        path: [\"keywords\"],    # Path to the property that should be used\n",
    "        operator: Equal,  # operator\n",
    "        valueText: \"bonds\"         # value (which is always = to the type of the path property)\n",
    "      }, limit: 5) {\n",
    "      title\n",
    "      hasAuthors {\n",
    "        ... on Author {\n",
    "          name\n",
    "        }\n",
    "      }\n",
    "    }\n",
    "  }\n",
    "}\n",
    "\"\"\"\n",
    "\n",
    "response = client.query.raw(query)\n",
    "pprint_response(response)\n"
   ]
  },
  {
   "cell_type": "markdown",
   "metadata": {},
   "source": [
    "## 2.2. Filter authors by number of wrote articles"
   ]
  },
  {
   "cell_type": "markdown",
   "metadata": {},
   "source": [
    "https://weaviate.io/developers/weaviate/current/graphql-references/filters.html#filter-objects-by-count-of-reference"
   ]
  },
  {
   "cell_type": "code",
   "execution_count": 20,
   "metadata": {},
   "outputs": [
    {
     "name": "stdout",
     "output_type": "stream",
     "text": [
      "\u001b[1m\u001b[47m\u001b[31mAUTHOR\u001b[0m\n",
      "Response # 0\n",
      "\u001b[40m\u001b[35mname\u001b[0m: Leslie Josephs\n",
      "\u001b[40m\u001b[35mwroteArticles\u001b[0m: [{'title': \"Georgia's lieutenant governor says he will 'kill' Delta tax break unless airline reinstates relationship with NRA\"}, {'title': 'Raytheon and United Technologies agree to all-stock merger that would create aerospace behemoth'}]\n",
      "========================================================================================================================\n",
      "Response # 1\n",
      "\u001b[40m\u001b[35mname\u001b[0m: Tyler Clifford\n",
      "\u001b[40m\u001b[35mwroteArticles\u001b[0m: [{'title': 'Cramer adds new stocks, recommends buying 12 laggards in his Covid-19 index'}, {'title': \"'I come to bury Bitcoin, not to praise it': UBS\\xa0\"}]\n",
      "========================================================================================================================\n",
      "Response # 2\n",
      "\u001b[40m\u001b[35mname\u001b[0m: Sharon Epperson\n",
      "\u001b[40m\u001b[35mwroteArticles\u001b[0m: [{'title': \"Energy Falls Despite 'Above Average' Hurricane Forecast\"}, {'title': \"Want to start a business? Here's what you need to know\"}]\n",
      "========================================================================================================================\n",
      "Response # 3\n",
      "\u001b[40m\u001b[35mname\u001b[0m: Pippa Stevens\n",
      "\u001b[40m\u001b[35mwroteArticles\u001b[0m: [{'title': 'Guggenheim says solar sell-off is a buying opportunity and has an unusual favorite stock'}, {'title': 'Should CEO pay be tied to share price?'}]\n",
      "========================================================================================================================\n",
      "Response # 4\n",
      "\u001b[40m\u001b[35mname\u001b[0m: Chris Morris\n",
      "\u001b[40m\u001b[35mwroteArticles\u001b[0m: [{'title': 'Video Game Sales Get off to Slow Start in 2011'}, {'title': ' Did EA Bust the Social Gaming Bubble?'}]\n",
      "========================================================================================================================\n"
     ]
    }
   ],
   "source": [
    "# Find all articles that are written by authors that wrote at least two articles\n",
    "\n",
    "query = \"\"\"\n",
    "{\n",
    "  Get {\n",
    "    Author(\n",
    "      where:{\n",
    "        valueInt: ${limit},\n",
    "        operator: GreaterThanEqual,\n",
    "        path: [\"wroteArticles\"]\n",
    "      }, limit: 5\n",
    "    ) {\n",
    "      name\n",
    "      wroteArticles {\n",
    "        ... on Article {\n",
    "          title\n",
    "        }\n",
    "      }\n",
    "    }\n",
    "  }\n",
    "}\n",
    "\"\"\"\n",
    "\n",
    "query = Template(query).substitute(limit=2)\n",
    "response = client.query.raw(query)\n",
    "pprint_response(response)\n"
   ]
  },
  {
   "cell_type": "markdown",
   "metadata": {},
   "source": [
    "## 2.3. Filter articles by author"
   ]
  },
  {
   "cell_type": "markdown",
   "metadata": {},
   "source": [
    "https://weaviate.io/developers/weaviate/current/graphql-references/filters.html#beacon-reference-filters"
   ]
  },
  {
   "cell_type": "code",
   "execution_count": 21,
   "metadata": {},
   "outputs": [
    {
     "name": "stdout",
     "output_type": "stream",
     "text": [
      "\u001b[1m\u001b[47m\u001b[31mARTICLE\u001b[0m\n",
      "Response # 0\n",
      "\u001b[40m\u001b[35mhasAuthors\u001b[0m: [{'name': 'Tyler Clifford'}]\n",
      "\u001b[40m\u001b[35mtitle\u001b[0m: Cramer adds new stocks, recommends buying 12 laggards in his Covid-19 index\n",
      "========================================================================================================================\n",
      "Response # 1\n",
      "\u001b[40m\u001b[35mhasAuthors\u001b[0m: [{'name': 'Tyler Clifford'}]\n",
      "\u001b[40m\u001b[35mtitle\u001b[0m: 'I come to bury Bitcoin, not to praise it': UBS \n",
      "========================================================================================================================\n",
      "Response # 2\n",
      "\u001b[40m\u001b[35mhasAuthors\u001b[0m: [{'name': 'Tyler Bailey'}]\n",
      "\u001b[40m\u001b[35mtitle\u001b[0m: Your first trade for Wednesday, January 15\n",
      "========================================================================================================================\n"
     ]
    }
   ],
   "source": [
    "query = \"\"\"\n",
    "{\n",
    "  Get {\n",
    "    Article(\n",
    "      where:{\n",
    "        valueString: \"${authorName}\",\n",
    "        operator: Equal,\n",
    "        path: [\"hasAuthors\", \"Author\", \"name\"]\n",
    "      }, limit: 5\n",
    "    ) {\n",
    "      title\n",
    "      hasAuthors {\n",
    "        ... on Author {\n",
    "          name\n",
    "        }\n",
    "      }\n",
    "    }\n",
    "  }\n",
    " }\n",
    "\"\"\"\n",
    "\n",
    "query = Template(query).substitute(authorName=\"Tyler\")\n",
    "response = client.query.raw(query)\n",
    "pprint_response(response)\n"
   ]
  },
  {
   "cell_type": "markdown",
   "metadata": {},
   "source": [
    "# 3. All combined"
   ]
  },
  {
   "cell_type": "code",
   "execution_count": 23,
   "metadata": {},
   "outputs": [
    {
     "name": "stdout",
     "output_type": "stream",
     "text": [
      "\u001b[1m\u001b[47m\u001b[31mARTICLE\u001b[0m\n",
      "Response # 0\n",
      "\u001b[40m\u001b[35m_additional\u001b[0m: {'certainty': 0.6688515}\n",
      "\u001b[40m\u001b[35mdescription\u001b[0m: Europe could be looking at a Japan-style deflationary environment  for the next five years, investor Marc Lasry told CNBC on  Wednesday. Read MoreEuro tests low last  seen at its birth in1999  Lasry's Avenue Capital is continuing to buy credit-side debt at a  discount in Europe. Over the last three or four years, the amount  of debt that European banks have sold has increased by 100  percent, he said in a \"Squawk  Box\" interview.   \"The way that the banks were able to sell this debt is, they kee\n",
      "\u001b[40m\u001b[35mdescriptionWordCount\u001b[0m: 344\n",
      "\u001b[40m\u001b[35mhasAuthors\u001b[0m: [{'name': 'Tom DiChristopher'}]\n",
      "\u001b[40m\u001b[35mkeywords\u001b[0m: ['cnbc', 'Articles', 'World Markets', 'Bonds', 'Markets', 'Corporate bonds', 'Investment strategy', 'Corporate Debt', 'Investing', 'Credit and Debt', 'Squawk on the Street', 'Market Outlook', 'Europe Economy', 'source:tagname:CNBC US Source']\n",
      "\u001b[40m\u001b[35mpublished_at\u001b[0m: 2015-01-08T16:06:28Z\n",
      "\u001b[40m\u001b[35mtitle\u001b[0m: Lasry: Europe could face Japan-style deflation era\n",
      "========================================================================================================================\n"
     ]
    }
   ],
   "source": [
    "query = \"\"\"\n",
    "{\n",
    "  Get {\n",
    "    Article(\n",
    "      limit: 5\n",
    "      nearText: \n",
    "      {\n",
    "        concepts: [\"covid affect on stock market in usa\"],\n",
    "        moveAwayFrom:\n",
    "        {\n",
    "          concepts: [\"new york\", \"cuomo\"],\n",
    "          force: 0.1\n",
    "        }\n",
    "      }\n",
    "      where: \n",
    "      {\n",
    "        operator: And,\n",
    "        operands: \n",
    "        [\n",
    "          {\n",
    "            operator: GreaterThan,\n",
    "            path: [\"published_at\"],\n",
    "            valueDate: \"2015-01-01T0:00:00.52Z\",\n",
    "          },\n",
    "          {\n",
    "            operator: Equal,\n",
    "            path: [\"keywords\"],\n",
    "            valueText: \"bonds\",\n",
    "          },\n",
    "          {\n",
    "            operator: Equal,\n",
    "            path: [\"title\"],\n",
    "            valueText: \"Europe Japan\",\n",
    "          },\n",
    "          {\n",
    "            operator: Equal,\n",
    "            path: [\"hasAuthors\", \"Author\", \"name\"],\n",
    "            valueString: \"Tom DiChristopher\",\n",
    "          },\n",
    "          {\n",
    "            operator: GreaterThan,\n",
    "            path: [\"descriptionWordCount\"],\n",
    "            valueInt: 100,\n",
    "          }\n",
    "        ]\n",
    "      }\n",
    "    ) \n",
    "    {\n",
    "      title\n",
    "      description\n",
    "      keywords\n",
    "      published_at\n",
    "      descriptionWordCount\n",
    "      hasAuthors {\n",
    "        ... on Author {\n",
    "          name\n",
    "        }\n",
    "      }\n",
    "      _additional {\n",
    "        certainty\n",
    "      }\n",
    "    }\n",
    "  }\n",
    "}\n",
    "\"\"\"\n",
    "\n",
    "response = client.query.raw(query)\n",
    "pprint_response(response)\n"
   ]
  }
 ],
 "metadata": {
  "interpreter": {
   "hash": "cb9e94dbe4e7fc92a3d7162f471039658b9fdbbc9b042b59ec1fc38823150b03"
  },
  "kernelspec": {
   "display_name": "Python 3.9.9 64-bit ('weaviate-demo')",
   "language": "python",
   "name": "python3"
  },
  "language_info": {
   "codemirror_mode": {
    "name": "ipython",
    "version": 3
   },
   "file_extension": ".py",
   "mimetype": "text/x-python",
   "name": "python",
   "nbconvert_exporter": "python",
   "pygments_lexer": "ipython3",
   "version": "3.9.9"
  },
  "orig_nbformat": 4
 },
 "nbformat": 4,
 "nbformat_minor": 2
}
