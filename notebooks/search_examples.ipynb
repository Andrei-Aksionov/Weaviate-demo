{
 "cells": [
  {
   "cell_type": "markdown",
   "metadata": {},
   "source": [
    "## TOC:\n",
    "* [First Bullet Header](#first-bullet)\n",
    "* [Second Bullet Header](#second-bullet)\n",
    "* [Limit by date](#Limit-by-date)"
   ]
  },
  {
   "cell_type": "code",
   "execution_count": 1,
   "metadata": {},
   "outputs": [],
   "source": [
    "import weaviate\n",
    "from datetime import datetime, timezone\n",
    "from termcolor import colored\n"
   ]
  },
  {
   "cell_type": "code",
   "execution_count": 2,
   "metadata": {},
   "outputs": [],
   "source": [
    "def pprint_response(response: dict) -> None:\n",
    "    \n",
    "    response = response[\"data\"][\"Get\"]\n",
    "\n",
    "    for class_name in response:\n",
    "        print(colored(class_name.upper(), 'red', 'on_white', attrs=['bold']))\n",
    "\n",
    "        for idx, resp in enumerate(response[class_name]):\n",
    "            print(f\"Response # {idx}\")\n",
    "            for key, value in resp.items():\n",
    "                print(f\"{colored(key, 'magenta', 'on_grey')}: {value}\")\n",
    "            print(\"=\" * 120)"
   ]
  },
  {
   "cell_type": "code",
   "execution_count": 3,
   "metadata": {},
   "outputs": [],
   "source": [
    "client = weaviate.Client(\"http://localhost:8080\")\n"
   ]
  },
  {
   "cell_type": "code",
   "execution_count": 4,
   "metadata": {},
   "outputs": [
    {
     "name": "stdout",
     "output_type": "stream",
     "text": [
      "Articles: {'data': {'Aggregate': {'Article': [{'meta': {'count': 593}}]}}}, Authors: {'data': {'Aggregate': {'Author': [{'meta': {'count': 187}}]}}}\n",
      "\n"
     ]
    }
   ],
   "source": [
    "articles_count = client.query.aggregate(class_name=\"Article\").with_meta_count().do()\n",
    "authors_count = client.query.aggregate(class_name=\"Author\").with_meta_count().do()\n",
    "print(f\"Articles: {articles_count}, Authors: {authors_count}\\n\")\n"
   ]
  },
  {
   "cell_type": "code",
   "execution_count": 5,
   "metadata": {},
   "outputs": [
    {
     "name": "stdout",
     "output_type": "stream",
     "text": [
      "Response # 0\n",
      "Title: Nadja Swarovski: The luxury sector has been ‘incredibly resilient’ amid the pandemic\n",
      "Description: LONDON — Nadja Swarovski, chair of the Swarovski Foundation, said that the luxury sector had effectively embraced the challenge of operating and reaching consumers amid the coronavirus pandemic. Swarovski, the first female executive board member for her family's luxury jewelry brand, was speaking at CNBC's Evolve Global Summit on Wednesday. She told CNBC's Tania Bryer that the \"luxury sector, to a certain extent has been incredibly resilient and I think those companies who have been digitally savvy have absolutely embraced this opportunity to communicate with their customers on a digital scale.\" In addition, Swarovski said it had been \"fantastic to see how the fashion industry has embraced this dilemma,\" with non-essential retail businesses in many countries having been temporarily closed due to lockdowns and other Covid-19 public health restrictions for most of the past year. Swarovski pointed to the use of digital fashion shows, in place of physical events, as well as fashion designers \"communicating directly\" more with the consumer. For instance, fashion label Alexander McQueen invited fans to take on various design challenges and share their creations on Instagram by tagging the brand, along with the hashtag #McQueenCreators. Danish brand Ganni also launched a challenge inviting fans of the label to create and send in images or artwork around the theme of \"Home is where the heart is,\" to be selected for a place in an exhibition in Copenhagen and potentially win gift cards. Swarovski believed that more direct dialogue with consumers would help designers become more tailored to customer demands and hoped that would help reduce waste in the fashion industry. She pointed out that a quarter of all clothing produced last year went unworn, or even touched, before ending up in waste disposal sites. Data from the U.S. Environmental Protection Agency, showed that on average each American produces about 75 pounds of textile waste a year. \"I think with this direct communication and also further transparency in the supply chain, that will be certainly mitigated,\" Swarovski said. Swarovski also discussed how sustainability had been built into the Swarovski brand, that was created 125 years ago by her great-great-grandfather, Daniel Swarovski. She said that it had been \"special, as a female I can say, my great, great-grandfather certainly had the mission to make every woman know what it feels like to wear a diamond but make it affordable.\" Swarovski had established itself on offering \"affordable luxury,\" she said, though the brand made the transition into \"conscious luxury\" in recent years. Swarovski launched its lab-grown line Swarovski Created Diamonds in 2017. It then entered the colored lab-grown diamond market last year.\n"
     ]
    }
   ],
   "source": [
    "nearText = {\n",
    "    \"concepts\": [\"fashion\"],\n",
    "    \"certainty\": 0.5,\n",
    "    \"moveAwayFrom\": {\n",
    "        \"concepts\": [\"financial\"],\n",
    "        \"force\": 0.8,\n",
    "    },\n",
    "    \"moveTo\": {\n",
    "        \"concepts\": [\"couturier\"],\n",
    "        \"force\": 0.85,\n",
    "    },\n",
    "}\n",
    "response = (\n",
    "    client.query.get(\n",
    "        \"Article\",\n",
    "        [\n",
    "            \"title\",\n",
    "            \"short_description\",\n",
    "            \"description\",\n",
    "            \"_additional {certainty}\",\n",
    "        ],\n",
    "    )\n",
    "    .with_near_text(nearText)\n",
    "    .with_limit(1)\n",
    "    .do()\n",
    ")\n",
    "\n",
    "# print(response[\"data\"][\"Get\"][\"Article\"][0][\"description\"])\n",
    "# prettify_response(response, field=\"description\")\n",
    "for idx, article in enumerate(response[\"data\"][\"Get\"][\"Article\"]):\n",
    "    print(f\"Response # {idx}\")\n",
    "    print(f\"Title: {article['title']}\")\n",
    "    print(f\"Description: {article['description']}\")\n"
   ]
  },
  {
   "cell_type": "code",
   "execution_count": 6,
   "metadata": {},
   "outputs": [
    {
     "name": "stdout",
     "output_type": "stream",
     "text": [
      "\u001b[1m\u001b[47m\u001b[31mARTICLE\u001b[0m\n",
      "Response # 0\n",
      "\u001b[40m\u001b[35m_additional\u001b[0m: {'certainty': 0.645875}\n",
      "\u001b[40m\u001b[35mdescription\u001b[0m: LONDON — Nadja Swarovski, chair of the Swarovski Foundation, said that the luxury sector had effectively embraced the challenge of operating and reaching consumers amid the coronavirus pandemic. Swarovski, the first female executive board member for her family's luxury jewelry brand, was speaking at CNBC's Evolve Global Summit on Wednesday. She told CNBC's Tania Bryer that the \"luxury sector, to a certain extent has been incredibly resilient and I think those companies who have been digitally savvy have absolutely embraced this opportunity to communicate with their customers on a digital scale.\" In addition, Swarovski said it had been \"fantastic to see how the fashion industry has embraced this dilemma,\" with non-essential retail businesses in many countries having been temporarily closed due to lockdowns and other Covid-19 public health restrictions for most of the past year. Swarovski pointed to the use of digital fashion shows, in place of physical events, as well as fashion designers \"communicating directly\" more with the consumer. For instance, fashion label Alexander McQueen invited fans to take on various design challenges and share their creations on Instagram by tagging the brand, along with the hashtag #McQueenCreators. Danish brand Ganni also launched a challenge inviting fans of the label to create and send in images or artwork around the theme of \"Home is where the heart is,\" to be selected for a place in an exhibition in Copenhagen and potentially win gift cards. Swarovski believed that more direct dialogue with consumers would help designers become more tailored to customer demands and hoped that would help reduce waste in the fashion industry. She pointed out that a quarter of all clothing produced last year went unworn, or even touched, before ending up in waste disposal sites. Data from the U.S. Environmental Protection Agency, showed that on average each American produces about 75 pounds of textile waste a year. \"I think with this direct communication and also further transparency in the supply chain, that will be certainly mitigated,\" Swarovski said. Swarovski also discussed how sustainability had been built into the Swarovski brand, that was created 125 years ago by her great-great-grandfather, Daniel Swarovski. She said that it had been \"special, as a female I can say, my great, great-grandfather certainly had the mission to make every woman know what it feels like to wear a diamond but make it affordable.\" Swarovski had established itself on offering \"affordable luxury,\" she said, though the brand made the transition into \"conscious luxury\" in recent years. Swarovski launched its lab-grown line Swarovski Created Diamonds in 2017. It then entered the colored lab-grown diamond market last year.\n",
      "\u001b[40m\u001b[35mshort_description\u001b[0m: LONDON — Nadja Swarovski, chair of the Swarovski Foundation, said that the luxury sector had effectively embraced the challenge of operating and reaching consumers amid the coronavirus pandemic. Swarovski, the first female executive board member for her family's luxury jewelry brand, was speaking at CNBC's Evolve Global Summit on Wednesday. She told CNBC's Tania Bryer that the \"luxury sector, to a certain extent has been incredibly resilient and I think those companies who have been digitally savvy have absolutely embraced this opportunity to communicate with their customers on a digital scale.\" In addition, Swarovski said it had been \"fantastic to see how the fashion industry has embraced this dilemma,\" with non-essential retail businesses in many countries having been temporarily closed due to lockdowns and other Covid-19 public health restrictions for most of the past year. Swarovski pointed to the use of digital fashion shows, in place of physical events, as well as fashion designers \"communicating directly\" more with the consumer. For instance, fashion label Alexander McQueen invited fans to take on various design challenges and share their creations on Instagram by tagging the brand, along with the hashtag #McQueenCreators. Danish brand Ganni also launched a challenge inviting fans of the label to create and send in images or artwork around the theme of \"Home is where the heart is,\" to be selected for a place in an exhibition in Copenhagen and potentially win gift cards. Swarovski believed that more direct dialogue with consumers would help designers become more tailored to customer demands and hoped that would help reduce waste in the fashion industry. She pointed out that a quarter of all clothing produced last year went unworn, or even touched, before ending up in waste disposal sites. Data from the U.S. Environmental Protection Agency, showed that on average each American produces about 75 pounds of textile waste a year. \"I think with this direct communication and also further transparency in the supply chain, that will be certainly mitigated,\" Swarovski said.\n",
      "\u001b[40m\u001b[35mtitle\u001b[0m: Nadja Swarovski: The luxury sector has been ‘incredibly resilient’ amid the pandemic\n",
      "========================================================================================================================\n"
     ]
    }
   ],
   "source": [
    "pprint_response(response)"
   ]
  },
  {
   "cell_type": "markdown",
   "metadata": {},
   "source": [
    "# Limit by date <a class=\"anchor\" id=\"first-bullet\"></a>"
   ]
  },
  {
   "cell_type": "code",
   "execution_count": 7,
   "metadata": {},
   "outputs": [
    {
     "data": {
      "text/plain": [
       "'2020-01-01T00:00:00+00:00'"
      ]
     },
     "execution_count": 7,
     "metadata": {},
     "output_type": "execute_result"
    }
   ],
   "source": [
    "date = datetime(year=2020, month=1, day=1, tzinfo=timezone.utc).isoformat()\n",
    "date\n"
   ]
  },
  {
   "cell_type": "code",
   "execution_count": 8,
   "metadata": {},
   "outputs": [
    {
     "name": "stdout",
     "output_type": "stream",
     "text": [
      "Response # 0\n",
      "Title: Here are the top 10 major worries for global business leaders right now, according to WEF\n",
      "Published: 2017-09-20T10:05:17Z\n",
      "====================================================================================================\n",
      "Response # 1\n",
      "Title: European stocks close higher amid earnings, US jobs report; Wirecard plummets 25%\n",
      "Published: 2019-02-01T07:02:21Z\n",
      "====================================================================================================\n",
      "Response # 2\n",
      "Title: Forget the Brexit 'noise,' these are the real risks Europe faces\n",
      "Published: 2016-09-09T09:17:00Z\n",
      "====================================================================================================\n",
      "Response # 3\n",
      "Title: European stocks close lower as Italian banks plunge on political turmoil; Autos down 2.5%\n",
      "Published: 2019-08-09T05:51:49Z\n",
      "====================================================================================================\n",
      "Response # 4\n",
      "Title: European markets eke out gains at close as ECB holds interest rates; Akzo Nobel up 12.9%\n",
      "Published: 2017-03-09T16:52:28Z\n",
      "====================================================================================================\n"
     ]
    }
   ],
   "source": [
    "nearText = {\n",
    "    \"concepts\": [\"car industry\", \"risks\", \"europe\"],\n",
    "    \"certainty\": 0.5,\n",
    "}\n",
    "\n",
    "response = (\n",
    "    client.query.get(\n",
    "        \"Article\",\n",
    "        [\n",
    "            \"title\",\n",
    "            \"short_description\",\n",
    "            \"description\",\n",
    "            \"published_at\",\n",
    "            \"_additional {certainty}\",\n",
    "        ],\n",
    "    )\n",
    "    .with_where(\n",
    "        {\n",
    "            \"operator\": \"LessThan\",\n",
    "            \"path\": [\"published_at\"],\n",
    "            # valueDate: The date (ISO 8601 timestamp, formatted as RFC3339) value that the Path’s last property name should be compared to.\n",
    "            \"valueDate\": date,\n",
    "        }\n",
    "    )\n",
    "    .with_near_text(nearText)\n",
    "    .with_limit(5)\n",
    "    .do()\n",
    ")\n",
    "\n",
    "for idx, article in enumerate(response[\"data\"][\"Get\"][\"Article\"]):\n",
    "    print(f\"Response # {idx}\")\n",
    "    print(f\"Title: {article['title']}\")\n",
    "    print(f\"Published: {article['published_at']}\")\n",
    "    print(\"=\" * 100)\n"
   ]
  },
  {
   "cell_type": "code",
   "execution_count": 9,
   "metadata": {},
   "outputs": [
    {
     "name": "stdout",
     "output_type": "stream",
     "text": [
      "\u001b[1m\u001b[47m\u001b[31mARTICLE\u001b[0m\n",
      "Response # 0\n",
      "\u001b[40m\u001b[35m_additional\u001b[0m: {'certainty': 0.71583223}\n",
      "\u001b[40m\u001b[35mdescription\u001b[0m: Cybersecurity, health of the global economy, energy price shock and terrorist attacks are some of the top risks that concern businesses and may threaten their ability to operate, according to results from a new survey by the World Economic Forum (WEF) published Wednesday.The survey, conducted annually by the WEF's strategic partners Marsh & McLennan Companies and Zurich Insurance Group, highlighted the following ten risks that businesses are presently concerned about:Unemployment and underemploymentFiscal crisesFailure of national governanceEnergy price shockProfound social instabilityFailure of financial mechanism or institutionFailure of critical infrastructureCyber attacksInter-state conflictTerrorist attacksWhile concerns about the overall health of the global economy continue to dominate the list, the report found concerns around cybersecurity risks rising in importance.\"Business leaders in many of world's largest economies now rank cyber as their top risk,\" John Drzik, president of Marsh Global Risk & Digital, said in a press statement. \"Companies need to rigorously analyze how these threats could impact their operations and take appropriate risk mitigation and resiliency measures.\"Results from the survey found that respondents across North America, East Asia and Pacific regions were most concerned by cyber attacks and asset bubbles.Meanwhile, unemployment, fiscal crises and the failure of a nation's government to provide stability are the top three risks facing businesses globally,The data from the Executive Opinion Survey (EOS) survey, drawn from over 12,411 executives across 136 countries was conducted earlier this year between February and June. The survey asked respondents to identify the five biggest risks to doing business in their respective countries. The risks identified were spread across economic, geopolitical, social and technological areas that could impact the functioning of corporates over the next 10 years.Some of the other risks identified by the respondents included energy price shock, profound social instability, failure of financial mechanism or institution, failure of critical infrastructure, inter-state conflict and terrorist attacks.\"Whilst economic growth and technological developments create new opportunities for business and countries, geopolitical risks and events have led to uncertainties which raise questions about how to manage resilience in uncertain times,\" John Scott, chief risk officer of commercial insurance at Zurich, said in a press statement.Scott further explained that looking at the survey results, it appears that in the medium-term, business leaders are focusing on social and economic risks but it is important to remain prepared for any environmental and technological risks as well.In terms of regions, while business leaders in Europe highlighted the failure of financial mechanisms or institution as pressing risks, in South Asia, failure of urban planning and failure of critical infrastructure were marked among the key potential threats.Respondents across North America, the Middle East and Northern Africa were seen to be worried about a threat of potential terrorist attack. Meanwhile, risks associated with the failure of climate change adaptation saw very little concern among respondents. According to the results, only Canadian executives put climate change in their top risks.\n",
      "\u001b[40m\u001b[35mpublished_at\u001b[0m: 2017-09-20T10:05:17Z\n",
      "\u001b[40m\u001b[35mshort_description\u001b[0m: Cybersecurity, health of the global economy, energy price shock and terrorist attacks are some of the top risks that concern businesses and may threaten their ability to operate, according to results from a new survey by the World Economic Forum (WEF) published Wednesday.The survey, conducted annually by the WEF's strategic partners Marsh & McLennan Companies and Zurich Insurance Group, highlighted the following ten risks that businesses are presently concerned about:While concerns about the overall health of the global economy continue to dominate the list, the report found concerns around cybersecurity risks rising in importance.\"Business leaders in many of world's largest economies now rank cyber as their top risk,\" John Drzik, president of Marsh Global Risk & Digital, said in a press statement. \"Companies need to rigorously analyze how these threats could impact their operations and take appropriate risk mitigation and resiliency measures.\"\n",
      "\u001b[40m\u001b[35mtitle\u001b[0m: Here are the top 10 major worries for global business leaders right now, according to WEF\n",
      "========================================================================================================================\n",
      "Response # 1\n",
      "\u001b[40m\u001b[35m_additional\u001b[0m: {'certainty': 0.7157191}\n",
      "\u001b[40m\u001b[35mdescription\u001b[0m: European stocks closed higher Friday, as market participants monitored a flurry of corporate results and key economic reports.The pan-European Stoxx 600 closed provisionally up by 0.29 percent, with most sectors and major bourses in positive territory.Household goods stocks were among the top gainers, led by Sweden's Electrolux. The home appliances maker surged close to the top of the European benchmark after posting stronger-than-anticipated quarterly results and forecast easing cost headwinds over the coming months. Shares of the company were up over 10 percent.Europe's banking index led the losses amid earnings news. Deutsche Bank reported its first full-year net profit in four years on Friday. However, shares came under pressure, losing 0.59 percent as Germany's largest lender continues to face growing merger speculation and a series of uphill struggles.Germany's Wirecard, meanwhile, plummeted 25 percent after a Financial Times report said an external firm commissioned by the payments firm to investigate its Singapore office found evidence indicating \"serious offences or forgery and/or of falsification of accounts.\" Wirecard called the report \"inaccurate, misleading and defamatory.\"On the data front, euro zone inflation slipped as expected last month. Official data published Friday showed inflation in the 19 countries sharing the euro slowed to 1.4 percent in January, from 1.6 percent a month earlier. It provides another reason for the European Central Bank to ease off removing stimulus, as inflation falls further away from its target.On Wall Street, the Dow Jones Industrial Average rose 160 points while the  and Nasdaq Composite also saw gains.Market focus was largely attuned to the latest jobs numbers out of the U.S. Non-farm payrolls released by the Labor Department Friday showed that the U.S. economy added 304,000 jobs in January, beating an expected 170,000.Analysts had been unsure what to expect in the wake of the recent government shutdown but stronger-than-expected jobs growth pointed to underlying strength in the U.S. economy.Sentiment was shaken by concerns over global trade developments, especially after a survey on Chinese factory activity fell to its lowest level since February 2016.The downbeat data exacerbated fears of an economic slowdown and dented optimism over a possible U.S.-China trade deal.China's trade delegation reportedly said Washington and Beijing had made \"important progress\" after two days of trade negotiations.President Donald Trump also said he would soon meet with Chinese premier Xi Jinping to try to reach a comprehensive trade deal. Stocks had taken heart from the possibility of top-level trade talks over the coming weeks, but the upbeat mood soon cooled when the White House insisted it sees March 1 as a hard deadline for a deal.\n",
      "\u001b[40m\u001b[35mpublished_at\u001b[0m: 2019-02-01T07:02:21Z\n",
      "\u001b[40m\u001b[35mshort_description\u001b[0m: European stocks closed higher Friday, as market participants monitored a flurry of corporate results and key economic reports.\n",
      "\u001b[40m\u001b[35mtitle\u001b[0m: European stocks close higher amid earnings, US jobs report; Wirecard plummets 25%\n",
      "========================================================================================================================\n",
      "Response # 2\n",
      "\u001b[40m\u001b[35m_additional\u001b[0m: {'certainty': 0.7053139}\n",
      "\u001b[40m\u001b[35mdescription\u001b[0m: The political and economic \"noise\" created by the U.K.'s decision  to leave the European Union is masking a \"large number\" of risks  in Europe, according to the region's political experts.\"A large number of material political risks in southern and core  Europe are being masked by the noise emanating from Brexit,\"  Mujtaba Rahman, managing director of Europe at political risk  consultancy Eurasia Group, said in a note Thursday.He and his team were not alone, with other political risk  consultancies remarking on the fact that Brexit could in fact be  the least of Europe's worries. Here's CNBC's collection of  Europe's top ten upcoming risk events, according to analysts.Greece's economic crisis reached a peak in the summer of 2015  when it was forced, by impending bankruptcy, to accept a third 86  billion euro ($96.9 billion) bailout package from international  lenders.  A year on and Greece is facing an uphill struggle to meet the  conditions of its latest bailout. \"The economic and political  challenges across southern Europe continue to increase,\"  according to Eurasia Group's Rahman. (103880026) \"While Greece  will of course struggle, the debate between (main political  party) Syriza and its creditors is no different to the one that  took place last year. As such, Greece is in something of a  Groundhog Day.\"Spain's economy might be booming compared to its euro zone peers  (it expanded more than Germany, France and Italy in the second  quarter of this year). However, an ongoing political impasse in  the country threatens to derail that growth, with the country  potentially facing a third general election in 12 months by the  end of the year.  \"A third round of elections remains the most probable scenario  (55 percent probability),\" according to Antonio Barroso, deputy  director of research at political risk consultancy Teneo  Intelligence. \"Short of an internal revolt within the PSOE  (Socialist party) or a deal between the ruling People's Party  (PP) and Basque nationalists (which would allow a government to  be formed).\"Aside from national political deadlock in Spain, the question of  Catalonia's independence movement rumbles on. The separatist  movement in the wealthy north Spanish state has long been a thorn  in the side of Madrid and that clash is set to continue, Teneo's  Barroso warned.  \"Catalan authorities will likely approve again further measures  to advance towards the creation of an independent state, which  will promptly be challenged legally by Madrid. Therefore, the  clash between Madrid and the Catalan authorities is likely to  intensify in the coming months,\" he said.Italy's banking system seems to have avoided going into meltdown  this summer despite fears over the estimated 360 billion euros  worth of non-performing loans on its banks' books. But it's the  country's political system that is now at risk with Prime  Minister Matteo Renzi facing a referendum on reforms in October  which, if he loses, could see him resign. This would leave the  country in limbo in terms of leadership and economic reforms  which Eurasia Group said had \"lost momentum\" ahead of the  referendum.   \"For now, we continue to believe the referendum will pass (with  60 percent confidence). But this means there's a non-negligible  risk it will not. In this case, the government would collapse,  despite Renzi's recent protestations to the contrary, paving the  way for an ineffectual caretaker government,\" Eurasia Group said.As Eurasia Group said in its note Thursday, \"political mess in  Athens, Lisbon, Madrid and Rome carry implications for Berlin and  Frankfurt.\" German Chancellor Angela Merkel – seen widely as  the euro zone's strongest leader -- can ill-afford problems in  the rest of the single currency area given her own increasingly  fragile grip on power.   Her handling of the region's refugee crisis (in sum, allowing  over 1 million migrants into Germany in 2015 alone) has prompted  a drop in her approval ratings, criticism from rivals both within  Germany and the wider EU. Her own party, the Christian Democratic  Union, has been pummeled in local and state elections, leading to  questions over whether Merkel can stand for election again in  2017.Like most of Europe, far-right parties (like the National Front  in France or Pegida in Germany) have been gaining a foothold in  the political scene, worrying the mainstream political  establishment. Austria is no exception, Eurasia Group noted,  stating that a presidential election on October 2 looked certain  to \"hand power to the EU's first far-right head of state -  (Norbert Hofer).\"   \"While his powers as president would be limited, Hofer will use  every opportunity to facilitate a victory for his party in 2018  or before, if any crisis (refugees, euro zone) gives him an  excuse to dismiss the government. As Austria's main  representative abroad, Hofer will seek to strengthen ties with  central eastern European governments which are most critical of  Brussels and Berlin. That would represent a particular challenge  for Merkel,\" the group noted.Europe's migrant crisis has exposed challenges in the region not  only in terms of its ability to respond to a humanitarian crisis  but also its political cohesion and ambitions. Overwhelmed by the  influx of desperate migrants,  the EU struck a deal with  Turkey that would see it preventing migrants from reaching the  continent, in return for money, visa liberalization for Turkish  citizens visiting the EU and fast-tracked EU membership.  That deal was struck before Turkish President Recep Tayyip  Erdogan led a crackdown on the opposition following a failed coup  attempt, putting him at odds with EU values on freedom of speech  and the rule of law, leading the EU to delay its part of the deal  (in terms of visa liberalization). Eurasia Group noted that \"in  the aftermath of the failed coup attempt in Turkey, risks to the  EU-Turkey refugee deal have increased\" and although it thought  the deal would stick the analysis firm said this would depend on  Erdogan's reaction to the delayed visa liberalization.The EU's deal with Turkey has not been enough to assuage the  concerns of certain eastern European nations over migration to  the EU.  Hungary and its ruling, right-wing Fidesz  government has been one of the more vociferous opponents of the  EU's migrant policy response and it is holding a referendum on  October 2 on whether it should reject the EU's migrant quota  system (which would see the country have to accept a certain  quota of migrants).  \"Although the urgency of the refugee crisis has subsided, the  government' hard and effective campaign will boost turnout and  likely result in a rejection of the (European) Commission's  scheme … This result will strengthen Fidesz domestically and  cause more friction across Europe, since Hungary will now be  pushed to take an even more vocal stance against the commission's  current plans,\" Eurasia Group's team noted.Terrorism has yet to be mentioned in the long list of risks  facing Europe but France has had more than its fair share of  terrorism-related events in the last year. After the Paris  massacres last spring (on the Charlie Hebdo offices) and last  November to the recent Bastille Day attack in Nice, the country  has been forced to do some soul-searching over its policies  towards migrants, integration and assimilation – and the  government's response to the terrorism threat.  French President Francois Hollande's approval ratings are at a  low ebb (around 18 percent as of the last Ipsos Mori poll for Le  Point magazine in mid-August) and he has yet to say whether he  will run for the presidency in elections in 2017.  The  dwindling of Hollande's authority – and resignation of Economy  Minister Emmanuel Macron - has left the future of economic  reforms in doubt.  Since Russia's annexation of Crimea in March 2014 and the alleged support for  a pro-Russian uprising in Ukraine, the country has been on a  collision course with its European neighbors with reciprocal  sanctions now in place between the two bodies.  Despite its economic isolation, however, Russia has seen  something of a resurgence on the global stage recently,  particularly as a key part of the Western alliance fighting  Islamic State in Syria – leaving the EU out in the cold,  according to Marc Pierini from think tank Carnegie Europe.  \"The Syrian war has left the EU in a second-tier position among  international actors,\" Pierini said in a note last month. \"The  EU's internal divisions have given the union little influence on  the course of events in Syria. Yet the brunt of the war's  humanitarian, economic, and security consequences falls on EU  countries. The EU's future role in Syria will be a litmus test of  a genuine common foreign and security policy.\"Against such a minefield of potential problems in Europe,  suddenly Britain's decision to leave the folds of the EU doesn't  look too bad – not least of all because nothing has actually  been done since the vote. Britain has yet to trigger the  now-legendary \"Article 50\" of the Lisbon Treaty which would set  in motion the formal process of leaving the EU, and could wait  until mid-2017 to do so.  Europe's institutions and leaders have expressed their  exasperation with the U.K. for its delay in starting the exit  process but given the other issues on its plate, Brexit could be  the least of its worries – especially if leaders like  Germany's Merkel, France's Hollande and Italy's Renzi are soon  faces of the past. As Eurasia Group concluded its note: \"While  Brexit is indeed serious, little or no substantive political risk  is likely from this through year-end. But Brexit's noise  seriously masks meaningful political and market risks in  Portugal, Italy, Greece, Austria, Hungary and Turkey.\"\n",
      "\u001b[40m\u001b[35mpublished_at\u001b[0m: 2016-09-09T09:17:00Z\n",
      "\u001b[40m\u001b[35mshort_description\u001b[0m: The political and economic \"noise\" created by the U.K.'s decision  to leave the European Union is masking a \"large number\" of risks  in Europe, according to the region's political experts.\"A large number of material political risks in southern and core  Europe are being masked by the noise emanating from Brexit,\"  Mujtaba Rahman, managing director of Europe at political risk  consultancy Eurasia Group, said in a note Thursday.He and his team were not alone, with other political risk  consultancies remarking on the fact that Brexit could in fact be  the least of Europe's worries. Here's CNBC's collection of  Europe's top ten upcoming risk events, according to analysts.\n",
      "\u001b[40m\u001b[35mtitle\u001b[0m: Forget the Brexit 'noise,' these are the real risks Europe faces\n",
      "========================================================================================================================\n",
      "Response # 3\n",
      "\u001b[40m\u001b[35m_additional\u001b[0m: {'certainty': 0.6903261}\n",
      "\u001b[40m\u001b[35mdescription\u001b[0m: European stocks closed lower on Friday as investors monitored trade war developments and a possible collapse of the Italian government.The pan-European Stoxx 600 was provisionally 0.9% lower at the closing bell, with most sectors and major bourses in the red.Banking stocks shed 1.9%, dragged down by Italian lenders, while China-exposed basic resources and autos stocks led losses, with both sectors falling by more than 2.5%. Healthcare stocks bucked the trend, hovering just above the flatline.Italy's coalition government imploded on Thursday, as deputy prime minister and leader of Italy's ruling Lega party, Matteo Salvini, declared the arrangement unworkable and called for fresh general elections.Italy's FTSE MIB index was 2.5% lower by the end of Friday's session, as investors veered away from Italian assets amid the rising instability.Italian bank stocks plunged, with Banco BPM shares tumbling 9%, while Unicredit and Ubi Banca fell by 5% and 8% respectively.In the latest trade war developments, a majority of economists polled by Reuters said the recent escalation of tensions between the U.S. and China had brought forward the next U.S. recession, and indicated that the Federal Reserve is likely to cut rates again in September before a further cut next year.Meanwhile, a Bloomberg report claimed Thursday that the U.S. is holding off on giving permission to U.S. companies to use Huawei products after China halted its buying of American agricultural produce.Later, President Trump said the U.S. was not ready to do business with Huawei and he was not ready to do a trade deal with China.China's currency remains in focus as the People's Bank of China (PBOC) again set the daily yuan midpoint weaker than the key barometer of 7 per dollar.Stocks on Wall Street extended losses during Friday's trading session, dragged down by chip stocks which fell on the back of Trump's latest statement on China.Back in Europe, official data showed that the British economy has shrunk for the first time since late 2012 after U.K. second quarter GDP (gross domestic product) contracted by 0.2%.Sterling and the FTSE 100 were both trading lower on the news, with uncertainty increasing as British media speculated that a general election may be called in the U.K. by November.Looking at individual stocks, London-listed WPP surged to the top of the Stoxx 600 after its earnings beat forecasts, with shares up more than 7%.At the other end of the European benchmark were Italian lenders Ubi Banca and Banco BPM.\n",
      "\u001b[40m\u001b[35mpublished_at\u001b[0m: 2019-08-09T05:51:49Z\n",
      "\u001b[40m\u001b[35mshort_description\u001b[0m: European stocks closed lower on Friday as investors monitored trade war developments and a possible collapse of the Italian government.\n",
      "\u001b[40m\u001b[35mtitle\u001b[0m: European stocks close lower as Italian banks plunge on political turmoil; Autos down 2.5%\n",
      "========================================================================================================================\n",
      "Response # 4\n",
      "\u001b[40m\u001b[35m_additional\u001b[0m: {'certainty': 0.684053}\n",
      "\u001b[40m\u001b[35mdescription\u001b[0m: European markets closed slightly higher on Thursday after the European Central Bank said it was keeping its rates unchanged and vowed to carry on with its asset-purchasing program.The pan-European Stoxx 600 ended 0.08 percent higher with most sectors in positive territory and major bourses mixed. Insurance stocks were among the best performers on earnings news. Aviva ended close to the top of the STOXX 600, up by 6.4 percent, after announcing a strong full-year operating profit.Basic resources, by contrast, slumped more than 3 percent by Thursday's close, on soft consumer price data in China and a weakening of the yuan.The oil and gas sector was also down by 1.5 percent after another drop in oil prices. This came after data from the Energy Information Administration showed inventories rose by 8.2 million barrels last week. Brent crude dropped 2.2 percent to $51.91 a barrel and WTI fell 2.41 percent to $49.07 a barrel. At the top of the European benchmark was Akzo Nobel, the Dutch paints and chemicals maker rejected a $22 billion offer from a U.S. firm on Thursday. Its shares ended 12.9 percent higher on the news. The French publisher Lagardere jumped 10.25 percent after posting a 13.5 percent increase in earning before interest and tax. Domino's sank 13.1 percent with the pizza group announcing an expansion in the Norwegian market and an intention to open 80 new stores in the U.K. It also stated Thursday that its full-year profit rose 17 percent in 2016.Meanwhile, in the U.S., the Dow Jones industrial average and broader S&P 500 continued slightly higher ahead of a probable interest rate hike next week.After solid U.S. jobs figures released Wednesday, expectations of a rate hike by the U.S. Federal Reserve next week have become even stronger.However, the main focus in Europe was on the European Central Bank. The bank kept rates unchanged on Thursday and promised to keep its massive stimulus program. The bank also revised its inflation forecasts upwards. It sees headline inflation at 1.6 percent at the end of 2018 compared to the 1.5 percent projected last December. In terms of growth, the bank has also revised its forecasts upwards for this year from 1.7 percent to 1.8 percent. However, it called on all euro area countries to step up reforms to ensure stable growth. European Central Bank President Mario Draghi declared the euro \"irrevocable\" at Thursday's press conference ahead of key elections this summer. As a consequence, German 10-year bond yields spiked to hit a one-month high of 0.43 percent and the euro hit session high of $1.0605.In corporate news, the Danish firm Novo Nordisk has begun talks with Global Blood Therapeutics, a U.S. company, for a potential acquisition, Reuters reported. Rio Tinto's chairman Jan du Plessis has said he will step down in the coming year after more than eight years in the job. On the data front, Greece's unemployment rate fell to 23.1 percent in December from 24.1 percent for the same time in 2015. Elsewhere, European leaders are gathering in Brussels for a two-day summit.Follow CNBC International on Twitter and Facebook.\n",
      "\u001b[40m\u001b[35mpublished_at\u001b[0m: 2017-03-09T16:52:28Z\n",
      "\u001b[40m\u001b[35mshort_description\u001b[0m: European markets closed slightly higher on Thursday after the European Central Bank said it was keeping its rates unchanged and vowed to carry on with its asset-purchasing program.\n",
      "\u001b[40m\u001b[35mtitle\u001b[0m: European markets eke out gains at close as ECB holds interest rates; Akzo Nobel up 12.9%\n",
      "========================================================================================================================\n"
     ]
    }
   ],
   "source": [
    "pprint_response(response)"
   ]
  },
  {
   "cell_type": "markdown",
   "metadata": {},
   "source": [
    "# Limit by keywords <a class=\"anchor\" id=\"second-bullet\"></a>"
   ]
  },
  {
   "cell_type": "code",
   "execution_count": 10,
   "metadata": {},
   "outputs": [],
   "source": [
    "nearText = {\n",
    "    \"concepts\": [\"car industry\", \"risks\", \"europe\"],\n",
    "    \"certainty\": 0.5,\n",
    "}\n",
    "\n",
    "response = (\n",
    "    client.query.get(\n",
    "        \"Article\",\n",
    "        [\n",
    "            \"title\",\n",
    "            \"keywords\",\n",
    "            \"_additional {certainty}\",\n",
    "        ],\n",
    "    )\n",
    "    .with_where(\n",
    "        {\n",
    "            \"operator\": \"Equal\",\n",
    "            \"path\": [\"keywords\"],\n",
    "            # TODO: change to valueString after service restart\n",
    "            \"valueText\": [\"bonds\", \"fast money\"],  # there are no articles with these keywords at the same time\n",
    "            # \"valueText\": [\"fast money\"],\n",
    "        }\n",
    "    )\n",
    "    .with_near_text(nearText)\n",
    "    .with_limit(5)\n",
    "    .do()\n",
    ")\n",
    "\n",
    "for idx, article in enumerate(response[\"data\"][\"Get\"][\"Article\"]):\n",
    "    print(f\"Response # {idx}\")\n",
    "    print(f\"Title: {article['title']}\")\n",
    "    print(f\"Keywords: {article['keywords']}\")\n",
    "    print(\"=\" * 100)\n"
   ]
  },
  {
   "cell_type": "code",
   "execution_count": 11,
   "metadata": {},
   "outputs": [
    {
     "name": "stdout",
     "output_type": "stream",
     "text": [
      "Response # 0\n",
      "Title: Lasry: Europe could face Japan-style deflation era\n",
      "Keywords: ['cnbc', 'Articles', 'World Markets', 'Bonds', 'Markets', 'Corporate bonds', 'Investment strategy', 'Corporate Debt', 'Investing', 'Credit and Debt', 'Squawk on the Street', 'Market Outlook', 'Europe Economy', 'source:tagname:CNBC US Source']\n",
      "====================================================================================================\n",
      "Response # 1\n",
      "Title: EU, Iran to Impact Crude Oil Prices, Experts Say\n",
      "Keywords: ['cnbc', 'Articles', 'CNBC TV', 'Fast Money Halftime Report', 'source:tagname:CNBC US Source']\n",
      "====================================================================================================\n",
      "Response # 2\n",
      "Title: Sellers Worried about Europe, or Playing Range Game?\n",
      "Keywords: ['cnbc', 'Articles', 'S&P 500 Index', 'Bank of America Corp', 'BHP Group Ltd', 'Freeport-McMoRan Inc', 'HP Inc', 'Intel Corp', 'Oracle Corp', 'US Bancorp', 'CBOE Volatility Index', 'United States Steel Corp', 'Industrial Select Sector SPDR Fund', \"McDonald's Corp\", 'CNBC TV', 'Fast Money', 'source:tagname:CNBC US Source']\n",
      "====================================================================================================\n",
      "Response # 3\n",
      "Title: The Word On GM, J. Crew & Airline Puts\n",
      "Keywords: ['cnbc', 'Articles', 'CNBC TV', 'Fast Money', 'source:tagname:CNBC US Source']\n",
      "====================================================================================================\n",
      "Response # 4\n",
      "Title: Pick a Direction and Go With It!\n",
      "Keywords: ['cnbc', 'Articles', 'CNBC TV', 'Fast Money', 'source:tagname:CNBC US Source']\n",
      "====================================================================================================\n"
     ]
    }
   ],
   "source": [
    "nearText = {\n",
    "    \"concepts\": [\"car industry\", \"risks\", \"europe\"],\n",
    "    \"certainty\": 0.5,\n",
    "}\n",
    "\n",
    "where_filter = {\n",
    "    \"operator\": \"Or\",\n",
    "    \"operands\": [\n",
    "        {\n",
    "            \"operator\": \"Equal\",\n",
    "            \"path\": [\"keywords\"],\n",
    "            \"valueText\": \"bonds\",\n",
    "        },\n",
    "        {\n",
    "            \"operator\": \"Equal\",\n",
    "            \"path\": [\"keywords\"],\n",
    "            \"valueText\": \"fast money\",\n",
    "        },\n",
    "    ],\n",
    "}\n",
    "\n",
    "response = (\n",
    "    client.query.get(\n",
    "        \"Article\",\n",
    "        [\n",
    "            \"title\",\n",
    "            \"keywords\",\n",
    "            \"_additional {certainty}\",\n",
    "        ],\n",
    "    )\n",
    "    .with_where(where_filter)\n",
    "    .with_near_text(nearText)\n",
    "    .with_limit(5)\n",
    "    .do()\n",
    ")\n",
    "\n",
    "for idx, article in enumerate(response[\"data\"][\"Get\"][\"Article\"]):\n",
    "    print(f\"Response # {idx}\")\n",
    "    print(f\"Title: {article['title']}\")\n",
    "    print(f\"Keywords: {article['keywords']}\")\n",
    "    print(\"=\" * 100)\n"
   ]
  },
  {
   "cell_type": "code",
   "execution_count": 12,
   "metadata": {},
   "outputs": [
    {
     "name": "stdout",
     "output_type": "stream",
     "text": [
      "Response # 0\n",
      "Title: EU, Iran to Impact Crude Oil Prices, Experts Say\n",
      "Keywords: ['cnbc', 'Articles', 'CNBC TV', 'Fast Money Halftime Report', 'source:tagname:CNBC US Source']\n",
      "====================================================================================================\n",
      "Response # 1\n",
      "Title: Sellers Worried about Europe, or Playing Range Game?\n",
      "Keywords: ['cnbc', 'Articles', 'S&P 500 Index', 'Bank of America Corp', 'BHP Group Ltd', 'Freeport-McMoRan Inc', 'HP Inc', 'Intel Corp', 'Oracle Corp', 'US Bancorp', 'CBOE Volatility Index', 'United States Steel Corp', 'Industrial Select Sector SPDR Fund', \"McDonald's Corp\", 'CNBC TV', 'Fast Money', 'source:tagname:CNBC US Source']\n",
      "====================================================================================================\n",
      "Response # 2\n",
      "Title: The Word On GM, J. Crew & Airline Puts\n",
      "Keywords: ['cnbc', 'Articles', 'CNBC TV', 'Fast Money', 'source:tagname:CNBC US Source']\n",
      "====================================================================================================\n",
      "Response # 3\n",
      "Title: Pick a Direction and Go With It!\n",
      "Keywords: ['cnbc', 'Articles', 'CNBC TV', 'Fast Money', 'source:tagname:CNBC US Source']\n",
      "====================================================================================================\n",
      "Response # 4\n",
      "Title: In The Red For '07\n",
      "Keywords: ['cnbc', 'Articles', 'CNBC TV', 'Fast Money', 'source:tagname:CNBC US Source']\n",
      "====================================================================================================\n"
     ]
    }
   ],
   "source": [
    "nearText = {\n",
    "    \"concepts\": [\"car industry\", \"risks\", \"europe\"],\n",
    "    \"certainty\": 0.5,\n",
    "}\n",
    "\n",
    "where_filter = {\n",
    "    \"operator\": \"Equal\",\n",
    "    \"path\": [\"keywords\"],\n",
    "    \"valueText\": [\"fast\"],\n",
    "}\n",
    "\n",
    "\n",
    "response = (\n",
    "    client.query.get(\n",
    "        \"Article\",\n",
    "        [\n",
    "            \"title\",\n",
    "            \"keywords\",\n",
    "            \"_additional {certainty}\",\n",
    "        ],\n",
    "    )\n",
    "    .with_where(where_filter)\n",
    "    .with_near_text(nearText)\n",
    "    .with_limit(5)\n",
    "    .do()\n",
    ")\n",
    "\n",
    "for idx, article in enumerate(response[\"data\"][\"Get\"][\"Article\"]):\n",
    "    print(f\"Response # {idx}\")\n",
    "    print(f\"Title: {article['title']}\")\n",
    "    print(f\"Keywords: {article['keywords']}\")\n",
    "    print(\"=\" * 100)\n"
   ]
  },
  {
   "cell_type": "code",
   "execution_count": 13,
   "metadata": {},
   "outputs": [
    {
     "name": "stdout",
     "output_type": "stream",
     "text": [
      "\u001b[1m\u001b[47m\u001b[31mARTICLE\u001b[0m\n",
      "Response # 0\n",
      "\u001b[40m\u001b[35m_additional\u001b[0m: {'certainty': 0.65679705}\n",
      "\u001b[40m\u001b[35mkeywords\u001b[0m: ['cnbc', 'Articles', 'CNBC TV', 'Fast Money Halftime Report', 'source:tagname:CNBC US Source']\n",
      "\u001b[40m\u001b[35mtitle\u001b[0m: EU, Iran to Impact Crude Oil Prices, Experts Say\n",
      "========================================================================================================================\n",
      "Response # 1\n",
      "\u001b[40m\u001b[35m_additional\u001b[0m: {'certainty': 0.6142397}\n",
      "\u001b[40m\u001b[35mkeywords\u001b[0m: ['cnbc', 'Articles', 'S&P 500 Index', 'Bank of America Corp', 'BHP Group Ltd', 'Freeport-McMoRan Inc', 'HP Inc', 'Intel Corp', 'Oracle Corp', 'US Bancorp', 'CBOE Volatility Index', 'United States Steel Corp', 'Industrial Select Sector SPDR Fund', \"McDonald's Corp\", 'CNBC TV', 'Fast Money', 'source:tagname:CNBC US Source']\n",
      "\u001b[40m\u001b[35mtitle\u001b[0m: Sellers Worried about Europe, or Playing Range Game?\n",
      "========================================================================================================================\n",
      "Response # 2\n",
      "\u001b[40m\u001b[35m_additional\u001b[0m: {'certainty': 0.61110544}\n",
      "\u001b[40m\u001b[35mkeywords\u001b[0m: ['cnbc', 'Articles', 'CNBC TV', 'Fast Money', 'source:tagname:CNBC US Source']\n",
      "\u001b[40m\u001b[35mtitle\u001b[0m: The Word On GM, J. Crew & Airline Puts\n",
      "========================================================================================================================\n",
      "Response # 3\n",
      "\u001b[40m\u001b[35m_additional\u001b[0m: {'certainty': 0.60470885}\n",
      "\u001b[40m\u001b[35mkeywords\u001b[0m: ['cnbc', 'Articles', 'CNBC TV', 'Fast Money', 'source:tagname:CNBC US Source']\n",
      "\u001b[40m\u001b[35mtitle\u001b[0m: Pick a Direction and Go With It!\n",
      "========================================================================================================================\n",
      "Response # 4\n",
      "\u001b[40m\u001b[35m_additional\u001b[0m: {'certainty': 0.6024707}\n",
      "\u001b[40m\u001b[35mkeywords\u001b[0m: ['cnbc', 'Articles', 'CNBC TV', 'Fast Money', 'source:tagname:CNBC US Source']\n",
      "\u001b[40m\u001b[35mtitle\u001b[0m: In The Red For '07\n",
      "========================================================================================================================\n"
     ]
    }
   ],
   "source": [
    "pprint_response(response)"
   ]
  },
  {
   "cell_type": "markdown",
   "metadata": {},
   "source": [
    "# Filter by minimum description length"
   ]
  },
  {
   "cell_type": "code",
   "execution_count": 14,
   "metadata": {},
   "outputs": [
    {
     "name": "stdout",
     "output_type": "stream",
     "text": [
      "Response # 0\n",
      "Title: Wells Fargo rates Ford, GM as overweight, praises new electric vehicles\n",
      "Keywords: ['cnbc', 'Premium', 'Articles', 'Autos', 'Markets', 'Investment strategy', 'Ford Motor Co', 'General Motors Co', 'U.S. Markets Overview', 'Investing', 'PRO Home', 'CNBC Pro', 'Pro: Street Calls', 'source:tagname:CNBC US Source']\n",
      "Description: Legacy automakers Ford and General Motors are set to be industry leaders once again as electric vehicles and autonomous driving come into focus, according Wells Fargo.The firm's analyst Colin Langan initiated coverage of both stocks on Monday with overweight ratings, praising the new and upcoming electric vehicles for the stalwart companies.\n",
      "====================================================================================================\n",
      "Response # 1\n",
      "Title: Opening Calls for Europe's Major Indexes\n",
      "Keywords: ['cnbc', 'Articles', 'Europe News', 'Business News', 'Economy', 'World Economy', 'source:tagname:CNBC US Source']\n",
      "Description: More from CNBC.comEuropean Futures Rise after Fed CutLatest European Business News\n",
      "====================================================================================================\n",
      "Response # 2\n",
      "Title: As it happened: China stocks stage late rally; up 4%\n",
      "Keywords: ['cnbc', 'Articles', 'FTSE 100', 'Stock markets', 'World Markets', 'DAX', 'CAC 40 Index', 'Europe News', 'Politics', 'stocks', 'Europe Markets', 'Europe Economy', 'CNBC TV', 'Video and TV', 'Europe Business Day', 'Squawk Box Europe', 'Squawk Box Live', 'source:tagname:CNBC Europe Source']\n",
      "Description: Squawk Box Live in Europe kept you up to date with China's stock markets, which staged a late rally Wednesday. This came as investors geared up for another bumper day of earnings and the conclusion of this month's Federal Reserve monetary policy meeting.(App users please click here).\n",
      "====================================================================================================\n",
      "Response # 3\n",
      "Title: MARKET EYE-Indian shares extend falls; Infosys, financials hit\n",
      "Keywords: ['cnbc', 'Articles', 'ICICI Bank Ltd', 'Infosys Ltd', 'HDFC Bank Ltd', 'Wires', 'source:tagname:Thomson Financial News']\n",
      "Description: * The BSE indexfalls 0.66 percent while the 50-shareNSE indexis down 0.56 percent heading to their firstweekly fall after five weeks of straight gains.* Shares in Infosys Ltddrops 5.5 percent afterdisappointing investors with weaker-than-expected margins andtook a conservative view on its full-year earnings.* Fears of high inflation data due on Monday is also leading totrimming of positions in financials ahead of the weekend.* ICICI Bankfalls 1.3 percent, while HousingDevelopment Finance Corporationis down 1 percent.* However, HDFC Bank, gains 1 percent after meetingforecasts with a 30 percent year-on-year rise in second quarterprofit.(abhishek.vishnoi@thomsonreuters.com)\n",
      "====================================================================================================\n",
      "Response # 4\n",
      "Title: Apple's $1 billion data center gets Irish High Court green light\n",
      "Keywords: ['cnbc', 'Articles', 'Economy', 'Business', 'Markets', 'Apple Inc', 'Technology', 'Mobile', 'Social media', 'Business News', 'Social Media', 'US: News', 'DO NOT USE Consumer', 'source:tagname:Reuters']\n",
      "Description: Ireland's High Court on Thursday ruled that a 850 million euro ($1 billion) data center planned by Apple in the west of Ireland may proceed, dismissing an environmental challenge made by three people.Apple announced plans to build the data center in 2015, but the project has been delayed by planning objections. A similar Apple center announced at the same time in Denmark is due to begin operations later this year.\n",
      "====================================================================================================\n"
     ]
    }
   ],
   "source": [
    "nearText = {\n",
    "    \"concepts\": [\"car industry\", \"risks\", \"europe\"],\n",
    "    \"certainty\": 0.5,\n",
    "}\n",
    "\n",
    "response = (\n",
    "    client.query.get(\n",
    "        \"Article\",\n",
    "        [\n",
    "            \"title\",\n",
    "            \"keywords\",\n",
    "            \"description\",\n",
    "            \"_additional {certainty}\",\n",
    "        ],\n",
    "    )\n",
    "    .with_where(\n",
    "        {\n",
    "            \"operator\": \"LessThan\",\n",
    "            \"path\": [\"descriptionWordCount\"],\n",
    "            \"valueInt\": 100,\n",
    "        }\n",
    "    )\n",
    "    .with_near_text(nearText)\n",
    "    .with_limit(5)\n",
    "    .do()\n",
    ")\n",
    "\n",
    "for idx, article in enumerate(response[\"data\"][\"Get\"][\"Article\"]):\n",
    "    print(f\"Response # {idx}\")\n",
    "    print(f\"Title: {article['title']}\")\n",
    "    print(f\"Keywords: {article['keywords']}\")\n",
    "    print(f\"Description: {article['description']}\")\n",
    "    print(\"=\" * 100)\n"
   ]
  },
  {
   "cell_type": "code",
   "execution_count": 15,
   "metadata": {},
   "outputs": [
    {
     "name": "stdout",
     "output_type": "stream",
     "text": [
      "\u001b[1m\u001b[47m\u001b[31mARTICLE\u001b[0m\n",
      "Response # 0\n",
      "\u001b[40m\u001b[35m_additional\u001b[0m: {'certainty': 0.6467868}\n",
      "\u001b[40m\u001b[35mdescription\u001b[0m: Legacy automakers Ford and General Motors are set to be industry leaders once again as electric vehicles and autonomous driving come into focus, according Wells Fargo.The firm's analyst Colin Langan initiated coverage of both stocks on Monday with overweight ratings, praising the new and upcoming electric vehicles for the stalwart companies.\n",
      "\u001b[40m\u001b[35mkeywords\u001b[0m: ['cnbc', 'Premium', 'Articles', 'Autos', 'Markets', 'Investment strategy', 'Ford Motor Co', 'General Motors Co', 'U.S. Markets Overview', 'Investing', 'PRO Home', 'CNBC Pro', 'Pro: Street Calls', 'source:tagname:CNBC US Source']\n",
      "\u001b[40m\u001b[35mtitle\u001b[0m: Wells Fargo rates Ford, GM as overweight, praises new electric vehicles\n",
      "========================================================================================================================\n",
      "Response # 1\n",
      "\u001b[40m\u001b[35m_additional\u001b[0m: {'certainty': 0.6416493}\n",
      "\u001b[40m\u001b[35mdescription\u001b[0m: More from CNBC.comEuropean Futures Rise after Fed CutLatest European Business News\n",
      "\u001b[40m\u001b[35mkeywords\u001b[0m: ['cnbc', 'Articles', 'Europe News', 'Business News', 'Economy', 'World Economy', 'source:tagname:CNBC US Source']\n",
      "\u001b[40m\u001b[35mtitle\u001b[0m: Opening Calls for Europe's Major Indexes\n",
      "========================================================================================================================\n",
      "Response # 2\n",
      "\u001b[40m\u001b[35m_additional\u001b[0m: {'certainty': 0.6053186}\n",
      "\u001b[40m\u001b[35mdescription\u001b[0m: Squawk Box Live in Europe kept you up to date with China's stock markets, which staged a late rally Wednesday. This came as investors geared up for another bumper day of earnings and the conclusion of this month's Federal Reserve monetary policy meeting.(App users please click here).\n",
      "\u001b[40m\u001b[35mkeywords\u001b[0m: ['cnbc', 'Articles', 'FTSE 100', 'Stock markets', 'World Markets', 'DAX', 'CAC 40 Index', 'Europe News', 'Politics', 'stocks', 'Europe Markets', 'Europe Economy', 'CNBC TV', 'Video and TV', 'Europe Business Day', 'Squawk Box Europe', 'Squawk Box Live', 'source:tagname:CNBC Europe Source']\n",
      "\u001b[40m\u001b[35mtitle\u001b[0m: As it happened: China stocks stage late rally; up 4%\n",
      "========================================================================================================================\n",
      "Response # 3\n",
      "\u001b[40m\u001b[35m_additional\u001b[0m: {'certainty': 0.59144926}\n",
      "\u001b[40m\u001b[35mdescription\u001b[0m: * The BSE indexfalls 0.66 percent while the 50-shareNSE indexis down 0.56 percent heading to their firstweekly fall after five weeks of straight gains.* Shares in Infosys Ltddrops 5.5 percent afterdisappointing investors with weaker-than-expected margins andtook a conservative view on its full-year earnings.* Fears of high inflation data due on Monday is also leading totrimming of positions in financials ahead of the weekend.* ICICI Bankfalls 1.3 percent, while HousingDevelopment Finance Corporationis down 1 percent.* However, HDFC Bank, gains 1 percent after meetingforecasts with a 30 percent year-on-year rise in second quarterprofit.(abhishek.vishnoi@thomsonreuters.com)\n",
      "\u001b[40m\u001b[35mkeywords\u001b[0m: ['cnbc', 'Articles', 'ICICI Bank Ltd', 'Infosys Ltd', 'HDFC Bank Ltd', 'Wires', 'source:tagname:Thomson Financial News']\n",
      "\u001b[40m\u001b[35mtitle\u001b[0m: MARKET EYE-Indian shares extend falls; Infosys, financials hit\n",
      "========================================================================================================================\n",
      "Response # 4\n",
      "\u001b[40m\u001b[35m_additional\u001b[0m: {'certainty': 0.5882338}\n",
      "\u001b[40m\u001b[35mdescription\u001b[0m: Ireland's High Court on Thursday ruled that a 850 million euro ($1 billion) data center planned by Apple in the west of Ireland may proceed, dismissing an environmental challenge made by three people.Apple announced plans to build the data center in 2015, but the project has been delayed by planning objections. A similar Apple center announced at the same time in Denmark is due to begin operations later this year.\n",
      "\u001b[40m\u001b[35mkeywords\u001b[0m: ['cnbc', 'Articles', 'Economy', 'Business', 'Markets', 'Apple Inc', 'Technology', 'Mobile', 'Social media', 'Business News', 'Social Media', 'US: News', 'DO NOT USE Consumer', 'source:tagname:Reuters']\n",
      "\u001b[40m\u001b[35mtitle\u001b[0m: Apple's $1 billion data center gets Irish High Court green light\n",
      "========================================================================================================================\n"
     ]
    }
   ],
   "source": [
    "pprint_response(response)"
   ]
  },
  {
   "cell_type": "markdown",
   "metadata": {},
   "source": [
    "# Filter by title exact match"
   ]
  },
  {
   "cell_type": "code",
   "execution_count": 16,
   "metadata": {},
   "outputs": [
    {
     "name": "stdout",
     "output_type": "stream",
     "text": [
      "Response # 0\n",
      "Certainty: 0.556478\n",
      "Title: Motorola Deal Buys Google Patent Protection: Schmidt\n",
      "Description: Google's $12.5 billion acquisition of Motorola Mobilitygives the Internet search company patent protection while putting it squarely into the smartphone hardware business, Executive Chairman Eric Schmidt told CNBC Monday. But the acquisition won't affect how Google  does business with the other phone makers that use its Android operating system, including HTC, he added.\"We are going into the hardware business, but we’re going to keep it separate and we’re going to treat everybody else on a fair basis,\" he explained.Android has had more than 550,000 activations a day and is succeeding \"precisely because there are so many partners,\" he said. \"If we somehow p--- them off ... it would be a disaster to the Android strategy.\"Google is also taking advantage of Motorola Mobility's  17,000+ patents, a portfolio Schmidt called \"second to none\" at a time when Google faces \"significant patent challenges from people who want to stop our products.\"Schmidt said he supports the overhaul to the U.S. patent system President Obama signed into law Friday but said it doesn't go far enough. \"We still have a problem where too many overbroad patents are used to shut down other companies,\" stifling the startups that don't have the resources Google has to buy a patent-rich company like Motorola Mobility.While Google's growth has its advantages, it has also brought scrutiny. Last week Schmidt testified before a Senate subcommittee on antitrust, which he told CNBC Monday gave him an opportunity to \"talk about how we made decisions that basically solve user problems.\"However, Google is different from Microsoft , another company that has undergone antitrust scrutiny. \"Google has not been Microsoft and will never be Microsoft,\" he said. \"It is true because of the role Google plays we really are much more careful now. We have teams of lawyers and product people and so forth at all our conversations.\"He added that \"our products are mostly free. So it’s hard to complain about pricing. So I think we’ll be just fine.\"\n",
      "====================================================================================================\n"
     ]
    }
   ],
   "source": [
    "nearText = {\n",
    "    \"concepts\": [\"market prediction\"],\n",
    "    \"certainty\": 0.5,\n",
    "}\n",
    "\n",
    "where_filter = {\n",
    "    \"operator\": \"Equal\",\n",
    "    \"path\": [\"title\"],\n",
    "    \"valueText\": [\"google motorola\"],\n",
    "}\n",
    "\n",
    "response = (\n",
    "    client.query.get(\n",
    "        \"Article\",\n",
    "        [\n",
    "            \"title\",\n",
    "            \"description\",\n",
    "            \"_additional {certainty}\",\n",
    "        ],\n",
    "    )\n",
    "    .with_where(where_filter)\n",
    "    .with_near_text(nearText)\n",
    "    .with_limit(5)\n",
    "    .do()\n",
    ")\n",
    "\n",
    "for idx, article in enumerate(response[\"data\"][\"Get\"][\"Article\"]):\n",
    "    print(f\"Response # {idx}\")\n",
    "    print(f\"Certainty: {article['_additional']['certainty']}\")\n",
    "    print(f\"Title: {article['title']}\")\n",
    "    print(f\"Description: {article['description']}\")\n",
    "    print(\"=\" * 100)\n"
   ]
  },
  {
   "cell_type": "code",
   "execution_count": 17,
   "metadata": {},
   "outputs": [
    {
     "name": "stdout",
     "output_type": "stream",
     "text": [
      "\u001b[1m\u001b[47m\u001b[31mARTICLE\u001b[0m\n",
      "Response # 0\n",
      "\u001b[40m\u001b[35m_additional\u001b[0m: {'certainty': 0.556478}\n",
      "\u001b[40m\u001b[35mdescription\u001b[0m: Google's $12.5 billion acquisition of Motorola Mobilitygives the Internet search company patent protection while putting it squarely into the smartphone hardware business, Executive Chairman Eric Schmidt told CNBC Monday. But the acquisition won't affect how Google  does business with the other phone makers that use its Android operating system, including HTC, he added.\"We are going into the hardware business, but we’re going to keep it separate and we’re going to treat everybody else on a fair basis,\" he explained.Android has had more than 550,000 activations a day and is succeeding \"precisely because there are so many partners,\" he said. \"If we somehow p--- them off ... it would be a disaster to the Android strategy.\"Google is also taking advantage of Motorola Mobility's  17,000+ patents, a portfolio Schmidt called \"second to none\" at a time when Google faces \"significant patent challenges from people who want to stop our products.\"Schmidt said he supports the overhaul to the U.S. patent system President Obama signed into law Friday but said it doesn't go far enough. \"We still have a problem where too many overbroad patents are used to shut down other companies,\" stifling the startups that don't have the resources Google has to buy a patent-rich company like Motorola Mobility.While Google's growth has its advantages, it has also brought scrutiny. Last week Schmidt testified before a Senate subcommittee on antitrust, which he told CNBC Monday gave him an opportunity to \"talk about how we made decisions that basically solve user problems.\"However, Google is different from Microsoft , another company that has undergone antitrust scrutiny. \"Google has not been Microsoft and will never be Microsoft,\" he said. \"It is true because of the role Google plays we really are much more careful now. We have teams of lawyers and product people and so forth at all our conversations.\"He added that \"our products are mostly free. So it’s hard to complain about pricing. So I think we’ll be just fine.\"\n",
      "\u001b[40m\u001b[35mtitle\u001b[0m: Motorola Deal Buys Google Patent Protection: Schmidt\n",
      "========================================================================================================================\n"
     ]
    }
   ],
   "source": [
    "pprint_response(response)"
   ]
  },
  {
   "cell_type": "markdown",
   "metadata": {},
   "source": [
    "# Filter by title fuzzy match"
   ]
  },
  {
   "cell_type": "markdown",
   "metadata": {},
   "source": [
    "Notes\n",
    "\n",
    "Each query using the Like operator iterates over the entire inverted index for that property. The search time will go up linearly with the dataset size. Be aware that there might be a point where this query is too expensive and will not work anymore."
   ]
  },
  {
   "cell_type": "code",
   "execution_count": 18,
   "metadata": {},
   "outputs": [
    {
     "name": "stdout",
     "output_type": "stream",
     "text": [
      "Response # 0\n",
      "Certainty: 0.54058105\n",
      "Title: Morgan Stanley earnings, revenue top expectations\n",
      "Description: Morgan Stanley's third-quarter revenue jumped  50 percent, helping adjusted earnings beat expectations, as  higher income from equities sales and trading made up for a  drop in the Wall Street bank and brokerage's fixed-income  business.  Morgan Stanley reported net income of $888 million, or 44 cents  per share, from continuing operations in the quarter. That  compared with a loss of $1 billion, or 55 cents per share, a  year earlier.  The year-earlier figure included a charge of $2.3 billion to  reflect a rise in the value of Morgan Stanley's debt.Excluding items, Morgan Stanley earned 50 cents per share,  beating the average analyst estimate of 40 cents per share,  according to Thomson Reuters I/B/E/S.  (Read more: Cashin: This reminds    me of the dot-com bubble)  Overall revenue rose to $7.93 billion, from $5.28 billion in the  same quarter last year, driven by equities trading and the  company's fast-growing wealth management business.  Adjusted revenue from equities trading rose 31 percent to $1.7  billion, while revenue from fixed income, currency and  commodities (FICC) trading fell 44 percent to $835 million.  \"Our strategy to combine a world class investment bank with  the stability of the largest U.S. wealth management  franchise and strong investment management is enabling us to  deliver exceptional advice and execution for our clients as  well as stronger returns for our shareholders,\" Chairman and  Chief Executive James Gorman said in a statement on Friday.Gorman is scheduled to appear on CNBC to discuss the quarterly results at 11:30 a.m. ET.   Morgan Stanley has had difficulty with fixed-income trading for  years, but the issues that affected the business in the  latest quarter also shook most of its competitors.  Trading activity in the bond market slowed markedly during the  period amid expectations the Federal Reserve would soon  start to wind down its stimulative bond-buying program.  Goldman Sachs reported on Thursday that its revenue from  FICC trading fell 44 percent in the quarter. Citigroup's  fell 26 percent, Bank of America's 20 percent and JPMorgan  Chase's 8 percent.  Revenue in Morgan Stanley's wealth management business increased  8 percent to $3.48 billion, while the business's pretax  profit margin edged up to 19 percent, getting closer to  Gorman's target of a minimum 20 percent.  Morgan Stanley completed its acquisition of brokerage Smith  Barney from Citigroup in June. It now collects all of the  earnings from the former joint venture but must wait until  2015 to accrue all of Smith Barney's client deposits.  (Read more: Did Wall Street make    the next budget crisis worse?)Shares of Morgan Stanley moved higher in pre-market trading  immediately following the report. (Click here to get the latest quote.)  —By Reuters. CNBC contributed to this report.\n",
      "====================================================================================================\n",
      "Response # 1\n",
      "Certainty: 0.5145725\n",
      "Title: Morgan Stanley Tries to Stave Off Ratings Cut \n",
      "Description: James Gorman, Morgan Stanley’s chief executive, has been in discussions with Moody’s in an attempt to maintain its credit ratings and stave off a downgrade that could diminish the bank’s ability to buy the rest of Citigroup brokerage Smith Barney, according to people familiar with the matter.Morgan Stanley owns 51 percent of Smith Barney, and holds an option, which kicks in at the end of May, to increase its stake to 65 percent. Taking full control of the brokerage is a centrepiece of Mr Gorman’s strategy. Morgan Stanley declined to comment.People familiar with the bank’s thinking have said Morgan Stanley could consider buying all of Smith Barney outright, but its ultimate decision will depend on price. Analysts have valued Citi’s remaining Smith Barney stake at around $10 billion.Morgan Stanley would most likely have to issue debt to fund the purchase, people say. That would become more expensive if Morgan Stanley is downgraded. Moody’s put Morgan Stanley, along with five other banks, on review for a downgrade in February. The bank could see its rating reduced by as many as three notches to Baa2 - two levels above junk status.A downgrade would also force Morgan Stanley to provide additional collateral to back its vast derivatives business, where it acts as a counterparty. Mr Gorman has been meeting Moody’s executives since earlier this year. The chief executive, who took over from John Mack at the beginning of 2010, is also thought to be discussing possible steps the bank could take to cushion the impact of a downgrade. These include shifting the banks’ derivatives books to a higher-rated subsidiary, which would help save it collateral costs. Other banks including Citigroup and Bank of America have done this.Other major banks, such as JPMorgan and Goldman Sachs , are also on review for downgrade at Moody’s. Morgan Stanley agreed to fold its retail brokerage business into a joint venture with Smith Barney in 2009. The venture is a key component of the bank’s push to become less dependent on volatile trading operations.“[A downgrade] will make it more expensive [to issue debt] on the margin, but the overall cost of funding is not very expensive,” said one banker, who specializes in selling financials’ debt. Markets may be pricing in a higher cost of funding, he added.\n",
      "====================================================================================================\n"
     ]
    }
   ],
   "source": [
    "nearText = {\n",
    "    \"concepts\": [\"market\"],\n",
    "    \"certainty\": 0.1,\n",
    "}\n",
    "\n",
    "where_filter = {\n",
    "    \"operator\": \"Like\",\n",
    "    \"path\": [\"title\"],\n",
    "    # TODO: test it with string property\n",
    "    \"valueText\": [\"morg*n\"],\n",
    "}\n",
    "\n",
    "response = (\n",
    "    client.query.get(\n",
    "        \"Article\",\n",
    "        [\n",
    "            \"title\",\n",
    "            \"description\",\n",
    "            \"_additional {certainty}\",\n",
    "        ],\n",
    "    )\n",
    "    .with_where(where_filter)\n",
    "    .with_near_text(nearText)\n",
    "    .with_limit(5)\n",
    "    .do()\n",
    ")\n",
    "\n",
    "for idx, article in enumerate(response[\"data\"][\"Get\"][\"Article\"]):\n",
    "    print(f\"Response # {idx}\")\n",
    "    print(f\"Certainty: {article['_additional']['certainty']}\")\n",
    "    print(f\"Title: {article['title']}\")\n",
    "    print(f\"Description: {article['description']}\")\n",
    "    print(\"=\" * 100)\n"
   ]
  },
  {
   "cell_type": "code",
   "execution_count": 19,
   "metadata": {},
   "outputs": [
    {
     "name": "stdout",
     "output_type": "stream",
     "text": [
      "\u001b[1m\u001b[47m\u001b[31mARTICLE\u001b[0m\n",
      "Response # 0\n",
      "\u001b[40m\u001b[35m_additional\u001b[0m: {'certainty': 0.54058105}\n",
      "\u001b[40m\u001b[35mdescription\u001b[0m: Morgan Stanley's third-quarter revenue jumped  50 percent, helping adjusted earnings beat expectations, as  higher income from equities sales and trading made up for a  drop in the Wall Street bank and brokerage's fixed-income  business.  Morgan Stanley reported net income of $888 million, or 44 cents  per share, from continuing operations in the quarter. That  compared with a loss of $1 billion, or 55 cents per share, a  year earlier.  The year-earlier figure included a charge of $2.3 billion to  reflect a rise in the value of Morgan Stanley's debt.Excluding items, Morgan Stanley earned 50 cents per share,  beating the average analyst estimate of 40 cents per share,  according to Thomson Reuters I/B/E/S.  (Read more: Cashin: This reminds    me of the dot-com bubble)  Overall revenue rose to $7.93 billion, from $5.28 billion in the  same quarter last year, driven by equities trading and the  company's fast-growing wealth management business.  Adjusted revenue from equities trading rose 31 percent to $1.7  billion, while revenue from fixed income, currency and  commodities (FICC) trading fell 44 percent to $835 million.  \"Our strategy to combine a world class investment bank with  the stability of the largest U.S. wealth management  franchise and strong investment management is enabling us to  deliver exceptional advice and execution for our clients as  well as stronger returns for our shareholders,\" Chairman and  Chief Executive James Gorman said in a statement on Friday.Gorman is scheduled to appear on CNBC to discuss the quarterly results at 11:30 a.m. ET.   Morgan Stanley has had difficulty with fixed-income trading for  years, but the issues that affected the business in the  latest quarter also shook most of its competitors.  Trading activity in the bond market slowed markedly during the  period amid expectations the Federal Reserve would soon  start to wind down its stimulative bond-buying program.  Goldman Sachs reported on Thursday that its revenue from  FICC trading fell 44 percent in the quarter. Citigroup's  fell 26 percent, Bank of America's 20 percent and JPMorgan  Chase's 8 percent.  Revenue in Morgan Stanley's wealth management business increased  8 percent to $3.48 billion, while the business's pretax  profit margin edged up to 19 percent, getting closer to  Gorman's target of a minimum 20 percent.  Morgan Stanley completed its acquisition of brokerage Smith  Barney from Citigroup in June. It now collects all of the  earnings from the former joint venture but must wait until  2015 to accrue all of Smith Barney's client deposits.  (Read more: Did Wall Street make    the next budget crisis worse?)Shares of Morgan Stanley moved higher in pre-market trading  immediately following the report. (Click here to get the latest quote.)  —By Reuters. CNBC contributed to this report.\n",
      "\u001b[40m\u001b[35mtitle\u001b[0m: Morgan Stanley earnings, revenue top expectations\n",
      "========================================================================================================================\n",
      "Response # 1\n",
      "\u001b[40m\u001b[35m_additional\u001b[0m: {'certainty': 0.5145725}\n",
      "\u001b[40m\u001b[35mdescription\u001b[0m: James Gorman, Morgan Stanley’s chief executive, has been in discussions with Moody’s in an attempt to maintain its credit ratings and stave off a downgrade that could diminish the bank’s ability to buy the rest of Citigroup brokerage Smith Barney, according to people familiar with the matter.Morgan Stanley owns 51 percent of Smith Barney, and holds an option, which kicks in at the end of May, to increase its stake to 65 percent. Taking full control of the brokerage is a centrepiece of Mr Gorman’s strategy. Morgan Stanley declined to comment.People familiar with the bank’s thinking have said Morgan Stanley could consider buying all of Smith Barney outright, but its ultimate decision will depend on price. Analysts have valued Citi’s remaining Smith Barney stake at around $10 billion.Morgan Stanley would most likely have to issue debt to fund the purchase, people say. That would become more expensive if Morgan Stanley is downgraded. Moody’s put Morgan Stanley, along with five other banks, on review for a downgrade in February. The bank could see its rating reduced by as many as three notches to Baa2 - two levels above junk status.A downgrade would also force Morgan Stanley to provide additional collateral to back its vast derivatives business, where it acts as a counterparty. Mr Gorman has been meeting Moody’s executives since earlier this year. The chief executive, who took over from John Mack at the beginning of 2010, is also thought to be discussing possible steps the bank could take to cushion the impact of a downgrade. These include shifting the banks’ derivatives books to a higher-rated subsidiary, which would help save it collateral costs. Other banks including Citigroup and Bank of America have done this.Other major banks, such as JPMorgan and Goldman Sachs , are also on review for downgrade at Moody’s. Morgan Stanley agreed to fold its retail brokerage business into a joint venture with Smith Barney in 2009. The venture is a key component of the bank’s push to become less dependent on volatile trading operations.“[A downgrade] will make it more expensive [to issue debt] on the margin, but the overall cost of funding is not very expensive,” said one banker, who specializes in selling financials’ debt. Markets may be pricing in a higher cost of funding, he added.\n",
      "\u001b[40m\u001b[35mtitle\u001b[0m: Morgan Stanley Tries to Stave Off Ratings Cut \n",
      "========================================================================================================================\n"
     ]
    }
   ],
   "source": [
    "pprint_response(response)"
   ]
  },
  {
   "cell_type": "markdown",
   "metadata": {},
   "source": [
    "# Also display authors"
   ]
  },
  {
   "cell_type": "code",
   "execution_count": 20,
   "metadata": {},
   "outputs": [
    {
     "name": "stdout",
     "output_type": "stream",
     "text": [
      "Response # 0\n",
      "Title: Instead of shunning Saudi Arabia after Khashoggi killing, investors flock to $7.5 billion bond sale\n",
      "Authors: Tom DiChristopher\n",
      "====================================================================================================\n",
      "Response # 1\n",
      "Title: US Treasurys lower as investors focus on data, monitor Russia-US relations\n",
      "Authors: Silvia Amaro\n",
      "====================================================================================================\n",
      "Response # 2\n",
      "Title: 5 Stocks Insiders Love Right Now\n",
      "Authors: Unknown\n",
      "====================================================================================================\n",
      "Response # 3\n",
      "Title: 10-year Treasury yield falls to 0.8% as investors return to safety amid pause in stock rally\n",
      "Authors: Elliot Smith\n",
      "====================================================================================================\n",
      "Response # 4\n",
      "Title: Greenberg: Momentum King’s Next Big Move\n",
      "Authors: Herb Greenberg\n",
      "====================================================================================================\n"
     ]
    }
   ],
   "source": [
    "query = \"\"\"\n",
    "{\n",
    "  Get {\n",
    "    Article(where: {\n",
    "        path: [\"keywords\"],    # Path to the property that should be used\n",
    "        operator: Equal,  # operator\n",
    "        valueText: \"bonds\"         # value (which is always = to the type of the path property)\n",
    "      }, limit: 5) {\n",
    "      title\n",
    "      hasAuthors {\n",
    "        ... on Author {\n",
    "          name\n",
    "        }\n",
    "      }\n",
    "    }\n",
    "  }\n",
    "}\n",
    "\"\"\"\n",
    "\n",
    "response = client.query.raw(query)\n",
    "for idx, article in enumerate(response[\"data\"][\"Get\"][\"Article\"]):\n",
    "    print(f\"Response # {idx}\")\n",
    "    # print(f\"Certainty: {article['_additional']['certainty']}\")\n",
    "    print(f\"Title: {article['title']}\")\n",
    "    # print(\"Authors:\")\n",
    "    # for author in article[\"hasAuthors\"]:\n",
    "    #     print(f\"\\t{author['name']}\")\n",
    "    authors = \",\".join(author[\"name\"] for author in article[\"hasAuthors\"])\n",
    "    print(f\"Authors: {authors}\")\n",
    "    # print(f\"Description: {article['description']}\")\n",
    "    print(\"=\" * 100)"
   ]
  },
  {
   "cell_type": "code",
   "execution_count": 21,
   "metadata": {},
   "outputs": [
    {
     "name": "stdout",
     "output_type": "stream",
     "text": [
      "\n",
      "{\n",
      "  Get {\n",
      "    Article(where: {\n",
      "        path: [\"keywords\"],    # Path to the property that should be used\n",
      "        operator: Equal,  # operator\n",
      "        valueText: \"bonds\"         # value (which is always = to the type of the path property)\n",
      "      }, limit: 5) {\n",
      "      title\n",
      "      hasAuthors {\n",
      "        ... on Author {\n",
      "          name\n",
      "        }\n",
      "      }\n",
      "    }\n",
      "  }\n",
      "}\n",
      "\n"
     ]
    }
   ],
   "source": [
    "query = \"\"\"\n",
    "{\n",
    "  Get {\n",
    "    Article(where: {\n",
    "        path: [\"{placeholder}\"],    # Path to the property that should be used\n",
    "        operator: Equal,  # operator\n",
    "        valueText: \"bonds\"         # value (which is always = to the type of the path property)\n",
    "      }, limit: 5) {\n",
    "      title\n",
    "      hasAuthors {\n",
    "        ... on Author {\n",
    "          name\n",
    "        }\n",
    "      }\n",
    "    }\n",
    "  }\n",
    "}\n",
    "\"\"\"\n",
    "\n",
    "import re\n",
    "\n",
    "query = re.sub(\"{placeholder}\", \"keywords\", query)\n",
    "print(query)"
   ]
  },
  {
   "cell_type": "code",
   "execution_count": 22,
   "metadata": {},
   "outputs": [
    {
     "name": "stdout",
     "output_type": "stream",
     "text": [
      "Response # 0\n",
      "Title: Instead of shunning Saudi Arabia after Khashoggi killing, investors flock to $7.5 billion bond sale\n",
      "Authors: Tom DiChristopher\n",
      "====================================================================================================\n",
      "Response # 1\n",
      "Title: US Treasurys lower as investors focus on data, monitor Russia-US relations\n",
      "Authors: Silvia Amaro\n",
      "====================================================================================================\n",
      "Response # 2\n",
      "Title: 5 Stocks Insiders Love Right Now\n",
      "Authors: Unknown\n",
      "====================================================================================================\n",
      "Response # 3\n",
      "Title: 10-year Treasury yield falls to 0.8% as investors return to safety amid pause in stock rally\n",
      "Authors: Elliot Smith\n",
      "====================================================================================================\n",
      "Response # 4\n",
      "Title: Greenberg: Momentum King’s Next Big Move\n",
      "Authors: Herb Greenberg\n",
      "====================================================================================================\n"
     ]
    }
   ],
   "source": [
    "response = client.query.raw(query)\n",
    "for idx, article in enumerate(response[\"data\"][\"Get\"][\"Article\"]):\n",
    "    print(f\"Response # {idx}\")\n",
    "    # print(f\"Certainty: {article['_additional']['certainty']}\")\n",
    "    print(f\"Title: {article['title']}\")\n",
    "    # print(\"Authors:\")\n",
    "    # for author in article[\"hasAuthors\"]:\n",
    "    #     print(f\"\\t{author['name']}\")\n",
    "    authors = \",\".join(author[\"name\"] for author in article[\"hasAuthors\"])\n",
    "    print(f\"Authors: {authors}\")\n",
    "    # print(f\"Description: {article['description']}\")\n",
    "    print(\"=\" * 100)"
   ]
  },
  {
   "cell_type": "code",
   "execution_count": 23,
   "metadata": {},
   "outputs": [
    {
     "name": "stdout",
     "output_type": "stream",
     "text": [
      "\u001b[1m\u001b[47m\u001b[31mARTICLE\u001b[0m\n",
      "Response # 0\n",
      "\u001b[40m\u001b[35mhasAuthors\u001b[0m: [{'name': 'Tom DiChristopher'}]\n",
      "\u001b[40m\u001b[35mtitle\u001b[0m: Instead of shunning Saudi Arabia after Khashoggi killing, investors flock to $7.5 billion bond sale\n",
      "========================================================================================================================\n",
      "Response # 1\n",
      "\u001b[40m\u001b[35mhasAuthors\u001b[0m: [{'name': 'Silvia Amaro'}]\n",
      "\u001b[40m\u001b[35mtitle\u001b[0m: US Treasurys lower as investors focus on data, monitor Russia-US relations\n",
      "========================================================================================================================\n",
      "Response # 2\n",
      "\u001b[40m\u001b[35mhasAuthors\u001b[0m: [{'name': 'Unknown'}]\n",
      "\u001b[40m\u001b[35mtitle\u001b[0m: 5 Stocks Insiders Love Right Now\n",
      "========================================================================================================================\n",
      "Response # 3\n",
      "\u001b[40m\u001b[35mhasAuthors\u001b[0m: [{'name': 'Elliot Smith'}]\n",
      "\u001b[40m\u001b[35mtitle\u001b[0m: 10-year Treasury yield falls to 0.8% as investors return to safety amid pause in stock rally\n",
      "========================================================================================================================\n",
      "Response # 4\n",
      "\u001b[40m\u001b[35mhasAuthors\u001b[0m: [{'name': 'Herb Greenberg'}]\n",
      "\u001b[40m\u001b[35mtitle\u001b[0m: Greenberg: Momentum King’s Next Big Move\n",
      "========================================================================================================================\n"
     ]
    }
   ],
   "source": [
    "pprint_response(response)"
   ]
  },
  {
   "cell_type": "markdown",
   "metadata": {},
   "source": [
    "# Filter by number of wrote articles"
   ]
  },
  {
   "cell_type": "code",
   "execution_count": 24,
   "metadata": {},
   "outputs": [
    {
     "name": "stdout",
     "output_type": "stream",
     "text": [
      "Response # 0\n",
      "Author name: Leslie Josephs\n",
      "Titles: Georgia's lieutenant governor says he will 'kill' Delta tax break unless airline reinstates relationship with NRA\n",
      "\tRaytheon and United Technologies agree to all-stock merger that would create aerospace behemoth\n",
      "Response # 1\n",
      "Author name: Tyler Clifford\n",
      "Titles: Cramer adds new stocks, recommends buying 12 laggards in his Covid-19 index\n",
      "\t'I come to bury Bitcoin, not to praise it': UBS \n",
      "Response # 2\n",
      "Author name: Sharon Epperson\n",
      "Titles: Energy Falls Despite 'Above Average' Hurricane Forecast\n",
      "\tWant to start a business? Here's what you need to know\n",
      "Response # 3\n",
      "Author name: Pippa Stevens\n",
      "Titles: Guggenheim says solar sell-off is a buying opportunity and has an unusual favorite stock\n",
      "\tShould CEO pay be tied to share price?\n",
      "Response # 4\n",
      "Author name: Chris Morris\n",
      "Titles: Video Game Sales Get off to Slow Start in 2011\n",
      "\t Did EA Bust the Social Gaming Bubble?\n"
     ]
    }
   ],
   "source": [
    "# Find all articles that are written by authors that wrote at least two articles\n",
    "\n",
    "get_articles_where = \"\"\"\n",
    "  {\n",
    "    Get {\n",
    "      Author(\n",
    "        where:{\n",
    "          valueInt: 2,\n",
    "          operator: GreaterThanEqual,\n",
    "          path: [\"wroteArticles\"]\n",
    "        }, limit: 5\n",
    "      ) {\n",
    "        name\n",
    "        wroteArticles {\n",
    "          ... on Article {\n",
    "            title\n",
    "          }\n",
    "        }\n",
    "      }\n",
    "    }\n",
    "  }\n",
    "\"\"\"\n",
    "\n",
    "response = client.query.raw(get_articles_where)\n",
    "# print(query_result)\n",
    "for idx, article in enumerate(response[\"data\"][\"Get\"][\"Author\"]):\n",
    "    print(f\"Response # {idx}\")\n",
    "    print(f\"Author name: {article['name']}\")\n",
    "    titles = \"\\n\\t\".join(x[\"title\"] for x in article[\"wroteArticles\"])\n",
    "    print(f\"Titles: {titles}\")"
   ]
  },
  {
   "cell_type": "code",
   "execution_count": 25,
   "metadata": {},
   "outputs": [
    {
     "name": "stdout",
     "output_type": "stream",
     "text": [
      "\u001b[1m\u001b[47m\u001b[31mAUTHOR\u001b[0m\n",
      "Response # 0\n",
      "\u001b[40m\u001b[35mname\u001b[0m: Leslie Josephs\n",
      "\u001b[40m\u001b[35mwroteArticles\u001b[0m: [{'title': \"Georgia's lieutenant governor says he will 'kill' Delta tax break unless airline reinstates relationship with NRA\"}, {'title': 'Raytheon and United Technologies agree to all-stock merger that would create aerospace behemoth'}]\n",
      "========================================================================================================================\n",
      "Response # 1\n",
      "\u001b[40m\u001b[35mname\u001b[0m: Tyler Clifford\n",
      "\u001b[40m\u001b[35mwroteArticles\u001b[0m: [{'title': 'Cramer adds new stocks, recommends buying 12 laggards in his Covid-19 index'}, {'title': \"'I come to bury Bitcoin, not to praise it': UBS\\xa0\"}]\n",
      "========================================================================================================================\n",
      "Response # 2\n",
      "\u001b[40m\u001b[35mname\u001b[0m: Sharon Epperson\n",
      "\u001b[40m\u001b[35mwroteArticles\u001b[0m: [{'title': \"Energy Falls Despite 'Above Average' Hurricane Forecast\"}, {'title': \"Want to start a business? Here's what you need to know\"}]\n",
      "========================================================================================================================\n",
      "Response # 3\n",
      "\u001b[40m\u001b[35mname\u001b[0m: Pippa Stevens\n",
      "\u001b[40m\u001b[35mwroteArticles\u001b[0m: [{'title': 'Guggenheim says solar sell-off is a buying opportunity and has an unusual favorite stock'}, {'title': 'Should CEO pay be tied to share price?'}]\n",
      "========================================================================================================================\n",
      "Response # 4\n",
      "\u001b[40m\u001b[35mname\u001b[0m: Chris Morris\n",
      "\u001b[40m\u001b[35mwroteArticles\u001b[0m: [{'title': 'Video Game Sales Get off to Slow Start in 2011'}, {'title': ' Did EA Bust the Social Gaming Bubble?'}]\n",
      "========================================================================================================================\n"
     ]
    }
   ],
   "source": [
    "pprint_response(response)"
   ]
  },
  {
   "cell_type": "markdown",
   "metadata": {},
   "source": [
    "# Filter by author"
   ]
  },
  {
   "cell_type": "code",
   "execution_count": 26,
   "metadata": {},
   "outputs": [
    {
     "name": "stdout",
     "output_type": "stream",
     "text": [
      "Response # 0\n",
      "Title: Your first trade for Wednesday, January 15\n",
      "Author name: Tyler Bailey\n",
      "====================================================================================================\n",
      "Response # 1\n",
      "Title: Cramer adds new stocks, recommends buying 12 laggards in his Covid-19 index\n",
      "Author name: Tyler Clifford\n",
      "====================================================================================================\n",
      "Response # 2\n",
      "Title: 'I come to bury Bitcoin, not to praise it': UBS \n",
      "Author name: Tyler Clifford\n",
      "====================================================================================================\n"
     ]
    }
   ],
   "source": [
    "where = \"\"\"\n",
    "{\n",
    "  Get {\n",
    "    Article(\n",
    "      where:{\n",
    "        valueString: \"Tyler\",\n",
    "        operator: Equal,\n",
    "        path: [\"hasAuthors\", \"Author\", \"name\"]\n",
    "      }, limit: 5\n",
    "    ) {\n",
    "      title\n",
    "      hasAuthors {\n",
    "        ... on Author {\n",
    "          name\n",
    "        }\n",
    "      }\n",
    "    }\n",
    "  }\n",
    " }\n",
    "\"\"\"\n",
    "\n",
    "response = client.query.raw(where)\n",
    "# print(response)\n",
    "for idx, article in enumerate(response[\"data\"][\"Get\"][\"Article\"]):\n",
    "    print(f\"Response # {idx}\")\n",
    "    print(f\"Title: {article['title']}\")\n",
    "    authors = ','.join(x[\"name\"] for x in article[\"hasAuthors\"])\n",
    "    print(f\"Author name: {authors}\")\n",
    "    print(\"=\" * 100)\n"
   ]
  },
  {
   "cell_type": "code",
   "execution_count": 27,
   "metadata": {},
   "outputs": [
    {
     "name": "stdout",
     "output_type": "stream",
     "text": [
      "\u001b[1m\u001b[47m\u001b[31mARTICLE\u001b[0m\n",
      "Response # 0\n",
      "\u001b[40m\u001b[35mhasAuthors\u001b[0m: [{'name': 'Tyler Bailey'}]\n",
      "\u001b[40m\u001b[35mtitle\u001b[0m: Your first trade for Wednesday, January 15\n",
      "========================================================================================================================\n",
      "Response # 1\n",
      "\u001b[40m\u001b[35mhasAuthors\u001b[0m: [{'name': 'Tyler Clifford'}]\n",
      "\u001b[40m\u001b[35mtitle\u001b[0m: Cramer adds new stocks, recommends buying 12 laggards in his Covid-19 index\n",
      "========================================================================================================================\n",
      "Response # 2\n",
      "\u001b[40m\u001b[35mhasAuthors\u001b[0m: [{'name': 'Tyler Clifford'}]\n",
      "\u001b[40m\u001b[35mtitle\u001b[0m: 'I come to bury Bitcoin, not to praise it': UBS \n",
      "========================================================================================================================\n"
     ]
    }
   ],
   "source": [
    "pprint_response(response)"
   ]
  },
  {
   "cell_type": "markdown",
   "metadata": {},
   "source": [
    "# All combined"
   ]
  },
  {
   "cell_type": "code",
   "execution_count": 28,
   "metadata": {},
   "outputs": [
    {
     "name": "stdout",
     "output_type": "stream",
     "text": [
      "{'data': {'Get': {'Article': [{'_additional': {'certainty': 0.6688515}, 'description': 'Europe could be looking at a Japan-style deflationary environment  for the next five years, investor Marc Lasry told CNBC on  Wednesday. Read MoreEuro tests low last  seen at its birth in1999  Lasry\\'s Avenue Capital is continuing to buy credit-side debt at a  discount in Europe. Over the last three or four years, the amount  of debt that European banks have sold has increased by 100  percent, he said in a \"Squawk  Box\" interview.   \"The way that the banks were able to sell this debt is, they keep  on buying sovereign debt, and then through that they make their  profits, and then each year they end up using those profits to  offset losses on that. And that\\'s sort of of what happened in  Japan over a 10 year period,\" said Lasry, who specializes in  distressed debt investments.  Read More Can cash-strapped Europe  prevent terrorism surge?  The way for Europe to avoid a deflationary period is to clock 4  to 5 percent GDP growth, he said.   \"You\\'re not having that. The reason everybody focuses on that is  because GDP growth in Europe today is sort of, negative one,  flat, up one. It\\'s really not moving that much,\" he said.  The chairman and CEO of Avenue Capital said his firm is playing  the credit side of the European debt market because the pressure  is still on the banks to deleverage. \"This is sort of a five year  process, so for us it\\'s going to be the gift that keeps on  giving,\" he said.  Lasry is personally invested in Greek debt, but Avenue Capital  does not buy sovereign bonds, he said. Read More Should markets fear  Greece\\'s radical Syriza party?  Europe is still in an investing phase because there is $2.5  trillion of debt, he said. \"The supply side in Europe is still so  great relative to the demand side in Europe,\" he added.', 'descriptionWordCount': 344, 'hasAuthors': [{'name': 'Tom DiChristopher'}], 'keywords': ['cnbc', 'Articles', 'World Markets', 'Bonds', 'Markets', 'Corporate bonds', 'Investment strategy', 'Corporate Debt', 'Investing', 'Credit and Debt', 'Squawk on the Street', 'Market Outlook', 'Europe Economy', 'source:tagname:CNBC US Source'], 'published_at': '2015-01-08T16:06:28Z', 'title': 'Lasry: Europe could face Japan-style deflation era'}]}}}\n"
     ]
    }
   ],
   "source": [
    "query = \"\"\"\n",
    "{\n",
    "  Get {\n",
    "    Article(\n",
    "      limit: 5\n",
    "      nearText: \n",
    "      {\n",
    "        concepts: [\"covid affect on stock market in usa\"],\n",
    "        moveAwayFrom:\n",
    "        {\n",
    "          concepts: [\"new york\", \"cuomo\"],\n",
    "          force: 0.1\n",
    "        }\n",
    "      }\n",
    "      where: \n",
    "      {\n",
    "        operator: And,\n",
    "        operands: \n",
    "        [\n",
    "          {\n",
    "            operator: GreaterThan,\n",
    "            path: [\"published_at\"],\n",
    "            valueDate: \"2015-01-01T0:00:00.52Z\",\n",
    "          },\n",
    "          {\n",
    "            operator: Equal,\n",
    "            path: [\"keywords\"],\n",
    "            valueText: \"bonds\",\n",
    "          },\n",
    "          {\n",
    "            operator: Equal,\n",
    "            path: [\"title\"],\n",
    "            valueText: \"Europe Japan\",\n",
    "          },\n",
    "          {\n",
    "            operator: Equal,\n",
    "            path: [\"hasAuthors\", \"Author\", \"name\"],\n",
    "            valueString: \"Tom DiChristopher\",\n",
    "          },\n",
    "          {\n",
    "            operator: GreaterThan,\n",
    "            path: [\"descriptionWordCount\"],\n",
    "            valueInt: 100,\n",
    "          }\n",
    "        ]\n",
    "      }\n",
    "    ) \n",
    "    {\n",
    "      title\n",
    "      description\n",
    "      keywords\n",
    "      published_at\n",
    "      descriptionWordCount\n",
    "      hasAuthors {\n",
    "        ... on Author {\n",
    "          name\n",
    "        }\n",
    "      }\n",
    "      _additional {\n",
    "        certainty\n",
    "      }\n",
    "    }\n",
    "  }\n",
    "}\n",
    "\"\"\"\n",
    "\n",
    "response = client.query.raw(query)\n",
    "\n",
    "print(response)"
   ]
  },
  {
   "cell_type": "code",
   "execution_count": 29,
   "metadata": {},
   "outputs": [
    {
     "name": "stdout",
     "output_type": "stream",
     "text": [
      "\u001b[1m\u001b[47m\u001b[31mARTICLE\u001b[0m\n",
      "Response # 0\n",
      "\u001b[40m\u001b[35m_additional\u001b[0m: {'certainty': 0.6688515}\n",
      "\u001b[40m\u001b[35mdescription\u001b[0m: Europe could be looking at a Japan-style deflationary environment  for the next five years, investor Marc Lasry told CNBC on  Wednesday. Read MoreEuro tests low last  seen at its birth in1999  Lasry's Avenue Capital is continuing to buy credit-side debt at a  discount in Europe. Over the last three or four years, the amount  of debt that European banks have sold has increased by 100  percent, he said in a \"Squawk  Box\" interview.   \"The way that the banks were able to sell this debt is, they keep  on buying sovereign debt, and then through that they make their  profits, and then each year they end up using those profits to  offset losses on that. And that's sort of of what happened in  Japan over a 10 year period,\" said Lasry, who specializes in  distressed debt investments.  Read More Can cash-strapped Europe  prevent terrorism surge?  The way for Europe to avoid a deflationary period is to clock 4  to 5 percent GDP growth, he said.   \"You're not having that. The reason everybody focuses on that is  because GDP growth in Europe today is sort of, negative one,  flat, up one. It's really not moving that much,\" he said.  The chairman and CEO of Avenue Capital said his firm is playing  the credit side of the European debt market because the pressure  is still on the banks to deleverage. \"This is sort of a five year  process, so for us it's going to be the gift that keeps on  giving,\" he said.  Lasry is personally invested in Greek debt, but Avenue Capital  does not buy sovereign bonds, he said. Read More Should markets fear  Greece's radical Syriza party?  Europe is still in an investing phase because there is $2.5  trillion of debt, he said. \"The supply side in Europe is still so  great relative to the demand side in Europe,\" he added.\n",
      "\u001b[40m\u001b[35mdescriptionWordCount\u001b[0m: 344\n",
      "\u001b[40m\u001b[35mhasAuthors\u001b[0m: [{'name': 'Tom DiChristopher'}]\n",
      "\u001b[40m\u001b[35mkeywords\u001b[0m: ['cnbc', 'Articles', 'World Markets', 'Bonds', 'Markets', 'Corporate bonds', 'Investment strategy', 'Corporate Debt', 'Investing', 'Credit and Debt', 'Squawk on the Street', 'Market Outlook', 'Europe Economy', 'source:tagname:CNBC US Source']\n",
      "\u001b[40m\u001b[35mpublished_at\u001b[0m: 2015-01-08T16:06:28Z\n",
      "\u001b[40m\u001b[35mtitle\u001b[0m: Lasry: Europe could face Japan-style deflation era\n",
      "========================================================================================================================\n"
     ]
    }
   ],
   "source": [
    "pprint_response(response)"
   ]
  }
 ],
 "metadata": {
  "interpreter": {
   "hash": "cb9e94dbe4e7fc92a3d7162f471039658b9fdbbc9b042b59ec1fc38823150b03"
  },
  "kernelspec": {
   "display_name": "Python 3.9.9 64-bit ('weaviate-demo')",
   "language": "python",
   "name": "python3"
  },
  "language_info": {
   "codemirror_mode": {
    "name": "ipython",
    "version": 3
   },
   "file_extension": ".py",
   "mimetype": "text/x-python",
   "name": "python",
   "nbconvert_exporter": "python",
   "pygments_lexer": "ipython3",
   "version": "3.9.9"
  },
  "orig_nbformat": 4
 },
 "nbformat": 4,
 "nbformat_minor": 2
}
