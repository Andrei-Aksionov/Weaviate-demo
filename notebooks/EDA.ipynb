{
 "cells": [
  {
   "cell_type": "markdown",
   "metadata": {},
   "source": [
    "## TODO:"
   ]
  },
  {
   "cell_type": "markdown",
   "metadata": {},
   "source": [
    "Structure:\n",
    "1. Read data\n",
    "    - <input type=\"checkbox\"></input>display count of rows\n",
    "    - <input type=\"checkbox\"></input> display columns; give description for each column\n",
    "    - <input type=\"checkbox\"></input>show how many rows have 1 None value, 2 None, ..., all None values\n",
    "2. Display each column\n",
    "    - <input type=\"checkbox\"></input> **title**: min/max/average length, stretch goal: show most popular topics\n",
    "    - <input type=\"checkbox\"></input>**url**: what site is the most popular\n",
    "    - <input type=\"checkbox\"></input>**published_date**: min/max range, show distribution per year, maybe per season/year\n",
    "    - <input type=\"checkbox\"></input>**author**: show how many authors are on average per each article, who is the most popular author\n",
    "    - <input type=\"checkbox\"></input>**publisher**: check that there is only one publisher\n",
    "    - <input type=\"checkbox\"></input>**short_description**: check empty values, show that short_description is basically the first sentence of description (but before check this assumption). If it is true then it will be strategy for filling empty values in case description exists\n",
    "    - <input type=\"checkbox\"></input>**keywords**: how many keywords on average, what is the most popular, what is the list popular\n",
    "    - <input type=\"checkbox\"></input>**header_image**: skip\n",
    "    - <input type=\"checkbox\"></input>**raw_description**: is the same as description only with html tags. In case raw description exists but not description, raw description can be used as description but only after stripping all html tags\n",
    "    - <input type=\"checkbox\"></input>**description**: min/average/max. Show number of empty values. Check that when description is empty raw_description is not. Stretch goal: most popular topics\n",
    "    - <input type=\"checkbox\"></input>**scraped_at**: skip? maybe show the range\n"
   ]
  }
 ],
 "metadata": {
  "interpreter": {
   "hash": "cb9e94dbe4e7fc92a3d7162f471039658b9fdbbc9b042b59ec1fc38823150b03"
  },
  "kernelspec": {
   "display_name": "Python 3.9.9 64-bit ('weaviate-demo')",
   "language": "python",
   "name": "python3"
  },
  "language_info": {
   "codemirror_mode": {
    "name": "ipython",
    "version": 3
   },
   "file_extension": ".py",
   "mimetype": "text/x-python",
   "name": "python",
   "nbconvert_exporter": "python",
   "pygments_lexer": "ipython3",
   "version": "3.9.9"
  },
  "orig_nbformat": 4
 },
 "nbformat": 4,
 "nbformat_minor": 2
}
