{
 "cells": [
  {
   "cell_type": "code",
   "execution_count": 1,
   "metadata": {},
   "outputs": [],
   "source": [
    "import pandas as pd\n",
    "from omegaconf import OmegaConf\n",
    "import os\n",
    "from bs4 import BeautifulSoup\n",
    "import spacy\n",
    "\n",
    "pd.set_option(\"display.max_colwidth\", 200)\n",
    "ROOT = \"..\"\n"
   ]
  },
  {
   "cell_type": "code",
   "execution_count": 2,
   "metadata": {},
   "outputs": [],
   "source": [
    "config = OmegaConf.load(os.path.join(ROOT, \"src/config/config.yaml\"))\n"
   ]
  },
  {
   "cell_type": "code",
   "execution_count": 3,
   "metadata": {},
   "outputs": [],
   "source": [
    "data = pd.read_csv(os.path.join(ROOT, config.data.raw))\n"
   ]
  },
  {
   "cell_type": "code",
   "execution_count": 4,
   "metadata": {},
   "outputs": [
    {
     "data": {
      "text/plain": [
       "['author',\n",
       " 'description',\n",
       " 'header_image',\n",
       " 'keywords',\n",
       " 'published_at',\n",
       " 'publisher',\n",
       " 'raw_description',\n",
       " 'scraped_at',\n",
       " 'short_description',\n",
       " 'title',\n",
       " 'url']"
      ]
     },
     "execution_count": 4,
     "metadata": {},
     "output_type": "execute_result"
    }
   ],
   "source": [
    "sorted(data.columns.to_list())"
   ]
  },
  {
   "cell_type": "code",
   "execution_count": 5,
   "metadata": {},
   "outputs": [
    {
     "data": {
      "text/html": [
       "<div>\n",
       "<style scoped>\n",
       "    .dataframe tbody tr th:only-of-type {\n",
       "        vertical-align: middle;\n",
       "    }\n",
       "\n",
       "    .dataframe tbody tr th {\n",
       "        vertical-align: top;\n",
       "    }\n",
       "\n",
       "    .dataframe thead th {\n",
       "        text-align: right;\n",
       "    }\n",
       "</style>\n",
       "<table border=\"1\" class=\"dataframe\">\n",
       "  <thead>\n",
       "    <tr style=\"text-align: right;\">\n",
       "      <th></th>\n",
       "      <th>9</th>\n",
       "    </tr>\n",
       "  </thead>\n",
       "  <tbody>\n",
       "    <tr>\n",
       "      <th>title</th>\n",
       "      <td>Morgan Stanley Tries to Stave Off Ratings Cut</td>\n",
       "    </tr>\n",
       "    <tr>\n",
       "      <th>url</th>\n",
       "      <td>https://www.cnbc.com/2012/04/05/morgan-stanley-tries-to-stave-off-ratings-cut.html</td>\n",
       "    </tr>\n",
       "    <tr>\n",
       "      <th>published_at</th>\n",
       "      <td>2012-04-05T06:53:57+0000</td>\n",
       "    </tr>\n",
       "    <tr>\n",
       "      <th>author</th>\n",
       "      <td>NaN</td>\n",
       "    </tr>\n",
       "    <tr>\n",
       "      <th>publisher</th>\n",
       "      <td>CNBC</td>\n",
       "    </tr>\n",
       "    <tr>\n",
       "      <th>short_description</th>\n",
       "      <td>James Gorman, Morgan Stanley’s chief executive, has been in discussions with Moody’s in an attempt to maintain its credit ratings and stave off a downgrade that could diminish the bank’s ability t...</td>\n",
       "    </tr>\n",
       "    <tr>\n",
       "      <th>keywords</th>\n",
       "      <td>cnbc, Articles, Morgan Stanley, Goldman Sachs Group Inc, Citigroup Inc, Bank of America Corp, Business News, Economy, World Economy, Europe News, source:tagname:Financial Times</td>\n",
       "    </tr>\n",
       "    <tr>\n",
       "      <th>header_image</th>\n",
       "      <td>https://image.cnbcfm.com/api/v1/image/19414059-Morgan_stanly5_new.jpg?v=1354732729</td>\n",
       "    </tr>\n",
       "    <tr>\n",
       "      <th>raw_description</th>\n",
       "      <td>&lt;div class=\"group\"&gt;&lt;p&gt;James Gorman, Morgan Stanley’s chief executive, has been in discussions with Moody’s in an attempt to maintain its credit ratings and stave off a downgrade that could diminis...</td>\n",
       "    </tr>\n",
       "    <tr>\n",
       "      <th>description</th>\n",
       "      <td>James Gorman, Morgan Stanley’s chief executive, has been in discussions with Moody’s in an attempt to maintain its credit ratings and stave off a downgrade that could diminish the bank’s ability t...</td>\n",
       "    </tr>\n",
       "    <tr>\n",
       "      <th>scraped_at</th>\n",
       "      <td>2021-10-30 14:11:25.106016</td>\n",
       "    </tr>\n",
       "  </tbody>\n",
       "</table>\n",
       "</div>"
      ],
      "text/plain": [
       "                                                                                                                                                                                                                         9\n",
       "title                                                                                                                                                                       Morgan Stanley Tries to Stave Off Ratings Cut \n",
       "url                                                                                                                                     https://www.cnbc.com/2012/04/05/morgan-stanley-tries-to-stave-off-ratings-cut.html\n",
       "published_at                                                                                                                                                                                      2012-04-05T06:53:57+0000\n",
       "author                                                                                                                                                                                                                 NaN\n",
       "publisher                                                                                                                                                                                                             CNBC\n",
       "short_description  James Gorman, Morgan Stanley’s chief executive, has been in discussions with Moody’s in an attempt to maintain its credit ratings and stave off a downgrade that could diminish the bank’s ability t...\n",
       "keywords                                  cnbc, Articles, Morgan Stanley, Goldman Sachs Group Inc, Citigroup Inc, Bank of America Corp, Business News, Economy, World Economy, Europe News, source:tagname:Financial Times\n",
       "header_image                                                                                                                            https://image.cnbcfm.com/api/v1/image/19414059-Morgan_stanly5_new.jpg?v=1354732729\n",
       "raw_description    <div class=\"group\"><p>James Gorman, Morgan Stanley’s chief executive, has been in discussions with Moody’s in an attempt to maintain its credit ratings and stave off a downgrade that could diminis...\n",
       "description        James Gorman, Morgan Stanley’s chief executive, has been in discussions with Moody’s in an attempt to maintain its credit ratings and stave off a downgrade that could diminish the bank’s ability t...\n",
       "scraped_at                                                                                                                                                                                      2021-10-30 14:11:25.106016"
      ]
     },
     "execution_count": 5,
     "metadata": {},
     "output_type": "execute_result"
    }
   ],
   "source": [
    "data.iloc[9].to_frame()\n"
   ]
  },
  {
   "cell_type": "code",
   "execution_count": 6,
   "metadata": {},
   "outputs": [
    {
     "data": {
      "text/plain": [
       "False"
      ]
     },
     "execution_count": 6,
     "metadata": {},
     "output_type": "execute_result"
    }
   ],
   "source": [
    "soup = BeautifulSoup(data.loc[9, \"raw_description\"], \"html.parser\")\n",
    "soup.text == data.loc[9, \"description\"]\n"
   ]
  },
  {
   "cell_type": "code",
   "execution_count": 7,
   "metadata": {},
   "outputs": [
    {
     "data": {
      "text/plain": [
       "'James Gorman, Morgan Stanley’s chief executive, has been in discussions with Moody’s in an attempt to maintain its credit ratings and stave off a downgrade that could diminish the bank’s ability to buy the rest of Citigroup brokerage Smith Barney, according to people familiar with the matter.,Morgan Stanley owns 51 percent of Smith Barney, and holds an option, which kicks in at the end of May, to increase its stake to 65 percent. Taking full control of the brokerage is a centrepiece of Mr Gorman’s strategy. Morgan Stanley declined to comment.People familiar with the bank’s thinking have said Morgan Stanley could consider buying all of Smith Barney outright, but its ultimate decision will depend on price. Analysts have valued Citi’s remaining Smith Barney stake at around $10 billion.Morgan Stanley would most likely have to issue debt to fund the purchase, people say. That would become more expensive if Morgan Stanley is downgraded. Moody’s put Morgan Stanley, along with five other banks, on review for a downgrade in February. The bank could see its rating reduced by as many as three notches to Baa2 - two levels above junk status.A downgrade would also force Morgan Stanley to provide additional collateral to back its vast derivatives business, where it acts as a counterparty. Mr Gorman has been meeting Moody’s executives since earlier this year. The chief executive, who took over from John Mack at the beginning of 2010, is also thought to be discussing possible steps the bank could take to cushion the impact of a downgrade. These include shifting the banks’ derivatives books to a higher-rated subsidiary, which would help save it collateral costs. Other banks including Citigroup and Bank of America have done this.Other major banks, such as JPMorgan and Goldman Sachs , are also on review for downgrade at Moody’s. Morgan Stanley agreed to fold its retail brokerage business into a joint venture with Smith Barney in 2009. The venture is a key component of the bank’s push to become less dependent on volatile trading operations.“[A downgrade] will make it more expensive [to issue debt] on the margin, but the overall cost of funding is not very expensive,” said one banker, who specializes in selling financials’ debt. Markets may be pricing in a higher cost of funding, he added.'"
      ]
     },
     "execution_count": 7,
     "metadata": {},
     "output_type": "execute_result"
    }
   ],
   "source": [
    "soup.text\n"
   ]
  },
  {
   "cell_type": "code",
   "execution_count": 8,
   "metadata": {},
   "outputs": [
    {
     "data": {
      "text/plain": [
       "title                  0\n",
       "url                    0\n",
       "published_at           0\n",
       "author               228\n",
       "publisher              0\n",
       "short_description     16\n",
       "keywords               0\n",
       "header_image           0\n",
       "raw_description       31\n",
       "description           32\n",
       "scraped_at             0\n",
       "dtype: int64"
      ]
     },
     "execution_count": 8,
     "metadata": {},
     "output_type": "execute_result"
    }
   ],
   "source": [
    "data.isna().sum()\n"
   ]
  },
  {
   "cell_type": "code",
   "execution_count": 9,
   "metadata": {},
   "outputs": [
    {
     "data": {
      "text/html": [
       "<div>\n",
       "<style scoped>\n",
       "    .dataframe tbody tr th:only-of-type {\n",
       "        vertical-align: middle;\n",
       "    }\n",
       "\n",
       "    .dataframe tbody tr th {\n",
       "        vertical-align: top;\n",
       "    }\n",
       "\n",
       "    .dataframe thead th {\n",
       "        text-align: right;\n",
       "    }\n",
       "</style>\n",
       "<table border=\"1\" class=\"dataframe\">\n",
       "  <thead>\n",
       "    <tr style=\"text-align: right;\">\n",
       "      <th></th>\n",
       "      <th>count</th>\n",
       "      <th>unique</th>\n",
       "      <th>top</th>\n",
       "      <th>freq</th>\n",
       "    </tr>\n",
       "  </thead>\n",
       "  <tbody>\n",
       "    <tr>\n",
       "      <th>title</th>\n",
       "      <td>625</td>\n",
       "      <td>625</td>\n",
       "      <td>Santoli’s Wednesday market notes: Could September’s stock shakeout tee up strength for the fourth quarter?</td>\n",
       "      <td>1</td>\n",
       "    </tr>\n",
       "    <tr>\n",
       "      <th>url</th>\n",
       "      <td>625</td>\n",
       "      <td>625</td>\n",
       "      <td>https://www.cnbc.com/2021/09/29/santolis-wednesday-market-notes-could-septembers-stock-shakeout-tee-up-strength-for-the-fourth-quarter.html</td>\n",
       "      <td>1</td>\n",
       "    </tr>\n",
       "    <tr>\n",
       "      <th>published_at</th>\n",
       "      <td>625</td>\n",
       "      <td>625</td>\n",
       "      <td>2021-09-29T17:09:39+0000</td>\n",
       "      <td>1</td>\n",
       "    </tr>\n",
       "    <tr>\n",
       "      <th>author</th>\n",
       "      <td>397</td>\n",
       "      <td>201</td>\n",
       "      <td>Lee Brodie</td>\n",
       "      <td>24</td>\n",
       "    </tr>\n",
       "    <tr>\n",
       "      <th>publisher</th>\n",
       "      <td>625</td>\n",
       "      <td>1</td>\n",
       "      <td>CNBC</td>\n",
       "      <td>625</td>\n",
       "    </tr>\n",
       "    <tr>\n",
       "      <th>short_description</th>\n",
       "      <td>609</td>\n",
       "      <td>609</td>\n",
       "      <td>This is the daily notebook of Mike Santoli, CNBC's senior markets commentator, with ideas about trends, stocks and market statistics.</td>\n",
       "      <td>1</td>\n",
       "    </tr>\n",
       "    <tr>\n",
       "      <th>keywords</th>\n",
       "      <td>625</td>\n",
       "      <td>581</td>\n",
       "      <td>cnbc, Articles, CNBC TV, Fast Money, source:tagname:CNBC US Source</td>\n",
       "      <td>10</td>\n",
       "    </tr>\n",
       "    <tr>\n",
       "      <th>header_image</th>\n",
       "      <td>625</td>\n",
       "      <td>479</td>\n",
       "      <td>https://sc.cnbcfm.com/applications/cnbc.com/staticcontent/img/cnbc_logo.gif?v=1524171804&amp;w=720&amp;h=405</td>\n",
       "      <td>141</td>\n",
       "    </tr>\n",
       "    <tr>\n",
       "      <th>raw_description</th>\n",
       "      <td>594</td>\n",
       "      <td>594</td>\n",
       "      <td>&lt;div class=\"group\"&gt;&lt;p&gt;&lt;em&gt;This is the daily notebook of Mike Santoli, CNBC's senior markets commentator, with ideas about trends, stocks and market statistics.&lt;/em&gt;&lt;/p&gt;&lt;ul&gt;&lt;li&gt;A muted, inconclusiv...</td>\n",
       "      <td>1</td>\n",
       "    </tr>\n",
       "    <tr>\n",
       "      <th>description</th>\n",
       "      <td>593</td>\n",
       "      <td>593</td>\n",
       "      <td>This is the daily notebook of Mike Santoli, CNBC's senior markets commentator, with ideas about trends, stocks and market statistics.A muted, inconclusive bounce that has left the indexes fully wi...</td>\n",
       "      <td>1</td>\n",
       "    </tr>\n",
       "    <tr>\n",
       "      <th>scraped_at</th>\n",
       "      <td>625</td>\n",
       "      <td>625</td>\n",
       "      <td>2021-10-30 14:11:23.709372</td>\n",
       "      <td>1</td>\n",
       "    </tr>\n",
       "  </tbody>\n",
       "</table>\n",
       "</div>"
      ],
      "text/plain": [
       "                  count unique  \\\n",
       "title               625    625   \n",
       "url                 625    625   \n",
       "published_at        625    625   \n",
       "author              397    201   \n",
       "publisher           625      1   \n",
       "short_description   609    609   \n",
       "keywords            625    581   \n",
       "header_image        625    479   \n",
       "raw_description     594    594   \n",
       "description         593    593   \n",
       "scraped_at          625    625   \n",
       "\n",
       "                                                                                                                                                                                                                       top  \\\n",
       "title                                                                                                           Santoli’s Wednesday market notes: Could September’s stock shakeout tee up strength for the fourth quarter?   \n",
       "url                                                                            https://www.cnbc.com/2021/09/29/santolis-wednesday-market-notes-could-septembers-stock-shakeout-tee-up-strength-for-the-fourth-quarter.html   \n",
       "published_at                                                                                                                                                                                      2021-09-29T17:09:39+0000   \n",
       "author                                                                                                                                                                                                          Lee Brodie   \n",
       "publisher                                                                                                                                                                                                             CNBC   \n",
       "short_description                                                                    This is the daily notebook of Mike Santoli, CNBC's senior markets commentator, with ideas about trends, stocks and market statistics.   \n",
       "keywords                                                                                                                                                cnbc, Articles, CNBC TV, Fast Money, source:tagname:CNBC US Source   \n",
       "header_image                                                                                                          https://sc.cnbcfm.com/applications/cnbc.com/staticcontent/img/cnbc_logo.gif?v=1524171804&w=720&h=405   \n",
       "raw_description    <div class=\"group\"><p><em>This is the daily notebook of Mike Santoli, CNBC's senior markets commentator, with ideas about trends, stocks and market statistics.</em></p><ul><li>A muted, inconclusiv...   \n",
       "description        This is the daily notebook of Mike Santoli, CNBC's senior markets commentator, with ideas about trends, stocks and market statistics.A muted, inconclusive bounce that has left the indexes fully wi...   \n",
       "scraped_at                                                                                                                                                                                      2021-10-30 14:11:23.709372   \n",
       "\n",
       "                  freq  \n",
       "title                1  \n",
       "url                  1  \n",
       "published_at         1  \n",
       "author              24  \n",
       "publisher          625  \n",
       "short_description    1  \n",
       "keywords            10  \n",
       "header_image       141  \n",
       "raw_description      1  \n",
       "description          1  \n",
       "scraped_at           1  "
      ]
     },
     "execution_count": 9,
     "metadata": {},
     "output_type": "execute_result"
    }
   ],
   "source": [
    "data.describe().T\n"
   ]
  },
  {
   "cell_type": "code",
   "execution_count": 10,
   "metadata": {},
   "outputs": [
    {
     "data": {
      "text/plain": [
       "title                  0\n",
       "url                    0\n",
       "published_at           0\n",
       "author               228\n",
       "publisher              0\n",
       "short_description     16\n",
       "keywords               0\n",
       "header_image           0\n",
       "raw_description       31\n",
       "description           32\n",
       "scraped_at             0\n",
       "dtype: int64"
      ]
     },
     "execution_count": 10,
     "metadata": {},
     "output_type": "execute_result"
    }
   ],
   "source": [
    "data.isna().sum()\n"
   ]
  },
  {
   "cell_type": "code",
   "execution_count": 11,
   "metadata": {},
   "outputs": [
    {
     "name": "stdout",
     "output_type": "stream",
     "text": [
      "(625, 11)\n",
      "(376, 11)\n"
     ]
    }
   ],
   "source": [
    "print(data.shape)\n",
    "data_dropped = data.dropna().reset_index(drop=True)\n",
    "print(data_dropped.shape)\n"
   ]
  },
  {
   "cell_type": "code",
   "execution_count": 12,
   "metadata": {},
   "outputs": [
    {
     "data": {
      "text/plain": [
       "title                 0\n",
       "url                   0\n",
       "published_at          0\n",
       "author               15\n",
       "publisher             0\n",
       "short_description     2\n",
       "keywords              0\n",
       "header_image          0\n",
       "raw_description      31\n",
       "description          32\n",
       "scraped_at            0\n",
       "dtype: int64"
      ]
     },
     "execution_count": 12,
     "metadata": {},
     "output_type": "execute_result"
    }
   ],
   "source": [
    "data[data[\"description\"].isna()].isna().sum()\n"
   ]
  },
  {
   "cell_type": "code",
   "execution_count": 13,
   "metadata": {},
   "outputs": [
    {
     "data": {
      "text/plain": [
       "title                 0\n",
       "url                   0\n",
       "published_at          0\n",
       "author               14\n",
       "publisher             0\n",
       "short_description     1\n",
       "keywords              0\n",
       "header_image          0\n",
       "raw_description      31\n",
       "description          31\n",
       "scraped_at            0\n",
       "dtype: int64"
      ]
     },
     "execution_count": 13,
     "metadata": {},
     "output_type": "execute_result"
    }
   ],
   "source": [
    "data[data[\"raw_description\"].isna()].isna().sum()\n"
   ]
  },
  {
   "cell_type": "code",
   "execution_count": 14,
   "metadata": {},
   "outputs": [
    {
     "name": "stdout",
     "output_type": "stream",
     "text": [
      "This is the daily notebook of Mike Santoli, CNBC's senior markets commentator, with ideas about trends, stocks and market statistics.\n",
      "\n",
      "This is the daily notebook of Mike Santoli, CNBC's senior markets commentator, with ideas about trends, stocks and market statistics.A muted, inconclusive bounce that has left the indexes fully within yesterday's low-to-high range all morning so far.\n"
     ]
    }
   ],
   "source": [
    "print(data.loc[0, \"short_description\"])\n",
    "print()\n",
    "print(data.loc[0, \"description\"])\n"
   ]
  },
  {
   "cell_type": "code",
   "execution_count": 15,
   "metadata": {},
   "outputs": [
    {
     "data": {
      "text/plain": [
       "\"This is the daily notebook of Mike Santoli, CNBC's senior markets commentator, with ideas about trends, stocks and market statistics.A muted, inconclusive bounce that has left the indexes fully within yesterday's low-to-high range all morning so far.\""
      ]
     },
     "execution_count": 15,
     "metadata": {},
     "output_type": "execute_result"
    }
   ],
   "source": [
    "data.loc[0, \"description\"]\n"
   ]
  },
  {
   "cell_type": "code",
   "execution_count": 16,
   "metadata": {},
   "outputs": [
    {
     "data": {
      "text/plain": [
       "\"This is the daily notebook of Mike Santoli, CNBC's senior markets commentator, with ideas about trends, stocks and market statistics\""
      ]
     },
     "execution_count": 16,
     "metadata": {},
     "output_type": "execute_result"
    }
   ],
   "source": [
    "data.loc[0, \"description\"].split(\".\")[0]\n"
   ]
  },
  {
   "cell_type": "markdown",
   "metadata": {},
   "source": [
    "Steps for preprocessing:\n",
    "1. if description is empty and raw description exists, then strip all html tags from raw_description\n",
    "2. if short_description is empty and description exists, then take the first sentence from description\n",
    "3. if author is empty, then just replace with \"Unknown\""
   ]
  },
  {
   "cell_type": "markdown",
   "metadata": {},
   "source": [
    "# Description if raw description exists"
   ]
  },
  {
   "cell_type": "code",
   "execution_count": 17,
   "metadata": {},
   "outputs": [
    {
     "data": {
      "text/html": [
       "<div>\n",
       "<style scoped>\n",
       "    .dataframe tbody tr th:only-of-type {\n",
       "        vertical-align: middle;\n",
       "    }\n",
       "\n",
       "    .dataframe tbody tr th {\n",
       "        vertical-align: top;\n",
       "    }\n",
       "\n",
       "    .dataframe thead th {\n",
       "        text-align: right;\n",
       "    }\n",
       "</style>\n",
       "<table border=\"1\" class=\"dataframe\">\n",
       "  <thead>\n",
       "    <tr style=\"text-align: right;\">\n",
       "      <th></th>\n",
       "      <th>description</th>\n",
       "      <th>raw_description</th>\n",
       "    </tr>\n",
       "  </thead>\n",
       "  <tbody>\n",
       "    <tr>\n",
       "      <th>372</th>\n",
       "      <td>NaN</td>\n",
       "      <td>&lt;div class=\"group\"&gt;&lt;/div&gt;</td>\n",
       "    </tr>\n",
       "  </tbody>\n",
       "</table>\n",
       "</div>"
      ],
      "text/plain": [
       "    description            raw_description\n",
       "372         NaN  <div class=\"group\"></div>"
      ]
     },
     "execution_count": 17,
     "metadata": {},
     "output_type": "execute_result"
    }
   ],
   "source": [
    "idx = data[data[\"description\"].isna() & ~data[\"raw_description\"].isna()].index\n",
    "data.loc[idx, [\"description\", \"raw_description\"]]\n"
   ]
  },
  {
   "cell_type": "markdown",
   "metadata": {},
   "source": [
    "As we can see description is empty because raw description consists of tag without content in it."
   ]
  },
  {
   "cell_type": "markdown",
   "metadata": {},
   "source": [
    "# Short description is empty but description exists"
   ]
  },
  {
   "cell_type": "code",
   "execution_count": 18,
   "metadata": {},
   "outputs": [
    {
     "name": "stdout",
     "output_type": "stream",
     "text": [
      "14\n"
     ]
    },
    {
     "data": {
      "text/html": [
       "<div>\n",
       "<style scoped>\n",
       "    .dataframe tbody tr th:only-of-type {\n",
       "        vertical-align: middle;\n",
       "    }\n",
       "\n",
       "    .dataframe tbody tr th {\n",
       "        vertical-align: top;\n",
       "    }\n",
       "\n",
       "    .dataframe thead th {\n",
       "        text-align: right;\n",
       "    }\n",
       "</style>\n",
       "<table border=\"1\" class=\"dataframe\">\n",
       "  <thead>\n",
       "    <tr style=\"text-align: right;\">\n",
       "      <th></th>\n",
       "      <th>short_description</th>\n",
       "      <th>description</th>\n",
       "    </tr>\n",
       "  </thead>\n",
       "  <tbody>\n",
       "    <tr>\n",
       "      <th>4</th>\n",
       "      <td>NaN</td>\n",
       "      <td>President Donald Trump hailed the U.S.-led intervention in Syria as \"perfectly executed,\" adding that the military campaign to degrade Bashar Assad's chemical weapons capability had accomplished i...</td>\n",
       "    </tr>\n",
       "    <tr>\n",
       "      <th>19</th>\n",
       "      <td>NaN</td>\n",
       "      <td>In Monday’s Web Extra, Pete Najarian reveals where he’s seeing put buying. Also why stocks are plunging in Japan. This content is only available online - you won't find these trades on TV. _______...</td>\n",
       "    </tr>\n",
       "    <tr>\n",
       "      <th>84</th>\n",
       "      <td>NaN</td>\n",
       "      <td>COOPERSTOWN, N.Y., Oct. 1, 2012 /PRNewswire/ -- The National Baseball Hall of Fame and Museum is adding to its art collection with the donation of a portrait depicting one of the sport's most famo...</td>\n",
       "    </tr>\n",
       "    <tr>\n",
       "      <th>157</th>\n",
       "      <td>NaN</td>\n",
       "      <td>What was Wall Street saying about earnings season, Googlehitting an all-time high, Facebook’s1 billion users and European bank stocks? Find out in this week’s CNBC.com Stock Blog Roundup.Third-qua...</td>\n",
       "    </tr>\n",
       "    <tr>\n",
       "      <th>184</th>\n",
       "      <td>NaN</td>\n",
       "      <td>Ireland's High Court on Thursday ruled that a 850 million euro ($1 billion) data center planned by Apple in the west of Ireland may proceed, dismissing an environmental challenge made by three peo...</td>\n",
       "    </tr>\n",
       "    <tr>\n",
       "      <th>281</th>\n",
       "      <td>NaN</td>\n",
       "      <td>ARCHBOLD, Ohio, Oct. 1, 2012 /PRNewswire/ -- Paul S. Siebenmorgen, President and CEO of Farmers &amp; Merchants State Bank in Archbold, Ohio, announced that construction will begin in the fall on the ...</td>\n",
       "    </tr>\n",
       "    <tr>\n",
       "      <th>371</th>\n",
       "      <td>NaN</td>\n",
       "      <td>An Air India passenger plane flying to the United States was escorted by British fighter jets to land in London on Thursday after a bomb threat.Air India said flight AI 191 from Mumbai to Newark h...</td>\n",
       "    </tr>\n",
       "    <tr>\n",
       "      <th>408</th>\n",
       "      <td>NaN</td>\n",
       "      <td>TEMPLE CITY, Calif., Oct. 1, 2012 /PRNewswire/ -- Temple City Unified School District and Chevron Energy Solutions today announced the completion of a transformative solar and energy efficiency pr...</td>\n",
       "    </tr>\n",
       "    <tr>\n",
       "      <th>473</th>\n",
       "      <td>NaN</td>\n",
       "      <td>SAN FRANCISCO, Oct. 8, 2012 /PRNewswire/ -- TalentBin, the talent search engine that turbo-charges talent discovery across the web, today announced the launch of TalentBin Scores, a new addition t...</td>\n",
       "    </tr>\n",
       "    <tr>\n",
       "      <th>482</th>\n",
       "      <td>NaN</td>\n",
       "      <td>Britain is drawing up contingency plans for the unlikely event it has to walk away from divorce talks with the European Union without a deal, Brexit minister David Davis said on Sunday.Prime Minis...</td>\n",
       "    </tr>\n",
       "    <tr>\n",
       "      <th>486</th>\n",
       "      <td>NaN</td>\n",
       "      <td>Amazon is putting the finishing touches on a concept for new Seattle area grocery stores called AmazonFresh Pickup, according to permit filings reported by GeekWire.E-commerce giant Amazon has fil...</td>\n",
       "    </tr>\n",
       "    <tr>\n",
       "      <th>500</th>\n",
       "      <td>NaN</td>\n",
       "      <td>NEW YORK and LONDON, Oct. 1, 2012 /PRNewswire/ -- Standish Mellon Asset Management Company LLC, the Boston-based fixed income specialist for BNY Mellon, has hired Raman Srivastava as co-deputy chi...</td>\n",
       "    </tr>\n",
       "    <tr>\n",
       "      <th>596</th>\n",
       "      <td>NaN</td>\n",
       "      <td>CHICAGO, Oct. 4, 2012 /PRNewswire/ -- The Canada-U.S. Free Trade Agreement (FTA), signed 25 years ago, has played a critical role in the expansion of trade with our northern neighbors, both for Il...</td>\n",
       "    </tr>\n",
       "    <tr>\n",
       "      <th>622</th>\n",
       "      <td>NaN</td>\n",
       "      <td>HOUSTON, Oct. 5, 2012 /PRNewswire/ -- Noble Energy, Inc. (NYSE: NBL) announced today that it will host a conference call to discuss its new venture exploration program at 9:00 a.m., Central Time, ...</td>\n",
       "    </tr>\n",
       "  </tbody>\n",
       "</table>\n",
       "</div>"
      ],
      "text/plain": [
       "    short_description  \\\n",
       "4                 NaN   \n",
       "19                NaN   \n",
       "84                NaN   \n",
       "157               NaN   \n",
       "184               NaN   \n",
       "281               NaN   \n",
       "371               NaN   \n",
       "408               NaN   \n",
       "473               NaN   \n",
       "482               NaN   \n",
       "486               NaN   \n",
       "500               NaN   \n",
       "596               NaN   \n",
       "622               NaN   \n",
       "\n",
       "                                                                                                                                                                                                 description  \n",
       "4    President Donald Trump hailed the U.S.-led intervention in Syria as \"perfectly executed,\" adding that the military campaign to degrade Bashar Assad's chemical weapons capability had accomplished i...  \n",
       "19   In Monday’s Web Extra, Pete Najarian reveals where he’s seeing put buying. Also why stocks are plunging in Japan. This content is only available online - you won't find these trades on TV. _______...  \n",
       "84   COOPERSTOWN, N.Y., Oct. 1, 2012 /PRNewswire/ -- The National Baseball Hall of Fame and Museum is adding to its art collection with the donation of a portrait depicting one of the sport's most famo...  \n",
       "157  What was Wall Street saying about earnings season, Googlehitting an all-time high, Facebook’s1 billion users and European bank stocks? Find out in this week’s CNBC.com Stock Blog Roundup.Third-qua...  \n",
       "184  Ireland's High Court on Thursday ruled that a 850 million euro ($1 billion) data center planned by Apple in the west of Ireland may proceed, dismissing an environmental challenge made by three peo...  \n",
       "281  ARCHBOLD, Ohio, Oct. 1, 2012 /PRNewswire/ -- Paul S. Siebenmorgen, President and CEO of Farmers & Merchants State Bank in Archbold, Ohio, announced that construction will begin in the fall on the ...  \n",
       "371  An Air India passenger plane flying to the United States was escorted by British fighter jets to land in London on Thursday after a bomb threat.Air India said flight AI 191 from Mumbai to Newark h...  \n",
       "408  TEMPLE CITY, Calif., Oct. 1, 2012 /PRNewswire/ -- Temple City Unified School District and Chevron Energy Solutions today announced the completion of a transformative solar and energy efficiency pr...  \n",
       "473  SAN FRANCISCO, Oct. 8, 2012 /PRNewswire/ -- TalentBin, the talent search engine that turbo-charges talent discovery across the web, today announced the launch of TalentBin Scores, a new addition t...  \n",
       "482  Britain is drawing up contingency plans for the unlikely event it has to walk away from divorce talks with the European Union without a deal, Brexit minister David Davis said on Sunday.Prime Minis...  \n",
       "486  Amazon is putting the finishing touches on a concept for new Seattle area grocery stores called AmazonFresh Pickup, according to permit filings reported by GeekWire.E-commerce giant Amazon has fil...  \n",
       "500  NEW YORK and LONDON, Oct. 1, 2012 /PRNewswire/ -- Standish Mellon Asset Management Company LLC, the Boston-based fixed income specialist for BNY Mellon, has hired Raman Srivastava as co-deputy chi...  \n",
       "596  CHICAGO, Oct. 4, 2012 /PRNewswire/ -- The Canada-U.S. Free Trade Agreement (FTA), signed 25 years ago, has played a critical role in the expansion of trade with our northern neighbors, both for Il...  \n",
       "622  HOUSTON, Oct. 5, 2012 /PRNewswire/ -- Noble Energy, Inc. (NYSE: NBL) announced today that it will host a conference call to discuss its new venture exploration program at 9:00 a.m., Central Time, ...  "
      ]
     },
     "execution_count": 18,
     "metadata": {},
     "output_type": "execute_result"
    }
   ],
   "source": [
    "idx = data[data[\"short_description\"].isna() & ~data[\"description\"].isna()].index\n",
    "print(len(idx))\n",
    "data.loc[idx, [\"short_description\", \"description\"]]\n"
   ]
  },
  {
   "cell_type": "code",
   "execution_count": 19,
   "metadata": {},
   "outputs": [
    {
     "data": {
      "text/plain": [
       "['tok2vec', 'parser']"
      ]
     },
     "execution_count": 19,
     "metadata": {},
     "output_type": "execute_result"
    }
   ],
   "source": [
    "nlp = spacy.load(\"en_core_web_sm\")\n",
    "nlp.disable_pipes(\n",
    "    \"tagger\",\n",
    "    \"attribute_ruler\",\n",
    "    \"lemmatizer\",\n",
    "    \"ner\",\n",
    ")\n",
    "nlp.pipe_names\n"
   ]
  },
  {
   "cell_type": "code",
   "execution_count": 20,
   "metadata": {},
   "outputs": [
    {
     "name": "stdout",
     "output_type": "stream",
     "text": [
      "Hello\n",
      "Hello.\n",
      "President Donald Trump hailed the U.S.-led intervention in Syria as \"perfectly executed,\" adding that the military campaign to degrade Bashar Assad's chemical weapons capability had accomplished its goals.\n"
     ]
    }
   ],
   "source": [
    "def get_summary(text: str, nlp: spacy.Language) -> str:\n",
    "    \"\"\"Return the first sentence of the text where . is the delimeter.\n",
    "\n",
    "    Parameters\n",
    "    ----------\n",
    "    text : str\n",
    "        full text\n",
    "\n",
    "    Returns\n",
    "    -------\n",
    "    str\n",
    "        the first sentence of the full text\n",
    "    \"\"\"\n",
    "\n",
    "    sents_generator = nlp(text).sents\n",
    "    return next(sents_generator).text\n",
    "\n",
    "\n",
    "print(get_summary(\"Hello\", nlp))\n",
    "print(get_summary(\"Hello. World\", nlp))\n",
    "text = \"\"\"President Donald Trump hailed the U.S.-led intervention in Syria as \"perfectly executed,\" adding that the military campaign to degrade Bashar Assad's chemical weapons capability had accomplished its goals.Less than a day after U.S., British and French forces targeted suspected chemical weapons sites in retaliation\"\"\"\n",
    "print(get_summary(text, nlp))\n"
   ]
  },
  {
   "cell_type": "code",
   "execution_count": 21,
   "metadata": {},
   "outputs": [
    {
     "name": "stdout",
     "output_type": "stream",
     "text": [
      "President Donald Trump hailed the U.S.-led intervention in Syria as \"perfectly executed,\" adding that the military campaign to degrade Bashar Assad's chemical weapons capability had accomplished its goals.Less than a day after U.S., British and French forces targeted suspected chemical weapons sites in retaliation to an attack that left dozens of civilians dead last week, Trump thanked the U.S. coalition partners.Yet in an echo of former president George W. Bush, Trump used words that ultimately came back to haunt his predecessor, by pronouncing \"Mission Accomplished.\" That characterization raised questions about whether Western forces would intervene again if Assad used chemical weapons again, or if the conflict escalated amid Russia's growing bellicosity.\"A perfectly executed strike last night. Thank you to France and the United Kingdom for their wisdom and the power of their fine Military. Could not have had a better result. Mission Accomplished!\" Trump said in a Twitter post.Defense Secretary James Mattis called the strikes a \"one time shot\" aimed at the Syrian government's chemical weapons infrastructure.\"Clearly, the Assad regime did not get the message last year,\" Mattis told reporters on Friday from the Pentagon.\"Together we have sent a clear message to Assad and his murderous lieutenants that they should not perpetrate another chemical weapons attack for which they will be held accountable.\"Back in May 2003, Bush prematurely declared the Iraq war as being over, in the wake of U.S. forces successfully toppling the government of Saddam Hussein. The event, staged on a U.S. bomber under a massive banner that screamed \"Mission Accomplished,\" overshadowed the years of conflict and bloodshed that followed.In a briefing on Saturday, Pentagon officials also described the Syria bombing as having successfully accomplished its goals. Trump's declaration came as Moscow, which is backing Syria in its long civil conflict, has denounced the bombing campaign with undisguised contempt. In the wake of Friday's strike, Russia's ambassador to the U.S. warned of \"consequences,\" while Russian President Vladimir Putin reportedly called the intervention an \"act of aggression.\"--CNBC's Amanda Macias contributed to this article.\n",
      "\n",
      "President Donald Trump hailed the U.S.-led intervention in Syria as \"perfectly executed,\" adding that the military campaign to degrade Bashar Assad's chemical weapons capability had accomplished its goals.\n"
     ]
    }
   ],
   "source": [
    "text = data.loc[idx[0], \"description\"]\n",
    "print(text)\n",
    "print()\n",
    "print(get_summary(text, nlp))\n"
   ]
  },
  {
   "cell_type": "code",
   "execution_count": 22,
   "metadata": {},
   "outputs": [],
   "source": [
    "data.loc[idx, \"short_description\"] = data.loc[idx, \"description\"].apply(lambda text: get_summary(text, nlp))\n"
   ]
  },
  {
   "cell_type": "code",
   "execution_count": 23,
   "metadata": {},
   "outputs": [
    {
     "data": {
      "text/html": [
       "<div>\n",
       "<style scoped>\n",
       "    .dataframe tbody tr th:only-of-type {\n",
       "        vertical-align: middle;\n",
       "    }\n",
       "\n",
       "    .dataframe tbody tr th {\n",
       "        vertical-align: top;\n",
       "    }\n",
       "\n",
       "    .dataframe thead th {\n",
       "        text-align: right;\n",
       "    }\n",
       "</style>\n",
       "<table border=\"1\" class=\"dataframe\">\n",
       "  <thead>\n",
       "    <tr style=\"text-align: right;\">\n",
       "      <th></th>\n",
       "      <th>short_description</th>\n",
       "      <th>description</th>\n",
       "    </tr>\n",
       "  </thead>\n",
       "  <tbody>\n",
       "    <tr>\n",
       "      <th>4</th>\n",
       "      <td>President Donald Trump hailed the U.S.-led intervention in Syria as \"perfectly executed,\" adding that the military campaign to degrade Bashar Assad's chemical weapons capability had accomplished i...</td>\n",
       "      <td>President Donald Trump hailed the U.S.-led intervention in Syria as \"perfectly executed,\" adding that the military campaign to degrade Bashar Assad's chemical weapons capability had accomplished i...</td>\n",
       "    </tr>\n",
       "    <tr>\n",
       "      <th>19</th>\n",
       "      <td>In Monday’s Web Extra, Pete Najarian reveals where he’s seeing put buying.</td>\n",
       "      <td>In Monday’s Web Extra, Pete Najarian reveals where he’s seeing put buying. Also why stocks are plunging in Japan. This content is only available online - you won't find these trades on TV. _______...</td>\n",
       "    </tr>\n",
       "    <tr>\n",
       "      <th>84</th>\n",
       "      <td>COOPERSTOWN, N.Y., Oct. 1, 2012 /PRNewswire/ -- The National Baseball Hall of Fame and Museum is adding to its art collection with the donation of a portrait depicting one of the sport's most famo...</td>\n",
       "      <td>COOPERSTOWN, N.Y., Oct. 1, 2012 /PRNewswire/ -- The National Baseball Hall of Fame and Museum is adding to its art collection with the donation of a portrait depicting one of the sport's most famo...</td>\n",
       "    </tr>\n",
       "    <tr>\n",
       "      <th>157</th>\n",
       "      <td>What was Wall Street saying about earnings season, Googlehitting an all-time high, Facebook’s1 billion users and European bank stocks?</td>\n",
       "      <td>What was Wall Street saying about earnings season, Googlehitting an all-time high, Facebook’s1 billion users and European bank stocks? Find out in this week’s CNBC.com Stock Blog Roundup.Third-qua...</td>\n",
       "    </tr>\n",
       "    <tr>\n",
       "      <th>184</th>\n",
       "      <td>Ireland's High Court on Thursday ruled that a 850 million euro ($1 billion) data center planned by Apple in the west of Ireland may proceed, dismissing an environmental challenge made by three peo...</td>\n",
       "      <td>Ireland's High Court on Thursday ruled that a 850 million euro ($1 billion) data center planned by Apple in the west of Ireland may proceed, dismissing an environmental challenge made by three peo...</td>\n",
       "    </tr>\n",
       "    <tr>\n",
       "      <th>281</th>\n",
       "      <td>ARCHBOLD, Ohio, Oct. 1, 2012 /PRNewswire/ -- Paul S. Siebenmorgen, President and CEO of Farmers &amp; Merchants State Bank in Archbold, Ohio, announced that construction will begin in the fall on the ...</td>\n",
       "      <td>ARCHBOLD, Ohio, Oct. 1, 2012 /PRNewswire/ -- Paul S. Siebenmorgen, President and CEO of Farmers &amp; Merchants State Bank in Archbold, Ohio, announced that construction will begin in the fall on the ...</td>\n",
       "    </tr>\n",
       "    <tr>\n",
       "      <th>371</th>\n",
       "      <td>An Air India passenger plane flying to the United States was escorted by British fighter jets to land in London on Thursday after a bomb threat.</td>\n",
       "      <td>An Air India passenger plane flying to the United States was escorted by British fighter jets to land in London on Thursday after a bomb threat.Air India said flight AI 191 from Mumbai to Newark h...</td>\n",
       "    </tr>\n",
       "    <tr>\n",
       "      <th>408</th>\n",
       "      <td>TEMPLE CITY, Calif., Oct. 1, 2012 /PRNewswire/ -- Temple City Unified School District and Chevron Energy Solutions today announced the completion of a transformative solar and energy efficiency pr...</td>\n",
       "      <td>TEMPLE CITY, Calif., Oct. 1, 2012 /PRNewswire/ -- Temple City Unified School District and Chevron Energy Solutions today announced the completion of a transformative solar and energy efficiency pr...</td>\n",
       "    </tr>\n",
       "    <tr>\n",
       "      <th>473</th>\n",
       "      <td>SAN FRANCISCO, Oct. 8, 2012 /PRNewswire/ -- TalentBin, the talent search engine that turbo-charges talent discovery across the web, today announced the launch of TalentBin Scores, a new addition t...</td>\n",
       "      <td>SAN FRANCISCO, Oct. 8, 2012 /PRNewswire/ -- TalentBin, the talent search engine that turbo-charges talent discovery across the web, today announced the launch of TalentBin Scores, a new addition t...</td>\n",
       "    </tr>\n",
       "    <tr>\n",
       "      <th>482</th>\n",
       "      <td>Britain is drawing up contingency plans for the unlikely event it has to walk away from divorce talks with the European Union without a deal, Brexit minister David Davis said on Sunday.</td>\n",
       "      <td>Britain is drawing up contingency plans for the unlikely event it has to walk away from divorce talks with the European Union without a deal, Brexit minister David Davis said on Sunday.Prime Minis...</td>\n",
       "    </tr>\n",
       "    <tr>\n",
       "      <th>486</th>\n",
       "      <td>Amazon is putting the finishing touches on a concept for new Seattle area grocery stores called AmazonFresh Pickup, according to permit filings reported by GeekWire.</td>\n",
       "      <td>Amazon is putting the finishing touches on a concept for new Seattle area grocery stores called AmazonFresh Pickup, according to permit filings reported by GeekWire.E-commerce giant Amazon has fil...</td>\n",
       "    </tr>\n",
       "    <tr>\n",
       "      <th>500</th>\n",
       "      <td>NEW YORK and LONDON, Oct. 1, 2012 /PRNewswire/ -- Standish Mellon Asset Management Company LLC, the Boston-based fixed income specialist for BNY Mellon, has hired Raman Srivastava as co-deputy chi...</td>\n",
       "      <td>NEW YORK and LONDON, Oct. 1, 2012 /PRNewswire/ -- Standish Mellon Asset Management Company LLC, the Boston-based fixed income specialist for BNY Mellon, has hired Raman Srivastava as co-deputy chi...</td>\n",
       "    </tr>\n",
       "    <tr>\n",
       "      <th>596</th>\n",
       "      <td>CHICAGO, Oct. 4, 2012 /PRNewswire/ -- The Canada-U.S. Free Trade Agreement (FTA), signed 25 years ago, has played a critical role in the expansion of trade with our northern neighbors, both for Il...</td>\n",
       "      <td>CHICAGO, Oct. 4, 2012 /PRNewswire/ -- The Canada-U.S. Free Trade Agreement (FTA), signed 25 years ago, has played a critical role in the expansion of trade with our northern neighbors, both for Il...</td>\n",
       "    </tr>\n",
       "    <tr>\n",
       "      <th>622</th>\n",
       "      <td>HOUSTON, Oct. 5, 2012 /PRNewswire/ -- Noble Energy, Inc. (NYSE: NBL) announced today that it will host a conference call to discuss its new venture exploration program at 9:00 a.m., Central Time, ...</td>\n",
       "      <td>HOUSTON, Oct. 5, 2012 /PRNewswire/ -- Noble Energy, Inc. (NYSE: NBL) announced today that it will host a conference call to discuss its new venture exploration program at 9:00 a.m., Central Time, ...</td>\n",
       "    </tr>\n",
       "  </tbody>\n",
       "</table>\n",
       "</div>"
      ],
      "text/plain": [
       "                                                                                                                                                                                           short_description  \\\n",
       "4    President Donald Trump hailed the U.S.-led intervention in Syria as \"perfectly executed,\" adding that the military campaign to degrade Bashar Assad's chemical weapons capability had accomplished i...   \n",
       "19                                                                                                                                In Monday’s Web Extra, Pete Najarian reveals where he’s seeing put buying.   \n",
       "84   COOPERSTOWN, N.Y., Oct. 1, 2012 /PRNewswire/ -- The National Baseball Hall of Fame and Museum is adding to its art collection with the donation of a portrait depicting one of the sport's most famo...   \n",
       "157                                                                   What was Wall Street saying about earnings season, Googlehitting an all-time high, Facebook’s1 billion users and European bank stocks?   \n",
       "184  Ireland's High Court on Thursday ruled that a 850 million euro ($1 billion) data center planned by Apple in the west of Ireland may proceed, dismissing an environmental challenge made by three peo...   \n",
       "281  ARCHBOLD, Ohio, Oct. 1, 2012 /PRNewswire/ -- Paul S. Siebenmorgen, President and CEO of Farmers & Merchants State Bank in Archbold, Ohio, announced that construction will begin in the fall on the ...   \n",
       "371                                                         An Air India passenger plane flying to the United States was escorted by British fighter jets to land in London on Thursday after a bomb threat.   \n",
       "408  TEMPLE CITY, Calif., Oct. 1, 2012 /PRNewswire/ -- Temple City Unified School District and Chevron Energy Solutions today announced the completion of a transformative solar and energy efficiency pr...   \n",
       "473  SAN FRANCISCO, Oct. 8, 2012 /PRNewswire/ -- TalentBin, the talent search engine that turbo-charges talent discovery across the web, today announced the launch of TalentBin Scores, a new addition t...   \n",
       "482                Britain is drawing up contingency plans for the unlikely event it has to walk away from divorce talks with the European Union without a deal, Brexit minister David Davis said on Sunday.   \n",
       "486                                    Amazon is putting the finishing touches on a concept for new Seattle area grocery stores called AmazonFresh Pickup, according to permit filings reported by GeekWire.   \n",
       "500  NEW YORK and LONDON, Oct. 1, 2012 /PRNewswire/ -- Standish Mellon Asset Management Company LLC, the Boston-based fixed income specialist for BNY Mellon, has hired Raman Srivastava as co-deputy chi...   \n",
       "596  CHICAGO, Oct. 4, 2012 /PRNewswire/ -- The Canada-U.S. Free Trade Agreement (FTA), signed 25 years ago, has played a critical role in the expansion of trade with our northern neighbors, both for Il...   \n",
       "622  HOUSTON, Oct. 5, 2012 /PRNewswire/ -- Noble Energy, Inc. (NYSE: NBL) announced today that it will host a conference call to discuss its new venture exploration program at 9:00 a.m., Central Time, ...   \n",
       "\n",
       "                                                                                                                                                                                                 description  \n",
       "4    President Donald Trump hailed the U.S.-led intervention in Syria as \"perfectly executed,\" adding that the military campaign to degrade Bashar Assad's chemical weapons capability had accomplished i...  \n",
       "19   In Monday’s Web Extra, Pete Najarian reveals where he’s seeing put buying. Also why stocks are plunging in Japan. This content is only available online - you won't find these trades on TV. _______...  \n",
       "84   COOPERSTOWN, N.Y., Oct. 1, 2012 /PRNewswire/ -- The National Baseball Hall of Fame and Museum is adding to its art collection with the donation of a portrait depicting one of the sport's most famo...  \n",
       "157  What was Wall Street saying about earnings season, Googlehitting an all-time high, Facebook’s1 billion users and European bank stocks? Find out in this week’s CNBC.com Stock Blog Roundup.Third-qua...  \n",
       "184  Ireland's High Court on Thursday ruled that a 850 million euro ($1 billion) data center planned by Apple in the west of Ireland may proceed, dismissing an environmental challenge made by three peo...  \n",
       "281  ARCHBOLD, Ohio, Oct. 1, 2012 /PRNewswire/ -- Paul S. Siebenmorgen, President and CEO of Farmers & Merchants State Bank in Archbold, Ohio, announced that construction will begin in the fall on the ...  \n",
       "371  An Air India passenger plane flying to the United States was escorted by British fighter jets to land in London on Thursday after a bomb threat.Air India said flight AI 191 from Mumbai to Newark h...  \n",
       "408  TEMPLE CITY, Calif., Oct. 1, 2012 /PRNewswire/ -- Temple City Unified School District and Chevron Energy Solutions today announced the completion of a transformative solar and energy efficiency pr...  \n",
       "473  SAN FRANCISCO, Oct. 8, 2012 /PRNewswire/ -- TalentBin, the talent search engine that turbo-charges talent discovery across the web, today announced the launch of TalentBin Scores, a new addition t...  \n",
       "482  Britain is drawing up contingency plans for the unlikely event it has to walk away from divorce talks with the European Union without a deal, Brexit minister David Davis said on Sunday.Prime Minis...  \n",
       "486  Amazon is putting the finishing touches on a concept for new Seattle area grocery stores called AmazonFresh Pickup, according to permit filings reported by GeekWire.E-commerce giant Amazon has fil...  \n",
       "500  NEW YORK and LONDON, Oct. 1, 2012 /PRNewswire/ -- Standish Mellon Asset Management Company LLC, the Boston-based fixed income specialist for BNY Mellon, has hired Raman Srivastava as co-deputy chi...  \n",
       "596  CHICAGO, Oct. 4, 2012 /PRNewswire/ -- The Canada-U.S. Free Trade Agreement (FTA), signed 25 years ago, has played a critical role in the expansion of trade with our northern neighbors, both for Il...  \n",
       "622  HOUSTON, Oct. 5, 2012 /PRNewswire/ -- Noble Energy, Inc. (NYSE: NBL) announced today that it will host a conference call to discuss its new venture exploration program at 9:00 a.m., Central Time, ...  "
      ]
     },
     "execution_count": 23,
     "metadata": {},
     "output_type": "execute_result"
    }
   ],
   "source": [
    "data.loc[idx, [\"short_description\", \"description\"]]\n"
   ]
  },
  {
   "cell_type": "markdown",
   "metadata": {},
   "source": [
    "# If author is empty then replace with `Unknown`"
   ]
  },
  {
   "cell_type": "code",
   "execution_count": 24,
   "metadata": {},
   "outputs": [
    {
     "name": "stdout",
     "output_type": "stream",
     "text": [
      "228\n",
      "0.3648\n"
     ]
    }
   ],
   "source": [
    "authors_nan_count = data[\"author\"].isna().sum()\n",
    "print(authors_nan_count)\n",
    "print(authors_nan_count / len(data))\n"
   ]
  },
  {
   "cell_type": "code",
   "execution_count": 25,
   "metadata": {},
   "outputs": [],
   "source": [
    "data[\"author\"].fillna(\"Unknown\", inplace=True)\n"
   ]
  },
  {
   "cell_type": "code",
   "execution_count": 26,
   "metadata": {},
   "outputs": [
    {
     "name": "stdout",
     "output_type": "stream",
     "text": [
      "0\n"
     ]
    }
   ],
   "source": [
    "print(data[\"author\"].isna().sum())\n"
   ]
  },
  {
   "cell_type": "markdown",
   "metadata": {},
   "source": [
    "# Overall result"
   ]
  },
  {
   "cell_type": "code",
   "execution_count": 27,
   "metadata": {},
   "outputs": [
    {
     "data": {
      "text/plain": [
       "title                 0\n",
       "url                   0\n",
       "published_at          0\n",
       "author                0\n",
       "publisher             0\n",
       "short_description     2\n",
       "keywords              0\n",
       "header_image          0\n",
       "raw_description      31\n",
       "description          32\n",
       "scraped_at            0\n",
       "dtype: int64"
      ]
     },
     "execution_count": 27,
     "metadata": {},
     "output_type": "execute_result"
    }
   ],
   "source": [
    "data.isna().sum()\n"
   ]
  },
  {
   "cell_type": "code",
   "execution_count": 28,
   "metadata": {},
   "outputs": [
    {
     "data": {
      "text/plain": [
       "title                object\n",
       "url                  object\n",
       "published_at         object\n",
       "author               object\n",
       "publisher            object\n",
       "short_description    object\n",
       "keywords             object\n",
       "header_image         object\n",
       "raw_description      object\n",
       "description          object\n",
       "scraped_at           object\n",
       "dtype: object"
      ]
     },
     "execution_count": 28,
     "metadata": {},
     "output_type": "execute_result"
    }
   ],
   "source": [
    "data.dtypes\n"
   ]
  },
  {
   "cell_type": "markdown",
   "metadata": {},
   "source": [
    "# Date"
   ]
  },
  {
   "cell_type": "code",
   "execution_count": 29,
   "metadata": {},
   "outputs": [],
   "source": [
    "data[\"published_at\"] = data[\"published_at\"].apply(lambda x: pd.to_datetime(x).isoformat())"
   ]
  },
  {
   "cell_type": "markdown",
   "metadata": {},
   "source": [
    "# Saving"
   ]
  },
  {
   "cell_type": "code",
   "execution_count": 30,
   "metadata": {},
   "outputs": [],
   "source": [
    "columns_to_save = [\n",
    "    \"title\",\n",
    "    \"url\",\n",
    "    \"published_at\",\n",
    "    \"author\",\n",
    "    \"short_description\",\n",
    "    \"description\",\n",
    "    \"keywords\",\n",
    "]\n"
   ]
  },
  {
   "cell_type": "code",
   "execution_count": 31,
   "metadata": {},
   "outputs": [
    {
     "name": "stdout",
     "output_type": "stream",
     "text": [
      "title                 0\n",
      "url                   0\n",
      "published_at          0\n",
      "author                0\n",
      "short_description     2\n",
      "description          32\n",
      "keywords              0\n",
      "dtype: int64\n"
     ]
    }
   ],
   "source": [
    "data_to_save = data[columns_to_save].copy()\n",
    "print(data_to_save.isna().sum())\n",
    "data_to_save.dropna(inplace=True)"
   ]
  },
  {
   "cell_type": "code",
   "execution_count": 32,
   "metadata": {},
   "outputs": [],
   "source": [
    "data_to_save.to_csv(os.path.join(ROOT, config.data.interim), index=False)"
   ]
  }
 ],
 "metadata": {
  "interpreter": {
   "hash": "cb9e94dbe4e7fc92a3d7162f471039658b9fdbbc9b042b59ec1fc38823150b03"
  },
  "kernelspec": {
   "display_name": "Python 3.9.9 64-bit ('weaviate-demo')",
   "language": "python",
   "name": "python3"
  },
  "language_info": {
   "codemirror_mode": {
    "name": "ipython",
    "version": 3
   },
   "file_extension": ".py",
   "mimetype": "text/x-python",
   "name": "python",
   "nbconvert_exporter": "python",
   "pygments_lexer": "ipython3",
   "version": "3.9.9"
  },
  "orig_nbformat": 4
 },
 "nbformat": 4,
 "nbformat_minor": 2
}
