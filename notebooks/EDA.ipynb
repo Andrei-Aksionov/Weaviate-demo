{
 "cells": [
  {
   "cell_type": "markdown",
   "metadata": {},
   "source": [
    "## TODO:"
   ]
  },
  {
   "cell_type": "markdown",
   "metadata": {},
   "source": [
    "Structure:\n",
    "1. Read data\n",
    "    - <input type=\"checkbox\"></input>display count of rows\n",
    "    - <input type=\"checkbox\"></input> display columns; give description for each column\n",
    "    - <input type=\"checkbox\"></input>show how many rows have 1 None value, 2 None, ..., all None values\n",
    "2. Display each column\n",
    "    - <input type=\"checkbox\"></input> **title**: min/max/average length, stretch goal: show most popular topics\n",
    "    - <input type=\"checkbox\"></input>**url**: what site is the most popular\n",
    "    - <input type=\"checkbox\"></input>**published_date**: min/max range, show distribution per year, maybe per season/year\n",
    "    - <input type=\"checkbox\"></input>**author**: show how many authors are on average per each article, who is the most popular author\n",
    "    - <input type=\"checkbox\"></input>**publisher**: check that there is only one publisher\n",
    "    - <input type=\"checkbox\"></input>**short_description**: check empty values, show that short_description is basically the first sentence of description (but before check this assumption). If it is true then it will be strategy for filling empty values in case description exists\n",
    "    - <input type=\"checkbox\"></input>**keywords**: how many keywords on average, what is the most popular, what is the list popular\n",
    "    - <input type=\"checkbox\"></input>**header_image**: skip\n",
    "    - <input type=\"checkbox\"></input>**raw_description**: is the same as description only with html tags. In case raw description exists but not description, raw description can be used as description but only after stripping all html tags\n",
    "    - <input type=\"checkbox\"></input>**description**: min/average/max. Show number of empty values. Check that when description is empty raw_description is not. Stretch goal: most popular topics\n",
    "    - <input type=\"checkbox\"></input>**scraped_at**: skip? maybe show the range\n"
   ]
  },
  {
   "cell_type": "markdown",
   "metadata": {},
   "source": [
    "<h1><center>Exploratory Data Analysis</center></h1>"
   ]
  },
  {
   "cell_type": "code",
   "execution_count": 1,
   "metadata": {},
   "outputs": [
    {
     "name": "stdout",
     "output_type": "stream",
     "text": [
      "/Users/andreiaksionov/Study/Machine_Learning/semantic_search/Weaviate-demo\n"
     ]
    }
   ],
   "source": [
    "cd .."
   ]
  },
  {
   "cell_type": "code",
   "execution_count": 145,
   "metadata": {},
   "outputs": [],
   "source": [
    "import os\n",
    "import sys\n",
    "\n",
    "import pandas as pd\n",
    "import spacy\n",
    "from bs4 import BeautifulSoup\n",
    "from omegaconf import OmegaConf\n",
    "\n",
    "pd.set_option(\"display.max_colwidth\", 100)\n",
    "\n",
    "# ROOT = os.path.realpath(\"../\")\n",
    "# if ROOT not in sys.path:\n",
    "#     sys.path.append(ROOT)\n",
    "\n",
    "from src import config"
   ]
  },
  {
   "cell_type": "markdown",
   "metadata": {},
   "source": [
    "# 1. Read data"
   ]
  },
  {
   "cell_type": "markdown",
   "metadata": {},
   "source": [
    "Read file from csv format and display the first article."
   ]
  },
  {
   "cell_type": "code",
   "execution_count": 146,
   "metadata": {},
   "outputs": [
    {
     "data": {
      "text/html": [
       "<div>\n",
       "<style scoped>\n",
       "    .dataframe tbody tr th:only-of-type {\n",
       "        vertical-align: middle;\n",
       "    }\n",
       "\n",
       "    .dataframe tbody tr th {\n",
       "        vertical-align: top;\n",
       "    }\n",
       "\n",
       "    .dataframe thead th {\n",
       "        text-align: right;\n",
       "    }\n",
       "</style>\n",
       "<table border=\"1\" class=\"dataframe\">\n",
       "  <thead>\n",
       "    <tr style=\"text-align: right;\">\n",
       "      <th></th>\n",
       "      <th>title</th>\n",
       "      <th>url</th>\n",
       "      <th>published_at</th>\n",
       "      <th>author</th>\n",
       "      <th>publisher</th>\n",
       "      <th>short_description</th>\n",
       "      <th>keywords</th>\n",
       "      <th>header_image</th>\n",
       "      <th>raw_description</th>\n",
       "      <th>description</th>\n",
       "      <th>scraped_at</th>\n",
       "    </tr>\n",
       "  </thead>\n",
       "  <tbody>\n",
       "    <tr>\n",
       "      <th>0</th>\n",
       "      <td>Santoli’s Wednesday market notes: Could September’s stock shakeout tee up strength for the fourt...</td>\n",
       "      <td>https://www.cnbc.com/2021/09/29/santolis-wednesday-market-notes-could-septembers-stock-shakeout-...</td>\n",
       "      <td>2021-09-29T17:09:39+0000</td>\n",
       "      <td>Michael Santoli</td>\n",
       "      <td>CNBC</td>\n",
       "      <td>This is the daily notebook of Mike Santoli, CNBC's senior markets commentator, with ideas about ...</td>\n",
       "      <td>cnbc, Premium, Articles, Investment strategy, Markets, Investing, PRO Home, CNBC Pro, Pro: Santo...</td>\n",
       "      <td>https://image.cnbcfm.com/api/v1/image/106949602-1632934577499-FINTECH_ETF_9-29.jpg?v=1632934691</td>\n",
       "      <td>&lt;div class=\"group\"&gt;&lt;p&gt;&lt;em&gt;This is the daily notebook of Mike Santoli, CNBC's senior markets comm...</td>\n",
       "      <td>This is the daily notebook of Mike Santoli, CNBC's senior markets commentator, with ideas about ...</td>\n",
       "      <td>2021-10-30 14:11:23.709372</td>\n",
       "    </tr>\n",
       "  </tbody>\n",
       "</table>\n",
       "</div>"
      ],
      "text/plain": [
       "                                                                                                 title  \\\n",
       "0  Santoli’s Wednesday market notes: Could September’s stock shakeout tee up strength for the fourt...   \n",
       "\n",
       "                                                                                                   url  \\\n",
       "0  https://www.cnbc.com/2021/09/29/santolis-wednesday-market-notes-could-septembers-stock-shakeout-...   \n",
       "\n",
       "               published_at           author publisher  \\\n",
       "0  2021-09-29T17:09:39+0000  Michael Santoli      CNBC   \n",
       "\n",
       "                                                                                     short_description  \\\n",
       "0  This is the daily notebook of Mike Santoli, CNBC's senior markets commentator, with ideas about ...   \n",
       "\n",
       "                                                                                              keywords  \\\n",
       "0  cnbc, Premium, Articles, Investment strategy, Markets, Investing, PRO Home, CNBC Pro, Pro: Santo...   \n",
       "\n",
       "                                                                                      header_image  \\\n",
       "0  https://image.cnbcfm.com/api/v1/image/106949602-1632934577499-FINTECH_ETF_9-29.jpg?v=1632934691   \n",
       "\n",
       "                                                                                       raw_description  \\\n",
       "0  <div class=\"group\"><p><em>This is the daily notebook of Mike Santoli, CNBC's senior markets comm...   \n",
       "\n",
       "                                                                                           description  \\\n",
       "0  This is the daily notebook of Mike Santoli, CNBC's senior markets commentator, with ideas about ...   \n",
       "\n",
       "                   scraped_at  \n",
       "0  2021-10-30 14:11:23.709372  "
      ]
     },
     "execution_count": 146,
     "metadata": {},
     "output_type": "execute_result"
    }
   ],
   "source": [
    "data = pd.read_csv(config.data.raw)\n",
    "data.head(1)"
   ]
  },
  {
   "cell_type": "code",
   "execution_count": null,
   "metadata": {},
   "outputs": [
    {
     "name": "stdout",
     "output_type": "stream",
     "text": [
      "(625, 11)\n"
     ]
    }
   ],
   "source": [
    "# data rows\n",
    "print(data.shape)"
   ]
  },
  {
   "cell_type": "markdown",
   "metadata": {},
   "source": [
    "Dataset contains 625 article and each article has 11 values."
   ]
  },
  {
   "cell_type": "code",
   "execution_count": 138,
   "metadata": {},
   "outputs": [
    {
     "data": {
      "text/plain": [
       "['title',\n",
       " 'url',\n",
       " 'published_at',\n",
       " 'author',\n",
       " 'publisher',\n",
       " 'short_description',\n",
       " 'keywords',\n",
       " 'header_image',\n",
       " 'raw_description',\n",
       " 'description',\n",
       " 'scraped_at']"
      ]
     },
     "execution_count": 138,
     "metadata": {},
     "output_type": "execute_result"
    }
   ],
   "source": [
    "# columns\n",
    "# sorted(data.columns)\n",
    "data.columns.tolist()"
   ]
  },
  {
   "cell_type": "markdown",
   "metadata": {},
   "source": [
    "Article values:\n",
    "1. **title**: title of article, how it's named on CNBC website\n",
    "2. **url**: url of article, should contain cnbc.com domain (as it's dataset with articles from CNBC)\n",
    "3. **published_at**: when article was published on CNBC website\n",
    "4. **author**: name of the article's author/authors\n",
    "5. **publisher**: name of the publisher, should be CNBC\n",
    "6. **short_description**: shortened version of description (article body), handy when quickly observing articles\n",
    "7. **keyword**: list of keywords, helps find articles of the same topic\n",
    "8. **header_image**: link to the image with which the article was posted\n",
    "9. **raw_description**: article's body without any post-processing. Description is the same as raw_description only without html tags\n",
    "10. **description**: article's body without html tags\n",
    "11. **scraped_at**: when article was scraped from cnbc.com"
   ]
  },
  {
   "cell_type": "markdown",
   "metadata": {},
   "source": [
    "Now it's a good idea to check how many missing values per each column we have:"
   ]
  },
  {
   "cell_type": "code",
   "execution_count": 149,
   "metadata": {},
   "outputs": [
    {
     "data": {
      "text/html": [
       "<div>\n",
       "<style scoped>\n",
       "    .dataframe tbody tr th:only-of-type {\n",
       "        vertical-align: middle;\n",
       "    }\n",
       "\n",
       "    .dataframe tbody tr th {\n",
       "        vertical-align: top;\n",
       "    }\n",
       "\n",
       "    .dataframe thead th {\n",
       "        text-align: right;\n",
       "    }\n",
       "</style>\n",
       "<table border=\"1\" class=\"dataframe\">\n",
       "  <thead>\n",
       "    <tr style=\"text-align: right;\">\n",
       "      <th></th>\n",
       "      <th>Columns</th>\n",
       "      <th>Num of NaN</th>\n",
       "      <th>%</th>\n",
       "    </tr>\n",
       "  </thead>\n",
       "  <tbody>\n",
       "    <tr>\n",
       "      <th>0</th>\n",
       "      <td>title</td>\n",
       "      <td>0</td>\n",
       "      <td>0</td>\n",
       "    </tr>\n",
       "    <tr>\n",
       "      <th>1</th>\n",
       "      <td>url</td>\n",
       "      <td>0</td>\n",
       "      <td>0</td>\n",
       "    </tr>\n",
       "    <tr>\n",
       "      <th>2</th>\n",
       "      <td>published_at</td>\n",
       "      <td>0</td>\n",
       "      <td>0</td>\n",
       "    </tr>\n",
       "    <tr>\n",
       "      <th>3</th>\n",
       "      <td>author</td>\n",
       "      <td>228</td>\n",
       "      <td>36</td>\n",
       "    </tr>\n",
       "    <tr>\n",
       "      <th>4</th>\n",
       "      <td>publisher</td>\n",
       "      <td>0</td>\n",
       "      <td>0</td>\n",
       "    </tr>\n",
       "    <tr>\n",
       "      <th>5</th>\n",
       "      <td>short_description</td>\n",
       "      <td>16</td>\n",
       "      <td>2</td>\n",
       "    </tr>\n",
       "    <tr>\n",
       "      <th>6</th>\n",
       "      <td>keywords</td>\n",
       "      <td>0</td>\n",
       "      <td>0</td>\n",
       "    </tr>\n",
       "    <tr>\n",
       "      <th>7</th>\n",
       "      <td>header_image</td>\n",
       "      <td>0</td>\n",
       "      <td>0</td>\n",
       "    </tr>\n",
       "    <tr>\n",
       "      <th>8</th>\n",
       "      <td>raw_description</td>\n",
       "      <td>31</td>\n",
       "      <td>4</td>\n",
       "    </tr>\n",
       "    <tr>\n",
       "      <th>9</th>\n",
       "      <td>description</td>\n",
       "      <td>32</td>\n",
       "      <td>5</td>\n",
       "    </tr>\n",
       "    <tr>\n",
       "      <th>10</th>\n",
       "      <td>scraped_at</td>\n",
       "      <td>0</td>\n",
       "      <td>0</td>\n",
       "    </tr>\n",
       "  </tbody>\n",
       "</table>\n",
       "</div>"
      ],
      "text/plain": [
       "              Columns  Num of NaN   %\n",
       "0               title           0   0\n",
       "1                 url           0   0\n",
       "2        published_at           0   0\n",
       "3              author         228  36\n",
       "4           publisher           0   0\n",
       "5   short_description          16   2\n",
       "6            keywords           0   0\n",
       "7        header_image           0   0\n",
       "8     raw_description          31   4\n",
       "9         description          32   5\n",
       "10         scraped_at           0   0"
      ]
     },
     "execution_count": 149,
     "metadata": {},
     "output_type": "execute_result"
    }
   ],
   "source": [
    "nan_values_df = data.isna().sum().reset_index().rename(columns={\"index\": \"Columns\", 0: \"Num of NaN\"})\n",
    "nan_values_df[\"%\"] = nan_values_df[\"Num of NaN\"].apply(lambda x: int(x / len(data) * 100))\n",
    "nan_values_df"
   ]
  },
  {
   "cell_type": "markdown",
   "metadata": {},
   "source": [
    "One third of all articles have missing author and small fraction of all variants of descriptions are missing. Interestingly enough short_description has less missing values than description or raw_description."
   ]
  },
  {
   "cell_type": "markdown",
   "metadata": {},
   "source": [
    "Now let's take a look at how many rows have only one missing value, two missing values, ... all values are missing,"
   ]
  },
  {
   "cell_type": "code",
   "execution_count": 137,
   "metadata": {},
   "outputs": [
    {
     "name": "stderr",
     "output_type": "stream",
     "text": [
      "/var/folders/z6/kw687df126v75n07j36rns0r0000gn/T/ipykernel_2522/2490627221.py:8: FutureWarning: this method is deprecated in favour of `Styler.hide(axis='index')`\n",
      "  nan_values_df.style.hide_index()\n"
     ]
    },
    {
     "data": {
      "text/html": [
       "<style type=\"text/css\">\n",
       "</style>\n",
       "<table id=\"T_d322d\">\n",
       "  <thead>\n",
       "    <tr>\n",
       "      <th id=\"T_d322d_level0_col0\" class=\"col_heading level0 col0\" >NaN per row</th>\n",
       "      <th id=\"T_d322d_level0_col1\" class=\"col_heading level0 col1\" >Number of rows</th>\n",
       "      <th id=\"T_d322d_level0_col2\" class=\"col_heading level0 col2\" >%</th>\n",
       "    </tr>\n",
       "  </thead>\n",
       "  <tbody>\n",
       "    <tr>\n",
       "      <td id=\"T_d322d_row0_col0\" class=\"data row0 col0\" >0</td>\n",
       "      <td id=\"T_d322d_row0_col1\" class=\"data row0 col1\" >376</td>\n",
       "      <td id=\"T_d322d_row0_col2\" class=\"data row0 col2\" >60</td>\n",
       "    </tr>\n",
       "    <tr>\n",
       "      <td id=\"T_d322d_row1_col0\" class=\"data row1 col0\" >1</td>\n",
       "      <td id=\"T_d322d_row1_col1\" class=\"data row1 col1\" >207</td>\n",
       "      <td id=\"T_d322d_row1_col2\" class=\"data row1 col2\" >33</td>\n",
       "    </tr>\n",
       "    <tr>\n",
       "      <td id=\"T_d322d_row2_col0\" class=\"data row2 col0\" >2</td>\n",
       "      <td id=\"T_d322d_row2_col1\" class=\"data row2 col1\" >27</td>\n",
       "      <td id=\"T_d322d_row2_col2\" class=\"data row2 col2\" >4</td>\n",
       "    </tr>\n",
       "    <tr>\n",
       "      <td id=\"T_d322d_row3_col0\" class=\"data row3 col0\" >3</td>\n",
       "      <td id=\"T_d322d_row3_col1\" class=\"data row3 col1\" >14</td>\n",
       "      <td id=\"T_d322d_row3_col2\" class=\"data row3 col2\" >2</td>\n",
       "    </tr>\n",
       "    <tr>\n",
       "      <td id=\"T_d322d_row4_col0\" class=\"data row4 col0\" >4</td>\n",
       "      <td id=\"T_d322d_row4_col1\" class=\"data row4 col1\" >1</td>\n",
       "      <td id=\"T_d322d_row4_col2\" class=\"data row4 col2\" >0</td>\n",
       "    </tr>\n",
       "    <tr>\n",
       "      <td id=\"T_d322d_row5_col0\" class=\"data row5 col0\" >5</td>\n",
       "      <td id=\"T_d322d_row5_col1\" class=\"data row5 col1\" >0</td>\n",
       "      <td id=\"T_d322d_row5_col2\" class=\"data row5 col2\" >0</td>\n",
       "    </tr>\n",
       "    <tr>\n",
       "      <td id=\"T_d322d_row6_col0\" class=\"data row6 col0\" >6</td>\n",
       "      <td id=\"T_d322d_row6_col1\" class=\"data row6 col1\" >0</td>\n",
       "      <td id=\"T_d322d_row6_col2\" class=\"data row6 col2\" >0</td>\n",
       "    </tr>\n",
       "    <tr>\n",
       "      <td id=\"T_d322d_row7_col0\" class=\"data row7 col0\" >7</td>\n",
       "      <td id=\"T_d322d_row7_col1\" class=\"data row7 col1\" >0</td>\n",
       "      <td id=\"T_d322d_row7_col2\" class=\"data row7 col2\" >0</td>\n",
       "    </tr>\n",
       "    <tr>\n",
       "      <td id=\"T_d322d_row8_col0\" class=\"data row8 col0\" >8</td>\n",
       "      <td id=\"T_d322d_row8_col1\" class=\"data row8 col1\" >0</td>\n",
       "      <td id=\"T_d322d_row8_col2\" class=\"data row8 col2\" >0</td>\n",
       "    </tr>\n",
       "    <tr>\n",
       "      <td id=\"T_d322d_row9_col0\" class=\"data row9 col0\" >9</td>\n",
       "      <td id=\"T_d322d_row9_col1\" class=\"data row9 col1\" >0</td>\n",
       "      <td id=\"T_d322d_row9_col2\" class=\"data row9 col2\" >0</td>\n",
       "    </tr>\n",
       "    <tr>\n",
       "      <td id=\"T_d322d_row10_col0\" class=\"data row10 col0\" >10</td>\n",
       "      <td id=\"T_d322d_row10_col1\" class=\"data row10 col1\" >0</td>\n",
       "      <td id=\"T_d322d_row10_col2\" class=\"data row10 col2\" >0</td>\n",
       "    </tr>\n",
       "  </tbody>\n",
       "</table>\n"
      ],
      "text/plain": [
       "<pandas.io.formats.style.Styler at 0x12b79ce20>"
      ]
     },
     "execution_count": 137,
     "metadata": {},
     "output_type": "execute_result"
    }
   ],
   "source": [
    "na_count = data.isna().sum(axis=1).tolist()\n",
    "nan_values_df = pd.DataFrame(columns=[\"NaN per row\", \"Number of rows\", \"%\"])\n",
    "\n",
    "for idx in range(data.shape[-1]):\n",
    "    nan_count = na_count.count(idx)\n",
    "    nan_values_df.loc[idx] = idx, nan_count, int(nan_count / len(data) * 100)\n",
    "\n",
    "nan_values_df.style.hide_index()"
   ]
  },
  {
   "cell_type": "markdown",
   "metadata": {},
   "source": [
    "As we can see more than half of the dataset doesn't not have any missing value, one third of articles have one missing value and no articles have all missing values."
   ]
  }
 ],
 "metadata": {
  "interpreter": {
   "hash": "cb9e94dbe4e7fc92a3d7162f471039658b9fdbbc9b042b59ec1fc38823150b03"
  },
  "kernelspec": {
   "display_name": "Python 3.9.9 64-bit ('weaviate-demo')",
   "language": "python",
   "name": "python3"
  },
  "language_info": {
   "codemirror_mode": {
    "name": "ipython",
    "version": 3
   },
   "file_extension": ".py",
   "mimetype": "text/x-python",
   "name": "python",
   "nbconvert_exporter": "python",
   "pygments_lexer": "ipython3",
   "version": "3.9.9"
  },
  "orig_nbformat": 4
 },
 "nbformat": 4,
 "nbformat_minor": 2
}
