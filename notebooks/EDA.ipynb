{
 "cells": [
  {
   "cell_type": "markdown",
   "metadata": {},
   "source": [
    "## TODO:"
   ]
  },
  {
   "cell_type": "markdown",
   "metadata": {},
   "source": [
    "Structure:\n",
    "1. Read data\n",
    "    - <input type=\"checkbox\"></input>display count of rows\n",
    "    - <input type=\"checkbox\"></input> display columns; give description for each column\n",
    "    - <input type=\"checkbox\"></input>show how many rows have 1 None value, 2 None, ..., all None values\n",
    "2. Display each column\n",
    "    - <input type=\"checkbox\"></input> **title**: min/max/average length, stretch goal: show most popular topics\n",
    "    - <input type=\"checkbox\"></input>**url**: what site is the most popular\n",
    "    - <input type=\"checkbox\"></input>**published_date**: min/max range, show distribution per year, maybe per season/year\n",
    "    - <input type=\"checkbox\"></input>**author**: show how many authors are on average per each article, who is the most popular author\n",
    "    - <input type=\"checkbox\"></input>**publisher**: check that there is only one publisher\n",
    "    - <input type=\"checkbox\"></input>**short_description**: check empty values, show that short_description is basically the first sentence of description (but before check this assumption). If it is true then it will be strategy for filling empty values in case description exists\n",
    "    - <input type=\"checkbox\"></input>**keywords**: how many keywords on average, what is the most popular, what is the list popular\n",
    "    - <input type=\"checkbox\"></input>**header_image**: check that all images are located on cnbc website\n",
    "    - <input type=\"checkbox\"></input>**raw_description**: is the same as description only with html tags. In case raw description exists but not description, raw description can be used as description but only after stripping all html tags\n",
    "    - <input type=\"checkbox\"></input>**description**: min/average/max. Show number of empty values. Check that when description is empty raw_description is not. Stretch goal: most popular topics\n",
    "    - <input type=\"checkbox\"></input>**scraped_at**: skip? maybe show the range\n"
   ]
  },
  {
   "cell_type": "markdown",
   "metadata": {},
   "source": [
    "# TODO:\n",
    "\n",
    "1. <input type=\"checkbox\"></input>Title: check encoding"
   ]
  },
  {
   "cell_type": "markdown",
   "metadata": {},
   "source": [
    "<h1><center>Exploratory Data Analysis</center></h1>"
   ]
  },
  {
   "cell_type": "code",
   "execution_count": 1,
   "metadata": {},
   "outputs": [
    {
     "name": "stdout",
     "output_type": "stream",
     "text": [
      "/Users/andreiaksionov/Study/Machine_Learning/semantic_search/Weaviate-demo\n"
     ]
    }
   ],
   "source": [
    "cd .."
   ]
  },
  {
   "cell_type": "code",
   "execution_count": 323,
   "metadata": {},
   "outputs": [],
   "source": [
    "import os\n",
    "import sys\n",
    "from collections import Counter\n",
    "\n",
    "import numpy as np\n",
    "import pandas as pd\n",
    "import seaborn as sns\n",
    "import spacy\n",
    "from bs4 import BeautifulSoup\n",
    "from matplotlib import pyplot as plt\n",
    "from omegaconf import OmegaConf\n",
    "\n",
    "pd.set_option(\"display.max_colwidth\", 100)\n",
    "\n",
    "# ROOT = os.path.realpath(\"../\")\n",
    "# if ROOT not in sys.path:\n",
    "#     sys.path.append(ROOT)\n",
    "\n",
    "from src import config\n"
   ]
  },
  {
   "cell_type": "markdown",
   "metadata": {},
   "source": [
    "# 1. Read data"
   ]
  },
  {
   "cell_type": "markdown",
   "metadata": {},
   "source": [
    "Read file from csv format and display the first article."
   ]
  },
  {
   "cell_type": "code",
   "execution_count": 3,
   "metadata": {},
   "outputs": [
    {
     "data": {
      "text/html": [
       "<div>\n",
       "<style scoped>\n",
       "    .dataframe tbody tr th:only-of-type {\n",
       "        vertical-align: middle;\n",
       "    }\n",
       "\n",
       "    .dataframe tbody tr th {\n",
       "        vertical-align: top;\n",
       "    }\n",
       "\n",
       "    .dataframe thead th {\n",
       "        text-align: right;\n",
       "    }\n",
       "</style>\n",
       "<table border=\"1\" class=\"dataframe\">\n",
       "  <thead>\n",
       "    <tr style=\"text-align: right;\">\n",
       "      <th></th>\n",
       "      <th>title</th>\n",
       "      <th>url</th>\n",
       "      <th>published_at</th>\n",
       "      <th>author</th>\n",
       "      <th>publisher</th>\n",
       "      <th>short_description</th>\n",
       "      <th>keywords</th>\n",
       "      <th>header_image</th>\n",
       "      <th>raw_description</th>\n",
       "      <th>description</th>\n",
       "      <th>scraped_at</th>\n",
       "    </tr>\n",
       "  </thead>\n",
       "  <tbody>\n",
       "    <tr>\n",
       "      <th>0</th>\n",
       "      <td>Santoli’s Wednesday market notes: Could September’s stock shakeout tee up strength for the fourt...</td>\n",
       "      <td>https://www.cnbc.com/2021/09/29/santolis-wednesday-market-notes-could-septembers-stock-shakeout-...</td>\n",
       "      <td>2021-09-29T17:09:39+0000</td>\n",
       "      <td>Michael Santoli</td>\n",
       "      <td>CNBC</td>\n",
       "      <td>This is the daily notebook of Mike Santoli, CNBC's senior markets commentator, with ideas about ...</td>\n",
       "      <td>cnbc, Premium, Articles, Investment strategy, Markets, Investing, PRO Home, CNBC Pro, Pro: Santo...</td>\n",
       "      <td>https://image.cnbcfm.com/api/v1/image/106949602-1632934577499-FINTECH_ETF_9-29.jpg?v=1632934691</td>\n",
       "      <td>&lt;div class=\"group\"&gt;&lt;p&gt;&lt;em&gt;This is the daily notebook of Mike Santoli, CNBC's senior markets comm...</td>\n",
       "      <td>This is the daily notebook of Mike Santoli, CNBC's senior markets commentator, with ideas about ...</td>\n",
       "      <td>2021-10-30 14:11:23.709372</td>\n",
       "    </tr>\n",
       "  </tbody>\n",
       "</table>\n",
       "</div>"
      ],
      "text/plain": [
       "                                                                                                 title  \\\n",
       "0  Santoli’s Wednesday market notes: Could September’s stock shakeout tee up strength for the fourt...   \n",
       "\n",
       "                                                                                                   url  \\\n",
       "0  https://www.cnbc.com/2021/09/29/santolis-wednesday-market-notes-could-septembers-stock-shakeout-...   \n",
       "\n",
       "               published_at           author publisher  \\\n",
       "0  2021-09-29T17:09:39+0000  Michael Santoli      CNBC   \n",
       "\n",
       "                                                                                     short_description  \\\n",
       "0  This is the daily notebook of Mike Santoli, CNBC's senior markets commentator, with ideas about ...   \n",
       "\n",
       "                                                                                              keywords  \\\n",
       "0  cnbc, Premium, Articles, Investment strategy, Markets, Investing, PRO Home, CNBC Pro, Pro: Santo...   \n",
       "\n",
       "                                                                                      header_image  \\\n",
       "0  https://image.cnbcfm.com/api/v1/image/106949602-1632934577499-FINTECH_ETF_9-29.jpg?v=1632934691   \n",
       "\n",
       "                                                                                       raw_description  \\\n",
       "0  <div class=\"group\"><p><em>This is the daily notebook of Mike Santoli, CNBC's senior markets comm...   \n",
       "\n",
       "                                                                                           description  \\\n",
       "0  This is the daily notebook of Mike Santoli, CNBC's senior markets commentator, with ideas about ...   \n",
       "\n",
       "                   scraped_at  \n",
       "0  2021-10-30 14:11:23.709372  "
      ]
     },
     "execution_count": 3,
     "metadata": {},
     "output_type": "execute_result"
    }
   ],
   "source": [
    "data = pd.read_csv(config.data.raw)\n",
    "data.head(1)"
   ]
  },
  {
   "cell_type": "code",
   "execution_count": 4,
   "metadata": {},
   "outputs": [
    {
     "name": "stdout",
     "output_type": "stream",
     "text": [
      "(625, 11)\n"
     ]
    }
   ],
   "source": [
    "# data rows\n",
    "print(data.shape)"
   ]
  },
  {
   "cell_type": "markdown",
   "metadata": {},
   "source": [
    "Dataset contains 625 article and each article has 11 values."
   ]
  },
  {
   "cell_type": "code",
   "execution_count": 5,
   "metadata": {},
   "outputs": [
    {
     "data": {
      "text/plain": [
       "['title',\n",
       " 'url',\n",
       " 'published_at',\n",
       " 'author',\n",
       " 'publisher',\n",
       " 'short_description',\n",
       " 'keywords',\n",
       " 'header_image',\n",
       " 'raw_description',\n",
       " 'description',\n",
       " 'scraped_at']"
      ]
     },
     "execution_count": 5,
     "metadata": {},
     "output_type": "execute_result"
    }
   ],
   "source": [
    "# columns\n",
    "# sorted(data.columns)\n",
    "data.columns.tolist()"
   ]
  },
  {
   "cell_type": "markdown",
   "metadata": {},
   "source": [
    "Article values:\n",
    "1. **title**: title of article, how it's named on CNBC website\n",
    "2. **url**: url of article, should contain cnbc.com domain (as it's dataset with articles from CNBC)\n",
    "3. **published_at**: when article was published on CNBC website\n",
    "4. **author**: name of the article's author/authors\n",
    "5. **publisher**: name of the publisher, should be CNBC\n",
    "6. **short_description**: shortened version of description (article body), handy when quickly observing articles\n",
    "7. **keyword**: list of keywords, helps find articles of the same topic\n",
    "8. **header_image**: link to the image with which the article was posted\n",
    "9. **raw_description**: article's body without any post-processing. Description is the same as raw_description only without html tags\n",
    "10. **description**: article's body without html tags\n",
    "11. **scraped_at**: when article was scraped from cnbc.com"
   ]
  },
  {
   "cell_type": "markdown",
   "metadata": {},
   "source": [
    "Now it's a good idea to check how many missing values per each column we have:"
   ]
  },
  {
   "cell_type": "code",
   "execution_count": 6,
   "metadata": {},
   "outputs": [
    {
     "data": {
      "text/html": [
       "<div>\n",
       "<style scoped>\n",
       "    .dataframe tbody tr th:only-of-type {\n",
       "        vertical-align: middle;\n",
       "    }\n",
       "\n",
       "    .dataframe tbody tr th {\n",
       "        vertical-align: top;\n",
       "    }\n",
       "\n",
       "    .dataframe thead th {\n",
       "        text-align: right;\n",
       "    }\n",
       "</style>\n",
       "<table border=\"1\" class=\"dataframe\">\n",
       "  <thead>\n",
       "    <tr style=\"text-align: right;\">\n",
       "      <th></th>\n",
       "      <th>Columns</th>\n",
       "      <th>Num of NaN</th>\n",
       "      <th>%</th>\n",
       "    </tr>\n",
       "  </thead>\n",
       "  <tbody>\n",
       "    <tr>\n",
       "      <th>0</th>\n",
       "      <td>title</td>\n",
       "      <td>0</td>\n",
       "      <td>0</td>\n",
       "    </tr>\n",
       "    <tr>\n",
       "      <th>1</th>\n",
       "      <td>url</td>\n",
       "      <td>0</td>\n",
       "      <td>0</td>\n",
       "    </tr>\n",
       "    <tr>\n",
       "      <th>2</th>\n",
       "      <td>published_at</td>\n",
       "      <td>0</td>\n",
       "      <td>0</td>\n",
       "    </tr>\n",
       "    <tr>\n",
       "      <th>3</th>\n",
       "      <td>author</td>\n",
       "      <td>228</td>\n",
       "      <td>36</td>\n",
       "    </tr>\n",
       "    <tr>\n",
       "      <th>4</th>\n",
       "      <td>publisher</td>\n",
       "      <td>0</td>\n",
       "      <td>0</td>\n",
       "    </tr>\n",
       "    <tr>\n",
       "      <th>5</th>\n",
       "      <td>short_description</td>\n",
       "      <td>16</td>\n",
       "      <td>2</td>\n",
       "    </tr>\n",
       "    <tr>\n",
       "      <th>6</th>\n",
       "      <td>keywords</td>\n",
       "      <td>0</td>\n",
       "      <td>0</td>\n",
       "    </tr>\n",
       "    <tr>\n",
       "      <th>7</th>\n",
       "      <td>header_image</td>\n",
       "      <td>0</td>\n",
       "      <td>0</td>\n",
       "    </tr>\n",
       "    <tr>\n",
       "      <th>8</th>\n",
       "      <td>raw_description</td>\n",
       "      <td>31</td>\n",
       "      <td>4</td>\n",
       "    </tr>\n",
       "    <tr>\n",
       "      <th>9</th>\n",
       "      <td>description</td>\n",
       "      <td>32</td>\n",
       "      <td>5</td>\n",
       "    </tr>\n",
       "    <tr>\n",
       "      <th>10</th>\n",
       "      <td>scraped_at</td>\n",
       "      <td>0</td>\n",
       "      <td>0</td>\n",
       "    </tr>\n",
       "  </tbody>\n",
       "</table>\n",
       "</div>"
      ],
      "text/plain": [
       "              Columns  Num of NaN   %\n",
       "0               title           0   0\n",
       "1                 url           0   0\n",
       "2        published_at           0   0\n",
       "3              author         228  36\n",
       "4           publisher           0   0\n",
       "5   short_description          16   2\n",
       "6            keywords           0   0\n",
       "7        header_image           0   0\n",
       "8     raw_description          31   4\n",
       "9         description          32   5\n",
       "10         scraped_at           0   0"
      ]
     },
     "execution_count": 6,
     "metadata": {},
     "output_type": "execute_result"
    }
   ],
   "source": [
    "nan_values_df = data.isna().sum().reset_index().rename(columns={\"index\": \"Columns\", 0: \"Num of NaN\"})\n",
    "nan_values_df[\"%\"] = nan_values_df[\"Num of NaN\"].apply(lambda x: int(x / len(data) * 100))\n",
    "nan_values_df"
   ]
  },
  {
   "cell_type": "markdown",
   "metadata": {},
   "source": [
    "One third of all articles have missing author and small fraction of all variants of descriptions are missing. Interestingly enough short_description has less missing values than description or raw_description."
   ]
  },
  {
   "cell_type": "markdown",
   "metadata": {},
   "source": [
    "Now let's take a look at how many rows have only one missing value, two missing values, ... all values are missing,"
   ]
  },
  {
   "cell_type": "code",
   "execution_count": 7,
   "metadata": {},
   "outputs": [
    {
     "name": "stderr",
     "output_type": "stream",
     "text": [
      "/var/folders/z6/kw687df126v75n07j36rns0r0000gn/T/ipykernel_51241/2490627221.py:8: FutureWarning: this method is deprecated in favour of `Styler.hide(axis='index')`\n",
      "  nan_values_df.style.hide_index()\n"
     ]
    },
    {
     "data": {
      "text/html": [
       "<style type=\"text/css\">\n",
       "</style>\n",
       "<table id=\"T_895fb\">\n",
       "  <thead>\n",
       "    <tr>\n",
       "      <th id=\"T_895fb_level0_col0\" class=\"col_heading level0 col0\" >NaN per row</th>\n",
       "      <th id=\"T_895fb_level0_col1\" class=\"col_heading level0 col1\" >Number of rows</th>\n",
       "      <th id=\"T_895fb_level0_col2\" class=\"col_heading level0 col2\" >%</th>\n",
       "    </tr>\n",
       "  </thead>\n",
       "  <tbody>\n",
       "    <tr>\n",
       "      <td id=\"T_895fb_row0_col0\" class=\"data row0 col0\" >0</td>\n",
       "      <td id=\"T_895fb_row0_col1\" class=\"data row0 col1\" >376</td>\n",
       "      <td id=\"T_895fb_row0_col2\" class=\"data row0 col2\" >60</td>\n",
       "    </tr>\n",
       "    <tr>\n",
       "      <td id=\"T_895fb_row1_col0\" class=\"data row1 col0\" >1</td>\n",
       "      <td id=\"T_895fb_row1_col1\" class=\"data row1 col1\" >207</td>\n",
       "      <td id=\"T_895fb_row1_col2\" class=\"data row1 col2\" >33</td>\n",
       "    </tr>\n",
       "    <tr>\n",
       "      <td id=\"T_895fb_row2_col0\" class=\"data row2 col0\" >2</td>\n",
       "      <td id=\"T_895fb_row2_col1\" class=\"data row2 col1\" >27</td>\n",
       "      <td id=\"T_895fb_row2_col2\" class=\"data row2 col2\" >4</td>\n",
       "    </tr>\n",
       "    <tr>\n",
       "      <td id=\"T_895fb_row3_col0\" class=\"data row3 col0\" >3</td>\n",
       "      <td id=\"T_895fb_row3_col1\" class=\"data row3 col1\" >14</td>\n",
       "      <td id=\"T_895fb_row3_col2\" class=\"data row3 col2\" >2</td>\n",
       "    </tr>\n",
       "    <tr>\n",
       "      <td id=\"T_895fb_row4_col0\" class=\"data row4 col0\" >4</td>\n",
       "      <td id=\"T_895fb_row4_col1\" class=\"data row4 col1\" >1</td>\n",
       "      <td id=\"T_895fb_row4_col2\" class=\"data row4 col2\" >0</td>\n",
       "    </tr>\n",
       "    <tr>\n",
       "      <td id=\"T_895fb_row5_col0\" class=\"data row5 col0\" >5</td>\n",
       "      <td id=\"T_895fb_row5_col1\" class=\"data row5 col1\" >0</td>\n",
       "      <td id=\"T_895fb_row5_col2\" class=\"data row5 col2\" >0</td>\n",
       "    </tr>\n",
       "    <tr>\n",
       "      <td id=\"T_895fb_row6_col0\" class=\"data row6 col0\" >6</td>\n",
       "      <td id=\"T_895fb_row6_col1\" class=\"data row6 col1\" >0</td>\n",
       "      <td id=\"T_895fb_row6_col2\" class=\"data row6 col2\" >0</td>\n",
       "    </tr>\n",
       "    <tr>\n",
       "      <td id=\"T_895fb_row7_col0\" class=\"data row7 col0\" >7</td>\n",
       "      <td id=\"T_895fb_row7_col1\" class=\"data row7 col1\" >0</td>\n",
       "      <td id=\"T_895fb_row7_col2\" class=\"data row7 col2\" >0</td>\n",
       "    </tr>\n",
       "    <tr>\n",
       "      <td id=\"T_895fb_row8_col0\" class=\"data row8 col0\" >8</td>\n",
       "      <td id=\"T_895fb_row8_col1\" class=\"data row8 col1\" >0</td>\n",
       "      <td id=\"T_895fb_row8_col2\" class=\"data row8 col2\" >0</td>\n",
       "    </tr>\n",
       "    <tr>\n",
       "      <td id=\"T_895fb_row9_col0\" class=\"data row9 col0\" >9</td>\n",
       "      <td id=\"T_895fb_row9_col1\" class=\"data row9 col1\" >0</td>\n",
       "      <td id=\"T_895fb_row9_col2\" class=\"data row9 col2\" >0</td>\n",
       "    </tr>\n",
       "    <tr>\n",
       "      <td id=\"T_895fb_row10_col0\" class=\"data row10 col0\" >10</td>\n",
       "      <td id=\"T_895fb_row10_col1\" class=\"data row10 col1\" >0</td>\n",
       "      <td id=\"T_895fb_row10_col2\" class=\"data row10 col2\" >0</td>\n",
       "    </tr>\n",
       "  </tbody>\n",
       "</table>\n"
      ],
      "text/plain": [
       "<pandas.io.formats.style.Styler at 0x105fba280>"
      ]
     },
     "execution_count": 7,
     "metadata": {},
     "output_type": "execute_result"
    }
   ],
   "source": [
    "na_count = data.isna().sum(axis=1).tolist()\n",
    "nan_values_df = pd.DataFrame(columns=[\"NaN per row\", \"Number of rows\", \"%\"])\n",
    "\n",
    "for idx in range(data.shape[-1]):\n",
    "    nan_count = na_count.count(idx)\n",
    "    nan_values_df.loc[idx] = idx, nan_count, int(nan_count / len(data) * 100)\n",
    "\n",
    "nan_values_df.style.hide_index()"
   ]
  },
  {
   "cell_type": "markdown",
   "metadata": {},
   "source": [
    "As we can see more than half of the dataset doesn't not have any missing value, one third of articles have one missing value and no articles have all missing values."
   ]
  },
  {
   "cell_type": "markdown",
   "metadata": {},
   "source": [
    "# 2. Describing each column"
   ]
  },
  {
   "cell_type": "markdown",
   "metadata": {},
   "source": [
    "## 2.1. Title"
   ]
  },
  {
   "cell_type": "code",
   "execution_count": 9,
   "metadata": {},
   "outputs": [
    {
     "data": {
      "text/plain": [
       "0    Santoli’s Wednesday market notes: Could September’s stock shakeout tee up strength for the fourt...\n",
       "1                                                         My take on the early Brexit winners and losers\n",
       "2                                                   Europe&#039;s recovery depends on Renzi&#039;s Italy\n",
       "3                                                  US Moves Closer to Becoming A Major Shareholder In GM\n",
       "Name: title, dtype: object"
      ]
     },
     "execution_count": 9,
     "metadata": {},
     "output_type": "execute_result"
    }
   ],
   "source": [
    "data.loc[:3, \"title\"]"
   ]
  },
  {
   "cell_type": "markdown",
   "metadata": {},
   "source": [
    "Title is a text."
   ]
  },
  {
   "cell_type": "code",
   "execution_count": 8,
   "metadata": {},
   "outputs": [
    {
     "data": {
      "text/plain": [
       "0"
      ]
     },
     "execution_count": 8,
     "metadata": {},
     "output_type": "execute_result"
    }
   ],
   "source": [
    "data[\"title\"].isna().sum()"
   ]
  },
  {
   "cell_type": "markdown",
   "metadata": {},
   "source": [
    "There are no missing values for \"title\" column."
   ]
  },
  {
   "cell_type": "code",
   "execution_count": 209,
   "metadata": {},
   "outputs": [
    {
     "data": {
      "image/png": "[encoded data removed]",
      "text/plain": [
       "<Figure size 2160x720 with 2 Axes>"
      ]
     },
     "metadata": {
      "needs_background": "light"
     },
     "output_type": "display_data"
    }
   ],
   "source": [
    "def show_str_statistics(data: pd.DataFrame, column: str) -> None:\n",
    "\n",
    "    chars_num = data[column].str.len()\n",
    "    words_num = data[column].apply(lambda x: len(x.split()))\n",
    "\n",
    "    fig, axes = plt.subplots(nrows=1, ncols=2, figsize=(30, 10), sharey=True)\n",
    "    fig.suptitle(f\"{column.title()} statistics\")\n",
    "    axes = axes.flatten()\n",
    "\n",
    "    for counts, counts_name, ax in zip([chars_num, words_num], [\"characters\", \"words\"], axes):\n",
    "\n",
    "        title = f\"{counts_name.title()}\\n\" \\\n",
    "                f\"min: {counts.min()} | \" \\\n",
    "                f\"avg: {counts.mean():.0f} | \" \\\n",
    "                f\"max: {counts.max()}\"\n",
    "        sns.histplot(ax=ax, x=counts)\n",
    "        ax.set(\n",
    "            title=title,\n",
    "            xlabel=f\"Number of {counts_name}\",\n",
    "            ylabel=\"Number of titles\",\n",
    "        )\n",
    "\n",
    "show_str_statistics(data, \"title\")\n"
   ]
  },
  {
   "cell_type": "markdown",
   "metadata": {},
   "source": [
    "As we can see titles are quite short (both in characters and words metrics)."
   ]
  },
  {
   "cell_type": "markdown",
   "metadata": {},
   "source": [
    "## 2.2. Url"
   ]
  },
  {
   "cell_type": "code",
   "execution_count": 63,
   "metadata": {},
   "outputs": [
    {
     "data": {
      "text/plain": [
       "0    https://www.cnbc.com/2021/09/29/santolis-wednesday-market-notes-could-septembers-stock-shakeout-...\n",
       "1    https://www.cnbc.com/2016/06/24/ian-bremmers-take-on-the-early-brexit-winners-and-losers-comment...\n",
       "2                https://www.cnbc.com/2014/03/25/europes-recovery-depends-on-renzis-italycommentary.html\n",
       "3             https://www.cnbc.com/2009/04/22/us-moves-closer-to-becoming-a-major-shareholder-in-gm.html\n",
       "Name: url, dtype: object"
      ]
     },
     "execution_count": 63,
     "metadata": {},
     "output_type": "execute_result"
    }
   ],
   "source": [
    "data.loc[:3, \"url\"]"
   ]
  },
  {
   "cell_type": "markdown",
   "metadata": {},
   "source": [
    "Url is a string."
   ]
  },
  {
   "cell_type": "code",
   "execution_count": 66,
   "metadata": {},
   "outputs": [
    {
     "data": {
      "text/plain": [
       "True"
      ]
     },
     "execution_count": 66,
     "metadata": {},
     "output_type": "execute_result"
    }
   ],
   "source": [
    "data[\"url\"].str.startswith(\"https://www.cnbc.com\").all()"
   ]
  },
  {
   "cell_type": "markdown",
   "metadata": {},
   "source": [
    "All urls are from \"cnbc.com\" which does make sense since it's a cnbc dataset :)"
   ]
  },
  {
   "cell_type": "markdown",
   "metadata": {},
   "source": [
    "## 2.3. Published_at"
   ]
  },
  {
   "cell_type": "code",
   "execution_count": 67,
   "metadata": {},
   "outputs": [
    {
     "data": {
      "text/plain": [
       "0    2021-09-29T17:09:39+0000\n",
       "1    2016-06-24T13:50:48-0400\n",
       "2    2014-03-25T13:29:45-0400\n",
       "3    2009-04-22T19:49:03+0000\n",
       "Name: published_at, dtype: object"
      ]
     },
     "execution_count": 67,
     "metadata": {},
     "output_type": "execute_result"
    }
   ],
   "source": [
    "data.loc[:3, \"published_at\"]"
   ]
  },
  {
   "cell_type": "markdown",
   "metadata": {},
   "source": [
    "\"Published_at\" column contains dates in datatime format. \n",
    "\n",
    "Weaviate expects date format in [RFC 3339](https://weaviate.io/developers/weaviate/current/data-schema/datatypes.html#datatype-date) format. Dates in \"published_at\" column are in slightly different format, timezone offset should ends with time separated by colon. For example instead of current form:"
   ]
  },
  {
   "cell_type": "code",
   "execution_count": 69,
   "metadata": {},
   "outputs": [
    {
     "data": {
      "text/plain": [
       "'2021-09-29T17:09:39+0000'"
      ]
     },
     "execution_count": 69,
     "metadata": {},
     "output_type": "execute_result"
    }
   ],
   "source": [
    "data.loc[0, \"published_at\"]"
   ]
  },
  {
   "cell_type": "markdown",
   "metadata": {},
   "source": [
    "... it should be in form:"
   ]
  },
  {
   "cell_type": "code",
   "execution_count": 81,
   "metadata": {},
   "outputs": [
    {
     "data": {
      "text/plain": [
       "0    2021-09-29T17:09:39+00:00\n",
       "Name: published_at, dtype: object"
      ]
     },
     "execution_count": 81,
     "metadata": {},
     "output_type": "execute_result"
    }
   ],
   "source": [
    "data.loc[:0, \"published_at\"].apply(lambda x: pd.to_datetime(x).isoformat())"
   ]
  },
  {
   "cell_type": "markdown",
   "metadata": {},
   "source": [
    "Otherwise data loading procedure (into Weaviate) might fail."
   ]
  },
  {
   "cell_type": "markdown",
   "metadata": {},
   "source": [
    "### 2.3.1. Dates statistics"
   ]
  },
  {
   "cell_type": "code",
   "execution_count": 187,
   "metadata": {},
   "outputs": [
    {
     "data": {
      "text/html": [
       "<div>\n",
       "<style scoped>\n",
       "    .dataframe tbody tr th:only-of-type {\n",
       "        vertical-align: middle;\n",
       "    }\n",
       "\n",
       "    .dataframe tbody tr th {\n",
       "        vertical-align: top;\n",
       "    }\n",
       "\n",
       "    .dataframe thead th {\n",
       "        text-align: right;\n",
       "    }\n",
       "</style>\n",
       "<table border=\"1\" class=\"dataframe\">\n",
       "  <thead>\n",
       "    <tr style=\"text-align: right;\">\n",
       "      <th></th>\n",
       "      <th>datetime</th>\n",
       "      <th>year</th>\n",
       "      <th>month</th>\n",
       "      <th>weekday</th>\n",
       "    </tr>\n",
       "  </thead>\n",
       "  <tbody>\n",
       "    <tr>\n",
       "      <th>0</th>\n",
       "      <td>2021-09-29 17:09:39+00:00</td>\n",
       "      <td>2021</td>\n",
       "      <td>9</td>\n",
       "      <td>2</td>\n",
       "    </tr>\n",
       "    <tr>\n",
       "      <th>1</th>\n",
       "      <td>2016-06-24 17:50:48+00:00</td>\n",
       "      <td>2016</td>\n",
       "      <td>6</td>\n",
       "      <td>4</td>\n",
       "    </tr>\n",
       "    <tr>\n",
       "      <th>2</th>\n",
       "      <td>2014-03-25 17:29:45+00:00</td>\n",
       "      <td>2014</td>\n",
       "      <td>3</td>\n",
       "      <td>1</td>\n",
       "    </tr>\n",
       "  </tbody>\n",
       "</table>\n",
       "</div>"
      ],
      "text/plain": [
       "                   datetime  year  month  weekday\n",
       "0 2021-09-29 17:09:39+00:00  2021      9        2\n",
       "1 2016-06-24 17:50:48+00:00  2016      6        4\n",
       "2 2014-03-25 17:29:45+00:00  2014      3        1"
      ]
     },
     "execution_count": 187,
     "metadata": {},
     "output_type": "execute_result"
    }
   ],
   "source": [
    "published_dates = pd.to_datetime(data[\"published_at\"], utc=True).to_frame(name=\"datetime\")\n",
    "published_dates[\"year\"] = published_dates[\"datetime\"].dt.year\n",
    "published_dates[\"month\"] = published_dates[\"datetime\"].dt.month\n",
    "published_dates[\"weekday\"] = published_dates[\"datetime\"].dt.weekday\n",
    "\n",
    "published_dates.iloc[:3]"
   ]
  },
  {
   "cell_type": "code",
   "execution_count": 193,
   "metadata": {},
   "outputs": [
    {
     "data": {
      "image/png": "[encoded data removed]",
      "text/plain": [
       "<Figure size 2160x1080 with 3 Axes>"
      ]
     },
     "metadata": {
      "needs_background": "light"
     },
     "output_type": "display_data"
    }
   ],
   "source": [
    "fig, axes = plt.subplots(nrows=1, ncols=3, figsize=(30, 15), sharey=True)\n",
    "fig.suptitle(\"Dates distribution\")\n",
    "\n",
    "for idx, column_name in enumerate([\"year\", \"month\", \"weekday\"]):\n",
    "    sns.histplot(ax=axes[idx], x=published_dates[column_name])\n",
    "    axes[idx].set(title=f\"Distribution of articles per {column_name}\", ylabel=\"Number of articles\")\n",
    "\n",
    "plt.show()"
   ]
  },
  {
   "cell_type": "markdown",
   "metadata": {},
   "source": [
    "Observations:\n",
    "- **year**: number of articles published per year reached it's peak in 2013\n",
    "- **month**: more or less even distribution, but in november-december more articles are published (perhaps right before end of the year markets are the most active - more articles to write about)\n",
    "- **weekday**: significant drop on weekend (which is expected)"
   ]
  },
  {
   "cell_type": "markdown",
   "metadata": {},
   "source": [
    "## 2.4. Author"
   ]
  },
  {
   "cell_type": "code",
   "execution_count": 213,
   "metadata": {},
   "outputs": [
    {
     "data": {
      "text/plain": [
       "14                         NaN\n",
       "15                     Tae Kim\n",
       "16    Dawn Kopecki,Rich Mendez\n",
       "17                         NaN\n",
       "Name: author, dtype: object"
      ]
     },
     "execution_count": 213,
     "metadata": {},
     "output_type": "execute_result"
    }
   ],
   "source": [
    "data.loc[14:17, \"author\"]"
   ]
  },
  {
   "cell_type": "markdown",
   "metadata": {},
   "source": [
    "Author might by either string containing author name (or multiple with comma separator) or NaN value if author is unknown. As discovered in chapter 1 around 36% of articles have missing author name."
   ]
  },
  {
   "cell_type": "markdown",
   "metadata": {},
   "source": [
    "<div class=\"alert alert-block alert-info\"><b>Preprocessing idea</b>: in case of missing value replace it with \"Unknown\" token.</div>\n"
   ]
  },
  {
   "cell_type": "code",
   "execution_count": 241,
   "metadata": {},
   "outputs": [
    {
     "data": {
      "text/html": [
       "<style type=\"text/css\">\n",
       "#T_15e8c_row0_col0 {\n",
       "  width: 10em;\n",
       "  background: linear-gradient(90deg, #d65f5f 100.0%, transparent 100.0%);\n",
       "}\n",
       "#T_15e8c_row1_col0 {\n",
       "  width: 10em;\n",
       "  background: linear-gradient(90deg, #d65f5f 4.5%, transparent 4.5%);\n",
       "}\n",
       "#T_15e8c_row2_col0 {\n",
       "  width: 10em;\n",
       "  background: linear-gradient(90deg, #d65f5f 0.3%, transparent 0.3%);\n",
       "}\n",
       "</style>\n",
       "<table id=\"T_15e8c\">\n",
       "  <thead>\n",
       "    <tr>\n",
       "      <th class=\"blank level0\" >&nbsp;</th>\n",
       "      <th id=\"T_15e8c_level0_col0\" class=\"col_heading level0 col0\" >author</th>\n",
       "    </tr>\n",
       "  </thead>\n",
       "  <tbody>\n",
       "    <tr>\n",
       "      <th id=\"T_15e8c_level0_row0\" class=\"row_heading level0 row0\" >1</th>\n",
       "      <td id=\"T_15e8c_row0_col0\" class=\"data row0 col0\" >379</td>\n",
       "    </tr>\n",
       "    <tr>\n",
       "      <th id=\"T_15e8c_level0_row1\" class=\"row_heading level0 row1\" >2</th>\n",
       "      <td id=\"T_15e8c_row1_col0\" class=\"data row1 col0\" >17</td>\n",
       "    </tr>\n",
       "    <tr>\n",
       "      <th id=\"T_15e8c_level0_row2\" class=\"row_heading level0 row2\" >3</th>\n",
       "      <td id=\"T_15e8c_row2_col0\" class=\"data row2 col0\" >1</td>\n",
       "    </tr>\n",
       "  </tbody>\n",
       "</table>\n"
      ],
      "text/plain": [
       "<pandas.io.formats.style.Styler at 0x13d771f40>"
      ]
     },
     "execution_count": 241,
     "metadata": {},
     "output_type": "execute_result"
    }
   ],
   "source": [
    "keywords_count = data[\"author\"].str.count(\",\")\n",
    "keywords_count = keywords_count.value_counts()\n",
    "keywords_count.index = keywords_count.index.map(int) + 1\n",
    "keywords_count.to_frame().style.bar()"
   ]
  },
  {
   "cell_type": "markdown",
   "metadata": {},
   "source": [
    "As we can see the majority of all articles has only one author, 17 articles - 2 authors and only one article has 3 authors."
   ]
  },
  {
   "cell_type": "code",
   "execution_count": 242,
   "metadata": {},
   "outputs": [
    {
     "data": {
      "text/plain": [
       "count            397\n",
       "unique           201\n",
       "top       Lee Brodie\n",
       "freq              24\n",
       "Name: author, dtype: object"
      ]
     },
     "execution_count": 242,
     "metadata": {},
     "output_type": "execute_result"
    }
   ],
   "source": [
    "data[\"author\"].describe()"
   ]
  },
  {
   "cell_type": "markdown",
   "metadata": {},
   "source": [
    "The most popular author is \"Lee Brodie\" which wrote 24 articles."
   ]
  },
  {
   "cell_type": "markdown",
   "metadata": {},
   "source": [
    "## 2.5. Publisher"
   ]
  },
  {
   "cell_type": "code",
   "execution_count": 244,
   "metadata": {},
   "outputs": [
    {
     "data": {
      "text/plain": [
       "0    CNBC\n",
       "1    CNBC\n",
       "2    CNBC\n",
       "3    CNBC\n",
       "Name: publisher, dtype: object"
      ]
     },
     "execution_count": 244,
     "metadata": {},
     "output_type": "execute_result"
    }
   ],
   "source": [
    "data.loc[:3, \"publisher\"]"
   ]
  },
  {
   "cell_type": "code",
   "execution_count": 245,
   "metadata": {},
   "outputs": [
    {
     "data": {
      "text/plain": [
       "count      625\n",
       "unique       1\n",
       "top       CNBC\n",
       "freq       625\n",
       "Name: publisher, dtype: object"
      ]
     },
     "execution_count": 245,
     "metadata": {},
     "output_type": "execute_result"
    }
   ],
   "source": [
    "data[\"publisher\"].describe()"
   ]
  },
  {
   "cell_type": "markdown",
   "metadata": {},
   "source": [
    "As expected there is only one publisher - CNBC"
   ]
  },
  {
   "cell_type": "markdown",
   "metadata": {},
   "source": [
    "## 2.6. Short_description"
   ]
  },
  {
   "cell_type": "markdown",
   "metadata": {},
   "source": [
    "## 2.7. Keywords"
   ]
  },
  {
   "cell_type": "code",
   "execution_count": 246,
   "metadata": {},
   "outputs": [
    {
     "data": {
      "text/plain": [
       "0    cnbc, Premium, Articles, Investment strategy, Markets, Investing, PRO Home, CNBC Pro, Pro: Santo...\n",
       "1    Articles, Politics, Europe News, European Central Bank, S&P 500 Index, U.S. Markets, Commentary,...\n",
       "2    Articles, Business News, Economy, Europe Economy, Employment, Commentary, Politics, source:tagna...\n",
       "3    cnbc, Articles, General Motors Co, Business News, Transportation, Autos, source:tagname:CNBC US ...\n",
       "Name: keywords, dtype: object"
      ]
     },
     "execution_count": 246,
     "metadata": {},
     "output_type": "execute_result"
    }
   ],
   "source": [
    "data.loc[:3, \"keywords\"]"
   ]
  },
  {
   "cell_type": "markdown",
   "metadata": {},
   "source": [
    "Keywords is a string with list of keywords and comma separator."
   ]
  },
  {
   "cell_type": "code",
   "execution_count": 248,
   "metadata": {},
   "outputs": [
    {
     "data": {
      "text/plain": [
       "0"
      ]
     },
     "execution_count": 248,
     "metadata": {},
     "output_type": "execute_result"
    }
   ],
   "source": [
    "data[\"keywords\"].isna().sum(j)"
   ]
  },
  {
   "cell_type": "markdown",
   "metadata": {},
   "source": [
    "There are no articles without keywords."
   ]
  },
  {
   "cell_type": "code",
   "execution_count": 314,
   "metadata": {},
   "outputs": [
    {
     "name": "stdout",
     "output_type": "stream",
     "text": [
      "Min number of keywords: 3\n",
      "Avg number of keywords: 21\n",
      "Max number of keywords: 60\n"
     ]
    },
    {
     "data": {
      "text/html": [
       "<style type=\"text/css\">\n",
       "#T_97536_row0_col0 {\n",
       "  width: 10em;\n",
       "  background: linear-gradient(90deg, #d65f5f 100.0%, transparent 100.0%);\n",
       "}\n",
       "#T_97536_row1_col0 {\n",
       "  width: 10em;\n",
       "  background: linear-gradient(90deg, #d65f5f 66.2%, transparent 66.2%);\n",
       "}\n",
       "#T_97536_row2_col0, #T_97536_row3_col0 {\n",
       "  width: 10em;\n",
       "  background: linear-gradient(90deg, #d65f5f 64.9%, transparent 64.9%);\n",
       "}\n",
       "#T_97536_row4_col0 {\n",
       "  width: 10em;\n",
       "  background: linear-gradient(90deg, #d65f5f 63.5%, transparent 63.5%);\n",
       "}\n",
       "#T_97536_row5_col0 {\n",
       "  width: 10em;\n",
       "  background: linear-gradient(90deg, #d65f5f 62.2%, transparent 62.2%);\n",
       "}\n",
       "#T_97536_row6_col0 {\n",
       "  width: 10em;\n",
       "  background: linear-gradient(90deg, #d65f5f 54.1%, transparent 54.1%);\n",
       "}\n",
       "#T_97536_row7_col0 {\n",
       "  width: 10em;\n",
       "  background: linear-gradient(90deg, #d65f5f 50.0%, transparent 50.0%);\n",
       "}\n",
       "#T_97536_row8_col0 {\n",
       "  width: 10em;\n",
       "  background: linear-gradient(90deg, #d65f5f 48.6%, transparent 48.6%);\n",
       "}\n",
       "#T_97536_row9_col0 {\n",
       "  width: 10em;\n",
       "  background: linear-gradient(90deg, #d65f5f 37.8%, transparent 37.8%);\n",
       "}\n",
       "</style>\n",
       "<table id=\"T_97536\">\n",
       "  <thead>\n",
       "    <tr>\n",
       "      <th class=\"blank level0\" >&nbsp;</th>\n",
       "      <th id=\"T_97536_level0_col0\" class=\"col_heading level0 col0\" >keywords</th>\n",
       "    </tr>\n",
       "  </thead>\n",
       "  <tbody>\n",
       "    <tr>\n",
       "      <th id=\"T_97536_level0_row0\" class=\"row_heading level0 row0\" >7</th>\n",
       "      <td id=\"T_97536_row0_col0\" class=\"data row0 col0\" >74</td>\n",
       "    </tr>\n",
       "    <tr>\n",
       "      <th id=\"T_97536_level0_row1\" class=\"row_heading level0 row1\" >9</th>\n",
       "      <td id=\"T_97536_row1_col0\" class=\"data row1 col0\" >49</td>\n",
       "    </tr>\n",
       "    <tr>\n",
       "      <th id=\"T_97536_level0_row2\" class=\"row_heading level0 row2\" >8</th>\n",
       "      <td id=\"T_97536_row2_col0\" class=\"data row2 col0\" >48</td>\n",
       "    </tr>\n",
       "    <tr>\n",
       "      <th id=\"T_97536_level0_row3\" class=\"row_heading level0 row3\" >5</th>\n",
       "      <td id=\"T_97536_row3_col0\" class=\"data row3 col0\" >48</td>\n",
       "    </tr>\n",
       "    <tr>\n",
       "      <th id=\"T_97536_level0_row4\" class=\"row_heading level0 row4\" >11</th>\n",
       "      <td id=\"T_97536_row4_col0\" class=\"data row4 col0\" >47</td>\n",
       "    </tr>\n",
       "    <tr>\n",
       "      <th id=\"T_97536_level0_row5\" class=\"row_heading level0 row5\" >6</th>\n",
       "      <td id=\"T_97536_row5_col0\" class=\"data row5 col0\" >46</td>\n",
       "    </tr>\n",
       "    <tr>\n",
       "      <th id=\"T_97536_level0_row6\" class=\"row_heading level0 row6\" >10</th>\n",
       "      <td id=\"T_97536_row6_col0\" class=\"data row6 col0\" >40</td>\n",
       "    </tr>\n",
       "    <tr>\n",
       "      <th id=\"T_97536_level0_row7\" class=\"row_heading level0 row7\" >13</th>\n",
       "      <td id=\"T_97536_row7_col0\" class=\"data row7 col0\" >37</td>\n",
       "    </tr>\n",
       "    <tr>\n",
       "      <th id=\"T_97536_level0_row8\" class=\"row_heading level0 row8\" >12</th>\n",
       "      <td id=\"T_97536_row8_col0\" class=\"data row8 col0\" >36</td>\n",
       "    </tr>\n",
       "    <tr>\n",
       "      <th id=\"T_97536_level0_row9\" class=\"row_heading level0 row9\" >14</th>\n",
       "      <td id=\"T_97536_row9_col0\" class=\"data row9 col0\" >28</td>\n",
       "    </tr>\n",
       "  </tbody>\n",
       "</table>\n"
      ],
      "text/plain": [
       "<pandas.io.formats.style.Styler at 0x1418cce20>"
      ]
     },
     "execution_count": 314,
     "metadata": {},
     "output_type": "execute_result"
    }
   ],
   "source": [
    "keywords_count = data[\"keywords\"].str.count(\",\")\n",
    "keywords_count = keywords_count.value_counts()\n",
    "keywords_count.index = keywords_count.index.map(int) + 1\n",
    "print(f\"Min number of keywords: {keywords_count.index.min()}\")\n",
    "print(f\"Avg number of keywords: {np.mean(keywords_count.index):.0f}\")\n",
    "print(f\"Max number of keywords: {keywords_count.index.max()}\")\n",
    "keywords_count.to_frame().iloc[:10].style.bar()"
   ]
  },
  {
   "cell_type": "markdown",
   "metadata": {},
   "source": [
    "Minimal number of keywords is 3, maximum - 60 and on average each article contains 21 keywords.\n",
    "\n",
    "Let's take a look a the article with the maximum number of keywords."
   ]
  },
  {
   "cell_type": "code",
   "execution_count": 316,
   "metadata": {},
   "outputs": [
    {
     "data": {
      "text/plain": [
       "array(['cnbc, Articles, Bank of Montreal, Wyoming, Wisconsin, West Virginia, Washington DC, Virginia, Vermont, Utah, Texas, Tennessee, South Dakota, South Carolina, Rhode Island, Pennsylvania, Oregon, Ohio, North Dakota, North Carolina, New York City, New York, New Mexico, New Jersey, New Hampshire, Nevada, Montana, Missouri, Mississippi, Minnesota, Michigan, Massachusetts, Maryland, Maine, Louisiana, Kentucky, Kansas, Iowa, Indiana, Illinois, Idaho, Hawaii, Georgia, Florida, Delaware, Connecticut, Colorado, Chicago, California, Arkansas, Arizona, Alaska, Alabama, North America, United States, Canada, Press Releases, CNBC Information and Policies, CNBC: News Releases, source:tagname:PR Newswire'],\n",
       "      dtype=object)"
      ]
     },
     "execution_count": 316,
     "metadata": {},
     "output_type": "execute_result"
    }
   ],
   "source": [
    "data.loc[data[\"keywords\"].str.count(\",\") == keywords_count.index.max() - 1, \"keywords\"].values"
   ]
  },
  {
   "cell_type": "markdown",
   "metadata": {},
   "source": [
    "Looks like this article contains all US states as keywords."
   ]
  },
  {
   "cell_type": "markdown",
   "metadata": {},
   "source": [
    "And here is the most popular set of keywords."
   ]
  },
  {
   "cell_type": "code",
   "execution_count": 251,
   "metadata": {},
   "outputs": [
    {
     "data": {
      "text/plain": [
       "count                                                                    625\n",
       "unique                                                                   581\n",
       "top       cnbc, Articles, CNBC TV, Fast Money, source:tagname:CNBC US Source\n",
       "freq                                                                      10\n",
       "Name: keywords, dtype: object"
      ]
     },
     "execution_count": 251,
     "metadata": {},
     "output_type": "execute_result"
    }
   ],
   "source": [
    "data[\"keywords\"].describe()"
   ]
  },
  {
   "cell_type": "markdown",
   "metadata": {},
   "source": [
    "## 2.8. Header_image"
   ]
  },
  {
   "cell_type": "code",
   "execution_count": 317,
   "metadata": {},
   "outputs": [
    {
     "data": {
      "text/plain": [
       "0        https://image.cnbcfm.com/api/v1/image/106949602-1632934577499-FINTECH_ETF_9-29.jpg?v=1632934691\n",
       "1    https://fm.cnbc.com/applications/cnbc.com/resources/img/editorial/2016/06/24/103742956-RTX2FMUL....\n",
       "2    https://fm.cnbc.com/applications/cnbc.com/resources/img/editorial/2014/03/24/101520523-480336057...\n",
       "3                          https://image.cnbcfm.com/api/v1/image/24947979-gm_dealership.jpg?v=1354732729\n",
       "Name: header_image, dtype: object"
      ]
     },
     "execution_count": 317,
     "metadata": {},
     "output_type": "execute_result"
    }
   ],
   "source": [
    "data.loc[:3, \"header_image\"]"
   ]
  },
  {
   "cell_type": "code",
   "execution_count": 326,
   "metadata": {},
   "outputs": [
    {
     "data": {
      "text/plain": [
       "Counter({'https://image.cnbcfm': 471,\n",
       "         'https://fm.cnbc': 12,\n",
       "         'https://sc.cnbcfm': 142})"
      ]
     },
     "execution_count": 326,
     "metadata": {},
     "output_type": "execute_result"
    }
   ],
   "source": [
    "image_urls = data[\"header_image\"].apply(lambda x: x.split(\".com/\")[0])\n",
    "counter = Counter(image_urls)\n",
    "\n",
    "counter"
   ]
  },
  {
   "cell_type": "markdown",
   "metadata": {},
   "source": [
    "Header_image column contains links to image from article that was used as a header image. There are three different resources from which images can be loaded, but they are all related to cnbc."
   ]
  },
  {
   "cell_type": "markdown",
   "metadata": {},
   "source": [
    "## 2.9. Raw_description"
   ]
  },
  {
   "cell_type": "markdown",
   "metadata": {},
   "source": [
    "## 2.10. Description"
   ]
  },
  {
   "cell_type": "markdown",
   "metadata": {},
   "source": [
    "## 2.11. Scraped_at"
   ]
  },
  {
   "cell_type": "code",
   "execution_count": 327,
   "metadata": {},
   "outputs": [
    {
     "data": {
      "text/plain": [
       "0    2021-10-30 14:11:23.709372\n",
       "1    2021-10-30 14:11:23.820139\n",
       "2    2021-10-30 14:11:23.854710\n",
       "3    2021-10-30 14:11:24.261143\n",
       "Name: scraped_at, dtype: object"
      ]
     },
     "execution_count": 327,
     "metadata": {},
     "output_type": "execute_result"
    }
   ],
   "source": [
    "data.loc[:3, \"scraped_at\"]"
   ]
  },
  {
   "cell_type": "code",
   "execution_count": 338,
   "metadata": {},
   "outputs": [
    {
     "data": {
      "text/plain": [
       "True"
      ]
     },
     "execution_count": 338,
     "metadata": {},
     "output_type": "execute_result"
    }
   ],
   "source": [
    "scraped_dates = pd.to_datetime(data[\"scraped_at\"])\n",
    "scraped_dates = scraped_dates.dt.strftime(\"%Y-%m-%d\")\n",
    "scraped_dates.duplicated(keep=False).all()"
   ]
  },
  {
   "cell_type": "markdown",
   "metadata": {},
   "source": [
    "As we can see all articles were scraped at the same date (year-month-day)."
   ]
  }
 ],
 "metadata": {
  "interpreter": {
   "hash": "cb9e94dbe4e7fc92a3d7162f471039658b9fdbbc9b042b59ec1fc38823150b03"
  },
  "kernelspec": {
   "display_name": "Python 3.9.9 64-bit ('weaviate-demo')",
   "language": "python",
   "name": "python3"
  },
  "language_info": {
   "codemirror_mode": {
    "name": "ipython",
    "version": 3
   },
   "file_extension": ".py",
   "mimetype": "text/x-python",
   "name": "python",
   "nbconvert_exporter": "python",
   "pygments_lexer": "ipython3",
   "version": "3.9.9"
  },
  "orig_nbformat": 4
 },
 "nbformat": 4,
 "nbformat_minor": 2
}
