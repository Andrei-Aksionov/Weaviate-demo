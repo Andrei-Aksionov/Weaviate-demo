{
 "cells": [
  {
   "cell_type": "markdown",
   "metadata": {},
   "source": [
    "Structure:\n",
    "\n",
    "1. [x] Read data\n",
    "2. [] Try LDA\n",
    "3. [] Try BerTopic:\n",
    "    - [x] with tfidf vectorizer as embed model\n",
    "    - [x] with transformer model: probably don't do per year topic modeling as too low number of articles. \n",
    "    - [] show topic for all years, find out compact form for showing all clusters\n"
   ]
  },
  {
   "cell_type": "code",
   "execution_count": 1,
   "metadata": {},
   "outputs": [
    {
     "name": "stdout",
     "output_type": "stream",
     "text": [
      "/Users/andreiaksionov/Study/Machine_Learning/semantic_search/Weaviate-demo\n"
     ]
    }
   ],
   "source": [
    "cd .."
   ]
  },
  {
   "cell_type": "code",
   "execution_count": 76,
   "metadata": {},
   "outputs": [],
   "source": [
    "import os\n",
    "import sys\n",
    "from collections import Counter\n",
    "\n",
    "import numpy as np\n",
    "import pandas as pd\n",
    "import seaborn as sns\n",
    "import spacy\n",
    "from bs4 import BeautifulSoup\n",
    "from matplotlib import pyplot as plt\n",
    "from omegaconf import OmegaConf\n",
    "from bertopic import BERTopic\n",
    "from sklearn.feature_extraction.text import TfidfVectorizer\n",
    "from umap import UMAP\n",
    "from tqdm import tqdm\n",
    "\n",
    "pd.set_option(\"display.max_colwidth\", 100)\n",
    "\n",
    "# ROOT = os.path.realpath(\"../\")\n",
    "# if ROOT not in sys.path:\n",
    "#     sys.path.append(ROOT)\n",
    "\n",
    "from src import config\n"
   ]
  },
  {
   "cell_type": "markdown",
   "metadata": {},
   "source": [
    "# 1. Read data"
   ]
  },
  {
   "cell_type": "markdown",
   "metadata": {},
   "source": [
    "Read file from csv format and display the first article."
   ]
  },
  {
   "cell_type": "code",
   "execution_count": 47,
   "metadata": {},
   "outputs": [
    {
     "data": {
      "text/html": [
       "<div>\n",
       "<style scoped>\n",
       "    .dataframe tbody tr th:only-of-type {\n",
       "        vertical-align: middle;\n",
       "    }\n",
       "\n",
       "    .dataframe tbody tr th {\n",
       "        vertical-align: top;\n",
       "    }\n",
       "\n",
       "    .dataframe thead th {\n",
       "        text-align: right;\n",
       "    }\n",
       "</style>\n",
       "<table border=\"1\" class=\"dataframe\">\n",
       "  <thead>\n",
       "    <tr style=\"text-align: right;\">\n",
       "      <th></th>\n",
       "      <th>title</th>\n",
       "      <th>url</th>\n",
       "      <th>published_at</th>\n",
       "      <th>author</th>\n",
       "      <th>publisher</th>\n",
       "      <th>short_description</th>\n",
       "      <th>keywords</th>\n",
       "      <th>header_image</th>\n",
       "      <th>raw_description</th>\n",
       "      <th>description</th>\n",
       "      <th>scraped_at</th>\n",
       "    </tr>\n",
       "  </thead>\n",
       "  <tbody>\n",
       "    <tr>\n",
       "      <th>0</th>\n",
       "      <td>Santoli’s Wednesday market notes: Could September’s stock shakeout tee up strength for the fourt...</td>\n",
       "      <td>https://www.cnbc.com/2021/09/29/santolis-wednesday-market-notes-could-septembers-stock-shakeout-...</td>\n",
       "      <td>2021-09-29T17:09:39+0000</td>\n",
       "      <td>Michael Santoli</td>\n",
       "      <td>CNBC</td>\n",
       "      <td>This is the daily notebook of Mike Santoli, CNBC's senior markets commentator, with ideas about ...</td>\n",
       "      <td>cnbc, Premium, Articles, Investment strategy, Markets, Investing, PRO Home, CNBC Pro, Pro: Santo...</td>\n",
       "      <td>https://image.cnbcfm.com/api/v1/image/106949602-1632934577499-FINTECH_ETF_9-29.jpg?v=1632934691</td>\n",
       "      <td>&lt;div class=\"group\"&gt;&lt;p&gt;&lt;em&gt;This is the daily notebook of Mike Santoli, CNBC's senior markets comm...</td>\n",
       "      <td>This is the daily notebook of Mike Santoli, CNBC's senior markets commentator, with ideas about ...</td>\n",
       "      <td>2021-10-30 14:11:23.709372</td>\n",
       "    </tr>\n",
       "  </tbody>\n",
       "</table>\n",
       "</div>"
      ],
      "text/plain": [
       "                                                                                                 title  \\\n",
       "0  Santoli’s Wednesday market notes: Could September’s stock shakeout tee up strength for the fourt...   \n",
       "\n",
       "                                                                                                   url  \\\n",
       "0  https://www.cnbc.com/2021/09/29/santolis-wednesday-market-notes-could-septembers-stock-shakeout-...   \n",
       "\n",
       "               published_at           author publisher  \\\n",
       "0  2021-09-29T17:09:39+0000  Michael Santoli      CNBC   \n",
       "\n",
       "                                                                                     short_description  \\\n",
       "0  This is the daily notebook of Mike Santoli, CNBC's senior markets commentator, with ideas about ...   \n",
       "\n",
       "                                                                                              keywords  \\\n",
       "0  cnbc, Premium, Articles, Investment strategy, Markets, Investing, PRO Home, CNBC Pro, Pro: Santo...   \n",
       "\n",
       "                                                                                      header_image  \\\n",
       "0  https://image.cnbcfm.com/api/v1/image/106949602-1632934577499-FINTECH_ETF_9-29.jpg?v=1632934691   \n",
       "\n",
       "                                                                                       raw_description  \\\n",
       "0  <div class=\"group\"><p><em>This is the daily notebook of Mike Santoli, CNBC's senior markets comm...   \n",
       "\n",
       "                                                                                           description  \\\n",
       "0  This is the daily notebook of Mike Santoli, CNBC's senior markets commentator, with ideas about ...   \n",
       "\n",
       "                   scraped_at  \n",
       "0  2021-10-30 14:11:23.709372  "
      ]
     },
     "execution_count": 47,
     "metadata": {},
     "output_type": "execute_result"
    }
   ],
   "source": [
    "data = pd.read_csv(config.data.raw)\n",
    "data.head(1)\n"
   ]
  },
  {
   "cell_type": "code",
   "execution_count": 48,
   "metadata": {},
   "outputs": [],
   "source": [
    "data[\"title\"] = data[\"title\"].apply(lambda x: BeautifulSoup(x).text)"
   ]
  },
  {
   "cell_type": "markdown",
   "metadata": {},
   "source": [
    "# 2. LDA"
   ]
  },
  {
   "cell_type": "code",
   "execution_count": 117,
   "metadata": {},
   "outputs": [],
   "source": [
    "from sklearn.feature_extraction.text import CountVectorizer\n",
    "from sklearn.feature_extraction.text import TfidfTransformer, TfidfVectorizer\n",
    "from sklearn.decomposition import LatentDirichletAllocation as LDA\n",
    "from nltk.corpus import stopwords"
   ]
  },
  {
   "cell_type": "markdown",
   "metadata": {},
   "source": [
    "import nltk</br>\n",
    "nltk.download(\"stopwords\")"
   ]
  },
  {
   "cell_type": "code",
   "execution_count": 125,
   "metadata": {},
   "outputs": [],
   "source": [
    "corpus = data[\"description\"].dropna().tolist()"
   ]
  },
  {
   "cell_type": "code",
   "execution_count": 138,
   "metadata": {},
   "outputs": [],
   "source": [
    "count_vect = TfidfVectorizer(stop_words=stopwords.words('english'), lowercase=True, ngram_range=(2, 3), min_df=5)\n",
    "x_counts = count_vect.fit_transform(corpus)"
   ]
  },
  {
   "cell_type": "code",
   "execution_count": 139,
   "metadata": {},
   "outputs": [
    {
     "data": {
      "text/plain": [
       "array([[0.04      , 0.04      , 0.04      , ..., 0.04      , 0.04      ,\n",
       "        0.04      ],\n",
       "       [0.00854759, 0.00854759, 0.00854759, ..., 0.00854759, 0.00854759,\n",
       "        0.00854759],\n",
       "       [0.00793419, 0.62943028, 0.00793419, ..., 0.00793419, 0.00793419,\n",
       "        0.00793419],\n",
       "       ...,\n",
       "       [0.00843864, 0.00843864, 0.00843864, ..., 0.00843864, 0.00843864,\n",
       "        0.00843864],\n",
       "       [0.00764065, 0.00764065, 0.00764065, ..., 0.00764065, 0.00764065,\n",
       "        0.00764065],\n",
       "       [0.00471075, 0.00471075, 0.00471075, ..., 0.00471075, 0.00471075,\n",
       "        0.00471075]])"
      ]
     },
     "execution_count": 139,
     "metadata": {},
     "output_type": "execute_result"
    }
   ],
   "source": [
    "dimension = 25\n",
    "lda = LDA(n_components = dimension)\n",
    "lda_array = lda.fit_transform(x_counts)\n",
    "lda_array"
   ]
  },
  {
   "cell_type": "code",
   "execution_count": 142,
   "metadata": {},
   "outputs": [
    {
     "data": {
      "text/plain": [
       "[['thomsonreuters com',\n",
       "  'net keywords',\n",
       "  'reuters net',\n",
       "  'com reuters',\n",
       "  'reuters net keywords'],\n",
       " ['third quarter',\n",
       "  'wall street',\n",
       "  'dow jones',\n",
       "  'dow jones industrial',\n",
       "  'jones industrial']]"
      ]
     },
     "execution_count": 142,
     "metadata": {},
     "output_type": "execute_result"
    }
   ],
   "source": [
    "components = [lda.components_[i] for i in range(len(lda.components_))]\n",
    "features = count_vect.get_feature_names()\n",
    "important_words = [sorted(features, key = lambda x: components[j][features.index(x)], reverse = True)[:5] for j in range(len(components))]\n",
    "important_words[:2]"
   ]
  },
  {
   "cell_type": "markdown",
   "metadata": {},
   "source": [
    "***"
   ]
  },
  {
   "cell_type": "markdown",
   "metadata": {},
   "source": [
    "# 3. BerTopic"
   ]
  },
  {
   "cell_type": "markdown",
   "metadata": {},
   "source": [
    "## 3.1. BerTopic with TfIdf as vectorizer"
   ]
  },
  {
   "cell_type": "code",
   "execution_count": 25,
   "metadata": {},
   "outputs": [],
   "source": [
    "X = data[\"description\"].dropna()"
   ]
  },
  {
   "cell_type": "code",
   "execution_count": 26,
   "metadata": {},
   "outputs": [
    {
     "data": {
      "text/plain": [
       "<593x19446 sparse matrix of type '<class 'numpy.float64'>'\n",
       "\twith 146800 stored elements in Compressed Sparse Row format>"
      ]
     },
     "execution_count": 26,
     "metadata": {},
     "output_type": "execute_result"
    }
   ],
   "source": [
    "# Create TF-IDF sparse matrix\n",
    "vectorizer = TfidfVectorizer(min_df=1, ngram_range=(1, 1))\n",
    "embeddings = vectorizer.fit_transform(X)\n",
    "embeddings"
   ]
  },
  {
   "cell_type": "code",
   "execution_count": 27,
   "metadata": {},
   "outputs": [
    {
     "name": "stderr",
     "output_type": "stream",
     "text": [
      "2022-03-24 16:36:15,673 - BERTopic - Reduced dimensionality with UMAP\n",
      "2022-03-24 16:36:15,714 - BERTopic - Clustered UMAP embeddings with HDBSCAN\n"
     ]
    }
   ],
   "source": [
    "# Model\n",
    "model = BERTopic(language=\"english\", verbose=True, calculate_probabilities=True)\n",
    "topics, probabilities = model.fit_transform(X, embeddings)"
   ]
  },
  {
   "cell_type": "code",
   "execution_count": 28,
   "metadata": {},
   "outputs": [
    {
     "data": {
      "application/vnd.plotly.v1+json": {
       "config": {
        "plotlyServerURL": "https://plot.ly"
       },
       "data": [
        {
         "marker": {
          "color": "#C8D2D7",
          "line": {
           "color": "#6E8484",
           "width": 1
          }
         },
         "orientation": "h",
         "type": "bar",
         "x": [
          0.11327577927948868,
          0.7571689844111475
         ],
         "y": [
          "<b>Topic 0</b>: the_to_of_and_in",
          "<b>Topic 1</b>: owns_is_the_long_partner..."
         ]
        }
       ],
       "layout": {
        "height": 600,
        "hoverlabel": {
         "bgcolor": "white",
         "font": {
          "family": "Rockwell",
          "size": 16
         }
        },
        "template": {
         "data": {
          "bar": [
           {
            "error_x": {
             "color": "rgb(36,36,36)"
            },
            "error_y": {
             "color": "rgb(36,36,36)"
            },
            "marker": {
             "line": {
              "color": "white",
              "width": 0.5
             },
             "pattern": {
              "fillmode": "overlay",
              "size": 10,
              "solidity": 0.2
             }
            },
            "type": "bar"
           }
          ],
          "barpolar": [
           {
            "marker": {
             "line": {
              "color": "white",
              "width": 0.5
             },
             "pattern": {
              "fillmode": "overlay",
              "size": 10,
              "solidity": 0.2
             }
            },
            "type": "barpolar"
           }
          ],
          "carpet": [
           {
            "aaxis": {
             "endlinecolor": "rgb(36,36,36)",
             "gridcolor": "white",
             "linecolor": "white",
             "minorgridcolor": "white",
             "startlinecolor": "rgb(36,36,36)"
            },
            "baxis": {
             "endlinecolor": "rgb(36,36,36)",
             "gridcolor": "white",
             "linecolor": "white",
             "minorgridcolor": "white",
             "startlinecolor": "rgb(36,36,36)"
            },
            "type": "carpet"
           }
          ],
          "choropleth": [
           {
            "colorbar": {
             "outlinewidth": 1,
             "tickcolor": "rgb(36,36,36)",
             "ticks": "outside"
            },
            "type": "choropleth"
           }
          ],
          "contour": [
           {
            "colorbar": {
             "outlinewidth": 1,
             "tickcolor": "rgb(36,36,36)",
             "ticks": "outside"
            },
            "colorscale": [
             [
              0,
              "#440154"
             ],
             [
              0.1111111111111111,
              "#482878"
             ],
             [
              0.2222222222222222,
              "#3e4989"
             ],
             [
              0.3333333333333333,
              "#31688e"
             ],
             [
              0.4444444444444444,
              "#26828e"
             ],
             [
              0.5555555555555556,
              "#1f9e89"
             ],
             [
              0.6666666666666666,
              "#35b779"
             ],
             [
              0.7777777777777778,
              "#6ece58"
             ],
             [
              0.8888888888888888,
              "#b5de2b"
             ],
             [
              1,
              "#fde725"
             ]
            ],
            "type": "contour"
           }
          ],
          "contourcarpet": [
           {
            "colorbar": {
             "outlinewidth": 1,
             "tickcolor": "rgb(36,36,36)",
             "ticks": "outside"
            },
            "type": "contourcarpet"
           }
          ],
          "heatmap": [
           {
            "colorbar": {
             "outlinewidth": 1,
             "tickcolor": "rgb(36,36,36)",
             "ticks": "outside"
            },
            "colorscale": [
             [
              0,
              "#440154"
             ],
             [
              0.1111111111111111,
              "#482878"
             ],
             [
              0.2222222222222222,
              "#3e4989"
             ],
             [
              0.3333333333333333,
              "#31688e"
             ],
             [
              0.4444444444444444,
              "#26828e"
             ],
             [
              0.5555555555555556,
              "#1f9e89"
             ],
             [
              0.6666666666666666,
              "#35b779"
             ],
             [
              0.7777777777777778,
              "#6ece58"
             ],
             [
              0.8888888888888888,
              "#b5de2b"
             ],
             [
              1,
              "#fde725"
             ]
            ],
            "type": "heatmap"
           }
          ],
          "heatmapgl": [
           {
            "colorbar": {
             "outlinewidth": 1,
             "tickcolor": "rgb(36,36,36)",
             "ticks": "outside"
            },
            "colorscale": [
             [
              0,
              "#440154"
             ],
             [
              0.1111111111111111,
              "#482878"
             ],
             [
              0.2222222222222222,
              "#3e4989"
             ],
             [
              0.3333333333333333,
              "#31688e"
             ],
             [
              0.4444444444444444,
              "#26828e"
             ],
             [
              0.5555555555555556,
              "#1f9e89"
             ],
             [
              0.6666666666666666,
              "#35b779"
             ],
             [
              0.7777777777777778,
              "#6ece58"
             ],
             [
              0.8888888888888888,
              "#b5de2b"
             ],
             [
              1,
              "#fde725"
             ]
            ],
            "type": "heatmapgl"
           }
          ],
          "histogram": [
           {
            "marker": {
             "line": {
              "color": "white",
              "width": 0.6
             }
            },
            "type": "histogram"
           }
          ],
          "histogram2d": [
           {
            "colorbar": {
             "outlinewidth": 1,
             "tickcolor": "rgb(36,36,36)",
             "ticks": "outside"
            },
            "colorscale": [
             [
              0,
              "#440154"
             ],
             [
              0.1111111111111111,
              "#482878"
             ],
             [
              0.2222222222222222,
              "#3e4989"
             ],
             [
              0.3333333333333333,
              "#31688e"
             ],
             [
              0.4444444444444444,
              "#26828e"
             ],
             [
              0.5555555555555556,
              "#1f9e89"
             ],
             [
              0.6666666666666666,
              "#35b779"
             ],
             [
              0.7777777777777778,
              "#6ece58"
             ],
             [
              0.8888888888888888,
              "#b5de2b"
             ],
             [
              1,
              "#fde725"
             ]
            ],
            "type": "histogram2d"
           }
          ],
          "histogram2dcontour": [
           {
            "colorbar": {
             "outlinewidth": 1,
             "tickcolor": "rgb(36,36,36)",
             "ticks": "outside"
            },
            "colorscale": [
             [
              0,
              "#440154"
             ],
             [
              0.1111111111111111,
              "#482878"
             ],
             [
              0.2222222222222222,
              "#3e4989"
             ],
             [
              0.3333333333333333,
              "#31688e"
             ],
             [
              0.4444444444444444,
              "#26828e"
             ],
             [
              0.5555555555555556,
              "#1f9e89"
             ],
             [
              0.6666666666666666,
              "#35b779"
             ],
             [
              0.7777777777777778,
              "#6ece58"
             ],
             [
              0.8888888888888888,
              "#b5de2b"
             ],
             [
              1,
              "#fde725"
             ]
            ],
            "type": "histogram2dcontour"
           }
          ],
          "mesh3d": [
           {
            "colorbar": {
             "outlinewidth": 1,
             "tickcolor": "rgb(36,36,36)",
             "ticks": "outside"
            },
            "type": "mesh3d"
           }
          ],
          "parcoords": [
           {
            "line": {
             "colorbar": {
              "outlinewidth": 1,
              "tickcolor": "rgb(36,36,36)",
              "ticks": "outside"
             }
            },
            "type": "parcoords"
           }
          ],
          "pie": [
           {
            "automargin": true,
            "type": "pie"
           }
          ],
          "scatter": [
           {
            "marker": {
             "colorbar": {
              "outlinewidth": 1,
              "tickcolor": "rgb(36,36,36)",
              "ticks": "outside"
             }
            },
            "type": "scatter"
           }
          ],
          "scatter3d": [
           {
            "line": {
             "colorbar": {
              "outlinewidth": 1,
              "tickcolor": "rgb(36,36,36)",
              "ticks": "outside"
             }
            },
            "marker": {
             "colorbar": {
              "outlinewidth": 1,
              "tickcolor": "rgb(36,36,36)",
              "ticks": "outside"
             }
            },
            "type": "scatter3d"
           }
          ],
          "scattercarpet": [
           {
            "marker": {
             "colorbar": {
              "outlinewidth": 1,
              "tickcolor": "rgb(36,36,36)",
              "ticks": "outside"
             }
            },
            "type": "scattercarpet"
           }
          ],
          "scattergeo": [
           {
            "marker": {
             "colorbar": {
              "outlinewidth": 1,
              "tickcolor": "rgb(36,36,36)",
              "ticks": "outside"
             }
            },
            "type": "scattergeo"
           }
          ],
          "scattergl": [
           {
            "marker": {
             "colorbar": {
              "outlinewidth": 1,
              "tickcolor": "rgb(36,36,36)",
              "ticks": "outside"
             }
            },
            "type": "scattergl"
           }
          ],
          "scattermapbox": [
           {
            "marker": {
             "colorbar": {
              "outlinewidth": 1,
              "tickcolor": "rgb(36,36,36)",
              "ticks": "outside"
             }
            },
            "type": "scattermapbox"
           }
          ],
          "scatterpolar": [
           {
            "marker": {
             "colorbar": {
              "outlinewidth": 1,
              "tickcolor": "rgb(36,36,36)",
              "ticks": "outside"
             }
            },
            "type": "scatterpolar"
           }
          ],
          "scatterpolargl": [
           {
            "marker": {
             "colorbar": {
              "outlinewidth": 1,
              "tickcolor": "rgb(36,36,36)",
              "ticks": "outside"
             }
            },
            "type": "scatterpolargl"
           }
          ],
          "scatterternary": [
           {
            "marker": {
             "colorbar": {
              "outlinewidth": 1,
              "tickcolor": "rgb(36,36,36)",
              "ticks": "outside"
             }
            },
            "type": "scatterternary"
           }
          ],
          "surface": [
           {
            "colorbar": {
             "outlinewidth": 1,
             "tickcolor": "rgb(36,36,36)",
             "ticks": "outside"
            },
            "colorscale": [
             [
              0,
              "#440154"
             ],
             [
              0.1111111111111111,
              "#482878"
             ],
             [
              0.2222222222222222,
              "#3e4989"
             ],
             [
              0.3333333333333333,
              "#31688e"
             ],
             [
              0.4444444444444444,
              "#26828e"
             ],
             [
              0.5555555555555556,
              "#1f9e89"
             ],
             [
              0.6666666666666666,
              "#35b779"
             ],
             [
              0.7777777777777778,
              "#6ece58"
             ],
             [
              0.8888888888888888,
              "#b5de2b"
             ],
             [
              1,
              "#fde725"
             ]
            ],
            "type": "surface"
           }
          ],
          "table": [
           {
            "cells": {
             "fill": {
              "color": "rgb(237,237,237)"
             },
             "line": {
              "color": "white"
             }
            },
            "header": {
             "fill": {
              "color": "rgb(217,217,217)"
             },
             "line": {
              "color": "white"
             }
            },
            "type": "table"
           }
          ]
         },
         "layout": {
          "annotationdefaults": {
           "arrowhead": 0,
           "arrowwidth": 1
          },
          "autotypenumbers": "strict",
          "coloraxis": {
           "colorbar": {
            "outlinewidth": 1,
            "tickcolor": "rgb(36,36,36)",
            "ticks": "outside"
           }
          },
          "colorscale": {
           "diverging": [
            [
             0,
             "rgb(103,0,31)"
            ],
            [
             0.1,
             "rgb(178,24,43)"
            ],
            [
             0.2,
             "rgb(214,96,77)"
            ],
            [
             0.3,
             "rgb(244,165,130)"
            ],
            [
             0.4,
             "rgb(253,219,199)"
            ],
            [
             0.5,
             "rgb(247,247,247)"
            ],
            [
             0.6,
             "rgb(209,229,240)"
            ],
            [
             0.7,
             "rgb(146,197,222)"
            ],
            [
             0.8,
             "rgb(67,147,195)"
            ],
            [
             0.9,
             "rgb(33,102,172)"
            ],
            [
             1,
             "rgb(5,48,97)"
            ]
           ],
           "sequential": [
            [
             0,
             "#440154"
            ],
            [
             0.1111111111111111,
             "#482878"
            ],
            [
             0.2222222222222222,
             "#3e4989"
            ],
            [
             0.3333333333333333,
             "#31688e"
            ],
            [
             0.4444444444444444,
             "#26828e"
            ],
            [
             0.5555555555555556,
             "#1f9e89"
            ],
            [
             0.6666666666666666,
             "#35b779"
            ],
            [
             0.7777777777777778,
             "#6ece58"
            ],
            [
             0.8888888888888888,
             "#b5de2b"
            ],
            [
             1,
             "#fde725"
            ]
           ],
           "sequentialminus": [
            [
             0,
             "#440154"
            ],
            [
             0.1111111111111111,
             "#482878"
            ],
            [
             0.2222222222222222,
             "#3e4989"
            ],
            [
             0.3333333333333333,
             "#31688e"
            ],
            [
             0.4444444444444444,
             "#26828e"
            ],
            [
             0.5555555555555556,
             "#1f9e89"
            ],
            [
             0.6666666666666666,
             "#35b779"
            ],
            [
             0.7777777777777778,
             "#6ece58"
            ],
            [
             0.8888888888888888,
             "#b5de2b"
            ],
            [
             1,
             "#fde725"
            ]
           ]
          },
          "colorway": [
           "#1F77B4",
           "#FF7F0E",
           "#2CA02C",
           "#D62728",
           "#9467BD",
           "#8C564B",
           "#E377C2",
           "#7F7F7F",
           "#BCBD22",
           "#17BECF"
          ],
          "font": {
           "color": "rgb(36,36,36)"
          },
          "geo": {
           "bgcolor": "white",
           "lakecolor": "white",
           "landcolor": "white",
           "showlakes": true,
           "showland": true,
           "subunitcolor": "white"
          },
          "hoverlabel": {
           "align": "left"
          },
          "hovermode": "closest",
          "mapbox": {
           "style": "light"
          },
          "paper_bgcolor": "white",
          "plot_bgcolor": "white",
          "polar": {
           "angularaxis": {
            "gridcolor": "rgb(232,232,232)",
            "linecolor": "rgb(36,36,36)",
            "showgrid": false,
            "showline": true,
            "ticks": "outside"
           },
           "bgcolor": "white",
           "radialaxis": {
            "gridcolor": "rgb(232,232,232)",
            "linecolor": "rgb(36,36,36)",
            "showgrid": false,
            "showline": true,
            "ticks": "outside"
           }
          },
          "scene": {
           "xaxis": {
            "backgroundcolor": "white",
            "gridcolor": "rgb(232,232,232)",
            "gridwidth": 2,
            "linecolor": "rgb(36,36,36)",
            "showbackground": true,
            "showgrid": false,
            "showline": true,
            "ticks": "outside",
            "zeroline": false,
            "zerolinecolor": "rgb(36,36,36)"
           },
           "yaxis": {
            "backgroundcolor": "white",
            "gridcolor": "rgb(232,232,232)",
            "gridwidth": 2,
            "linecolor": "rgb(36,36,36)",
            "showbackground": true,
            "showgrid": false,
            "showline": true,
            "ticks": "outside",
            "zeroline": false,
            "zerolinecolor": "rgb(36,36,36)"
           },
           "zaxis": {
            "backgroundcolor": "white",
            "gridcolor": "rgb(232,232,232)",
            "gridwidth": 2,
            "linecolor": "rgb(36,36,36)",
            "showbackground": true,
            "showgrid": false,
            "showline": true,
            "ticks": "outside",
            "zeroline": false,
            "zerolinecolor": "rgb(36,36,36)"
           }
          },
          "shapedefaults": {
           "fillcolor": "black",
           "line": {
            "width": 0
           },
           "opacity": 0.3
          },
          "ternary": {
           "aaxis": {
            "gridcolor": "rgb(232,232,232)",
            "linecolor": "rgb(36,36,36)",
            "showgrid": false,
            "showline": true,
            "ticks": "outside"
           },
           "baxis": {
            "gridcolor": "rgb(232,232,232)",
            "linecolor": "rgb(36,36,36)",
            "showgrid": false,
            "showline": true,
            "ticks": "outside"
           },
           "bgcolor": "white",
           "caxis": {
            "gridcolor": "rgb(232,232,232)",
            "linecolor": "rgb(36,36,36)",
            "showgrid": false,
            "showline": true,
            "ticks": "outside"
           }
          },
          "title": {
           "x": 0.05
          },
          "xaxis": {
           "automargin": true,
           "gridcolor": "rgb(232,232,232)",
           "linecolor": "rgb(36,36,36)",
           "showgrid": false,
           "showline": true,
           "ticks": "outside",
           "title": {
            "standoff": 15
           },
           "zeroline": false,
           "zerolinecolor": "rgb(36,36,36)"
          },
          "yaxis": {
           "automargin": true,
           "gridcolor": "rgb(232,232,232)",
           "linecolor": "rgb(36,36,36)",
           "showgrid": false,
           "showline": true,
           "ticks": "outside",
           "title": {
            "standoff": 15
           },
           "zeroline": false,
           "zerolinecolor": "rgb(36,36,36)"
          }
         }
        },
        "title": {
         "font": {
          "color": "Black",
          "size": 22
         },
         "text": "<b>Topic Probability Distribution",
         "x": 0.5,
         "xanchor": "center",
         "y": 0.95,
         "yanchor": "top"
        },
        "width": 800,
        "xaxis": {
         "title": {
          "text": "Probability"
         }
        }
       }
      }
     },
     "metadata": {},
     "output_type": "display_data"
    }
   ],
   "source": [
    "model.visualize_distribution(probabilities[0])"
   ]
  },
  {
   "cell_type": "code",
   "execution_count": 32,
   "metadata": {},
   "outputs": [
    {
     "data": {
      "text/plain": [
       "[('owns', 0.18416864793514212),\n",
       " ('is', 0.08840593076215217),\n",
       " ('the', 0.08454213205396005),\n",
       " ('long', 0.07613590230790047),\n",
       " ('partners', 0.07559552411502671),\n",
       " ('of', 0.06700680827319175),\n",
       " ('to', 0.0568647317979676),\n",
       " ('and', 0.05677751606481321),\n",
       " ('short', 0.05595622057821746),\n",
       " ('investment', 0.055637613123345225)]"
      ]
     },
     "execution_count": 32,
     "metadata": {},
     "output_type": "execute_result"
    }
   ],
   "source": [
    "model.get_topic(1)"
   ]
  },
  {
   "cell_type": "code",
   "execution_count": 33,
   "metadata": {},
   "outputs": [
    {
     "data": {
      "text/html": [
       "<div>\n",
       "<style scoped>\n",
       "    .dataframe tbody tr th:only-of-type {\n",
       "        vertical-align: middle;\n",
       "    }\n",
       "\n",
       "    .dataframe tbody tr th {\n",
       "        vertical-align: top;\n",
       "    }\n",
       "\n",
       "    .dataframe thead th {\n",
       "        text-align: right;\n",
       "    }\n",
       "</style>\n",
       "<table border=\"1\" class=\"dataframe\">\n",
       "  <thead>\n",
       "    <tr style=\"text-align: right;\">\n",
       "      <th></th>\n",
       "      <th>Topic</th>\n",
       "      <th>Count</th>\n",
       "    </tr>\n",
       "  </thead>\n",
       "  <tbody>\n",
       "    <tr>\n",
       "      <th>0</th>\n",
       "      <td>0</td>\n",
       "      <td>560</td>\n",
       "    </tr>\n",
       "    <tr>\n",
       "      <th>1</th>\n",
       "      <td>1</td>\n",
       "      <td>33</td>\n",
       "    </tr>\n",
       "  </tbody>\n",
       "</table>\n",
       "</div>"
      ],
      "text/plain": [
       "   Topic  Count\n",
       "0      0    560\n",
       "1      1     33"
      ]
     },
     "execution_count": 33,
     "metadata": {},
     "output_type": "execute_result"
    }
   ],
   "source": [
    "model.get_topic_freq()"
   ]
  },
  {
   "cell_type": "markdown",
   "metadata": {},
   "source": [
    "## 3.1. BerTopic with transformer as vectorizer"
   ]
  },
  {
   "cell_type": "code",
   "execution_count": 212,
   "metadata": {},
   "outputs": [],
   "source": [
    "# X = data[\"description\"].dropna().reset_index(drop=True)\n",
    "X = data[\"title\"]"
   ]
  },
  {
   "cell_type": "code",
   "execution_count": 213,
   "metadata": {},
   "outputs": [
    {
     "name": "stderr",
     "output_type": "stream",
     "text": [
      "Batches: 100%|██████████| 20/20 [00:04<00:00,  4.95it/s]\n",
      "2022-03-24 19:05:43,722 - BERTopic - Transformed documents to Embeddings\n",
      "2022-03-24 19:05:45,629 - BERTopic - Reduced dimensionality with UMAP\n",
      "2022-03-24 19:05:45,669 - BERTopic - Clustered UMAP embeddings with HDBSCAN\n",
      "2022-03-24 19:05:46,155 - BERTopic - Reduced number of topics from 7 to 7\n"
     ]
    }
   ],
   "source": [
    "# Model\n",
    "umap_model = UMAP(\n",
    "    n_neighbors=15,\n",
    "    n_components=5,\n",
    "    min_dist=0.0,\n",
    "    metric=\"cosine\",\n",
    "    random_state=42,\n",
    ")\n",
    "model = BERTopic(\n",
    "    language=\"english\",\n",
    "    verbose=True,\n",
    "    calculate_probabilities=True,\n",
    "    umap_model=umap_model,\n",
    "    n_gram_range=(2, 4),\n",
    "    nr_topics=\"auto\",\n",
    "    min_topic_size=15,\n",
    ")\n",
    "topics, probabilities = model.fit_transform(X)\n"
   ]
  },
  {
   "cell_type": "code",
   "execution_count": 214,
   "metadata": {},
   "outputs": [
    {
     "data": {
      "text/html": [
       "<div>\n",
       "<style scoped>\n",
       "    .dataframe tbody tr th:only-of-type {\n",
       "        vertical-align: middle;\n",
       "    }\n",
       "\n",
       "    .dataframe tbody tr th {\n",
       "        vertical-align: top;\n",
       "    }\n",
       "\n",
       "    .dataframe thead th {\n",
       "        text-align: right;\n",
       "    }\n",
       "</style>\n",
       "<table border=\"1\" class=\"dataframe\">\n",
       "  <thead>\n",
       "    <tr style=\"text-align: right;\">\n",
       "      <th></th>\n",
       "      <th>Topic</th>\n",
       "      <th>Count</th>\n",
       "    </tr>\n",
       "  </thead>\n",
       "  <tbody>\n",
       "    <tr>\n",
       "      <th>0</th>\n",
       "      <td>-1</td>\n",
       "      <td>301</td>\n",
       "    </tr>\n",
       "    <tr>\n",
       "      <th>1</th>\n",
       "      <td>0</td>\n",
       "      <td>143</td>\n",
       "    </tr>\n",
       "    <tr>\n",
       "      <th>2</th>\n",
       "      <td>1</td>\n",
       "      <td>73</td>\n",
       "    </tr>\n",
       "    <tr>\n",
       "      <th>3</th>\n",
       "      <td>2</td>\n",
       "      <td>42</td>\n",
       "    </tr>\n",
       "    <tr>\n",
       "      <th>4</th>\n",
       "      <td>3</td>\n",
       "      <td>28</td>\n",
       "    </tr>\n",
       "    <tr>\n",
       "      <th>5</th>\n",
       "      <td>4</td>\n",
       "      <td>23</td>\n",
       "    </tr>\n",
       "    <tr>\n",
       "      <th>6</th>\n",
       "      <td>5</td>\n",
       "      <td>15</td>\n",
       "    </tr>\n",
       "  </tbody>\n",
       "</table>\n",
       "</div>"
      ],
      "text/plain": [
       "   Topic  Count\n",
       "0     -1    301\n",
       "1      0    143\n",
       "2      1     73\n",
       "3      2     42\n",
       "4      3     28\n",
       "5      4     23\n",
       "6      5     15"
      ]
     },
     "execution_count": 214,
     "metadata": {},
     "output_type": "execute_result"
    }
   ],
   "source": [
    "model.get_topic_freq()"
   ]
  },
  {
   "cell_type": "code",
   "execution_count": 215,
   "metadata": {},
   "outputs": [
    {
     "data": {
      "text/html": [
       "<style type=\"text/css\">\n",
       "</style>\n",
       "<table id=\"T_9411d\">\n",
       "  <thead>\n",
       "    <tr>\n",
       "      <th id=\"T_9411d_level0_col0\" class=\"col_heading level0 col0\" >Cluster #</th>\n",
       "      <th id=\"T_9411d_level0_col1\" class=\"col_heading level0 col1\" >Cluster name</th>\n",
       "      <th id=\"T_9411d_level0_col2\" class=\"col_heading level0 col2\" >Topics</th>\n",
       "      <th id=\"T_9411d_level0_col3\" class=\"col_heading level0 col3\" >Number of topics</th>\n",
       "    </tr>\n",
       "  </thead>\n",
       "  <tbody>\n",
       "    <tr>\n",
       "      <td id=\"T_9411d_row0_col0\" class=\"data row0 col0\" >0</td>\n",
       "      <td id=\"T_9411d_row0_col1\" class=\"data row0 col1\" >stocks making</td>\n",
       "      <td id=\"T_9411d_row0_col2\" class=\"data row0 col2\" >stocks making, the fed, making the biggest moves, making the biggest, the biggest moves, the biggest, making the, biggest moves, stocks making the biggest, stocks making the</td>\n",
       "      <td id=\"T_9411d_row0_col3\" class=\"data row0 col3\" >143</td>\n",
       "    </tr>\n",
       "    <tr>\n",
       "      <td id=\"T_9411d_row1_col0\" class=\"data row1 col0\" >1</td>\n",
       "      <td id=\"T_9411d_row1_col1\" class=\"data row1 col1\" >white house</td>\n",
       "      <td id=\"T_9411d_row1_col2\" class=\"data row1 col2\" >white house, donald trump, plans to, new york, coronavirus cases, likely to, york gov, for retirement, fully vaccinated, new york gov</td>\n",
       "      <td id=\"T_9411d_row1_col3\" class=\"data row1 col3\" >73</td>\n",
       "    </tr>\n",
       "    <tr>\n",
       "      <td id=\"T_9411d_row2_col0\" class=\"data row2 col0\" >2</td>\n",
       "      <td id=\"T_9411d_row2_col1\" class=\"data row2 col1\" >the brexit</td>\n",
       "      <td id=\"T_9411d_row2_col2\" class=\"data row2 col2\" >the brexit, the euro, central bank, euro zone, vs dollar, vs yen, on the, pm tsipras says, postelection crisis euro zone, properties european</td>\n",
       "      <td id=\"T_9411d_row2_col3\" class=\"data row2 col3\" >42</td>\n",
       "    </tr>\n",
       "    <tr>\n",
       "      <td id=\"T_9411d_row3_col0\" class=\"data row3 col0\" >3</td>\n",
       "      <td id=\"T_9411d_row3_col1\" class=\"data row3 col1\" >to open</td>\n",
       "      <td id=\"T_9411d_row3_col2\" class=\"data row3 col2\" >to open, video game, to be, 2011 surge, pct in january fliers, open at walt disney, overheating sears is, on big retailers big, park in, park in malaysia</td>\n",
       "      <td id=\"T_9411d_row3_col3\" class=\"data row3 col3\" >28</td>\n",
       "    </tr>\n",
       "    <tr>\n",
       "      <td id=\"T_9411d_row4_col0\" class=\"data row4 col0\" >4</td>\n",
       "      <td id=\"T_9411d_row4_col1\" class=\"data row4 col1\" >ceo pay</td>\n",
       "      <td id=\"T_9411d_row4_col2\" class=\"data row4 col2\" >ceo pay, due to, out of, 10 million, on protests equal, nobel says ceo ton, not much, officer standish names raman, of ceo oneal was, of ceo</td>\n",
       "      <td id=\"T_9411d_row4_col3\" class=\"data row4 col3\" >23</td>\n",
       "    </tr>\n",
       "    <tr>\n",
       "      <td id=\"T_9411d_row5_col0\" class=\"data row5 col0\" >5</td>\n",
       "      <td id=\"T_9411d_row5_col1\" class=\"data row5 col1\" >saudi arabia</td>\n",
       "      <td id=\"T_9411d_row5_col2\" class=\"data row5 col2\" >saudi arabia, oil prices, 75 billion, prices will rise analyst, saudi arabia withdraws overseas, reports us, package supports development, package supports development of, relations not, pushes prices higher saudi</td>\n",
       "      <td id=\"T_9411d_row5_col3\" class=\"data row5 col3\" >15</td>\n",
       "    </tr>\n",
       "  </tbody>\n",
       "</table>\n"
      ],
      "text/plain": [
       "<pandas.io.formats.style.Styler at 0x1713d09d0>"
      ]
     },
     "execution_count": 215,
     "metadata": {},
     "output_type": "execute_result"
    }
   ],
   "source": [
    "clusters_df = pd.DataFrame(columns=[\"Cluster #\", \"Cluster name\", \"Topics\", \"Number of topics\"])\n",
    "\n",
    "for cluster_index, cluster in model.get_topics().items():\n",
    "    # skipping cluster with outliers\n",
    "    if cluster_index == -1:\n",
    "        continue\n",
    "\n",
    "    # set classter name with topic with highest score\n",
    "    cluster_name = cluster[0][0]\n",
    "    topics = \", \".join(x[0] for x in cluster)\n",
    "    number_of_topics = model.get_topic_freq(cluster_index)\n",
    "\n",
    "    clusters_df.loc[len(clusters_df)] = cluster_index, cluster_name, topics, number_of_topics\n",
    "\n",
    "clusters_df.style.hide_index()"
   ]
  },
  {
   "cell_type": "code",
   "execution_count": 147,
   "metadata": {},
   "outputs": [
    {
     "name": "stdout",
     "output_type": "stream",
     "text": [
      "Cluster # 0\n"
     ]
    },
    {
     "data": {
      "text/html": [
       "<div>\n",
       "<style scoped>\n",
       "    .dataframe tbody tr th:only-of-type {\n",
       "        vertical-align: middle;\n",
       "    }\n",
       "\n",
       "    .dataframe tbody tr th {\n",
       "        vertical-align: top;\n",
       "    }\n",
       "\n",
       "    .dataframe thead th {\n",
       "        text-align: right;\n",
       "    }\n",
       "</style>\n",
       "<table border=\"1\" class=\"dataframe\">\n",
       "  <thead>\n",
       "    <tr style=\"text-align: right;\">\n",
       "      <th></th>\n",
       "      <th>Topic</th>\n",
       "      <th>Score</th>\n",
       "    </tr>\n",
       "  </thead>\n",
       "  <tbody>\n",
       "    <tr>\n",
       "      <th>0</th>\n",
       "      <td>white house</td>\n",
       "      <td>0.013815</td>\n",
       "    </tr>\n",
       "    <tr>\n",
       "      <th>1</th>\n",
       "      <td>donald trump</td>\n",
       "      <td>0.009041</td>\n",
       "    </tr>\n",
       "    <tr>\n",
       "      <th>2</th>\n",
       "      <td>plans to</td>\n",
       "      <td>0.008618</td>\n",
       "    </tr>\n",
       "    <tr>\n",
       "      <th>3</th>\n",
       "      <td>government shutdown</td>\n",
       "      <td>0.006426</td>\n",
       "    </tr>\n",
       "    <tr>\n",
       "      <th>4</th>\n",
       "      <td>coronavirus cases</td>\n",
       "      <td>0.006426</td>\n",
       "    </tr>\n",
       "    <tr>\n",
       "      <th>5</th>\n",
       "      <td>new york gov</td>\n",
       "      <td>0.006426</td>\n",
       "    </tr>\n",
       "    <tr>\n",
       "      <th>6</th>\n",
       "      <td>tax cuts</td>\n",
       "      <td>0.006426</td>\n",
       "    </tr>\n",
       "    <tr>\n",
       "      <th>7</th>\n",
       "      <td>york gov</td>\n",
       "      <td>0.006426</td>\n",
       "    </tr>\n",
       "    <tr>\n",
       "      <th>8</th>\n",
       "      <td>fully vaccinated</td>\n",
       "      <td>0.006426</td>\n",
       "    </tr>\n",
       "    <tr>\n",
       "      <th>9</th>\n",
       "      <td>likely to</td>\n",
       "      <td>0.006426</td>\n",
       "    </tr>\n",
       "  </tbody>\n",
       "</table>\n",
       "</div>"
      ],
      "text/plain": [
       "                 Topic     Score\n",
       "0          white house  0.013815\n",
       "1         donald trump  0.009041\n",
       "2             plans to  0.008618\n",
       "3  government shutdown  0.006426\n",
       "4    coronavirus cases  0.006426\n",
       "5         new york gov  0.006426\n",
       "6             tax cuts  0.006426\n",
       "7             york gov  0.006426\n",
       "8     fully vaccinated  0.006426\n",
       "9            likely to  0.006426"
      ]
     },
     "metadata": {},
     "output_type": "display_data"
    },
    {
     "name": "stdout",
     "output_type": "stream",
     "text": [
      " -  -  -  -  -  -  -  -  -  -  -  -  -  -  -  -  -  -  -  -  -  -  -  -  -  -  -  -  -  -  -  -  -  -  -  -  -  -  -  -  -  -  -  -  -  -  -  -  -  - \n",
      "Cluster # 1\n"
     ]
    },
    {
     "data": {
      "text/html": [
       "<div>\n",
       "<style scoped>\n",
       "    .dataframe tbody tr th:only-of-type {\n",
       "        vertical-align: middle;\n",
       "    }\n",
       "\n",
       "    .dataframe tbody tr th {\n",
       "        vertical-align: top;\n",
       "    }\n",
       "\n",
       "    .dataframe thead th {\n",
       "        text-align: right;\n",
       "    }\n",
       "</style>\n",
       "<table border=\"1\" class=\"dataframe\">\n",
       "  <thead>\n",
       "    <tr style=\"text-align: right;\">\n",
       "      <th></th>\n",
       "      <th>Topic</th>\n",
       "      <th>Score</th>\n",
       "    </tr>\n",
       "  </thead>\n",
       "  <tbody>\n",
       "    <tr>\n",
       "      <th>0</th>\n",
       "      <td>to open</td>\n",
       "      <td>0.013249</td>\n",
       "    </tr>\n",
       "    <tr>\n",
       "      <th>1</th>\n",
       "      <td>to deliver</td>\n",
       "      <td>0.009417</td>\n",
       "    </tr>\n",
       "    <tr>\n",
       "      <th>2</th>\n",
       "      <td>video game</td>\n",
       "      <td>0.009417</td>\n",
       "    </tr>\n",
       "    <tr>\n",
       "      <th>3</th>\n",
       "      <td>cctv script</td>\n",
       "      <td>0.009417</td>\n",
       "    </tr>\n",
       "    <tr>\n",
       "      <th>4</th>\n",
       "      <td>to be</td>\n",
       "      <td>0.008098</td>\n",
       "    </tr>\n",
       "    <tr>\n",
       "      <th>5</th>\n",
       "      <td>overheating sears is</td>\n",
       "      <td>0.005208</td>\n",
       "    </tr>\n",
       "    <tr>\n",
       "      <th>6</th>\n",
       "      <td>pfizer no ifs ands</td>\n",
       "      <td>0.005208</td>\n",
       "    </tr>\n",
       "    <tr>\n",
       "      <th>7</th>\n",
       "      <td>pharmacy is</td>\n",
       "      <td>0.005208</td>\n",
       "    </tr>\n",
       "    <tr>\n",
       "      <th>8</th>\n",
       "      <td>pharmacy is complementary</td>\n",
       "      <td>0.005208</td>\n",
       "    </tr>\n",
       "    <tr>\n",
       "      <th>9</th>\n",
       "      <td>pharmacy is complementary not</td>\n",
       "      <td>0.005208</td>\n",
       "    </tr>\n",
       "  </tbody>\n",
       "</table>\n",
       "</div>"
      ],
      "text/plain": [
       "                           Topic     Score\n",
       "0                        to open  0.013249\n",
       "1                     to deliver  0.009417\n",
       "2                     video game  0.009417\n",
       "3                    cctv script  0.009417\n",
       "4                          to be  0.008098\n",
       "5           overheating sears is  0.005208\n",
       "6             pfizer no ifs ands  0.005208\n",
       "7                    pharmacy is  0.005208\n",
       "8      pharmacy is complementary  0.005208\n",
       "9  pharmacy is complementary not  0.005208"
      ]
     },
     "metadata": {},
     "output_type": "display_data"
    },
    {
     "name": "stdout",
     "output_type": "stream",
     "text": [
      " -  -  -  -  -  -  -  -  -  -  -  -  -  -  -  -  -  -  -  -  -  -  -  -  -  -  -  -  -  -  -  -  -  -  -  -  -  -  -  -  -  -  -  -  -  -  -  -  -  - \n",
      "Cluster # 2\n"
     ]
    },
    {
     "data": {
      "text/html": [
       "<div>\n",
       "<style scoped>\n",
       "    .dataframe tbody tr th:only-of-type {\n",
       "        vertical-align: middle;\n",
       "    }\n",
       "\n",
       "    .dataframe tbody tr th {\n",
       "        vertical-align: top;\n",
       "    }\n",
       "\n",
       "    .dataframe thead th {\n",
       "        text-align: right;\n",
       "    }\n",
       "</style>\n",
       "<table border=\"1\" class=\"dataframe\">\n",
       "  <thead>\n",
       "    <tr style=\"text-align: right;\">\n",
       "      <th></th>\n",
       "      <th>Topic</th>\n",
       "      <th>Score</th>\n",
       "    </tr>\n",
       "  </thead>\n",
       "  <tbody>\n",
       "    <tr>\n",
       "      <th>0</th>\n",
       "      <td>euro zone</td>\n",
       "      <td>0.010931</td>\n",
       "    </tr>\n",
       "    <tr>\n",
       "      <th>1</th>\n",
       "      <td>the brexit</td>\n",
       "      <td>0.010931</td>\n",
       "    </tr>\n",
       "    <tr>\n",
       "      <th>2</th>\n",
       "      <td>the euro</td>\n",
       "      <td>0.010931</td>\n",
       "    </tr>\n",
       "    <tr>\n",
       "      <th>3</th>\n",
       "      <td>central bank</td>\n",
       "      <td>0.010931</td>\n",
       "    </tr>\n",
       "    <tr>\n",
       "      <th>4</th>\n",
       "      <td>vs dollar</td>\n",
       "      <td>0.010931</td>\n",
       "    </tr>\n",
       "    <tr>\n",
       "      <th>5</th>\n",
       "      <td>vs yen</td>\n",
       "      <td>0.010931</td>\n",
       "    </tr>\n",
       "    <tr>\n",
       "      <th>6</th>\n",
       "      <td>on the</td>\n",
       "      <td>0.008839</td>\n",
       "    </tr>\n",
       "    <tr>\n",
       "      <th>7</th>\n",
       "      <td>plan if talks</td>\n",
       "      <td>0.006045</td>\n",
       "    </tr>\n",
       "    <tr>\n",
       "      <th>8</th>\n",
       "      <td>plan if talks fail</td>\n",
       "      <td>0.006045</td>\n",
       "    </tr>\n",
       "    <tr>\n",
       "      <th>9</th>\n",
       "      <td>president luxembourgs pm</td>\n",
       "      <td>0.006045</td>\n",
       "    </tr>\n",
       "  </tbody>\n",
       "</table>\n",
       "</div>"
      ],
      "text/plain": [
       "                      Topic     Score\n",
       "0                 euro zone  0.010931\n",
       "1                the brexit  0.010931\n",
       "2                  the euro  0.010931\n",
       "3              central bank  0.010931\n",
       "4                 vs dollar  0.010931\n",
       "5                    vs yen  0.010931\n",
       "6                    on the  0.008839\n",
       "7             plan if talks  0.006045\n",
       "8        plan if talks fail  0.006045\n",
       "9  president luxembourgs pm  0.006045"
      ]
     },
     "metadata": {},
     "output_type": "display_data"
    },
    {
     "name": "stdout",
     "output_type": "stream",
     "text": [
      " -  -  -  -  -  -  -  -  -  -  -  -  -  -  -  -  -  -  -  -  -  -  -  -  -  -  -  -  -  -  -  -  -  -  -  -  -  -  -  -  -  -  -  -  -  -  -  -  -  - \n",
      "Cluster # 3\n"
     ]
    },
    {
     "data": {
      "text/html": [
       "<div>\n",
       "<style scoped>\n",
       "    .dataframe tbody tr th:only-of-type {\n",
       "        vertical-align: middle;\n",
       "    }\n",
       "\n",
       "    .dataframe tbody tr th {\n",
       "        vertical-align: top;\n",
       "    }\n",
       "\n",
       "    .dataframe thead th {\n",
       "        text-align: right;\n",
       "    }\n",
       "</style>\n",
       "<table border=\"1\" class=\"dataframe\">\n",
       "  <thead>\n",
       "    <tr style=\"text-align: right;\">\n",
       "      <th></th>\n",
       "      <th>Topic</th>\n",
       "      <th>Score</th>\n",
       "    </tr>\n",
       "  </thead>\n",
       "  <tbody>\n",
       "    <tr>\n",
       "      <th>0</th>\n",
       "      <td>stocks making</td>\n",
       "      <td>0.030073</td>\n",
       "    </tr>\n",
       "    <tr>\n",
       "      <th>1</th>\n",
       "      <td>making the biggest</td>\n",
       "      <td>0.030073</td>\n",
       "    </tr>\n",
       "    <tr>\n",
       "      <th>2</th>\n",
       "      <td>the biggest moves</td>\n",
       "      <td>0.030073</td>\n",
       "    </tr>\n",
       "    <tr>\n",
       "      <th>3</th>\n",
       "      <td>stocks making the</td>\n",
       "      <td>0.030073</td>\n",
       "    </tr>\n",
       "    <tr>\n",
       "      <th>4</th>\n",
       "      <td>biggest moves</td>\n",
       "      <td>0.030073</td>\n",
       "    </tr>\n",
       "    <tr>\n",
       "      <th>5</th>\n",
       "      <td>making the</td>\n",
       "      <td>0.030073</td>\n",
       "    </tr>\n",
       "    <tr>\n",
       "      <th>6</th>\n",
       "      <td>the biggest</td>\n",
       "      <td>0.030073</td>\n",
       "    </tr>\n",
       "    <tr>\n",
       "      <th>7</th>\n",
       "      <td>making the biggest moves</td>\n",
       "      <td>0.030073</td>\n",
       "    </tr>\n",
       "    <tr>\n",
       "      <th>8</th>\n",
       "      <td>stocks making the biggest</td>\n",
       "      <td>0.030073</td>\n",
       "    </tr>\n",
       "    <tr>\n",
       "      <th>9</th>\n",
       "      <td>early movers</td>\n",
       "      <td>0.025012</td>\n",
       "    </tr>\n",
       "  </tbody>\n",
       "</table>\n",
       "</div>"
      ],
      "text/plain": [
       "                       Topic     Score\n",
       "0              stocks making  0.030073\n",
       "1         making the biggest  0.030073\n",
       "2          the biggest moves  0.030073\n",
       "3          stocks making the  0.030073\n",
       "4              biggest moves  0.030073\n",
       "5                 making the  0.030073\n",
       "6                the biggest  0.030073\n",
       "7   making the biggest moves  0.030073\n",
       "8  stocks making the biggest  0.030073\n",
       "9               early movers  0.025012"
      ]
     },
     "metadata": {},
     "output_type": "display_data"
    },
    {
     "name": "stdout",
     "output_type": "stream",
     "text": [
      " -  -  -  -  -  -  -  -  -  -  -  -  -  -  -  -  -  -  -  -  -  -  -  -  -  -  -  -  -  -  -  -  -  -  -  -  -  -  -  -  -  -  -  -  -  -  -  -  -  - \n",
      "Cluster # 4\n"
     ]
    },
    {
     "data": {
      "text/html": [
       "<div>\n",
       "<style scoped>\n",
       "    .dataframe tbody tr th:only-of-type {\n",
       "        vertical-align: middle;\n",
       "    }\n",
       "\n",
       "    .dataframe tbody tr th {\n",
       "        vertical-align: top;\n",
       "    }\n",
       "\n",
       "    .dataframe thead th {\n",
       "        text-align: right;\n",
       "    }\n",
       "</style>\n",
       "<table border=\"1\" class=\"dataframe\">\n",
       "  <thead>\n",
       "    <tr style=\"text-align: right;\">\n",
       "      <th></th>\n",
       "      <th>Topic</th>\n",
       "      <th>Score</th>\n",
       "    </tr>\n",
       "  </thead>\n",
       "  <tbody>\n",
       "    <tr>\n",
       "      <th>0</th>\n",
       "      <td>due to</td>\n",
       "      <td>0.017757</td>\n",
       "    </tr>\n",
       "    <tr>\n",
       "      <th>1</th>\n",
       "      <td>ceo pay</td>\n",
       "      <td>0.017757</td>\n",
       "    </tr>\n",
       "    <tr>\n",
       "      <th>2</th>\n",
       "      <td>out of</td>\n",
       "      <td>0.015270</td>\n",
       "    </tr>\n",
       "    <tr>\n",
       "      <th>3</th>\n",
       "      <td>10 million</td>\n",
       "      <td>0.009821</td>\n",
       "    </tr>\n",
       "    <tr>\n",
       "      <th>4</th>\n",
       "      <td>organizational shuffle ceo</td>\n",
       "      <td>0.009821</td>\n",
       "    </tr>\n",
       "    <tr>\n",
       "      <th>5</th>\n",
       "      <td>oneal was</td>\n",
       "      <td>0.009821</td>\n",
       "    </tr>\n",
       "    <tr>\n",
       "      <th>6</th>\n",
       "      <td>of ceo oneal was</td>\n",
       "      <td>0.009821</td>\n",
       "    </tr>\n",
       "    <tr>\n",
       "      <th>7</th>\n",
       "      <td>of global fixed</td>\n",
       "      <td>0.009821</td>\n",
       "    </tr>\n",
       "    <tr>\n",
       "      <th>8</th>\n",
       "      <td>of firming seen</td>\n",
       "      <td>0.009821</td>\n",
       "    </tr>\n",
       "    <tr>\n",
       "      <th>9</th>\n",
       "      <td>of firming seen ge</td>\n",
       "      <td>0.009821</td>\n",
       "    </tr>\n",
       "  </tbody>\n",
       "</table>\n",
       "</div>"
      ],
      "text/plain": [
       "                        Topic     Score\n",
       "0                      due to  0.017757\n",
       "1                     ceo pay  0.017757\n",
       "2                      out of  0.015270\n",
       "3                  10 million  0.009821\n",
       "4  organizational shuffle ceo  0.009821\n",
       "5                   oneal was  0.009821\n",
       "6            of ceo oneal was  0.009821\n",
       "7             of global fixed  0.009821\n",
       "8             of firming seen  0.009821\n",
       "9          of firming seen ge  0.009821"
      ]
     },
     "metadata": {},
     "output_type": "display_data"
    },
    {
     "name": "stdout",
     "output_type": "stream",
     "text": [
      " -  -  -  -  -  -  -  -  -  -  -  -  -  -  -  -  -  -  -  -  -  -  -  -  -  -  -  -  -  -  -  -  -  -  -  -  -  -  -  -  -  -  -  -  -  -  -  -  -  - \n",
      "Cluster # 5\n"
     ]
    },
    {
     "data": {
      "text/html": [
       "<div>\n",
       "<style scoped>\n",
       "    .dataframe tbody tr th:only-of-type {\n",
       "        vertical-align: middle;\n",
       "    }\n",
       "\n",
       "    .dataframe tbody tr th {\n",
       "        vertical-align: top;\n",
       "    }\n",
       "\n",
       "    .dataframe thead th {\n",
       "        text-align: right;\n",
       "    }\n",
       "</style>\n",
       "<table border=\"1\" class=\"dataframe\">\n",
       "  <thead>\n",
       "    <tr style=\"text-align: right;\">\n",
       "      <th></th>\n",
       "      <th>Topic</th>\n",
       "      <th>Score</th>\n",
       "    </tr>\n",
       "  </thead>\n",
       "  <tbody>\n",
       "    <tr>\n",
       "      <th>0</th>\n",
       "      <td>halftime report</td>\n",
       "      <td>0.028622</td>\n",
       "    </tr>\n",
       "    <tr>\n",
       "      <th>1</th>\n",
       "      <td>lightning round</td>\n",
       "      <td>0.026847</td>\n",
       "    </tr>\n",
       "    <tr>\n",
       "      <th>2</th>\n",
       "      <td>2four strong</td>\n",
       "      <td>0.015829</td>\n",
       "    </tr>\n",
       "    <tr>\n",
       "      <th>3</th>\n",
       "      <td>problem with</td>\n",
       "      <td>0.015829</td>\n",
       "    </tr>\n",
       "    <tr>\n",
       "      <th>4</th>\n",
       "      <td>shakes up spacex</td>\n",
       "      <td>0.015829</td>\n",
       "    </tr>\n",
       "    <tr>\n",
       "      <th>5</th>\n",
       "      <td>presented with oneofakind babe</td>\n",
       "      <td>0.015829</td>\n",
       "    </tr>\n",
       "    <tr>\n",
       "      <th>6</th>\n",
       "      <td>rocks midtown</td>\n",
       "      <td>0.015829</td>\n",
       "    </tr>\n",
       "    <tr>\n",
       "      <th>7</th>\n",
       "      <td>rock bottom utah halftime</td>\n",
       "      <td>0.015829</td>\n",
       "    </tr>\n",
       "    <tr>\n",
       "      <th>8</th>\n",
       "      <td>rock bottom utah</td>\n",
       "      <td>0.015829</td>\n",
       "    </tr>\n",
       "    <tr>\n",
       "      <th>9</th>\n",
       "      <td>rock bottom</td>\n",
       "      <td>0.015829</td>\n",
       "    </tr>\n",
       "  </tbody>\n",
       "</table>\n",
       "</div>"
      ],
      "text/plain": [
       "                            Topic     Score\n",
       "0                 halftime report  0.028622\n",
       "1                 lightning round  0.026847\n",
       "2                    2four strong  0.015829\n",
       "3                    problem with  0.015829\n",
       "4                shakes up spacex  0.015829\n",
       "5  presented with oneofakind babe  0.015829\n",
       "6                   rocks midtown  0.015829\n",
       "7       rock bottom utah halftime  0.015829\n",
       "8                rock bottom utah  0.015829\n",
       "9                     rock bottom  0.015829"
      ]
     },
     "metadata": {},
     "output_type": "display_data"
    },
    {
     "name": "stdout",
     "output_type": "stream",
     "text": [
      " -  -  -  -  -  -  -  -  -  -  -  -  -  -  -  -  -  -  -  -  -  -  -  -  -  -  -  -  -  -  -  -  -  -  -  -  -  -  -  -  -  -  -  -  -  -  -  -  -  - \n",
      "Cluster # 6\n"
     ]
    },
    {
     "data": {
      "text/html": [
       "<div>\n",
       "<style scoped>\n",
       "    .dataframe tbody tr th:only-of-type {\n",
       "        vertical-align: middle;\n",
       "    }\n",
       "\n",
       "    .dataframe tbody tr th {\n",
       "        vertical-align: top;\n",
       "    }\n",
       "\n",
       "    .dataframe thead th {\n",
       "        text-align: right;\n",
       "    }\n",
       "</style>\n",
       "<table border=\"1\" class=\"dataframe\">\n",
       "  <thead>\n",
       "    <tr style=\"text-align: right;\">\n",
       "      <th></th>\n",
       "      <th>Topic</th>\n",
       "      <th>Score</th>\n",
       "    </tr>\n",
       "  </thead>\n",
       "  <tbody>\n",
       "    <tr>\n",
       "      <th>0</th>\n",
       "      <td>saudi arabia</td>\n",
       "      <td>0.025896</td>\n",
       "    </tr>\n",
       "    <tr>\n",
       "      <th>1</th>\n",
       "      <td>stocks close higher</td>\n",
       "      <td>0.024290</td>\n",
       "    </tr>\n",
       "    <tr>\n",
       "      <th>2</th>\n",
       "      <td>european stocks close higher</td>\n",
       "      <td>0.024290</td>\n",
       "    </tr>\n",
       "    <tr>\n",
       "      <th>3</th>\n",
       "      <td>close higher</td>\n",
       "      <td>0.024290</td>\n",
       "    </tr>\n",
       "    <tr>\n",
       "      <th>4</th>\n",
       "      <td>oil prices</td>\n",
       "      <td>0.024290</td>\n",
       "    </tr>\n",
       "    <tr>\n",
       "      <th>5</th>\n",
       "      <td>stocks close</td>\n",
       "      <td>0.023151</td>\n",
       "    </tr>\n",
       "    <tr>\n",
       "      <th>6</th>\n",
       "      <td>european stocks</td>\n",
       "      <td>0.023151</td>\n",
       "    </tr>\n",
       "    <tr>\n",
       "      <th>7</th>\n",
       "      <td>european stocks close</td>\n",
       "      <td>0.023151</td>\n",
       "    </tr>\n",
       "    <tr>\n",
       "      <th>8</th>\n",
       "      <td>production capacity will return</td>\n",
       "      <td>0.014322</td>\n",
       "    </tr>\n",
       "    <tr>\n",
       "      <th>9</th>\n",
       "      <td>production capacity will</td>\n",
       "      <td>0.014322</td>\n",
       "    </tr>\n",
       "  </tbody>\n",
       "</table>\n",
       "</div>"
      ],
      "text/plain": [
       "                             Topic     Score\n",
       "0                     saudi arabia  0.025896\n",
       "1              stocks close higher  0.024290\n",
       "2     european stocks close higher  0.024290\n",
       "3                     close higher  0.024290\n",
       "4                       oil prices  0.024290\n",
       "5                     stocks close  0.023151\n",
       "6                  european stocks  0.023151\n",
       "7            european stocks close  0.023151\n",
       "8  production capacity will return  0.014322\n",
       "9         production capacity will  0.014322"
      ]
     },
     "metadata": {},
     "output_type": "display_data"
    },
    {
     "name": "stdout",
     "output_type": "stream",
     "text": [
      " -  -  -  -  -  -  -  -  -  -  -  -  -  -  -  -  -  -  -  -  -  -  -  -  -  -  -  -  -  -  -  -  -  -  -  -  -  -  -  -  -  -  -  -  -  -  -  -  -  - \n",
      "Cluster # 7\n"
     ]
    },
    {
     "data": {
      "text/html": [
       "<div>\n",
       "<style scoped>\n",
       "    .dataframe tbody tr th:only-of-type {\n",
       "        vertical-align: middle;\n",
       "    }\n",
       "\n",
       "    .dataframe tbody tr th {\n",
       "        vertical-align: top;\n",
       "    }\n",
       "\n",
       "    .dataframe thead th {\n",
       "        text-align: right;\n",
       "    }\n",
       "</style>\n",
       "<table border=\"1\" class=\"dataframe\">\n",
       "  <thead>\n",
       "    <tr style=\"text-align: right;\">\n",
       "      <th></th>\n",
       "      <th>Topic</th>\n",
       "      <th>Score</th>\n",
       "    </tr>\n",
       "  </thead>\n",
       "  <tbody>\n",
       "    <tr>\n",
       "      <th>0</th>\n",
       "      <td>net profit</td>\n",
       "      <td>0.035955</td>\n",
       "    </tr>\n",
       "    <tr>\n",
       "      <th>1</th>\n",
       "      <td>morgan stanley</td>\n",
       "      <td>0.035955</td>\n",
       "    </tr>\n",
       "    <tr>\n",
       "      <th>2</th>\n",
       "      <td>off ratings cut analysts</td>\n",
       "      <td>0.019885</td>\n",
       "    </tr>\n",
       "    <tr>\n",
       "      <th>3</th>\n",
       "      <td>peloton shares rise as</td>\n",
       "      <td>0.019885</td>\n",
       "    </tr>\n",
       "    <tr>\n",
       "      <th>4</th>\n",
       "      <td>q2 net profit rises</td>\n",
       "      <td>0.019885</td>\n",
       "    </tr>\n",
       "    <tr>\n",
       "      <th>5</th>\n",
       "      <td>profit rises 36</td>\n",
       "      <td>0.019885</td>\n",
       "    </tr>\n",
       "    <tr>\n",
       "      <th>6</th>\n",
       "      <td>q2 net</td>\n",
       "      <td>0.019885</td>\n",
       "    </tr>\n",
       "    <tr>\n",
       "      <th>7</th>\n",
       "      <td>profit rises 36 beats</td>\n",
       "      <td>0.019885</td>\n",
       "    </tr>\n",
       "    <tr>\n",
       "      <th>8</th>\n",
       "      <td>pharmaceutical companies just</td>\n",
       "      <td>0.019885</td>\n",
       "    </tr>\n",
       "    <tr>\n",
       "      <th>9</th>\n",
       "      <td>off ratings</td>\n",
       "      <td>0.019885</td>\n",
       "    </tr>\n",
       "  </tbody>\n",
       "</table>\n",
       "</div>"
      ],
      "text/plain": [
       "                           Topic     Score\n",
       "0                     net profit  0.035955\n",
       "1                 morgan stanley  0.035955\n",
       "2       off ratings cut analysts  0.019885\n",
       "3         peloton shares rise as  0.019885\n",
       "4            q2 net profit rises  0.019885\n",
       "5                profit rises 36  0.019885\n",
       "6                         q2 net  0.019885\n",
       "7          profit rises 36 beats  0.019885\n",
       "8  pharmaceutical companies just  0.019885\n",
       "9                    off ratings  0.019885"
      ]
     },
     "metadata": {},
     "output_type": "display_data"
    },
    {
     "name": "stdout",
     "output_type": "stream",
     "text": [
      " -  -  -  -  -  -  -  -  -  -  -  -  -  -  -  -  -  -  -  -  -  -  -  -  -  -  -  -  -  -  -  -  -  -  -  -  -  -  -  -  -  -  -  -  -  -  -  -  -  - \n",
      "Cluster # 8\n"
     ]
    },
    {
     "data": {
      "text/html": [
       "<div>\n",
       "<style scoped>\n",
       "    .dataframe tbody tr th:only-of-type {\n",
       "        vertical-align: middle;\n",
       "    }\n",
       "\n",
       "    .dataframe tbody tr th {\n",
       "        vertical-align: top;\n",
       "    }\n",
       "\n",
       "    .dataframe thead th {\n",
       "        text-align: right;\n",
       "    }\n",
       "</style>\n",
       "<table border=\"1\" class=\"dataframe\">\n",
       "  <thead>\n",
       "    <tr style=\"text-align: right;\">\n",
       "      <th></th>\n",
       "      <th>Topic</th>\n",
       "      <th>Score</th>\n",
       "    </tr>\n",
       "  </thead>\n",
       "  <tbody>\n",
       "    <tr>\n",
       "      <th>0</th>\n",
       "      <td>hedge funds</td>\n",
       "      <td>0.029003</td>\n",
       "    </tr>\n",
       "    <tr>\n",
       "      <th>1</th>\n",
       "      <td>2007 25</td>\n",
       "      <td>0.016040</td>\n",
       "    </tr>\n",
       "    <tr>\n",
       "      <th>2</th>\n",
       "      <td>more danger likely</td>\n",
       "      <td>0.016040</td>\n",
       "    </tr>\n",
       "    <tr>\n",
       "      <th>3</th>\n",
       "      <td>on volatility spook</td>\n",
       "      <td>0.016040</td>\n",
       "    </tr>\n",
       "    <tr>\n",
       "      <th>4</th>\n",
       "      <td>put their money where</td>\n",
       "      <td>0.016040</td>\n",
       "    </tr>\n",
       "    <tr>\n",
       "      <th>5</th>\n",
       "      <td>more danger</td>\n",
       "      <td>0.016040</td>\n",
       "    </tr>\n",
       "    <tr>\n",
       "      <th>6</th>\n",
       "      <td>on the money</td>\n",
       "      <td>0.016040</td>\n",
       "    </tr>\n",
       "    <tr>\n",
       "      <th>7</th>\n",
       "      <td>on pace to plow</td>\n",
       "      <td>0.016040</td>\n",
       "    </tr>\n",
       "    <tr>\n",
       "      <th>8</th>\n",
       "      <td>on pace to</td>\n",
       "      <td>0.016040</td>\n",
       "    </tr>\n",
       "    <tr>\n",
       "      <th>9</th>\n",
       "      <td>on pace</td>\n",
       "      <td>0.016040</td>\n",
       "    </tr>\n",
       "  </tbody>\n",
       "</table>\n",
       "</div>"
      ],
      "text/plain": [
       "                   Topic     Score\n",
       "0            hedge funds  0.029003\n",
       "1                2007 25  0.016040\n",
       "2     more danger likely  0.016040\n",
       "3    on volatility spook  0.016040\n",
       "4  put their money where  0.016040\n",
       "5            more danger  0.016040\n",
       "6           on the money  0.016040\n",
       "7        on pace to plow  0.016040\n",
       "8             on pace to  0.016040\n",
       "9                on pace  0.016040"
      ]
     },
     "metadata": {},
     "output_type": "display_data"
    },
    {
     "name": "stdout",
     "output_type": "stream",
     "text": [
      " -  -  -  -  -  -  -  -  -  -  -  -  -  -  -  -  -  -  -  -  -  -  -  -  -  -  -  -  -  -  -  -  -  -  -  -  -  -  -  -  -  -  -  -  -  -  -  -  -  - \n",
      "Cluster # 9\n"
     ]
    },
    {
     "data": {
      "text/html": [
       "<div>\n",
       "<style scoped>\n",
       "    .dataframe tbody tr th:only-of-type {\n",
       "        vertical-align: middle;\n",
       "    }\n",
       "\n",
       "    .dataframe tbody tr th {\n",
       "        vertical-align: top;\n",
       "    }\n",
       "\n",
       "    .dataframe thead th {\n",
       "        text-align: right;\n",
       "    }\n",
       "</style>\n",
       "<table border=\"1\" class=\"dataframe\">\n",
       "  <thead>\n",
       "    <tr style=\"text-align: right;\">\n",
       "      <th></th>\n",
       "      <th>Topic</th>\n",
       "      <th>Score</th>\n",
       "    </tr>\n",
       "  </thead>\n",
       "  <tbody>\n",
       "    <tr>\n",
       "      <th>0</th>\n",
       "      <td>for retirement</td>\n",
       "      <td>0.035955</td>\n",
       "    </tr>\n",
       "    <tr>\n",
       "      <th>1</th>\n",
       "      <td>about social</td>\n",
       "      <td>0.019885</td>\n",
       "    </tr>\n",
       "    <tr>\n",
       "      <th>2</th>\n",
       "      <td>rule how to</td>\n",
       "      <td>0.019885</td>\n",
       "    </tr>\n",
       "    <tr>\n",
       "      <th>3</th>\n",
       "      <td>strategy as more firms</td>\n",
       "      <td>0.019885</td>\n",
       "    </tr>\n",
       "    <tr>\n",
       "      <th>4</th>\n",
       "      <td>seekers things to</td>\n",
       "      <td>0.019885</td>\n",
       "    </tr>\n",
       "    <tr>\n",
       "      <th>5</th>\n",
       "      <td>strategy as</td>\n",
       "      <td>0.019885</td>\n",
       "    </tr>\n",
       "    <tr>\n",
       "      <th>6</th>\n",
       "      <td>stem cells in the</td>\n",
       "      <td>0.019885</td>\n",
       "    </tr>\n",
       "    <tr>\n",
       "      <th>7</th>\n",
       "      <td>stop saving for</td>\n",
       "      <td>0.019885</td>\n",
       "    </tr>\n",
       "    <tr>\n",
       "      <th>8</th>\n",
       "      <td>stop saving</td>\n",
       "      <td>0.019885</td>\n",
       "    </tr>\n",
       "    <tr>\n",
       "      <th>9</th>\n",
       "      <td>should temporarily</td>\n",
       "      <td>0.019885</td>\n",
       "    </tr>\n",
       "  </tbody>\n",
       "</table>\n",
       "</div>"
      ],
      "text/plain": [
       "                    Topic     Score\n",
       "0          for retirement  0.035955\n",
       "1            about social  0.019885\n",
       "2             rule how to  0.019885\n",
       "3  strategy as more firms  0.019885\n",
       "4       seekers things to  0.019885\n",
       "5             strategy as  0.019885\n",
       "6       stem cells in the  0.019885\n",
       "7         stop saving for  0.019885\n",
       "8             stop saving  0.019885\n",
       "9      should temporarily  0.019885"
      ]
     },
     "metadata": {},
     "output_type": "display_data"
    },
    {
     "name": "stdout",
     "output_type": "stream",
     "text": [
      " -  -  -  -  -  -  -  -  -  -  -  -  -  -  -  -  -  -  -  -  -  -  -  -  -  -  -  -  -  -  -  -  -  -  -  -  -  -  -  -  -  -  -  -  -  -  -  -  -  - \n",
      "Cluster # 10\n"
     ]
    },
    {
     "data": {
      "text/html": [
       "<div>\n",
       "<style scoped>\n",
       "    .dataframe tbody tr th:only-of-type {\n",
       "        vertical-align: middle;\n",
       "    }\n",
       "\n",
       "    .dataframe tbody tr th {\n",
       "        vertical-align: top;\n",
       "    }\n",
       "\n",
       "    .dataframe thead th {\n",
       "        text-align: right;\n",
       "    }\n",
       "</style>\n",
       "<table border=\"1\" class=\"dataframe\">\n",
       "  <thead>\n",
       "    <tr style=\"text-align: right;\">\n",
       "      <th></th>\n",
       "      <th>Topic</th>\n",
       "      <th>Score</th>\n",
       "    </tr>\n",
       "  </thead>\n",
       "  <tbody>\n",
       "    <tr>\n",
       "      <th>0</th>\n",
       "      <td>jim cramer</td>\n",
       "      <td>0.035370</td>\n",
       "    </tr>\n",
       "    <tr>\n",
       "      <th>1</th>\n",
       "      <td>12 laggards</td>\n",
       "      <td>0.019561</td>\n",
       "    </tr>\n",
       "    <tr>\n",
       "      <th>2</th>\n",
       "      <td>microsoft spun</td>\n",
       "      <td>0.019561</td>\n",
       "    </tr>\n",
       "    <tr>\n",
       "      <th>3</th>\n",
       "      <td>money cramers stocks</td>\n",
       "      <td>0.019561</td>\n",
       "    </tr>\n",
       "    <tr>\n",
       "      <th>4</th>\n",
       "      <td>on good holiday season</td>\n",
       "      <td>0.019561</td>\n",
       "    </tr>\n",
       "    <tr>\n",
       "      <th>5</th>\n",
       "      <td>oil prices cramers</td>\n",
       "      <td>0.019561</td>\n",
       "    </tr>\n",
       "    <tr>\n",
       "      <th>6</th>\n",
       "      <td>on good</td>\n",
       "      <td>0.019561</td>\n",
       "    </tr>\n",
       "    <tr>\n",
       "      <th>7</th>\n",
       "      <td>oil prices cramers game</td>\n",
       "      <td>0.019561</td>\n",
       "    </tr>\n",
       "    <tr>\n",
       "      <th>8</th>\n",
       "      <td>more volatility jim</td>\n",
       "      <td>0.019561</td>\n",
       "    </tr>\n",
       "    <tr>\n",
       "      <th>9</th>\n",
       "      <td>left for dead</td>\n",
       "      <td>0.019561</td>\n",
       "    </tr>\n",
       "  </tbody>\n",
       "</table>\n",
       "</div>"
      ],
      "text/plain": [
       "                     Topic     Score\n",
       "0               jim cramer  0.035370\n",
       "1              12 laggards  0.019561\n",
       "2           microsoft spun  0.019561\n",
       "3     money cramers stocks  0.019561\n",
       "4   on good holiday season  0.019561\n",
       "5       oil prices cramers  0.019561\n",
       "6                  on good  0.019561\n",
       "7  oil prices cramers game  0.019561\n",
       "8      more volatility jim  0.019561\n",
       "9            left for dead  0.019561"
      ]
     },
     "metadata": {},
     "output_type": "display_data"
    },
    {
     "name": "stdout",
     "output_type": "stream",
     "text": [
      " -  -  -  -  -  -  -  -  -  -  -  -  -  -  -  -  -  -  -  -  -  -  -  -  -  -  -  -  -  -  -  -  -  -  -  -  -  -  -  -  -  -  -  -  -  -  -  -  -  - \n",
      "Cluster # 11\n"
     ]
    },
    {
     "data": {
      "text/html": [
       "<div>\n",
       "<style scoped>\n",
       "    .dataframe tbody tr th:only-of-type {\n",
       "        vertical-align: middle;\n",
       "    }\n",
       "\n",
       "    .dataframe tbody tr th {\n",
       "        vertical-align: top;\n",
       "    }\n",
       "\n",
       "    .dataframe thead th {\n",
       "        text-align: right;\n",
       "    }\n",
       "</style>\n",
       "<table border=\"1\" class=\"dataframe\">\n",
       "  <thead>\n",
       "    <tr style=\"text-align: right;\">\n",
       "      <th></th>\n",
       "      <th>Topic</th>\n",
       "      <th>Score</th>\n",
       "    </tr>\n",
       "  </thead>\n",
       "  <tbody>\n",
       "    <tr>\n",
       "      <th>0</th>\n",
       "      <td>the fed</td>\n",
       "      <td>0.044893</td>\n",
       "    </tr>\n",
       "    <tr>\n",
       "      <th>1</th>\n",
       "      <td>fed minutes</td>\n",
       "      <td>0.034804</td>\n",
       "    </tr>\n",
       "    <tr>\n",
       "      <th>2</th>\n",
       "      <td>over the map</td>\n",
       "      <td>0.019248</td>\n",
       "    </tr>\n",
       "    <tr>\n",
       "      <th>3</th>\n",
       "      <td>sign of</td>\n",
       "      <td>0.019248</td>\n",
       "    </tr>\n",
       "    <tr>\n",
       "      <th>4</th>\n",
       "      <td>second look at fed</td>\n",
       "      <td>0.019248</td>\n",
       "    </tr>\n",
       "    <tr>\n",
       "      <th>5</th>\n",
       "      <td>sees fiscal boost</td>\n",
       "      <td>0.019248</td>\n",
       "    </tr>\n",
       "    <tr>\n",
       "      <th>6</th>\n",
       "      <td>sees fiscal</td>\n",
       "      <td>0.019248</td>\n",
       "    </tr>\n",
       "    <tr>\n",
       "      <th>7</th>\n",
       "      <td>rally street to take</td>\n",
       "      <td>0.019248</td>\n",
       "    </tr>\n",
       "    <tr>\n",
       "      <th>8</th>\n",
       "      <td>slow rate hikes</td>\n",
       "      <td>0.019248</td>\n",
       "    </tr>\n",
       "    <tr>\n",
       "      <th>9</th>\n",
       "      <td>over the</td>\n",
       "      <td>0.019248</td>\n",
       "    </tr>\n",
       "  </tbody>\n",
       "</table>\n",
       "</div>"
      ],
      "text/plain": [
       "                  Topic     Score\n",
       "0               the fed  0.044893\n",
       "1           fed minutes  0.034804\n",
       "2          over the map  0.019248\n",
       "3               sign of  0.019248\n",
       "4    second look at fed  0.019248\n",
       "5     sees fiscal boost  0.019248\n",
       "6           sees fiscal  0.019248\n",
       "7  rally street to take  0.019248\n",
       "8       slow rate hikes  0.019248\n",
       "9              over the  0.019248"
      ]
     },
     "metadata": {},
     "output_type": "display_data"
    },
    {
     "name": "stdout",
     "output_type": "stream",
     "text": [
      " -  -  -  -  -  -  -  -  -  -  -  -  -  -  -  -  -  -  -  -  -  -  -  -  -  -  -  -  -  -  -  -  -  -  -  -  -  -  -  -  -  -  -  -  -  -  -  -  -  - \n"
     ]
    }
   ],
   "source": [
    "for cluster_index, cluster in model.get_topics().items():\n",
    "    # skipping cluster with outliers\n",
    "    if cluster_index == -1:\n",
    "        continue\n",
    "\n",
    "    print(f\"Cluster # {cluster_index}\")\n",
    "    _df = pd.DataFrame(cluster, columns=[\"Topic\", \"Score\"])\n",
    "    display(_df)\n",
    "    print(\" - \" * 50)\n"
   ]
  },
  {
   "cell_type": "markdown",
   "metadata": {},
   "source": [
    "### With split by year"
   ]
  },
  {
   "cell_type": "code",
   "execution_count": 49,
   "metadata": {},
   "outputs": [],
   "source": [
    "data[\"published_at\"] = pd.to_datetime(data[\"published_at\"], utc=True)"
   ]
  },
  {
   "cell_type": "code",
   "execution_count": 101,
   "metadata": {},
   "outputs": [],
   "source": [
    "# Model\n",
    "umap_model = UMAP(\n",
    "    n_neighbors=15,\n",
    "    n_components=5,\n",
    "    min_dist=0.0,\n",
    "    metric=\"cosine\",\n",
    "    random_state=42,\n",
    ")\n",
    "model = BERTopic(\n",
    "    language=\"english\",\n",
    "    verbose=False,\n",
    "    # calculate_probabilities=True,\n",
    "    # umap_model=umap_model,\n",
    "    # n_gram_range=(2, 4),\n",
    "    # nr_topics=5,\n",
    ")\n"
   ]
  },
  {
   "cell_type": "code",
   "execution_count": 83,
   "metadata": {},
   "outputs": [
    {
     "name": "stderr",
     "output_type": "stream",
     "text": [
      "  0%|          | 0/16 [00:00<?, ?it/s]2022-03-24 17:55:59,458 - BERTopic - Transformed documents to Embeddings\n",
      "2022-03-24 17:56:00,188 - BERTopic - Reduced dimensionality with UMAP\n",
      "2022-03-24 17:56:00,194 - BERTopic - Clustered UMAP embeddings with HDBSCAN\n",
      "2022-03-24 17:56:00,231 - BERTopic - Reduced number of topics from 1 to 1\n",
      "  6%|▋         | 1/16 [00:00<00:14,  1.03it/s]\n"
     ]
    }
   ],
   "source": [
    "year_range = range(data[\"published_at\"].dt.year.min(), data[\"published_at\"].dt.year.max() + 1)\n",
    "\n",
    "for year in tqdm(year_range):\n",
    "    \n",
    "\n",
    "    titles = data.loc[data[\"published_at\"].dt.year == year, \"title\"].reset_index(drop=True)\n",
    "    if len(titles) < 5:\n",
    "        continue\n",
    "    \n",
    "    model.fit(titles)\n",
    "    # print(year, len(titles))\n",
    "    break"
   ]
  },
  {
   "cell_type": "code",
   "execution_count": 87,
   "metadata": {},
   "outputs": [
    {
     "data": {
      "text/html": [
       "<div>\n",
       "<style scoped>\n",
       "    .dataframe tbody tr th:only-of-type {\n",
       "        vertical-align: middle;\n",
       "    }\n",
       "\n",
       "    .dataframe tbody tr th {\n",
       "        vertical-align: top;\n",
       "    }\n",
       "\n",
       "    .dataframe thead th {\n",
       "        text-align: right;\n",
       "    }\n",
       "</style>\n",
       "<table border=\"1\" class=\"dataframe\">\n",
       "  <thead>\n",
       "    <tr style=\"text-align: right;\">\n",
       "      <th></th>\n",
       "      <th>year</th>\n",
       "      <th>Topic_1</th>\n",
       "      <th>Topic_2</th>\n",
       "      <th>Topic_3</th>\n",
       "      <th>Topic_4</th>\n",
       "      <th>Topic_5</th>\n",
       "    </tr>\n",
       "  </thead>\n",
       "  <tbody>\n",
       "  </tbody>\n",
       "</table>\n",
       "</div>"
      ],
      "text/plain": [
       "Empty DataFrame\n",
       "Columns: [year, Topic_1, Topic_2, Topic_3, Topic_4, Topic_5]\n",
       "Index: []"
      ]
     },
     "execution_count": 87,
     "metadata": {},
     "output_type": "execute_result"
    }
   ],
   "source": [
    "topics_df = pd.DataFrame(columns=[\"year\", *[f\"Topic_{x}\" for x in range(1, 6)]])\n",
    "topics_df"
   ]
  },
  {
   "cell_type": "code",
   "execution_count": 90,
   "metadata": {},
   "outputs": [
    {
     "data": {
      "text/plain": [
       "[('the word on', 0.01871518871760522),\n",
       " ('the word', 0.01871518871760522),\n",
       " ('word on', 0.01871518871760522),\n",
       " ('new robert kennedy in', 0.01048752440512453),\n",
       " ('oil bill', 0.01048752440512453),\n",
       " ('new robert', 0.01048752440512453),\n",
       " ('net profit explosion rocks', 0.01048752440512453),\n",
       " ('net profit explosion', 0.01048752440512453),\n",
       " ('net profit', 0.01048752440512453),\n",
       " ('nation will air on', 0.01048752440512453)]"
      ]
     },
     "execution_count": 90,
     "metadata": {},
     "output_type": "execute_result"
    }
   ],
   "source": [
    "model.get_topics()[-1]"
   ]
  },
  {
   "cell_type": "code",
   "execution_count": 91,
   "metadata": {},
   "outputs": [
    {
     "data": {
      "text/plain": [
       "[]"
      ]
     },
     "execution_count": 91,
     "metadata": {},
     "output_type": "execute_result"
    }
   ],
   "source": [
    "def prepare_topics(topics: dict) -> dict:\n",
    "\n",
    "    topics_result = []\n",
    "\n",
    "    for cluster_index, cluster in topics.items():\n",
    "        if cluster_index == -1:\n",
    "            continue\n",
    "\n",
    "        # gathering only topic names\n",
    "        # [(topic_name, score)]\n",
    "        _topics = [x[0] for x in cluster]\n",
    "\n",
    "        topics_result.append(_topics)\n",
    "\n",
    "    return topics_result\n",
    "\n",
    "\n",
    "prepare_topics(model.get_topics())"
   ]
  },
  {
   "cell_type": "code",
   "execution_count": 102,
   "metadata": {},
   "outputs": [
    {
     "name": "stderr",
     "output_type": "stream",
     "text": [
      "  0%|          | 0/16 [00:00<?, ?it/s]2022-03-24 18:10:08,602 - BERTopic - Transformed documents to Embeddings\n",
      "2022-03-24 18:10:10,460 - BERTopic - Reduced dimensionality with UMAP\n",
      "2022-03-24 18:10:10,465 - BERTopic - Clustered UMAP embeddings with HDBSCAN\n",
      " 12%|█▎        | 2/16 [00:11<01:22,  5.91s/it]2022-03-24 18:10:10,691 - BERTopic - Transformed documents to Embeddings\n"
     ]
    },
    {
     "name": "stdout",
     "output_type": "stream",
     "text": [
      "----------------------------------------------------------------------------------------------------\n",
      "year: 2007\n",
      "\n",
      "{-1: [('in', 0.10382990695467838), ('on', 0.09083544225830015), ('the', 0.09083544225830015), ('for', 0.09083544225830015), ('with', 0.07690899358441898), ('profit', 0.06180177616451508), ('investments', 0.04509117377807157), ('no', 0.04509117377807157), ('is', 0.04509117377807157), ('subprime', 0.04509117377807157)]}\n",
      "\n",
      "[]\n",
      "----------------------------------------------------------------------------------------------------\n"
     ]
    },
    {
     "name": "stderr",
     "output_type": "stream",
     "text": [
      "2022-03-24 18:10:12,545 - BERTopic - Reduced dimensionality with UMAP\n",
      "2022-03-24 18:10:12,550 - BERTopic - Clustered UMAP embeddings with HDBSCAN\n",
      " 19%|█▉        | 3/16 [00:13<00:56,  4.31s/it]2022-03-24 18:10:12,706 - BERTopic - Transformed documents to Embeddings\n"
     ]
    },
    {
     "name": "stdout",
     "output_type": "stream",
     "text": [
      "----------------------------------------------------------------------------------------------------\n",
      "year: 2008\n",
      "\n",
      "{-1: [('the', 0.12341498185834088), ('for', 0.09678360440818062), ('to', 0.09678360440818062), ('help', 0.06601401719618526), ('of', 0.06601401719618526), ('trade', 0.06601401719618526), ('up', 0.06601401719618526), ('bring', 0.04824472219562629), ('from', 0.04824472219562629), ('global', 0.04824472219562629)]}\n",
      "\n",
      "[]\n",
      "----------------------------------------------------------------------------------------------------\n"
     ]
    },
    {
     "name": "stderr",
     "output_type": "stream",
     "text": [
      "2022-03-24 18:10:14,536 - BERTopic - Reduced dimensionality with UMAP\n",
      "2022-03-24 18:10:14,540 - BERTopic - Clustered UMAP embeddings with HDBSCAN\n",
      " 25%|██▌       | 4/16 [00:15<00:41,  3.45s/it]2022-03-24 18:10:14,760 - BERTopic - Transformed documents to Embeddings\n"
     ]
    },
    {
     "name": "stdout",
     "output_type": "stream",
     "text": [
      "----------------------------------------------------------------------------------------------------\n",
      "year: 2009\n",
      "\n",
      "{-1: [('to', 0.12026056535665978), ('the', 0.08280497874839567), ('in', 0.08280497874839567), ('for', 0.06089542681487593), ('of', 0.06089542681487593), ('report', 0.06089542681487593), ('portfolio', 0.06089542681487593), ('halftime', 0.06089542681487593), ('up', 0.06089542681487593), ('us', 0.06089542681487593)]}\n",
      "\n",
      "[]\n",
      "----------------------------------------------------------------------------------------------------\n"
     ]
    },
    {
     "name": "stderr",
     "output_type": "stream",
     "text": [
      "2022-03-24 18:10:17,039 - BERTopic - Reduced dimensionality with UMAP\n",
      "2022-03-24 18:10:17,043 - BERTopic - Clustered UMAP embeddings with HDBSCAN\n",
      " 31%|███▏      | 5/16 [00:18<00:34,  3.12s/it]"
     ]
    },
    {
     "name": "stdout",
     "output_type": "stream",
     "text": [
      "----------------------------------------------------------------------------------------------------\n",
      "year: 2010\n",
      "\n",
      "{-1: [('in', 0.07923178457133968), ('to', 0.07923178457133968), ('of', 0.06370746393016614), ('the', 0.06370746393016614), ('halftime', 0.046516870565536286), ('for', 0.046516870565536286), ('new', 0.046516870565536286), ('about', 0.046516870565536286), ('stocks', 0.046516870565536286), ('ahead', 0.046516870565536286)]}\n",
      "\n",
      "[]\n",
      "----------------------------------------------------------------------------------------------------\n"
     ]
    },
    {
     "name": "stderr",
     "output_type": "stream",
     "text": [
      "2022-03-24 18:10:17,290 - BERTopic - Transformed documents to Embeddings\n",
      "2022-03-24 18:10:19,139 - BERTopic - Reduced dimensionality with UMAP\n",
      "2022-03-24 18:10:19,144 - BERTopic - Clustered UMAP embeddings with HDBSCAN\n",
      " 38%|███▊      | 6/16 [00:20<00:27,  2.78s/it]"
     ]
    },
    {
     "name": "stdout",
     "output_type": "stream",
     "text": [
      "----------------------------------------------------------------------------------------------------\n",
      "year: 2011\n",
      "\n",
      "{-1: [('the', 0.10030327535122845), ('to', 0.09092866823260955), ('in', 0.08107958954397138), ('big', 0.059589714460394315), ('stocks', 0.059589714460394315), ('for', 0.059589714460394315), ('with', 0.059589714460394315), ('on', 0.059589714460394315), ('top', 0.04765323935941024), ('move', 0.04765323935941024)]}\n",
      "\n",
      "[]\n",
      "----------------------------------------------------------------------------------------------------\n"
     ]
    },
    {
     "name": "stderr",
     "output_type": "stream",
     "text": [
      "2022-03-24 18:10:19,674 - BERTopic - Transformed documents to Embeddings\n",
      "2022-03-24 18:10:21,515 - BERTopic - Reduced dimensionality with UMAP\n",
      "2022-03-24 18:10:21,522 - BERTopic - Clustered UMAP embeddings with HDBSCAN\n",
      " 44%|████▍     | 7/16 [00:22<00:23,  2.66s/it]"
     ]
    },
    {
     "name": "stdout",
     "output_type": "stream",
     "text": [
      "----------------------------------------------------------------------------------------------------\n",
      "year: 2012\n",
      "\n",
      "{-1: [('to', 0.08396814782561146), ('of', 0.06872316089707725), ('with', 0.047658080389398484), ('and', 0.04295197556067328), ('in', 0.036711277668762796), ('the', 0.03546846494485502), ('announces', 0.03541281766678363), ('by', 0.03541281766678363), ('new', 0.03308508238960397), ('on', 0.031287636902221805)], 0: [('euro', 0.1294783159785823), ('to', 0.11226510606720945), ('jobs', 0.06407524083418141), ('rises', 0.06407524083418141), ('spain', 0.06407524083418141), ('an', 0.06407524083418141), ('offshore', 0.06407524083418141), ('trade', 0.06407524083418141), ('gas', 0.058619856908734815), ('oil', 0.058619856908734815)], 1: [('market', 0.10879328893878784), ('markets', 0.08159496670409087), ('the', 0.06560467755847339), ('forecasts', 0.06364230001773424), ('and', 0.06355731518775304), ('is', 0.058223776794486606), ('update', 0.05439664446939392), ('us', 0.05144138499689621), ('stocks', 0.05144138499689621), ('to', 0.047788524879960784)]}\n",
      "\n",
      "[['euro', 'to', 'jobs', 'rises', 'spain', 'an', 'offshore', 'trade', 'gas', 'oil'], ['market', 'markets', 'the', 'forecasts', 'and', 'is', 'update', 'us', 'stocks', 'to']]\n",
      "----------------------------------------------------------------------------------------------------\n"
     ]
    },
    {
     "name": "stderr",
     "output_type": "stream",
     "text": [
      "2022-03-24 18:10:21,825 - BERTopic - Transformed documents to Embeddings\n",
      "2022-03-24 18:10:23,704 - BERTopic - Reduced dimensionality with UMAP\n",
      "2022-03-24 18:10:23,709 - BERTopic - Clustered UMAP embeddings with HDBSCAN\n",
      " 50%|█████     | 8/16 [00:25<00:20,  2.50s/it]"
     ]
    },
    {
     "name": "stdout",
     "output_type": "stream",
     "text": [
      "----------------------------------------------------------------------------------------------------\n",
      "year: 2013\n",
      "\n",
      "{-1: [('the', 0.11585514181740224), ('to', 0.07963425346822008), ('for', 0.07963425346822008), ('of', 0.0693956705461373), ('in', 0.0693956705461373), ('what', 0.046764215571226724), ('market', 0.046764215571226724), ('ecb', 0.033902270903340706), ('after', 0.033902270903340706), ('minister', 0.033902270903340706)]}\n",
      "\n",
      "[]\n",
      "----------------------------------------------------------------------------------------------------\n"
     ]
    },
    {
     "name": "stderr",
     "output_type": "stream",
     "text": [
      "2022-03-24 18:10:24,071 - BERTopic - Transformed documents to Embeddings\n",
      "2022-03-24 18:10:26,344 - BERTopic - Reduced dimensionality with UMAP\n",
      "2022-03-24 18:10:26,350 - BERTopic - Clustered UMAP embeddings with HDBSCAN\n",
      " 56%|█████▋    | 9/16 [00:27<00:17,  2.55s/it]"
     ]
    },
    {
     "name": "stdout",
     "output_type": "stream",
     "text": [
      "----------------------------------------------------------------------------------------------------\n",
      "year: 2014\n",
      "\n",
      "{-1: [('to', 0.13181269721485842), ('more', 0.06723848059743669), ('the', 0.06723848059743669), ('on', 0.06723848059743669), ('in', 0.06723848059743669), ('for', 0.06723848059743669), ('movers', 0.0584663670051549), ('of', 0.0584663670051549), ('us', 0.0584663670051549), ('is', 0.03918928102117917)]}\n",
      "\n",
      "[]\n",
      "----------------------------------------------------------------------------------------------------\n"
     ]
    },
    {
     "name": "stderr",
     "output_type": "stream",
     "text": [
      "2022-03-24 18:10:26,739 - BERTopic - Transformed documents to Embeddings\n",
      "2022-03-24 18:10:28,599 - BERTopic - Reduced dimensionality with UMAP\n",
      "2022-03-24 18:10:28,605 - BERTopic - Clustered UMAP embeddings with HDBSCAN\n",
      " 62%|██████▎   | 10/16 [00:29<00:14,  2.46s/it]"
     ]
    },
    {
     "name": "stdout",
     "output_type": "stream",
     "text": [
      "----------------------------------------------------------------------------------------------------\n",
      "year: 2015\n",
      "\n",
      "{-1: [('to', 0.0977856418773759), ('in', 0.08430687093481283), ('the', 0.0771910222603887), ('of', 0.06978105490049859), ('on', 0.062033060356583535), ('how', 0.062033060356583535), ('for', 0.05388830009508047), ('china', 0.045264113294687054), ('is', 0.045264113294687054), ('stocks', 0.045264113294687054)]}\n",
      "\n",
      "[]\n",
      "----------------------------------------------------------------------------------------------------\n"
     ]
    },
    {
     "name": "stderr",
     "output_type": "stream",
     "text": [
      "2022-03-24 18:10:29,059 - BERTopic - Transformed documents to Embeddings\n",
      "2022-03-24 18:10:30,892 - BERTopic - Reduced dimensionality with UMAP\n",
      "2022-03-24 18:10:30,899 - BERTopic - Clustered UMAP embeddings with HDBSCAN\n",
      " 69%|██████▉   | 11/16 [00:32<00:12,  2.42s/it]"
     ]
    },
    {
     "name": "stdout",
     "output_type": "stream",
     "text": [
      "----------------------------------------------------------------------------------------------------\n",
      "year: 2016\n",
      "\n",
      "{-1: [('to', 0.12891104471675874), ('on', 0.09052264847070639), ('the', 0.060348432313804254), ('brexit', 0.05913266520213232), ('of', 0.049287236844841376), ('in', 0.04712436992092386), ('outlook', 0.04330237295085275), ('are', 0.04330237295085275), ('may', 0.04330237295085275), ('out', 0.03942177680142154)], 0: [('to', 0.06672280203932739), ('in', 0.06504268143189491), ('stocks', 0.06121270870170481), ('bank', 0.06121270870170481), ('the', 0.0468534311180038), ('hike', 0.044825571999375216), ('rate', 0.044825571999375216), ('cnbc', 0.044825571999375216), ('fed', 0.044825571999375216), ('buy', 0.044825571999375216)], 1: [('trump', 0.14708515460167143), ('donald', 0.11073935483308416), ('just', 0.0810935347988697), ('our', 0.0810935347988697), ('promises', 0.0810935347988697), ('his', 0.07382623655538943), ('that', 0.07382623655538943), ('of', 0.06153436842446862), ('to', 0.06035380729920978), ('tells', 0.04679540433466775)]}\n",
      "\n",
      "[['to', 'in', 'stocks', 'bank', 'the', 'hike', 'rate', 'cnbc', 'fed', 'buy'], ['trump', 'donald', 'just', 'our', 'promises', 'his', 'that', 'of', 'to', 'tells']]\n",
      "----------------------------------------------------------------------------------------------------\n"
     ]
    },
    {
     "name": "stderr",
     "output_type": "stream",
     "text": [
      "2022-03-24 18:10:31,381 - BERTopic - Transformed documents to Embeddings\n",
      "2022-03-24 18:10:33,222 - BERTopic - Reduced dimensionality with UMAP\n",
      "2022-03-24 18:10:33,227 - BERTopic - Clustered UMAP embeddings with HDBSCAN\n",
      " 75%|███████▌  | 12/16 [00:34<00:09,  2.38s/it]"
     ]
    },
    {
     "name": "stdout",
     "output_type": "stream",
     "text": [
      "----------------------------------------------------------------------------------------------------\n",
      "year: 2017\n",
      "\n",
      "{-1: [('to', 0.10926586129582751), ('says', 0.07291498355057316), ('the', 0.06258026318934623), ('in', 0.06258026318934623), ('is', 0.057155334498074785), ('on', 0.05152958031456979), ('us', 0.05152958031456979), ('as', 0.05152958031456979), ('trump', 0.0456733762393331), ('investors', 0.0456733762393331)]}\n",
      "\n",
      "[]\n",
      "----------------------------------------------------------------------------------------------------\n"
     ]
    },
    {
     "name": "stderr",
     "output_type": "stream",
     "text": [
      "2022-03-24 18:10:33,539 - BERTopic - Transformed documents to Embeddings\n",
      "2022-03-24 18:10:35,349 - BERTopic - Reduced dimensionality with UMAP\n",
      "2022-03-24 18:10:35,354 - BERTopic - Clustered UMAP embeddings with HDBSCAN\n",
      " 81%|████████▏ | 13/16 [00:36<00:06,  2.30s/it]"
     ]
    },
    {
     "name": "stdout",
     "output_type": "stream",
     "text": [
      "----------------------------------------------------------------------------------------------------\n",
      "year: 2018\n",
      "\n",
      "{-1: [('to', 0.1070732447936461), ('for', 0.07666907586987982), ('of', 0.06822635583879905), ('with', 0.0593359659616087), ('in', 0.0593359659616087), ('the', 0.0499042980362594), ('could', 0.0499042980362594), ('on', 0.0499042980362594), ('and', 0.0499042980362594), ('trump', 0.0499042980362594)]}\n",
      "\n",
      "[]\n",
      "----------------------------------------------------------------------------------------------------\n"
     ]
    },
    {
     "name": "stderr",
     "output_type": "stream",
     "text": [
      "2022-03-24 18:10:35,842 - BERTopic - Transformed documents to Embeddings\n",
      "2022-03-24 18:10:38,155 - BERTopic - Reduced dimensionality with UMAP\n",
      "2022-03-24 18:10:38,160 - BERTopic - Clustered UMAP embeddings with HDBSCAN\n",
      " 88%|████████▊ | 14/16 [00:39<00:04,  2.45s/it]"
     ]
    },
    {
     "name": "stdout",
     "output_type": "stream",
     "text": [
      "----------------------------------------------------------------------------------------------------\n",
      "year: 2019\n",
      "\n",
      "{-1: [('to', 0.12650790913512378), ('the', 0.09049181602967112), ('in', 0.07830081157963284), ('of', 0.060629231098658226), ('stocks', 0.055895328959804966), ('on', 0.055895328959804966), ('says', 0.05100723147422886), ('and', 0.05100723147422886), ('is', 0.05100723147422886), ('its', 0.04068328551824408)]}\n",
      "\n",
      "[]\n",
      "----------------------------------------------------------------------------------------------------\n"
     ]
    },
    {
     "name": "stderr",
     "output_type": "stream",
     "text": [
      "2022-03-24 18:10:38,610 - BERTopic - Transformed documents to Embeddings\n",
      "2022-03-24 18:10:40,451 - BERTopic - Reduced dimensionality with UMAP\n",
      "2022-03-24 18:10:40,456 - BERTopic - Clustered UMAP embeddings with HDBSCAN\n",
      " 94%|█████████▍| 15/16 [00:41<00:02,  2.41s/it]"
     ]
    },
    {
     "name": "stdout",
     "output_type": "stream",
     "text": [
      "----------------------------------------------------------------------------------------------------\n",
      "year: 2020\n",
      "\n",
      "{-1: [('to', 0.11714500314946491), ('the', 0.0824668247495687), ('in', 0.07766623166461337), ('as', 0.07273408836145277), ('for', 0.06242282993136949), ('of', 0.06242282993136949), ('coronavirus', 0.06242282993136949), ('says', 0.05701045135446367), ('new', 0.05139788872778774), ('is', 0.05139788872778774)]}\n",
      "\n",
      "[]\n",
      "----------------------------------------------------------------------------------------------------\n"
     ]
    },
    {
     "name": "stderr",
     "output_type": "stream",
     "text": [
      "2022-03-24 18:10:40,765 - BERTopic - Transformed documents to Embeddings\n",
      "2022-03-24 18:10:42,615 - BERTopic - Reduced dimensionality with UMAP\n",
      "2022-03-24 18:10:42,620 - BERTopic - Clustered UMAP embeddings with HDBSCAN\n",
      "100%|██████████| 16/16 [00:43<00:00,  2.75s/it]"
     ]
    },
    {
     "name": "stdout",
     "output_type": "stream",
     "text": [
      "----------------------------------------------------------------------------------------------------\n",
      "year: 2021\n",
      "\n",
      "{-1: [('the', 0.10815704291057748), ('to', 0.10091811638825), ('as', 0.0689519893283495), ('is', 0.059974878142740495), ('in', 0.059974878142740495), ('you', 0.05044911593515956), ('for', 0.05044911593515956), ('says', 0.05044911593515956), ('stock', 0.05044911593515956), ('and', 0.05044911593515956)]}\n",
      "\n",
      "[]\n",
      "----------------------------------------------------------------------------------------------------\n"
     ]
    },
    {
     "name": "stderr",
     "output_type": "stream",
     "text": [
      "\n"
     ]
    }
   ],
   "source": [
    "year_range = range(data[\"published_at\"].dt.year.min(), data[\"published_at\"].dt.year.max() + 1)\n",
    "\n",
    "for year in tqdm(year_range):\n",
    "    \n",
    "\n",
    "    titles = data.loc[data[\"published_at\"].dt.year == year, \"title\"].reset_index(drop=True)\n",
    "    if len(titles) < 5:\n",
    "        continue\n",
    "    \n",
    "    model.fit(titles)\n",
    "    # print(year, len(titles))\n",
    "\n",
    "    topics = prepare_topics(model.get_topics())\n",
    "\n",
    "    # if topics:\n",
    "    #     break \n",
    "\n",
    "    print(\"-\" * 100)\n",
    "    print(f\"year: {year}\")\n",
    "    print()\n",
    "    print(model.get_topics())\n",
    "    print()\n",
    "    print(topics)\n",
    "    print(\"-\" * 100)\n",
    "\n",
    "\n",
    "\n",
    "\n",
    "    # break"
   ]
  }
 ],
 "metadata": {
  "interpreter": {
   "hash": "cb9e94dbe4e7fc92a3d7162f471039658b9fdbbc9b042b59ec1fc38823150b03"
  },
  "kernelspec": {
   "display_name": "Python 3.9.9 64-bit ('weaviate-demo')",
   "language": "python",
   "name": "python3"
  },
  "language_info": {
   "codemirror_mode": {
    "name": "ipython",
    "version": 3
   },
   "file_extension": ".py",
   "mimetype": "text/x-python",
   "name": "python",
   "nbconvert_exporter": "python",
   "pygments_lexer": "ipython3",
   "version": "3.9.9"
  },
  "orig_nbformat": 4
 },
 "nbformat": 4,
 "nbformat_minor": 2
}
