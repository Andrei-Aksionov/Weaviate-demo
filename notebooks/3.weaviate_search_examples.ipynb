{
 "cells": [
  {
   "cell_type": "markdown",
   "metadata": {},
   "source": [
    "<h1><center>WEAVIATE SEARCH EXAMPLES</center></h1>"
   ]
  },
  {
   "cell_type": "markdown",
   "metadata": {},
   "source": [
    "As described on Weaviate's [website](https://weaviate.io/): \n",
    "> \"Weaviate is an open source vector search engine that stores both objects and vectors, allowing for combining vector search with structured filtering with the fault-tolerance and scalability of a cloud-native database, all accessible through GraphQL, REST, and various language clients.\"\n",
    "\n",
    "In other words Weaviate is a search engine that is specially created with vector search in mind hence includes some nifty vector search optimizations and search filters."
   ]
  },
  {
   "cell_type": "markdown",
   "metadata": {},
   "source": [
    "As for data, CNBC news dataset from [data.world](https://data.world/crawlfeeds/cnbc-news-dataset) is used. It is relatively small (~600 articles), but it's sufficient for demo purposes."
   ]
  },
  {
   "cell_type": "markdown",
   "metadata": {},
   "source": [
    "# Preparations"
   ]
  },
  {
   "cell_type": "markdown",
   "metadata": {},
   "source": [
    "Required imports."
   ]
  },
  {
   "cell_type": "code",
   "execution_count": 1,
   "metadata": {},
   "outputs": [],
   "source": [
    "import re\n",
    "from datetime import datetime, timezone\n",
    "from string import Template\n",
    "\n",
    "import weaviate\n",
    "\n",
    "from src.utils import pprint_response, print_weaviate_class_stats"
   ]
  },
  {
   "cell_type": "markdown",
   "metadata": {},
   "source": [
    "Establishing connection to Weaviate instance (use docker-compose file from src/docker/ folder)."
   ]
  },
  {
   "cell_type": "code",
   "execution_count": 2,
   "metadata": {},
   "outputs": [
    {
     "name": "stdout",
     "output_type": "stream",
     "text": [
      "Weaviate:\n",
      "\tis live: True\n",
      "\tis ready: True\n"
     ]
    }
   ],
   "source": [
    "client = weaviate.Client(\"http://localhost:8080\")\n",
    "print(f\"Weaviate:\\n\\tis live: {client.is_live()}\\n\\tis ready: {client.is_ready()}\")"
   ]
  },
  {
   "cell_type": "code",
   "execution_count": 3,
   "metadata": {},
   "outputs": [
    {
     "name": "stdout",
     "output_type": "stream",
     "text": [
      "Class name: Article\n",
      "\tObjects count: 623\n",
      "Class name: Author\n",
      "\tObjects count: 199\n"
     ]
    }
   ],
   "source": [
    "print_weaviate_class_stats(client)"
   ]
  },
  {
   "cell_type": "markdown",
   "metadata": {},
   "source": [
    "Now, as Weaviate instance is live and ready and contains articles/authors data we can start writing queries."
   ]
  },
  {
   "cell_type": "markdown",
   "metadata": {},
   "source": [
    "# Weaviate query"
   ]
  },
  {
   "cell_type": "markdown",
   "metadata": {},
   "source": [
    "Weaviate query can be formed in two ways:\n",
    "- using **GetBuilder** (basically calling query method from `client.query`)\n",
    "- using **GraphQL** (passed as a raw string into `client.query.raw` method)"
   ]
  },
  {
   "cell_type": "markdown",
   "metadata": {},
   "source": [
    "Typical GetBuilder looks like this:\n",
    "```python\n",
    "client.query.get( \n",
    "    \"name of a class\",\n",
    "    \"what properties to return\")\n",
    "    .with_near_text(\n",
    "        \"dictionary for vector search\"\n",
    "        )\n",
    "    .with_where(\n",
    "        \"there are described filters like title/keyword to match\"\n",
    "    )\n",
    "    .with_limit(\n",
    "        \"return top N responses\"\n",
    "    )\n",
    "    .do() # runs query\n",
    "```\n"
   ]
  },
  {
   "cell_type": "markdown",
   "metadata": {},
   "source": [
    "GraphQL looks like this:\n",
    "```text\n",
    "{\n",
    "  Get {\n",
    "    Article(\n",
    "      where: {operator: GreaterThanEqual, path: [\"descriptionWordCount\"], valueInt: 100}\n",
    "      limit: 5\n",
    "    ) {\n",
    "      descriptionWordCount\n",
    "      title\n",
    "      url\n",
    "    }\n",
    "  }\n",
    "}\n",
    "```\n",
    "\n",
    "The main limitation is that GraphQL has to be in a form of raw string hence it's a bit inconvenient to format with variables.\n",
    "\n",
    "<div class=\"alert alert-block alert-warning\"> <b>IMPORTANT</b>: the above is true at the moment of notebook creation.</br>\n",
    "In order to see whether desired type of request is supported by GetBuilder check <a href=\"https://weaviate.io/developers/weaviate/current/graphql-references/filters.html\">weaviate filter docs</a>.</div>"
   ]
  },
  {
   "cell_type": "markdown",
   "metadata": {},
   "source": [
    "In my opinion GetBuilder approach looks better but unfortunately not all queries can be formed with the builder (but every request can be formed with GraphQL syntax).</br>\n",
    "That's why I separated all examples into two categories: that can be formed without GraphQL syntax and that cannot."
   ]
  },
  {
   "cell_type": "markdown",
   "metadata": {},
   "source": [
    "# 1. Requests with filters that are supported by GetBuilder "
   ]
  },
  {
   "cell_type": "markdown",
   "metadata": {},
   "source": [
    "## 1.1. Near text filer (vector search) <a class=\"anchor\" id=\"near-text-filer\"></a>"
   ]
  },
  {
   "cell_type": "markdown",
   "metadata": {},
   "source": [
    "For vector search [nearText](https://weaviate.io/developers/weaviate/current/graphql-references/filters.html#nearvector-filter) method can be used.\n",
    "\n",
    "It expects 4 properties:\n",
    "- **concepts** - text of the query\n",
    "- **certainty** (optional) - \"determine which data results to return. The value is a float between 0.0 (return all data objects, regardless similarity) and 1.0 (only return data objects that are matching completely, without any uncertainty). The certainty of a query result is computed by normalized distance of the fuzzy query and the data object in the vector space.\"\n",
    "- **moveTo** (optional) - reranks response with desired concepts that are closer to the top \n",
    "- **moveAwayFrom** (optional) - reranks response with undesired concepts are close to the bottom"
   ]
  },
  {
   "cell_type": "markdown",
   "metadata": {},
   "source": [
    "<div class=\"alert alert-block alert-info\">As the dataset is used to run queries against is relatively small some results (especially that are not the top 2) might look somewhat off. Basically the more date the more relevant articles can be found .</div>"
   ]
  },
  {
   "cell_type": "markdown",
   "metadata": {},
   "source": [
    "Imagine that we are looking for articles with text about influence of pandemic on mortgages. Anything that has certainty lower than 0.5 will be dropped. Top 5 results are displayed."
   ]
  },
  {
   "cell_type": "code",
   "execution_count": 4,
   "metadata": {},
   "outputs": [
    {
     "name": "stdout",
     "output_type": "stream",
     "text": [
      "\u001b[1m\u001b[47m\u001b[31mARTICLE\u001b[0m\n",
      "Response # 0\n",
      "\u001b[40m\u001b[35m_additional\u001b[0m: {'certainty': 0.73835206}\n",
      "\u001b[40m\u001b[35mshort_description\u001b[0m: The number of mortgages in active pandemic-related bailout plans rose by 21,000 in the past week after declining for six straight weeks, according to Black Knight, a mortgage technology and analytics firm. The increase was not across all mortgage types but among bank-held and private-labeled security loans (28,000), and, to a lesser extent, among FHA/VA loans (2,000). Those increases were offset by a decline of 9,000 Fannie Mae and Freddie Mac loans in forbearance.The government and private sector forbearance programs, initiated at the start of the pandemic, allow borrowers to delay their monthly payments for at least three months and for up to a year. Forbearance is granted in three-month terms, and so far more than 75% of borrowers in bailouts are on extensions since March.\"As of the 29th [of September], nearly 800,000 forbearance plans were still set to expire in September, down from 2 million at the start of the month. The data is still coming in, but over the past week, we've seen a roughly 80% extension rate,\" said Andy Walden, director of market research at Black Knight. \"Given that there are another million plans for which October marks the last payment covered by forbearance, we should expect to see heightened levels of expiration/extension activity in the coming weeks.\"As of Tuesday, roughly 3.6 million homeowners remain in pandemic-related forbearance plans. That's 6.8% of all active mortgages, representing $751 billion in unpaid principal.While the weekly turn is troubling, over the past month active forbearance volumes have fallen by 305,000, or 8%. FHA and VA loans, which generally go to borrowers with lower incomes and lower down payments, are not recovering as well as the rest of the market. It is likely those borrowers are in jobs that have been hardest hit by the pandemic.It is impossible to know specifically why more borrowers suddenly needed help on their mortgages, but it is a sign that all is not improving in the housing market. Some borrowers have been dipping into savings to make their monthly payments, and that may have now run dry. While the economy is adding jobs again, the unemployment rate is still high, and some borrowers are still clearly struggling. By loan type, 4.7% of all Fannie and Freddie-backed loans are in forbearance, while 11.2% of all FHA/VA loans are. For private label and bank-held loans, that share is 7.3%.\n",
      "\u001b[40m\u001b[35mtitle\u001b[0m: Number of mortgages in coronavirus bailout program jumps 21,000 after declining for six straight weeks\n",
      "========================================================================================================================\n",
      "Response # 1\n",
      "\u001b[40m\u001b[35m_additional\u001b[0m: {'certainty': 0.7206118}\n",
      "\u001b[40m\u001b[35mshort_description\u001b[0m: Treasury yields fell on Tuesday as the massive stock rally hit a pause. Investors also awaited the Federal Reserve's monetary policy decision.\n",
      "\u001b[40m\u001b[35mtitle\u001b[0m: 10-year Treasury yield falls to 0.8% as investors return to safety amid pause in stock rally\n",
      "========================================================================================================================\n",
      "Response # 2\n",
      "\u001b[40m\u001b[35m_additional\u001b[0m: {'certainty': 0.7030678}\n",
      "\u001b[40m\u001b[35mshort_description\u001b[0m: Banks worldwide may lose as much as $400 billion from subprime mortgages, as at least one in four of the risky home loans go into default, analysts said on Monday. Mike Mayo, an analyst at Deutsche Bank Securities, estimated $150 billion to $250 billion of losses based on $1.2 trillion of U.S. subprime loans, and an additional $150 billion of losses on derivatives linked to subprime debt. David Hilder, a Bear Stearns analyst, also estimated a $150 billion to $250 billion loss on subprime home loans, in what he called a $2 trillion market. \"Given our fundamental outlook, which is for rising inflows of non-performing loans in both mortgage and commercial loan portfolios, we believe the odds are in favor of the write-downs getting worse, rather than better,\" this year, Hilder wrote. Banks including Citigroup,Merrill Lynch and Wachovia have announced more than $40 billion of write-offs this year as U.S. foreclosures set records and after investors stopped buying many kinds of risky debt. Mayo said large banks and brokerages may suffer $100 billion to $130 billion of the subprime losses. He said this could include $60 billion to $70 billion by year end, including $43 billion already reported. In the fourth quarter alone, he said Barclays, HSBC Holdings, Royal Bank of Scotland Group and UBS might each need to write off $5 billion, while Merrill Lynch might write off $4 billion and Bank of America Corp $1 billion. Mayo's forecast assumes a 30 percent to 40 percent default rate and 40 percent to 50 percent loss rate. Hilder assumes a 25 percent to 30 percent default rate and 30 percent to 40 percent loss rate.\n",
      "\u001b[40m\u001b[35mtitle\u001b[0m: Analysts See Subprime Losses Reaching $400 Billion\n",
      "========================================================================================================================\n",
      "Response # 3\n",
      "\u001b[40m\u001b[35m_additional\u001b[0m: {'certainty': 0.688352}\n",
      "\u001b[40m\u001b[35mshort_description\u001b[0m: The best and most expeditious way to clear the vast inventory of foreclosed properties weighing down today’s housing market is to get more investors in and sell them these properties at bulk discounts. That’s what the Obama administration and Federal regulators are currently considering for the thousands of homes currently owned by Fannie Mae, Freddie Mac and the FHA. While big private equity fundsare still largely in a very tedious deal-making stage with banks or waiting on the sidelines for a government program, smaller individual investors are getting in. Nearly 23 percent of home purchases in December were by investors, according to a new survey from Campbell/Inside Mortgage Finance. That is a slight increase from November, but the share has remained largely unchanged for the past year.\n",
      "\u001b[40m\u001b[35mtitle\u001b[0m: Foreclosure Investors are Double-Edged Sword \n",
      "========================================================================================================================\n",
      "Response # 4\n",
      "\u001b[40m\u001b[35m_additional\u001b[0m: {'certainty': 0.68523204}\n",
      "\u001b[40m\u001b[35mshort_description\u001b[0m: Ad budgets were already shifting from TV to digital before the coronavirus pandemic, but that's going to speed up, according to a Europe-focused report by Goldman Sachs.\"Overall, we expect the crisis will only accelerate the secular shift in advertising budgets towards digital, while potentially also leading to more attempts by the EU broadcasters to seek further partnerships and M&A (mergers and acquisitions) to share costs and build scale,\" according to the company's Europe Media: Broadcasting report, seen by CNBC.Brands are able to measure the impact of online ads more easily than those on TV, and digital ads tend to be cheaper — and it appears the pandemic has had more of an impact on TV ad revenue than digital. TV ad revenue in Europe was down by about 50% in April, while the results of the major digital players were generally above expectations, Goldman noted. Google search revenue was \"down mid-teens,\" while Facebook's revenue growth for the first three weeks of April was flat and Snap's went up 15% in April, the report added.A separate report from the World Advertising Research Center (WARC) showed that global marketing budgets for digital advertising in April fell for the first time since WARC started tracking spend in 2012. Advertising in printed newspapers and magazines saw the steepest declines followed by outdoor billboards, radio and TV.\n",
      "\u001b[40m\u001b[35mtitle\u001b[0m: Ad shift from TV to digital will speed up even more because of coronavirus, Goldman Sachs says\n",
      "========================================================================================================================\n"
     ]
    }
   ],
   "source": [
    "# for this section class_name and properties are shared between queries\n",
    "class_name = \"Article\"\n",
    "properties = [\n",
    "    \"title\",\n",
    "    \"short_description\",\n",
    "    \"_additional {certainty}\",\n",
    "]\n",
    "\n",
    "nearText = {\n",
    "    \"concepts\": [\"how pandemic affected mortgages\"],\n",
    "    \"certainty\": 0.5,\n",
    "}\n",
    "\n",
    "response = client.query.get(class_name, properties).with_near_text(nearText).with_limit(5).do()\n",
    "\n",
    "pprint_response(response)"
   ]
  },
  {
   "cell_type": "markdown",
   "metadata": {},
   "source": [
    "As we can see the higher certainty the more text of the article is related to mortgages and pandemic."
   ]
  },
  {
   "cell_type": "markdown",
   "metadata": {},
   "source": [
    "Now if we want to run the same query about covid and mortgages but we don't want to see article about infamous subprime mortgages at all:"
   ]
  },
  {
   "cell_type": "code",
   "execution_count": 5,
   "metadata": {},
   "outputs": [
    {
     "name": "stdout",
     "output_type": "stream",
     "text": [
      "\u001b[1m\u001b[47m\u001b[31mARTICLE\u001b[0m\n",
      "Response # 0\n",
      "\u001b[40m\u001b[35m_additional\u001b[0m: {'certainty': 0.7264975}\n",
      "\u001b[40m\u001b[35mshort_description\u001b[0m: The number of mortgages in active pandemic-related bailout plans rose by 21,000 in the past week after declining for six straight weeks, according to Black Knight, a mortgage technology and analytics firm. The increase was not across all mortgage types but among bank-held and private-labeled security loans (28,000), and, to a lesser extent, among FHA/VA loans (2,000). Those increases were offset by a decline of 9,000 Fannie Mae and Freddie Mac loans in forbearance.The government and private sector forbearance programs, initiated at the start of the pandemic, allow borrowers to delay their monthly payments for at least three months and for up to a year. Forbearance is granted in three-month terms, and so far more than 75% of borrowers in bailouts are on extensions since March.\"As of the 29th [of September], nearly 800,000 forbearance plans were still set to expire in September, down from 2 million at the start of the month. The data is still coming in, but over the past week, we've seen a roughly 80% extension rate,\" said Andy Walden, director of market research at Black Knight. \"Given that there are another million plans for which October marks the last payment covered by forbearance, we should expect to see heightened levels of expiration/extension activity in the coming weeks.\"As of Tuesday, roughly 3.6 million homeowners remain in pandemic-related forbearance plans. That's 6.8% of all active mortgages, representing $751 billion in unpaid principal.While the weekly turn is troubling, over the past month active forbearance volumes have fallen by 305,000, or 8%. FHA and VA loans, which generally go to borrowers with lower incomes and lower down payments, are not recovering as well as the rest of the market. It is likely those borrowers are in jobs that have been hardest hit by the pandemic.It is impossible to know specifically why more borrowers suddenly needed help on their mortgages, but it is a sign that all is not improving in the housing market. Some borrowers have been dipping into savings to make their monthly payments, and that may have now run dry. While the economy is adding jobs again, the unemployment rate is still high, and some borrowers are still clearly struggling. By loan type, 4.7% of all Fannie and Freddie-backed loans are in forbearance, while 11.2% of all FHA/VA loans are. For private label and bank-held loans, that share is 7.3%.\n",
      "\u001b[40m\u001b[35mtitle\u001b[0m: Number of mortgages in coronavirus bailout program jumps 21,000 after declining for six straight weeks\n",
      "========================================================================================================================\n",
      "Response # 1\n",
      "\u001b[40m\u001b[35m_additional\u001b[0m: {'certainty': 0.7051669}\n",
      "\u001b[40m\u001b[35mshort_description\u001b[0m: Treasury yields fell on Tuesday as the massive stock rally hit a pause. Investors also awaited the Federal Reserve's monetary policy decision.\n",
      "\u001b[40m\u001b[35mtitle\u001b[0m: 10-year Treasury yield falls to 0.8% as investors return to safety amid pause in stock rally\n",
      "========================================================================================================================\n",
      "Response # 2\n",
      "\u001b[40m\u001b[35m_additional\u001b[0m: {'certainty': 0.6959143}\n",
      "\u001b[40m\u001b[35mshort_description\u001b[0m: Erica Friedle had not missed a vote in seven years. Then came the coronavirus pandemic.Friedle told CNBC she didn't receive her absentee ballot for April's Wisconsin presidential primary. And now she fears that a lack of preparation by state officials and the continued threat of the disease might force her to sit out the upcoming November election in the swing state. As health officials predict that the pandemic might last into the fall, many states are beginning to plan for the likelihood of people opting to vote by mail instead of showing up in person, where the risk of contracting and spreading the coronavirus is greater. For some people, the coronavirus has made voting a nerve-wracking action. Some Americans and voting rights groups are concerned that the pandemic is forcing voters to choose between avoiding contact with people to stay healthy and exercising their right to vote. Come November, these concerns might linger.\"Are people going to want to stay in line to vote? Are people going to be requesting absentee ballots? Do people even have the technology to request a ballot online?\" Friedle asked, listing out some of her immediate worries in an interview with CNBC. \"There are so many unknowns right now.\"The Wisconsin primary in particular has been criticized for its disorganization and last-minute changes, leading to voter confusion and disenfranchisement and serves as an example of what voting rights groups hope will not happen in November.Complicating matters, President Donald Trump and members of the Republican Party are on the attack against widespread mail-in voting while Democrats push for expanded access. Late last month, Trump threatened to withhold funding from Michigan and Nevada for expanding their mail-in voting services in an effort to avoid crowded polling centers during the coronavirus pandemic. \"More and more states are allowing vote-by-mail without voters having to provide a reason or excuse for it,\" said Andrea Hailey, CEO of Vote.org, a nonprofit focusing on advancing voter ballot access. \"Other states are mailing applications to voters, which is critical for ensuring that all voters can participate in the electoral process.\"More than half, or 54%, of Americans said they would back voting by mail in the upcoming presidential election if the pandemic persists, according to an April Morning Consult poll. And 66% of surveyed Americans said in March that they were concerned about voting in person during the coronavirus outbreak. \"We are seeing signs that voters are registering at numbers unseen from our organization, and that they are very much interested in voting by absentee,\" Hailey told CNBC in an email.But mail-in voting can bring its own concerns, especially if there are underlying circumstances that affect support, such as the potential for U.S. Postal Service operation failure or miscommunication between state officials and voters.Friedle, a second-grade teacher, said she applied for an absentee ballot but did not receive it ahead of the Wisconsin presidential primary on April 7. She is a single mother with a 10-year-old child, sharing custody with her ex-husband, a scientist at a large pharmaceutical company who at the time of the primary had been working on a vaccine for Covid-19.The combination of being unable to leave her child alone and fearing getting sick at the polls made Friedle miss the vote.  \"I didn't want to put myself at risk for getting sick,\" she said. \"I've been taking care of my daughter the whole time. Her father works crazy hours, and at that time, he was telling me he might get locked out in his work, that he wouldn't be able to leave his work.\"She added: \"That just made me nervous. Who's gonna watch my daughter?\" Friedle, 41, is not within the most vulnerable age group for contracting the most severe form of the virus. But there's still a lot at stake for people like Friedle: parents with young kids or teachers whose students are relying on them even as online classes persist. Knowing the risks, Friedle chose instead to skip out on voting. She feared if she contracted the virus, she would pass it on to her daughter or potentially be unable to teach. Voting rights groups stress that the most susceptible people are \"older voters and people with pre-existing conditions,\" according to Brett Edkins, political director at New York-based Stand Up America, a nonprofit focused on advancing Democratic goals. \"Children and younger parents are at relatively low risk of becoming seriously ill. Election experts across the partisan divide say that mail-in voting is the safest alternative to in-person voting.\"But Friedle's experience during the Wisconsin primary gave her a taste of what November might look like for her and other voters across the nation, she said. She's hoping to see her state take action in the coming months to reduce the likelihood of people experiencing what she did. This includes \"having multiple ways to vote, whether you want to vote early, via an absentee ballot or in person.\"At the same time, she's concerned about whether officials are considering the feasibility of these moves. \"How can we do that? How can we do it safely so people aren't being exposed to germs or viruses?\" she asked. \"Lots of organizations are out there that drive people to the polls. Are people still organizing these things with Covid going on?\"In other states, some voters are concerned that there won't be enough done to make in-person voting safer. Angel Wells, a frequent voter and a self-described human rights activist based in Arizona, said that's what's driving her fears today. Voting can get chaotic in Arizona, said Wells, a veteran. In her voting area, \"there are 64 voting offices where you can cast your vote. But that's not enough when you live in a valley with millions of people.\"\"When people go out to vote, those lines are long. The polling booths are close [together]. They're not six feet apart. How are we supposed to have this vote and keep within health guidelines?\" \"People are rightly concerned about having to choose between their right to vote and their health,\" Edkins of Stand Up America said. \"I think we're hearing a lot of those concerns from our community and from voters everywhere.\"\n",
      "\u001b[40m\u001b[35mtitle\u001b[0m: Some voters are scared the coronavirus will stop them from casting a ballot\n",
      "========================================================================================================================\n",
      "Response # 3\n",
      "\u001b[40m\u001b[35m_additional\u001b[0m: {'certainty': 0.6910289}\n",
      "\u001b[40m\u001b[35mshort_description\u001b[0m: Ad budgets were already shifting from TV to digital before the coronavirus pandemic, but that's going to speed up, according to a Europe-focused report by Goldman Sachs.\"Overall, we expect the crisis will only accelerate the secular shift in advertising budgets towards digital, while potentially also leading to more attempts by the EU broadcasters to seek further partnerships and M&A (mergers and acquisitions) to share costs and build scale,\" according to the company's Europe Media: Broadcasting report, seen by CNBC.Brands are able to measure the impact of online ads more easily than those on TV, and digital ads tend to be cheaper — and it appears the pandemic has had more of an impact on TV ad revenue than digital. TV ad revenue in Europe was down by about 50% in April, while the results of the major digital players were generally above expectations, Goldman noted. Google search revenue was \"down mid-teens,\" while Facebook's revenue growth for the first three weeks of April was flat and Snap's went up 15% in April, the report added.A separate report from the World Advertising Research Center (WARC) showed that global marketing budgets for digital advertising in April fell for the first time since WARC started tracking spend in 2012. Advertising in printed newspapers and magazines saw the steepest declines followed by outdoor billboards, radio and TV.\n",
      "\u001b[40m\u001b[35mtitle\u001b[0m: Ad shift from TV to digital will speed up even more because of coronavirus, Goldman Sachs says\n",
      "========================================================================================================================\n",
      "Response # 4\n",
      "\u001b[40m\u001b[35m_additional\u001b[0m: {'certainty': 0.6724522}\n",
      "\u001b[40m\u001b[35mshort_description\u001b[0m: Germany is considering how to implement a gradual recovery from the coronavirus pandemic, the country's health minister, Jens Spahn, told CNBC on Monday. \"We are thinking about step by step, that is important ... going back to a new normal,\" Spahn said on \"Closing Bell.\"Spahn, who was speaking from Berlin, stressed that it will indeed be a new normal because \"all the measures we have taken like keeping distance, wearing masks, no parties ... are definitely measures that need to be there in place for months to come.\" But Germany is in a place to begin considering what a recovery looks like because its rate of new infections has continued to slow, Spahn said. He cited the effectiveness of social distancing measures and applauded the country's residents for taking them seriously. There are more than 128,000 confirmed cases of Covid-19 in Germany and around 3,000 deaths, according to Johns Hopkins University. Spahn said the German government is now seeking to find \"the right balance\" between health and economic considerations. \"I would say it's not the health of people versus the economy because they are very much interlinked,\" Spahn said. \"You need a strong economy to have a well-equipped health system, for example. Or unemployment, a recession, is harmful for the mental and physical health of people, too.\" Germany has received praise, albeit with some caution, for its response to the Covid-19 outbreak. Spahn said he was \"humble\" but not \"overconfident\" about how Germany has handled the spread of the coronavirus.He cited the strength of Germany's health-care system, in particular its high number of intensive care unit beds, as one reason why the country was well equipped to respond to the pandemic. The country also placed an early emphasis on testing capacity, Spahn said. He said the the country had a strong network of labs, and he noted that the first diagnostic test for Covid-19 was developed in Germany in January. \"It's like pointing a flashlight into the dark,\" Spahn said of testing. \"If you don't do it, you'll just see different shades of gray. With extensive testing, you can really see what's going on. You don't just see the symptomatic cases, but the mild and asymptomatic ones, too.\" Read all of CNBC's coronavirus coverage here\n",
      "\u001b[40m\u001b[35mtitle\u001b[0m: German health minister says the country is considering steps to return to a 'new normal'\n",
      "========================================================================================================================\n"
     ]
    }
   ],
   "source": [
    "nearText = {\n",
    "    \"concepts\": [\"how pandemic affected mortgages\"],\n",
    "    \"certainty\": 0.5,\n",
    "    \"moveAwayFrom\": {\n",
    "        \"concepts\": [\"subprime mortgages\"],\n",
    "        \"force\": 1.0,  # don't want to see such article at all\n",
    "    },\n",
    "}\n",
    "\n",
    "response = client.query.get(class_name, properties).with_near_text(nearText).with_limit(5).do()\n",
    "\n",
    "pprint_response(response)"
   ]
  },
  {
   "cell_type": "markdown",
   "metadata": {},
   "source": [
    "If we want to see articles about covid and mortgages, exclude articles about subprime mortgages at all and slightly shift towards \"mortgage bailout\":"
   ]
  },
  {
   "cell_type": "code",
   "execution_count": 6,
   "metadata": {},
   "outputs": [
    {
     "name": "stdout",
     "output_type": "stream",
     "text": [
      "\u001b[1m\u001b[47m\u001b[31mARTICLE\u001b[0m\n",
      "Response # 0\n",
      "\u001b[40m\u001b[35m_additional\u001b[0m: {'certainty': 0.73926723}\n",
      "\u001b[40m\u001b[35mshort_description\u001b[0m: The number of mortgages in active pandemic-related bailout plans rose by 21,000 in the past week after declining for six straight weeks, according to Black Knight, a mortgage technology and analytics firm. The increase was not across all mortgage types but among bank-held and private-labeled security loans (28,000), and, to a lesser extent, among FHA/VA loans (2,000). Those increases were offset by a decline of 9,000 Fannie Mae and Freddie Mac loans in forbearance.The government and private sector forbearance programs, initiated at the start of the pandemic, allow borrowers to delay their monthly payments for at least three months and for up to a year. Forbearance is granted in three-month terms, and so far more than 75% of borrowers in bailouts are on extensions since March.\"As of the 29th [of September], nearly 800,000 forbearance plans were still set to expire in September, down from 2 million at the start of the month. The data is still coming in, but over the past week, we've seen a roughly 80% extension rate,\" said Andy Walden, director of market research at Black Knight. \"Given that there are another million plans for which October marks the last payment covered by forbearance, we should expect to see heightened levels of expiration/extension activity in the coming weeks.\"As of Tuesday, roughly 3.6 million homeowners remain in pandemic-related forbearance plans. That's 6.8% of all active mortgages, representing $751 billion in unpaid principal.While the weekly turn is troubling, over the past month active forbearance volumes have fallen by 305,000, or 8%. FHA and VA loans, which generally go to borrowers with lower incomes and lower down payments, are not recovering as well as the rest of the market. It is likely those borrowers are in jobs that have been hardest hit by the pandemic.It is impossible to know specifically why more borrowers suddenly needed help on their mortgages, but it is a sign that all is not improving in the housing market. Some borrowers have been dipping into savings to make their monthly payments, and that may have now run dry. While the economy is adding jobs again, the unemployment rate is still high, and some borrowers are still clearly struggling. By loan type, 4.7% of all Fannie and Freddie-backed loans are in forbearance, while 11.2% of all FHA/VA loans are. For private label and bank-held loans, that share is 7.3%.\n",
      "\u001b[40m\u001b[35mtitle\u001b[0m: Number of mortgages in coronavirus bailout program jumps 21,000 after declining for six straight weeks\n",
      "========================================================================================================================\n",
      "Response # 1\n",
      "\u001b[40m\u001b[35m_additional\u001b[0m: {'certainty': 0.7107345}\n",
      "\u001b[40m\u001b[35mshort_description\u001b[0m: Treasury yields fell on Tuesday as the massive stock rally hit a pause. Investors also awaited the Federal Reserve's monetary policy decision.\n",
      "\u001b[40m\u001b[35mtitle\u001b[0m: 10-year Treasury yield falls to 0.8% as investors return to safety amid pause in stock rally\n",
      "========================================================================================================================\n",
      "Response # 2\n",
      "\u001b[40m\u001b[35m_additional\u001b[0m: {'certainty': 0.68885976}\n",
      "\u001b[40m\u001b[35mshort_description\u001b[0m: Erica Friedle had not missed a vote in seven years. Then came the coronavirus pandemic.Friedle told CNBC she didn't receive her absentee ballot for April's Wisconsin presidential primary. And now she fears that a lack of preparation by state officials and the continued threat of the disease might force her to sit out the upcoming November election in the swing state. As health officials predict that the pandemic might last into the fall, many states are beginning to plan for the likelihood of people opting to vote by mail instead of showing up in person, where the risk of contracting and spreading the coronavirus is greater. For some people, the coronavirus has made voting a nerve-wracking action. Some Americans and voting rights groups are concerned that the pandemic is forcing voters to choose between avoiding contact with people to stay healthy and exercising their right to vote. Come November, these concerns might linger.\"Are people going to want to stay in line to vote? Are people going to be requesting absentee ballots? Do people even have the technology to request a ballot online?\" Friedle asked, listing out some of her immediate worries in an interview with CNBC. \"There are so many unknowns right now.\"The Wisconsin primary in particular has been criticized for its disorganization and last-minute changes, leading to voter confusion and disenfranchisement and serves as an example of what voting rights groups hope will not happen in November.Complicating matters, President Donald Trump and members of the Republican Party are on the attack against widespread mail-in voting while Democrats push for expanded access. Late last month, Trump threatened to withhold funding from Michigan and Nevada for expanding their mail-in voting services in an effort to avoid crowded polling centers during the coronavirus pandemic. \"More and more states are allowing vote-by-mail without voters having to provide a reason or excuse for it,\" said Andrea Hailey, CEO of Vote.org, a nonprofit focusing on advancing voter ballot access. \"Other states are mailing applications to voters, which is critical for ensuring that all voters can participate in the electoral process.\"More than half, or 54%, of Americans said they would back voting by mail in the upcoming presidential election if the pandemic persists, according to an April Morning Consult poll. And 66% of surveyed Americans said in March that they were concerned about voting in person during the coronavirus outbreak. \"We are seeing signs that voters are registering at numbers unseen from our organization, and that they are very much interested in voting by absentee,\" Hailey told CNBC in an email.But mail-in voting can bring its own concerns, especially if there are underlying circumstances that affect support, such as the potential for U.S. Postal Service operation failure or miscommunication between state officials and voters.Friedle, a second-grade teacher, said she applied for an absentee ballot but did not receive it ahead of the Wisconsin presidential primary on April 7. She is a single mother with a 10-year-old child, sharing custody with her ex-husband, a scientist at a large pharmaceutical company who at the time of the primary had been working on a vaccine for Covid-19.The combination of being unable to leave her child alone and fearing getting sick at the polls made Friedle miss the vote.  \"I didn't want to put myself at risk for getting sick,\" she said. \"I've been taking care of my daughter the whole time. Her father works crazy hours, and at that time, he was telling me he might get locked out in his work, that he wouldn't be able to leave his work.\"She added: \"That just made me nervous. Who's gonna watch my daughter?\" Friedle, 41, is not within the most vulnerable age group for contracting the most severe form of the virus. But there's still a lot at stake for people like Friedle: parents with young kids or teachers whose students are relying on them even as online classes persist. Knowing the risks, Friedle chose instead to skip out on voting. She feared if she contracted the virus, she would pass it on to her daughter or potentially be unable to teach. Voting rights groups stress that the most susceptible people are \"older voters and people with pre-existing conditions,\" according to Brett Edkins, political director at New York-based Stand Up America, a nonprofit focused on advancing Democratic goals. \"Children and younger parents are at relatively low risk of becoming seriously ill. Election experts across the partisan divide say that mail-in voting is the safest alternative to in-person voting.\"But Friedle's experience during the Wisconsin primary gave her a taste of what November might look like for her and other voters across the nation, she said. She's hoping to see her state take action in the coming months to reduce the likelihood of people experiencing what she did. This includes \"having multiple ways to vote, whether you want to vote early, via an absentee ballot or in person.\"At the same time, she's concerned about whether officials are considering the feasibility of these moves. \"How can we do that? How can we do it safely so people aren't being exposed to germs or viruses?\" she asked. \"Lots of organizations are out there that drive people to the polls. Are people still organizing these things with Covid going on?\"In other states, some voters are concerned that there won't be enough done to make in-person voting safer. Angel Wells, a frequent voter and a self-described human rights activist based in Arizona, said that's what's driving her fears today. Voting can get chaotic in Arizona, said Wells, a veteran. In her voting area, \"there are 64 voting offices where you can cast your vote. But that's not enough when you live in a valley with millions of people.\"\"When people go out to vote, those lines are long. The polling booths are close [together]. They're not six feet apart. How are we supposed to have this vote and keep within health guidelines?\" \"People are rightly concerned about having to choose between their right to vote and their health,\" Edkins of Stand Up America said. \"I think we're hearing a lot of those concerns from our community and from voters everywhere.\"\n",
      "\u001b[40m\u001b[35mtitle\u001b[0m: Some voters are scared the coronavirus will stop them from casting a ballot\n",
      "========================================================================================================================\n",
      "Response # 3\n",
      "\u001b[40m\u001b[35m_additional\u001b[0m: {'certainty': 0.68737507}\n",
      "\u001b[40m\u001b[35mshort_description\u001b[0m: Ad budgets were already shifting from TV to digital before the coronavirus pandemic, but that's going to speed up, according to a Europe-focused report by Goldman Sachs.\"Overall, we expect the crisis will only accelerate the secular shift in advertising budgets towards digital, while potentially also leading to more attempts by the EU broadcasters to seek further partnerships and M&A (mergers and acquisitions) to share costs and build scale,\" according to the company's Europe Media: Broadcasting report, seen by CNBC.Brands are able to measure the impact of online ads more easily than those on TV, and digital ads tend to be cheaper — and it appears the pandemic has had more of an impact on TV ad revenue than digital. TV ad revenue in Europe was down by about 50% in April, while the results of the major digital players were generally above expectations, Goldman noted. Google search revenue was \"down mid-teens,\" while Facebook's revenue growth for the first three weeks of April was flat and Snap's went up 15% in April, the report added.A separate report from the World Advertising Research Center (WARC) showed that global marketing budgets for digital advertising in April fell for the first time since WARC started tracking spend in 2012. Advertising in printed newspapers and magazines saw the steepest declines followed by outdoor billboards, radio and TV.\n",
      "\u001b[40m\u001b[35mtitle\u001b[0m: Ad shift from TV to digital will speed up even more because of coronavirus, Goldman Sachs says\n",
      "========================================================================================================================\n",
      "Response # 4\n",
      "\u001b[40m\u001b[35m_additional\u001b[0m: {'certainty': 0.6675046}\n",
      "\u001b[40m\u001b[35mshort_description\u001b[0m: Germany is considering how to implement a gradual recovery from the coronavirus pandemic, the country's health minister, Jens Spahn, told CNBC on Monday. \"We are thinking about step by step, that is important ... going back to a new normal,\" Spahn said on \"Closing Bell.\"Spahn, who was speaking from Berlin, stressed that it will indeed be a new normal because \"all the measures we have taken like keeping distance, wearing masks, no parties ... are definitely measures that need to be there in place for months to come.\" But Germany is in a place to begin considering what a recovery looks like because its rate of new infections has continued to slow, Spahn said. He cited the effectiveness of social distancing measures and applauded the country's residents for taking them seriously. There are more than 128,000 confirmed cases of Covid-19 in Germany and around 3,000 deaths, according to Johns Hopkins University. Spahn said the German government is now seeking to find \"the right balance\" between health and economic considerations. \"I would say it's not the health of people versus the economy because they are very much interlinked,\" Spahn said. \"You need a strong economy to have a well-equipped health system, for example. Or unemployment, a recession, is harmful for the mental and physical health of people, too.\" Germany has received praise, albeit with some caution, for its response to the Covid-19 outbreak. Spahn said he was \"humble\" but not \"overconfident\" about how Germany has handled the spread of the coronavirus.He cited the strength of Germany's health-care system, in particular its high number of intensive care unit beds, as one reason why the country was well equipped to respond to the pandemic. The country also placed an early emphasis on testing capacity, Spahn said. He said the the country had a strong network of labs, and he noted that the first diagnostic test for Covid-19 was developed in Germany in January. \"It's like pointing a flashlight into the dark,\" Spahn said of testing. \"If you don't do it, you'll just see different shades of gray. With extensive testing, you can really see what's going on. You don't just see the symptomatic cases, but the mild and asymptomatic ones, too.\" Read all of CNBC's coronavirus coverage here\n",
      "\u001b[40m\u001b[35mtitle\u001b[0m: German health minister says the country is considering steps to return to a 'new normal'\n",
      "========================================================================================================================\n"
     ]
    }
   ],
   "source": [
    "nearText = {\n",
    "    \"concepts\": [\"how pandemic affected mortgages\"],\n",
    "    \"certainty\": 0.5,\n",
    "    \"moveAwayFrom\": {\n",
    "        \"concepts\": [\"subprime mortgages\"],\n",
    "        \"force\": 1.0,\n",
    "    },\n",
    "    \"moveTo\": {\n",
    "        \"concepts\": [\"mortgage bailouts\"],\n",
    "        \"force\": 0.2,\n",
    "    },\n",
    "}\n",
    "\n",
    "response = client.query.get(class_name, properties).with_near_text(nearText).with_limit(5).do()\n",
    "\n",
    "pprint_response(response)"
   ]
  },
  {
   "cell_type": "markdown",
   "metadata": {},
   "source": [
    "## 1.2. Filter by date"
   ]
  },
  {
   "cell_type": "markdown",
   "metadata": {},
   "source": [
    "Weaviate can do not only vector search but also combine it with additional filters. Let's take a look at how to [filter articles by date](https://github.com/semi-technologies/weaviate/issues/1271)."
   ]
  },
  {
   "cell_type": "markdown",
   "metadata": {},
   "source": [
    "Date has to be provided in supported [date format](https://weaviate.io/developers/weaviate/current/data-schema/datatypes.html#datatype-date)."
   ]
  },
  {
   "cell_type": "code",
   "execution_count": 7,
   "metadata": {},
   "outputs": [
    {
     "name": "stdout",
     "output_type": "stream",
     "text": [
      "2020-01-01T00:00:00+00:00\n"
     ]
    }
   ],
   "source": [
    "date = datetime(year=2020, month=1, day=1, tzinfo=timezone.utc).isoformat()\n",
    "print(date)"
   ]
  },
  {
   "cell_type": "markdown",
   "metadata": {},
   "source": [
    "To find articles related to computer risks in US published before January 1 2020:"
   ]
  },
  {
   "cell_type": "code",
   "execution_count": 8,
   "metadata": {},
   "outputs": [
    {
     "name": "stdout",
     "output_type": "stream",
     "text": [
      "\u001b[1m\u001b[47m\u001b[31mARTICLE\u001b[0m\n",
      "Response # 0\n",
      "\u001b[40m\u001b[35m_additional\u001b[0m: {'certainty': 0.7508904}\n",
      "\u001b[40m\u001b[35mpublished_at\u001b[0m: 2017-09-20T10:05:17Z\n",
      "\u001b[40m\u001b[35mshort_description\u001b[0m: Cybersecurity, health of the global economy, energy price shock and terrorist attacks are some of the top risks that concern businesses and may threaten their ability to operate, according to results from a new survey by the World Economic Forum (WEF) published Wednesday.The survey, conducted annually by the WEF's strategic partners Marsh & McLennan Companies and Zurich Insurance Group, highlighted the following ten risks that businesses are presently concerned about:While concerns about the overall health of the global economy continue to dominate the list, the report found concerns around cybersecurity risks rising in importance.\"Business leaders in many of world's largest economies now rank cyber as their top risk,\" John Drzik, president of Marsh Global Risk & Digital, said in a press statement. \"Companies need to rigorously analyze how these threats could impact their operations and take appropriate risk mitigation and resiliency measures.\"\n",
      "\u001b[40m\u001b[35mtitle\u001b[0m: Here are the top 10 major worries for global business leaders right now, according to WEF\n",
      "========================================================================================================================\n",
      "Response # 1\n",
      "\u001b[40m\u001b[35m_additional\u001b[0m: {'certainty': 0.6412378}\n",
      "\u001b[40m\u001b[35mpublished_at\u001b[0m: 2014-10-02T19:56:18Z\n",
      "\u001b[40m\u001b[35mshort_description\u001b[0m: For the second time in roughly three  months, JPMorgan Chase is  scrambling to contain the fallout from a security breach of its  vast computer network, according to several people with knowledge  of the investigation. JPMorgan, the nation's largest bank, recently found that  hackers, with links to Italy or southern Europe, had gained entry  to some of the bank's servers, these people said. Read MoreJPMorgan:We are not aware of a new cyberattack The discovery follows an attack that was uncovered in late  July and suggests that it was more extensive than first thought.  In that attack, hackers obtained entry to dozens of the bank's  servers and reviewed information on more than one million  customer accounts. Security experts briefed on the matter had  said that the full extent of the July attack was not known and  that it could take the bank months to discover all of the  fallout.\n",
      "\u001b[40m\u001b[35mtitle\u001b[0m: JPMorgan Discovers Further Cyber Security Issues\n",
      "========================================================================================================================\n",
      "Response # 2\n",
      "\u001b[40m\u001b[35m_additional\u001b[0m: {'certainty': 0.6341891}\n",
      "\u001b[40m\u001b[35mpublished_at\u001b[0m: 2011-07-06T15:46:48Z\n",
      "\u001b[40m\u001b[35mshort_description\u001b[0m: Stocks edged higher in another choppy, thin-volume session Wednesday after investors largely shrugged off news that ISM non-manufacturing index slipped last month and China's latest interest rate increase.The Dow Jones Industrial Average rose into positive territory, after snapping a five-day rally in the previous session.  Among the blue-chip index, Bank of America  and JPMorgan  slipped, while DuPont  gained. The S&P 500 and the tech-heavy Nasdaq also turned higher. The CBOE Volatility Index, widely considered the best gauge of fear in the market, gained above 16. Among key S&P stocks, energy and financials slipped, while consumer staples gained. “There’s going to be continued volatility in the markets throughout the summer months into early fall,” said Zahid Siddique, portfolio manager of Gabelli Equity Trust. “[But] as the economic indicators begin to improve, there will be less volatility and more stability in the markets by year-end.” Meanwhile, the ISM non-manufacturing index slipped slightly below estimates to 53.3 in June. Economists expected the index to fall to 54.0.“The market really wanted some glimmer of hope that we’re exiting a soft patch…and this is not it,” Jim Iuorio, director of TJM Institutional Services told CNBC. “There’s too much to bear for the stock market to go higher.”Meanwhile, the number of planned layoffs increasedfor the second month in a row, according a report from job outplacement firm Challenger, Gray & Christmas. This comes ahead of a number of key employment news starting with ADP's jobs survey and weekly jobless claims on Thursday and the government's monthly report on Friday. The Chinese central bank approved an increase of 0.25 percentage points, the nation's latest move to cool growth.The euro slid for a second session against the dollar.\n",
      "\u001b[40m\u001b[35mtitle\u001b[0m: Stocks Edge Up, Shaking Off Economic News\n",
      "========================================================================================================================\n"
     ]
    }
   ],
   "source": [
    "nearText = {\n",
    "    \"concepts\": [\"computer risks in US\"],\n",
    "    \"certainty\": 0.5,\n",
    "}\n",
    "\n",
    "response = (\n",
    "    client.query.get(\n",
    "        \"Article\",\n",
    "        [\n",
    "            \"title\",\n",
    "            \"short_description\",\n",
    "            \"published_at\",\n",
    "            \"_additional {certainty}\",\n",
    "        ],\n",
    "    )\n",
    "    .with_near_text(nearText)\n",
    "    .with_where(\n",
    "        {\n",
    "            \"operator\": \"LessThan\",\n",
    "            \"path\": [\"published_at\"],\n",
    "            \"valueDate\": date,\n",
    "        }\n",
    "    )\n",
    "    .with_limit(3)\n",
    "    .do()\n",
    ")\n",
    "\n",
    "pprint_response(response)"
   ]
  },
  {
   "cell_type": "markdown",
   "metadata": {},
   "source": [
    "## 1.3. Filter by keywords"
   ]
  },
  {
   "cell_type": "markdown",
   "metadata": {},
   "source": [
    "As we have list of keywords for each article we can use it as a filter.\n",
    "\n",
    "Let's say we are eager to find articles about predictions from banks and hedge fonds but keep only articles with \"bonds\" keyword."
   ]
  },
  {
   "cell_type": "code",
   "execution_count": 9,
   "metadata": {},
   "outputs": [
    {
     "name": "stdout",
     "output_type": "stream",
     "text": [
      "\u001b[1m\u001b[47m\u001b[31mARTICLE\u001b[0m\n",
      "Response # 0\n",
      "\u001b[40m\u001b[35m_additional\u001b[0m: {'certainty': 0.70867497}\n",
      "\u001b[40m\u001b[35mkeywords\u001b[0m: ['cnbc', 'Articles', 'Commodity markets', 'Currency markets', 'Bonds', 'SK Telecom Co Ltd', 'Microsoft Corp', 'Boeing Co', 'Currencies', 'Futures & Commodities', 'Markets', 'stocks', 'Stock Blog', 'source:tagname:CNBC US Source']\n",
      "\u001b[40m\u001b[35mshort_description\u001b[0m: In a shorter holiday week, U.S. stocks ended flat Friday, as positives struggled with the Dubai debt news. How should investors prepare for next week? Alan Valdes, vice president at Kabrik Trading, and Doug Kreps, principal and managing director at Fort Pitt Capital Group, offered CNBC their portfolio advice. (See Kreps' stock picks, below.)\"Sometimes your best trade is no trade at all,\" Valdes said.\n",
      "\u001b[40m\u001b[35mtitle\u001b[0m: Portfolio Prep for Next Week: 'Don't Get Crazy'\n",
      "========================================================================================================================\n",
      "Response # 1\n",
      "\u001b[40m\u001b[35m_additional\u001b[0m: {'certainty': 0.6648741}\n",
      "\u001b[40m\u001b[35mkeywords\u001b[0m: ['cnbc', 'Articles', 'Commodity markets', 'Currency markets', 'Bonds', 'Barclays PLC', 'HSBC Holdings PLC', 'Meta Platforms Inc', 'Microsoft Corp', 'Alphabet Class A', 'International Business Machines Corp', 'Howmet Aerospace Inc', 'Citigroup Inc', 'Goldman Sachs Group Inc', 'Currencies', 'Futures & Commodities', 'DOW 30', 'Markets', 'stocks', 'Stock Blog', 'source:tagname:CNBC US Source']\n",
      "\u001b[40m\u001b[35mshort_description\u001b[0m: What was Wall Street saying about earnings season, Googlehitting an all-time high, Facebook’s1 billion users and European bank stocks?\n",
      "\u001b[40m\u001b[35mtitle\u001b[0m: The Stocks Analysts Are Talking About\n",
      "========================================================================================================================\n"
     ]
    }
   ],
   "source": [
    "nearText = {\n",
    "    \"concepts\": [\"banks hedge fonds predictions\"],\n",
    "    \"certainty\": 0.5,\n",
    "}\n",
    "\n",
    "class_name = \"Article\"\n",
    "properties = [\n",
    "    \"title\",\n",
    "    \"keywords\",\n",
    "    \"short_description\",\n",
    "    \"_additional {certainty}\",\n",
    "]\n",
    "\n",
    "response = (\n",
    "    client.query.get(class_name, properties)\n",
    "    .with_near_text(nearText)\n",
    "    .with_where(\n",
    "        {\n",
    "            \"operator\": \"Equal\",\n",
    "            \"path\": [\"keywords\"],\n",
    "            \"valueText\": [\"bonds\"],\n",
    "        }\n",
    "    )\n",
    "    .with_limit(2)\n",
    "    .do()\n",
    ")\n",
    "\n",
    "pprint_response(response)"
   ]
  },
  {
   "cell_type": "markdown",
   "metadata": {},
   "source": [
    "The same query but with \"fast money\" keyword:"
   ]
  },
  {
   "cell_type": "code",
   "execution_count": 10,
   "metadata": {},
   "outputs": [
    {
     "name": "stdout",
     "output_type": "stream",
     "text": [
      "\u001b[1m\u001b[47m\u001b[31mARTICLE\u001b[0m\n",
      "Response # 0\n",
      "\u001b[40m\u001b[35m_additional\u001b[0m: {'certainty': 0.6835276}\n",
      "\u001b[40m\u001b[35mkeywords\u001b[0m: ['cnbc', 'Articles', 'S&P 500 Index', 'iShares 20+ Year Treasury Bond ETF', 'Fed Should Raise Interest Rates to 2-3 Percent: Einhorn', 'Bank Crisis Strikes Europe', 'CNBC TV', 'Fast Money', 'Fast Money: Behind The Money', 'source:tagname:CNBC US Source']\n",
      "\u001b[40m\u001b[35mshort_description\u001b[0m: They are supposed to be the smart money—the best of the best—yet they can’t even beat a basic Treasury bond fund.\n",
      "\u001b[40m\u001b[35mtitle\u001b[0m: Dumb Money: Hedge Funds Can't Even Beat Bond Funds\n",
      "========================================================================================================================\n",
      "Response # 1\n",
      "\u001b[40m\u001b[35m_additional\u001b[0m: {'certainty': 0.6603917}\n",
      "\u001b[40m\u001b[35mkeywords\u001b[0m: ['cnbc', 'Articles', 'S&P 500 Index', 'Alexion Pharmaceuticals Inc', 'Capital One Financial Corp', 'Goldman Sachs Group Inc', 'HP Inc', '3M Co', 'Microsoft Corp', 'Travelers Companies Inc', 'Wells Fargo & Co', \"McDonald's Corp\", 'Fast Money', 'CNBC TV', 'Fast Money Halftime Report', 'source:tagname:CNBC US Source']\n",
      "\u001b[40m\u001b[35mshort_description\u001b[0m: Stocks were searching for direction on Thursday with investors digesting generally positive earnings reports versus not so positive economic news.Among the Dow components 3M, Travelers  and McDonald's  all posted solid results suggesting strength, however, the number of workers filing new jobless claims rose by 11,000 last week, indicating the labor market remains fragile.Adding to the negative tone, one day earlier, widely followed bank analyst Dick Bove cut his view of Wells Fargo saying loan losses were mounting. However Wells along with Goldman  and other banks shrugged off the negative comments and trended higher.How should you be positioned?\n",
      "\u001b[40m\u001b[35mtitle\u001b[0m: Halftime Report: Watch Goldman Action Closely Into Close\n",
      "========================================================================================================================\n"
     ]
    }
   ],
   "source": [
    "response = (\n",
    "    client.query.get(class_name, properties)\n",
    "    .with_near_text(nearText)\n",
    "    .with_where(\n",
    "        {\n",
    "            \"operator\": \"Equal\",\n",
    "            \"path\": [\"keywords\"],\n",
    "            \"valueText\": [\"fast money\"],  # there are no articles with these keywords at the same time\n",
    "        }\n",
    "    )\n",
    "    .with_limit(2)\n",
    "    .do()\n",
    ")\n",
    "\n",
    "pprint_response(response)"
   ]
  },
  {
   "cell_type": "markdown",
   "metadata": {},
   "source": [
    "If we want to repeat the query but now filter articles that include both \"bonds\" and \"fast money\" keywords the response will be empty. That's because there are no such articles containing both keywords at the same time."
   ]
  },
  {
   "cell_type": "code",
   "execution_count": 11,
   "metadata": {},
   "outputs": [
    {
     "name": "stdout",
     "output_type": "stream",
     "text": [
      "\u001b[1m\u001b[47m\u001b[31mARTICLE\u001b[0m\n",
      "\u001b[40m\u001b[31mEmpty result\u001b[0m\n"
     ]
    }
   ],
   "source": [
    "response = (\n",
    "    client.query.get(class_name, properties)\n",
    "    .with_near_text(nearText)\n",
    "    .with_where(\n",
    "        {\n",
    "            \"operator\": \"Equal\",\n",
    "            \"path\": [\"keywords\"],\n",
    "            \"valueText\": [\"bonds\", \"fast money\"],  # there are no articles with these keywords at the same time\n",
    "        }\n",
    "    )\n",
    "    .with_limit(5)\n",
    "    .do()\n",
    ")\n",
    "\n",
    "pprint_response(response)"
   ]
  },
  {
   "cell_type": "markdown",
   "metadata": {},
   "source": [
    "Enter `operator`! We can specify that we want our query about market predictions and articles to contain either \"bonds\" or \"fast money\" keywords.\n",
    "\n",
    "The list of operators can be found on [this page](https://weaviate.io/developers/weaviate/current/graphql-references/filters.html)."
   ]
  },
  {
   "cell_type": "code",
   "execution_count": 12,
   "metadata": {},
   "outputs": [
    {
     "name": "stdout",
     "output_type": "stream",
     "text": [
      "\u001b[1m\u001b[47m\u001b[31mARTICLE\u001b[0m\n",
      "Response # 0\n",
      "\u001b[40m\u001b[35m_additional\u001b[0m: {'certainty': 0.70867497}\n",
      "\u001b[40m\u001b[35mkeywords\u001b[0m: ['cnbc', 'Articles', 'Commodity markets', 'Currency markets', 'Bonds', 'SK Telecom Co Ltd', 'Microsoft Corp', 'Boeing Co', 'Currencies', 'Futures & Commodities', 'Markets', 'stocks', 'Stock Blog', 'source:tagname:CNBC US Source']\n",
      "\u001b[40m\u001b[35mshort_description\u001b[0m: In a shorter holiday week, U.S. stocks ended flat Friday, as positives struggled with the Dubai debt news. How should investors prepare for next week? Alan Valdes, vice president at Kabrik Trading, and Doug Kreps, principal and managing director at Fort Pitt Capital Group, offered CNBC their portfolio advice. (See Kreps' stock picks, below.)\"Sometimes your best trade is no trade at all,\" Valdes said.\n",
      "\u001b[40m\u001b[35mtitle\u001b[0m: Portfolio Prep for Next Week: 'Don't Get Crazy'\n",
      "========================================================================================================================\n",
      "Response # 1\n",
      "\u001b[40m\u001b[35m_additional\u001b[0m: {'certainty': 0.6835276}\n",
      "\u001b[40m\u001b[35mkeywords\u001b[0m: ['cnbc', 'Articles', 'S&P 500 Index', 'iShares 20+ Year Treasury Bond ETF', 'Fed Should Raise Interest Rates to 2-3 Percent: Einhorn', 'Bank Crisis Strikes Europe', 'CNBC TV', 'Fast Money', 'Fast Money: Behind The Money', 'source:tagname:CNBC US Source']\n",
      "\u001b[40m\u001b[35mshort_description\u001b[0m: They are supposed to be the smart money—the best of the best—yet they can’t even beat a basic Treasury bond fund.\n",
      "\u001b[40m\u001b[35mtitle\u001b[0m: Dumb Money: Hedge Funds Can't Even Beat Bond Funds\n",
      "========================================================================================================================\n",
      "Response # 2\n",
      "\u001b[40m\u001b[35m_additional\u001b[0m: {'certainty': 0.6648741}\n",
      "\u001b[40m\u001b[35mkeywords\u001b[0m: ['cnbc', 'Articles', 'Commodity markets', 'Currency markets', 'Bonds', 'Barclays PLC', 'HSBC Holdings PLC', 'Meta Platforms Inc', 'Microsoft Corp', 'Alphabet Class A', 'International Business Machines Corp', 'Howmet Aerospace Inc', 'Citigroup Inc', 'Goldman Sachs Group Inc', 'Currencies', 'Futures & Commodities', 'DOW 30', 'Markets', 'stocks', 'Stock Blog', 'source:tagname:CNBC US Source']\n",
      "\u001b[40m\u001b[35mshort_description\u001b[0m: What was Wall Street saying about earnings season, Googlehitting an all-time high, Facebook’s1 billion users and European bank stocks?\n",
      "\u001b[40m\u001b[35mtitle\u001b[0m: The Stocks Analysts Are Talking About\n",
      "========================================================================================================================\n",
      "Response # 3\n",
      "\u001b[40m\u001b[35m_additional\u001b[0m: {'certainty': 0.6603917}\n",
      "\u001b[40m\u001b[35mkeywords\u001b[0m: ['cnbc', 'Articles', 'S&P 500 Index', 'Alexion Pharmaceuticals Inc', 'Capital One Financial Corp', 'Goldman Sachs Group Inc', 'HP Inc', '3M Co', 'Microsoft Corp', 'Travelers Companies Inc', 'Wells Fargo & Co', \"McDonald's Corp\", 'Fast Money', 'CNBC TV', 'Fast Money Halftime Report', 'source:tagname:CNBC US Source']\n",
      "\u001b[40m\u001b[35mshort_description\u001b[0m: Stocks were searching for direction on Thursday with investors digesting generally positive earnings reports versus not so positive economic news.Among the Dow components 3M, Travelers  and McDonald's  all posted solid results suggesting strength, however, the number of workers filing new jobless claims rose by 11,000 last week, indicating the labor market remains fragile.Adding to the negative tone, one day earlier, widely followed bank analyst Dick Bove cut his view of Wells Fargo saying loan losses were mounting. However Wells along with Goldman  and other banks shrugged off the negative comments and trended higher.How should you be positioned?\n",
      "\u001b[40m\u001b[35mtitle\u001b[0m: Halftime Report: Watch Goldman Action Closely Into Close\n",
      "========================================================================================================================\n",
      "Response # 4\n",
      "\u001b[40m\u001b[35m_additional\u001b[0m: {'certainty': 0.65837765}\n",
      "\u001b[40m\u001b[35mkeywords\u001b[0m: ['cnbc', 'Articles', 'Bonds', 'American International Group Inc', 'Bank of America Corp', 'Cisco Systems Inc', 'Goldman Sachs Group Inc', 'Markets', 'stocks', 'Stock Blog', 'source:tagname:CNBC US Source']\n",
      "\u001b[40m\u001b[35mshort_description\u001b[0m: Doug MacKay of Broadleaf Partners and Bill Spiropoulos of Corestates Capital Advisors agree: The March bottom will hold — and you want to be in equities now.\n",
      "\u001b[40m\u001b[35mtitle\u001b[0m: March Lows Will Hold — So Buy Equities: Strategists\n",
      "========================================================================================================================\n"
     ]
    }
   ],
   "source": [
    "where_filter = {\n",
    "    \"operator\": \"Or\",\n",
    "    \"operands\": [\n",
    "        {\n",
    "            \"operator\": \"Equal\",\n",
    "            \"path\": [\"keywords\"],\n",
    "            \"valueText\": \"bonds\",\n",
    "        },\n",
    "        {\n",
    "            \"operator\": \"Equal\",\n",
    "            \"path\": [\"keywords\"],\n",
    "            \"valueText\": \"fast money\",\n",
    "        },\n",
    "    ],\n",
    "}\n",
    "\n",
    "response = client.query.get(class_name, properties).with_near_text(nearText).with_where(where_filter).with_limit(5).do()\n",
    "\n",
    "pprint_response(response)"
   ]
  },
  {
   "cell_type": "markdown",
   "metadata": {},
   "source": [
    "## 1.4. Filter by minimum description length"
   ]
  },
  {
   "cell_type": "markdown",
   "metadata": {},
   "source": [
    "In our weaviate schema we have property \"descriptionWordCount\" which stores how many words are in description. We can return articles filtered by this parameter. Let's say we are looking for article with description of more than 100 words and related to pandemic affect on stock market."
   ]
  },
  {
   "cell_type": "code",
   "execution_count": 13,
   "metadata": {},
   "outputs": [
    {
     "name": "stdout",
     "output_type": "stream",
     "text": [
      "\u001b[1m\u001b[47m\u001b[31mARTICLE\u001b[0m\n",
      "Response # 0\n",
      "\u001b[40m\u001b[35m_additional\u001b[0m: {'certainty': 0.71506536}\n",
      "\u001b[40m\u001b[35mdescription\u001b[0m: Germany is considering how to implement a gradual recovery from the coronavirus pandemic, the country's health minister, Jens Spahn, told CNBC on Monday. \"We are thinking about step by step, that is important ... going back to a new normal,\" Spahn said on \"Closing Bell.\"Spahn, who was speaking from Berlin, stressed that it will indeed be a new normal because \"all the measures we have taken like keeping distance, wearing masks, no parties ... are definitely measures that need to be there in place for months to come.\" But Germany is in a place to begin considering what a recovery looks like because its rate of new infections has continued to slow, Spahn said. He cited the effectiveness of social distancing measures and applauded the country's residents for taking them seriously. There are more than 128,000 confirmed cases of Covid-19 in Germany and around 3,000 deaths, according to Johns Hopkins University. Spahn said the German government is now seeking to find \"the right balance\" between health and economic considerations. \"I would say it's not the health of people versus the economy because they are very much interlinked,\" Spahn said. \"You need a strong economy to have a well-equipped health system, for example. Or unemployment, a recession, is harmful for the mental and physical health of people, too.\" Germany has received praise, albeit with some caution, for its response to the Covid-19 outbreak. Spahn said he was \"humble\" but not \"overconfident\" about how Germany has handled the spread of the coronavirus.He cited the strength of Germany's health-care system, in particular its high number of intensive care unit beds, as one reason why the country was well equipped to respond to the pandemic. The country also placed an early emphasis on testing capacity, Spahn said. He said the the country had a strong network of labs, and he noted that the first diagnostic test for Covid-19 was developed in Germany in January. \"It's like pointing a flashlight into the dark,\" Spahn said of testing. \"If you don't do it, you'll just see different shades of gray. With extensive testing, you can really see what's going on. You don't just see the symptomatic cases, but the mild and asymptomatic ones, too.\" Read all of CNBC's coronavirus coverage here\n",
      "\u001b[40m\u001b[35mdescriptionWordCount\u001b[0m: 364\n",
      "\u001b[40m\u001b[35mpublished_at\u001b[0m: 2020-04-13T21:08:49Z\n",
      "\u001b[40m\u001b[35mtitle\u001b[0m: German health minister says the country is considering steps to return to a 'new normal'\n",
      "========================================================================================================================\n",
      "Response # 1\n",
      "\u001b[40m\u001b[35m_additional\u001b[0m: {'certainty': 0.7136517}\n",
      "\u001b[40m\u001b[35mdescription\u001b[0m: Here are the most important news, trends and analysis that investors need to start their trading day:Dow set to open lower after closing down for third straight sessionGameStop sinks on lack of guidance; Lululemon soars on strong outlookUnited staff with religious exemptions to Covid shot must take unpaid leaveBiden to unveil drive to boost Covid vaccinations, fight delta variantUkraine to become latest country to legalize bitcoin as it goes globalU.S. stock futures were under some pressure Thursday after the Dow Jones Industrial Average and S&P 500 closed lower for the third straight session. Investors get another report on the labor market before the bell that could go into the Federal Reserve's thinking about when to start tapering Covid-era bond purchases. Rising inflation and the delta variant are also wildcards. The Nasdaq, which had been on a run of record closes, broke a four-session winning streak on Wednesday as tech stocks faltered.Chinese stocks that trade in the U.S. were lower in premarket trading after Chinese regulators called NetEase and others for an interview to remind them of video-game restrictions on kids.The U.S. government reported Thursday 310,000 initial jobless claims for the week ending Sept. 4. That's lower than estimates and a pandemic low all the way back to the week ending March 14, 2020, when new claims totaled 256,000. That was just before Covid caused historic business closures and job losses, leading to a rush for unemployment benefits. For the week ending Aug. 28, new claims were revised higher to 345,000.The European Central Bank kept interest rates unchanged Thursday but opted to slow down the pace of net asset purchases under its pandemic emergency purchase program.Shares of GameStop, the original meme stock, lost 7% in Thursday's premarket, the morning after the video-game retailer reported its second-quarter loss narrowed on a year-over-year basis. GameStop, whose stock was still up more than 900% in 2021, did not provide an outlook for the coming quarters or take questions during its post-results conference call. The company also said the SEC has requested additional documents for a probe into GameStop and other companies' trading activity, which the company had disclosed in May.Lululemon shares soared roughly 12% in the premarket after the athletic and leisure apparel maker late Wednesday reported second-quarter profit and revenue that topped expectations. The company has benefited from consumers buying its clothes for their stay-at-home wardrobes. But now, many people are also seeking out stretchy pants and other comfort pieces for their return to the office. Lululemon offered a better-than-expected outlook for the third quarter and fiscal 2021.United employees granted exemptions to the company's vaccination mandate for religious reasons will be put on temporary unpaid leave starting next month, the airline told staff Wednesday, citing the recent rise in Covid cases. United also said that if an employee's request for a religious exemption is denied, they must be vaccinated within five weeks of the denial notice and get the first shot by Sept. 27, or they will be terminated. Airline approaches to boost staff vaccination rates have varied. Delta Air Lines, for example, is imposing a $200 per month surcharge on unvaccinated employees' company health-care premiums.President Joe Biden is set to outline a six-pronged federal effort Thursday to boost Covid vaccinations and curb the surging delta variant, which is killing thousands in the U.S. each week and jeopardizing the nation's economic recovery. Biden is expected to push vaccine mandates for workforces and schools. He'll talk about new ways to increase testing and promote mask requirements. The president will emphasize steps to help the economy as well as moves to improve treatment for those with Covid.Bitcoin was steadier Thursday after Ukraine became the fifth country in as many weeks to lay down some ground rules for cryptocurrencies, a further sign governments around the world are realizing that digital coins are here to stay. In a nearly unanimous vote, the Ukrainian Parliament adopted a law that legalizes and regulates crypto. The bill, set in motion in 2020, goes to the desk of Ukraine's president. Bitcoin was trading around $46,200 on Thursday, two days after a flash crash ended up knocking it down 10%. Bitcoin hit an all-time high over $64,000 in April but sold off in June and July, even falling briefly below $30,000. But since mid-July, bitcoin has largely moved higher.— The Associated Press contributed to this report. Follow all the market action like a pro on CNBC Pro. Get the latest on the pandemic with CNBC's coronavirus coverage.\n",
      "\u001b[40m\u001b[35mdescriptionWordCount\u001b[0m: 745\n",
      "\u001b[40m\u001b[35mpublished_at\u001b[0m: 2021-09-09T11:40:58Z\n",
      "\u001b[40m\u001b[35mtitle\u001b[0m: 5 things to know before the stock market opens Thursday\n",
      "========================================================================================================================\n",
      "Response # 2\n",
      "\u001b[40m\u001b[35m_additional\u001b[0m: {'certainty': 0.6997677}\n",
      "\u001b[40m\u001b[35mdescription\u001b[0m: CNBC's Jim Cramer on Monday reviewed and made changes to his pandemic playbook to bring more diversification to his coronavirus index.The Cramer Covid-19 Index, a basket of 100 stocks he determined can work in a coronavirus-plagued market, has outgained the major indexes since Cramer last updated the stock catalog.\"When you look at the biggest winners in the index, they're overwhelmingly tech companies that help facilitate the stay-at-home economy, and a lot of these got hit today,\" the \"Mad Money\" host said.Cramer dropped two health-based stocks and one packaged foods company to make room for two cloud-based names and one gold business. VMware, Fastly and Newmont Mining were substituted for Baxter International, GlaxoSmithKline and Kellogg.Baxter, a medical supplies company, was removed because of its high exposure to voluntary surgeries delayed by the impact of the health crisis on hospitals. GlaxoSmithKline, a drug company that's working on a Covid-19 vaccine, was taken off because the stock is \"not enticing many investors,\" Cramer said. Kellogg, the cereal producing giant, was axed because the stock is lagging and the Cramer index already contains seven other similar plays.As for the new additions, Cramer added VMware, one of his cloud king stocks, because the stock is \"cheap on an earnings basis\" and the prospect that the company could be spun off from Dell. Fastly, a cloud content delivery network whose stock price has increased sevenfold since bottoming in March, is one that in hindsight Cramer wishes he included when he created the index in April. Newmont is a gold company that can provide investors \"more insurance against economic chaos\" as the country continues to deal with fallout from the coronavirus crisis, he said.The biggest winners on Crammer's list – Zoom Video, Spotify, Zscaler, DocuSign, Etsy, The Trade Desk, Livongo Health, Square, Peloton and Cloudflare – are among the top plays in the stay-at-home economy.\"As the pandemic flares up again, get ready after the industrial rotation ends. It's time to circle back to the blue-chip Covid stocks that are still way off their highs. That's what offers the best risk-reward,\" he said. \"I love a rotation. They throw out the good, they buy the bad and then they change their mind two days later.\"Cramer last updated his coronavirus playbook in late May when investors were growing more convinced that the economy was headed for a V-shape recovery as states eased lockdown orders. The host said then, however, that it was \"too soon to give up on the recession stocks\" as he showed 10 stocks the exit and brought 10 others onto his stock index that was designed to outperform the market through the pandemic.\"Since we adjusted the index a little over a month ago, it's rallied 6.4%. Meanwhile, the Dow [is] up 4.6%; S&P's only up 3.3%. Nasdaq Composite and NASDAQ 100, though, have both rallied 5.8%,\" Cramer said. \"Russell 2000 small-cap index has also underperformed of late, although got some good mojo today — gained 4.8% over the same period — but only after that big rally today, which is exactly what you'd expect with the pandemic once again spiraling out of control.\"DisclaimerQuestions for Cramer? Call Cramer: 1-800-743-CNBCWant to take a deep dive into Cramer's world? Hit him up! Mad Money Twitter - Jim Cramer Twitter - Facebook - InstagramQuestions, comments, suggestions for the \"Mad Money\" website? madcap@cnbc.com\n",
      "\u001b[40m\u001b[35mdescriptionWordCount\u001b[0m: 551\n",
      "\u001b[40m\u001b[35mpublished_at\u001b[0m: 2020-06-29T23:01:54Z\n",
      "\u001b[40m\u001b[35mtitle\u001b[0m: Cramer adds new stocks, recommends buying 12 laggards in his Covid-19 index\n",
      "========================================================================================================================\n",
      "Response # 3\n",
      "\u001b[40m\u001b[35m_additional\u001b[0m: {'certainty': 0.6992346}\n",
      "\u001b[40m\u001b[35mdescription\u001b[0m: Treasury yields fell on Tuesday as the massive stock rally hit a pause. Investors also awaited the Federal Reserve's monetary policy decision.The yield on the benchmark 10-year Treasury note dropped 7 basis points to 0.81% and the yield on the 30-year bond was down 9 basis points at 1.56%. Yields move inversely to prices.The Federal Open Market Committee (FOMC) meets Tuesday and will announce its latest monetary policy decision on Wednesday. While markets expect short-term interest rates to remain steady at near zero, investors will be watching Fed Chairman Jerome Powell's statement for clues over the central bank's next move.Powell intimated at last month's meeting that more stimulus could be necessary to mitigate the impact of the coronavirus pandemic. The Fed has already deployed an unprecedented barrage of rate cuts and credit and lending programs which could inject around $6 trillion into the economy.The National Bureau of Economic Research officially confirmed on Monday that the U.S. economy peaked in February, signaling the end to the longest economic expansion in American history, which began in June 2009.Market focus is also attuned to states' efforts to reopen their economies amid the coronavirus pandemic, which has now infected more than 1.9 million Americans and more than 7 million people worldwide.The World Health Organization (WHO) on Monday warned that the pandemic is \"far from over\" after a record number of new daily cases, and suggested that the virus has yet to peak in Central America.On the economic data front, the IBD/TIPP economic optimism survey for June is expected at 10 a.m. ET Tuesday, along with April JOLTs job openings and wholesale inventory figures.Auctions will be held Tuesday for $40 billion of 119-day Treasury bills, $60 billion of 42-day bills and $29 billion of 10-year notes.\n",
      "\u001b[40m\u001b[35mdescriptionWordCount\u001b[0m: 289\n",
      "\u001b[40m\u001b[35mpublished_at\u001b[0m: 2020-06-09T06:27:35Z\n",
      "\u001b[40m\u001b[35mtitle\u001b[0m: 10-year Treasury yield falls to 0.8% as investors return to safety amid pause in stock rally\n",
      "========================================================================================================================\n",
      "Response # 4\n",
      "\u001b[40m\u001b[35m_additional\u001b[0m: {'certainty': 0.694595}\n",
      "\u001b[40m\u001b[35mdescription\u001b[0m: Ad budgets were already shifting from TV to digital before the coronavirus pandemic, but that's going to speed up, according to a Europe-focused report by Goldman Sachs.\"Overall, we expect the crisis will only accelerate the secular shift in advertising budgets towards digital, while potentially also leading to more attempts by the EU broadcasters to seek further partnerships and M&A (mergers and acquisitions) to share costs and build scale,\" according to the company's Europe Media: Broadcasting report, seen by CNBC.Brands are able to measure the impact of online ads more easily than those on TV, and digital ads tend to be cheaper — and it appears the pandemic has had more of an impact on TV ad revenue than digital. TV ad revenue in Europe was down by about 50% in April, while the results of the major digital players were generally above expectations, Goldman noted. Google search revenue was \"down mid-teens,\" while Facebook's revenue growth for the first three weeks of April was flat and Snap's went up 15% in April, the report added.A separate report from the World Advertising Research Center (WARC) showed that global marketing budgets for digital advertising in April fell for the first time since WARC started tracking spend in 2012. Advertising in printed newspapers and magazines saw the steepest declines followed by outdoor billboards, radio and TV.Advertising is typically one of the first things businesses cut back on during recessions and this year's TV Upfronts in the U.S., where broadcast networks woo marketers, have been delayed indefinitely. Many of the companies surveyed in a report by consultancy Advertiser Perceptions said they could replace the reach of traditional TV ads with those in streaming services or via digital video ads.A lack of demand for media buys has also made ad spots cheaper, according to WARC data. For example, the cost of digital video ads was forecast to go up by 6.7% globally by media audit company ECI Media Management but is only likely to increase by 1.3%, per WARC. In terms of recovery, ad spend has historically shown a good relationship with economic growth, Goldman noted, with every 1% change to GDP usually translating to ad revenue growth going up two to three times.However, the post-pandemic recovery is likely to be less significant than the one after the 2008-2009 recession. The global TV ad market grew 14% in 2010 after a 7% decline in 2009 per figures from Magna Global, and Goldman expects European broadcasters to see growth of only 6% after an 18% decline this year.Broadcasters are also likely to be more open to partnerships and M&A, Goldman noted, with Italian broadcaster Mediaset set to acquire a 25% stake in Germany's ProSieben this year, for example. The report's authors also expect more partnerships in streaming services — in the U.K., ITV and the BBC launched Britbox in November.Broadcast stocks were the worst-performing sector in the European media market according to Goldman's report, down 41% on average year-to-date. This compares to a 27% decline for companies in the STOXX 600 Media, an index of European stocks.Goldman expects net annualized returns to decline between 30% and 50% for European broadcasters in the second quarter, with French channels including TF1 and M6 decreasing the most, and German broadcasters RTL and ProSieben being impacted the least.\n",
      "\u001b[40m\u001b[35mdescriptionWordCount\u001b[0m: 544\n",
      "\u001b[40m\u001b[35mpublished_at\u001b[0m: 2020-05-26T15:21:01Z\n",
      "\u001b[40m\u001b[35mtitle\u001b[0m: Ad shift from TV to digital will speed up even more because of coronavirus, Goldman Sachs says\n",
      "========================================================================================================================\n"
     ]
    }
   ],
   "source": [
    "nearText = {\n",
    "    \"concepts\": [\"pandemic covid affect on stock market\"],\n",
    "    \"certainty\": 0.5,\n",
    "}\n",
    "\n",
    "response = (\n",
    "    client.query.get(\n",
    "        \"Article\",\n",
    "        [\n",
    "            \"title\",\n",
    "            \"description\",\n",
    "            \"published_at\",\n",
    "            \"descriptionWordCount\",\n",
    "            \"_additional {certainty}\",\n",
    "        ],\n",
    "    )\n",
    "    .with_where(\n",
    "        {\n",
    "            \"operator\": \"GreaterThan\",\n",
    "            \"path\": [\"descriptionWordCount\"],\n",
    "            \"valueInt\": 100,\n",
    "        }\n",
    "    )\n",
    "    .with_near_text(nearText)\n",
    "    .with_limit(5)\n",
    "    .do()\n",
    ")\n",
    "\n",
    "pprint_response(response)"
   ]
  },
  {
   "cell_type": "markdown",
   "metadata": {},
   "source": [
    "## 1.5. Filter by title (text search)"
   ]
  },
  {
   "cell_type": "markdown",
   "metadata": {},
   "source": [
    "Despite title property is being vectorized we still can do text search against title. That's possible because Weaviate stores both text and vector representation (if it's specified in schema file).\n",
    "\n",
    "If we are looking articles about acquisition that are about to happen and title should include words \"google\" and \"motorola\":"
   ]
  },
  {
   "cell_type": "code",
   "execution_count": 14,
   "metadata": {},
   "outputs": [
    {
     "name": "stdout",
     "output_type": "stream",
     "text": [
      "\u001b[1m\u001b[47m\u001b[31mARTICLE\u001b[0m\n",
      "Response # 0\n",
      "\u001b[40m\u001b[35m_additional\u001b[0m: {'certainty': 0.6298531}\n",
      "\u001b[40m\u001b[35mdescription\u001b[0m: Google's $12.5 billion acquisition of Motorola Mobilitygives the Internet search company patent protection while putting it squarely into the smartphone hardware business, Executive Chairman Eric Schmidt told CNBC Monday. But the acquisition won't affect how Google  does business with the other phone makers that use its Android operating system, including HTC, he added.\"We are going into the hardware business, but we’re going to keep it separate and we’re going to treat everybody else on a fair basis,\" he explained.Android has had more than 550,000 activations a day and is succeeding \"precisely because there are so many partners,\" he said. \"If we somehow p--- them off ... it would be a disaster to the Android strategy.\"Google is also taking advantage of Motorola Mobility's  17,000+ patents, a portfolio Schmidt called \"second to none\" at a time when Google faces \"significant patent challenges from people who want to stop our products.\"Schmidt said he supports the overhaul to the U.S. patent system President Obama signed into law Friday but said it doesn't go far enough. \"We still have a problem where too many overbroad patents are used to shut down other companies,\" stifling the startups that don't have the resources Google has to buy a patent-rich company like Motorola Mobility.While Google's growth has its advantages, it has also brought scrutiny. Last week Schmidt testified before a Senate subcommittee on antitrust, which he told CNBC Monday gave him an opportunity to \"talk about how we made decisions that basically solve user problems.\"However, Google is different from Microsoft , another company that has undergone antitrust scrutiny. \"Google has not been Microsoft and will never be Microsoft,\" he said. \"It is true because of the role Google plays we really are much more careful now. We have teams of lawyers and product people and so forth at all our conversations.\"He added that \"our products are mostly free. So it’s hard to complain about pricing. So I think we’ll be just fine.\"\n",
      "\u001b[40m\u001b[35mtitle\u001b[0m: Motorola Deal Buys Google Patent Protection: Schmidt\n",
      "========================================================================================================================\n"
     ]
    }
   ],
   "source": [
    "nearText = {\n",
    "    \"concepts\": [\"future acquisition\"],\n",
    "    \"certainty\": 0.5,\n",
    "}\n",
    "\n",
    "where_filter = {\n",
    "    \"operator\": \"Equal\",\n",
    "    \"path\": [\"title\"],\n",
    "    \"valueText\": [\"google motorola\"],\n",
    "}\n",
    "\n",
    "response = (\n",
    "    client.query.get(\n",
    "        \"Article\",\n",
    "        [\n",
    "            \"title\",\n",
    "            \"description\",\n",
    "            \"_additional {certainty}\",\n",
    "        ],\n",
    "    )\n",
    "    .with_where(where_filter)\n",
    "    .with_near_text(nearText)\n",
    "    .with_limit(5)\n",
    "    .do()\n",
    ")\n",
    "\n",
    "pprint_response(response)"
   ]
  },
  {
   "cell_type": "markdown",
   "metadata": {},
   "source": [
    "## 1.6. \"Like\" filter (fuzzy match)"
   ]
  },
  {
   "cell_type": "markdown",
   "metadata": {},
   "source": [
    "Weaviate also provides ability to run fuzzy text search with [\"Like\" operator](https://weaviate.io/developers/weaviate/current/graphql-references/filters.html#like-operator).\n",
    "\n",
    "Notes from official docs:\n",
    "\n",
    "> Each query using the Like operator iterates over the entire inverted index for that property. The search time will go up linearly with the dataset size. Be aware that there might be a point where this query is too expensive and will not work anymore."
   ]
  },
  {
   "cell_type": "markdown",
   "metadata": {},
   "source": [
    "So if we are looking for author with first name Katie and last name that starts with character H:"
   ]
  },
  {
   "cell_type": "code",
   "execution_count": 15,
   "metadata": {},
   "outputs": [
    {
     "name": "stdout",
     "output_type": "stream",
     "text": [
      "\u001b[1m\u001b[47m\u001b[31mAUTHOR\u001b[0m\n",
      "Response # 0\n",
      "\u001b[40m\u001b[35mname\u001b[0m: Katie Holliday\n",
      "========================================================================================================================\n"
     ]
    }
   ],
   "source": [
    "where_filter = {\n",
    "    \"operator\": \"Like\",\n",
    "    \"path\": [\"name\"],\n",
    "    \"valueString\": \"Katie H*\",\n",
    "}\n",
    "\n",
    "response = (\n",
    "    client.query.get(\n",
    "        \"Author\",\n",
    "        [\n",
    "            \"name\",\n",
    "        ],\n",
    "    )\n",
    "    .with_where(where_filter)\n",
    "    .with_limit(5)\n",
    "    .do()\n",
    ")\n",
    "\n",
    "pprint_response(response)"
   ]
  },
  {
   "cell_type": "markdown",
   "metadata": {},
   "source": [
    "# 2. Filters that accepts only raw string (GraphQL syntax)"
   ]
  },
  {
   "cell_type": "markdown",
   "metadata": {},
   "source": [
    "As it was mentioned in the beginning of the notebook in order to use GraphQL syntax we need to provide it as a raw string into `client.query.raw` method.\n",
    "\n",
    "It's inconvenient in cases when variables has to be provided as values for GraphQL search.\n",
    "\n",
    "It can be tackled by any of these options: \n",
    "- with regex\n",
    "- with .format method\n",
    "- with string's builtin [Template class](https://docs.python.org/3.6/library/string.html#template-strings) (safer varian as you can see in this [example](https://realpython.com/python-string-formatting/#4-template-strings-standard-library))\n",
    "\n",
    "Let's say we have such query for filtering articles by keywords.\n",
    "\n",
    "GraphQL query will look like this:\n",
    "\n",
    "```text\n",
    "{\n",
    "  Get {\n",
    "    Article(where: {\n",
    "        path: [\"keywords\"],\n",
    "        operator: Equal,\n",
    "        valueText: \"bonds\",\n",
    "      }, limit: 5) {\n",
    "      title\n",
    "      hasAuthors {\n",
    "        ... on Author {\n",
    "          name\n",
    "        }\n",
    "      }\n",
    "    }\n",
    "  }\n",
    "}\n",
    "```\n",
    "The goal is to create raw string where `path` and `valueText` are filled with provided variables."
   ]
  },
  {
   "cell_type": "markdown",
   "metadata": {},
   "source": [
    "Let's take a look at each option with an example."
   ]
  },
  {
   "cell_type": "markdown",
   "metadata": {},
   "source": [
    "### 2.0.1. Regex approach of formatting raw string"
   ]
  },
  {
   "cell_type": "markdown",
   "metadata": {},
   "source": [
    "Create raw string with some arbitrary placeholder which later will be replaced by regex. "
   ]
  },
  {
   "cell_type": "code",
   "execution_count": 16,
   "metadata": {},
   "outputs": [
    {
     "name": "stdout",
     "output_type": "stream",
     "text": [
      "\n",
      "{\n",
      "  Get {\n",
      "    Article(where: {\n",
      "        path: [\"keywords\"],\n",
      "        operator: Equal,  # operator\n",
      "        valueText: \"bonds\",\n",
      "      }, limit: 5) {\n",
      "      title\n",
      "      keywords\n",
      "      hasAuthors {\n",
      "        ... on Author {\n",
      "          name\n",
      "        }\n",
      "      }\n",
      "    }\n",
      "  }\n",
      "}\n",
      "\n",
      "\u001b[1m\u001b[47m\u001b[31mARTICLE\u001b[0m\n",
      "Response # 0\n",
      "\u001b[40m\u001b[35mhasAuthors\u001b[0m: [{'name': 'Silvia Amaro'}]\n",
      "\u001b[40m\u001b[35mkeywords\u001b[0m: ['cnbc', 'Articles', 'Bonds', 'U.S. 10 Year Treasury', 'U.S. 2 Year Treasury', 'U.S. 5 Year Treasury', 'iShares Core U.S. Aggregate Bond ETF', 'Vanguard Total Bond Market Index Fund ETF Shares', 'Markets', 'source:tagname:']\n",
      "\u001b[40m\u001b[35mtitle\u001b[0m: US Treasurys lower as investors focus on data, monitor Russia-US relations\n",
      "========================================================================================================================\n",
      "Response # 1\n",
      "\u001b[40m\u001b[35mhasAuthors\u001b[0m: [{'name': 'Tom DiChristopher'}]\n",
      "\u001b[40m\u001b[35mkeywords\u001b[0m: ['cnbc', 'Articles', 'Jamal Khashoggi', 'Saudi Arabia', 'Bonds', 'Personal loans', 'Markets', 'Politics', 'Energy', 'Oil and Gas', 'Debt', 'source:tagname:CNBC US Source']\n",
      "\u001b[40m\u001b[35mtitle\u001b[0m: Instead of shunning Saudi Arabia after Khashoggi killing, investors flock to $7.5 billion bond sale\n",
      "========================================================================================================================\n",
      "Response # 2\n",
      "\u001b[40m\u001b[35mhasAuthors\u001b[0m: [{'name': 'Unknown'}]\n",
      "\u001b[40m\u001b[35mkeywords\u001b[0m: ['cnbc', 'Articles', 'Disclaimer', 'Bonds', 'Currencies', 'Futures & Commodities', 'DOW 30', '5 Stocks Under $10 That Probably Won’t Double', 'Lights. Camera. Invest! Putting Filmmaking in the Portfolio', 'VeriFone Systems Inc', 'IMAX Corp', 'Synageva BioPharma Corp', 'Deckers Outdoor Corp', 'Markets', 'stocks', 'Stock Blog', 'source:tagname:The Street']\n",
      "\u001b[40m\u001b[35mtitle\u001b[0m: 5 Stocks Insiders Love Right Now\n",
      "========================================================================================================================\n",
      "Response # 3\n",
      "\u001b[40m\u001b[35mhasAuthors\u001b[0m: [{'name': 'Elliot Smith'}]\n",
      "\u001b[40m\u001b[35mkeywords\u001b[0m: ['cnbc', 'Articles', 'Breaking News: Markets', 'Bonds', 'Central banking', 'World Markets', 'Bitcoin', 'Markets', 'U.S. 10 Year Treasury', 'U.S. 2 Year Treasury', 'U.S. 5 Year Treasury', 'iShares Core U.S. Aggregate Bond ETF', 'Vanguard Total Bond Market Index Fund ETF Shares', 'U.S. 30 Year Treasury', 'US Economy', 'Central Banks', 'U.S. Markets', 'US: News', 'source:tagname:CNBC Europe Source']\n",
      "\u001b[40m\u001b[35mtitle\u001b[0m: 10-year Treasury yield falls to 0.8% as investors return to safety amid pause in stock rally\n",
      "========================================================================================================================\n",
      "Response # 4\n",
      "\u001b[40m\u001b[35mhasAuthors\u001b[0m: [{'name': 'Herb Greenberg'}]\n",
      "\u001b[40m\u001b[35mkeywords\u001b[0m: ['cnbc', 'Articles', 'Commodity markets', 'Currency markets', 'Bonds', 'Athenahealth Inc', 'Chipotle Mexican Grill Inc', 'Netflix Inc', 'OpenTable Inc', 'Apple Inc', 'Futures & Commodities', 'Currencies', 'DOW 30', 'Markets', 'stocks', 'Stock Blog', 'source:tagname:CNBC US Source']\n",
      "\u001b[40m\u001b[35mtitle\u001b[0m: Greenberg: Momentum King’s Next Big Move\n",
      "========================================================================================================================\n"
     ]
    }
   ],
   "source": [
    "query = \"\"\"\n",
    "{\n",
    "  Get {\n",
    "    Article(where: {\n",
    "        path: [\"{placeholder}\"],\n",
    "        operator: Equal,  # operator\n",
    "        valueText: \"{placeholder}\",\n",
    "      }, limit: 5) {\n",
    "      title\n",
    "      keywords\n",
    "      hasAuthors {\n",
    "        ... on Author {\n",
    "          name\n",
    "        }\n",
    "      }\n",
    "    }\n",
    "  }\n",
    "}\n",
    "\"\"\"\n",
    "\n",
    "\n",
    "def format_raw_request(query: str, *args, template: str = \"{placeholder}\"):\n",
    "    for arg in args:\n",
    "        query = re.sub(template, arg, query, count=1)\n",
    "    return query\n",
    "\n",
    "\n",
    "query = format_raw_request(query, \"keywords\", \"bonds\")\n",
    "print(query)\n",
    "\n",
    "response = client.query.raw(query)\n",
    "pprint_response(response)"
   ]
  },
  {
   "cell_type": "markdown",
   "metadata": {},
   "source": [
    "### 2.0.2. .format approach of formatting raw string"
   ]
  },
  {
   "cell_type": "markdown",
   "metadata": {},
   "source": [
    "As for me it is the most inconvenient approach as it requires to escape curly braces of the request body by changing single brace to double."
   ]
  },
  {
   "cell_type": "code",
   "execution_count": 17,
   "metadata": {},
   "outputs": [
    {
     "name": "stdout",
     "output_type": "stream",
     "text": [
      "\n",
      "{\n",
      "  Get {\n",
      "    Article(where: {\n",
      "        path: [\"keywords\"],\n",
      "        operator: Equal,\n",
      "        valueText: \"bonds\"\n",
      "      }, limit: 5) {\n",
      "      title\n",
      "      keywords\n",
      "      hasAuthors {\n",
      "        ... on Author {\n",
      "          name\n",
      "        }\n",
      "      }\n",
      "    }\n",
      "  }\n",
      "}\n",
      "\n",
      "\u001b[1m\u001b[47m\u001b[31mARTICLE\u001b[0m\n",
      "Response # 0\n",
      "\u001b[40m\u001b[35mhasAuthors\u001b[0m: [{'name': 'Silvia Amaro'}]\n",
      "\u001b[40m\u001b[35mkeywords\u001b[0m: ['cnbc', 'Articles', 'Bonds', 'U.S. 10 Year Treasury', 'U.S. 2 Year Treasury', 'U.S. 5 Year Treasury', 'iShares Core U.S. Aggregate Bond ETF', 'Vanguard Total Bond Market Index Fund ETF Shares', 'Markets', 'source:tagname:']\n",
      "\u001b[40m\u001b[35mtitle\u001b[0m: US Treasurys lower as investors focus on data, monitor Russia-US relations\n",
      "========================================================================================================================\n",
      "Response # 1\n",
      "\u001b[40m\u001b[35mhasAuthors\u001b[0m: [{'name': 'Tom DiChristopher'}]\n",
      "\u001b[40m\u001b[35mkeywords\u001b[0m: ['cnbc', 'Articles', 'Jamal Khashoggi', 'Saudi Arabia', 'Bonds', 'Personal loans', 'Markets', 'Politics', 'Energy', 'Oil and Gas', 'Debt', 'source:tagname:CNBC US Source']\n",
      "\u001b[40m\u001b[35mtitle\u001b[0m: Instead of shunning Saudi Arabia after Khashoggi killing, investors flock to $7.5 billion bond sale\n",
      "========================================================================================================================\n",
      "Response # 2\n",
      "\u001b[40m\u001b[35mhasAuthors\u001b[0m: [{'name': 'Unknown'}]\n",
      "\u001b[40m\u001b[35mkeywords\u001b[0m: ['cnbc', 'Articles', 'Disclaimer', 'Bonds', 'Currencies', 'Futures & Commodities', 'DOW 30', '5 Stocks Under $10 That Probably Won’t Double', 'Lights. Camera. Invest! Putting Filmmaking in the Portfolio', 'VeriFone Systems Inc', 'IMAX Corp', 'Synageva BioPharma Corp', 'Deckers Outdoor Corp', 'Markets', 'stocks', 'Stock Blog', 'source:tagname:The Street']\n",
      "\u001b[40m\u001b[35mtitle\u001b[0m: 5 Stocks Insiders Love Right Now\n",
      "========================================================================================================================\n",
      "Response # 3\n",
      "\u001b[40m\u001b[35mhasAuthors\u001b[0m: [{'name': 'Elliot Smith'}]\n",
      "\u001b[40m\u001b[35mkeywords\u001b[0m: ['cnbc', 'Articles', 'Breaking News: Markets', 'Bonds', 'Central banking', 'World Markets', 'Bitcoin', 'Markets', 'U.S. 10 Year Treasury', 'U.S. 2 Year Treasury', 'U.S. 5 Year Treasury', 'iShares Core U.S. Aggregate Bond ETF', 'Vanguard Total Bond Market Index Fund ETF Shares', 'U.S. 30 Year Treasury', 'US Economy', 'Central Banks', 'U.S. Markets', 'US: News', 'source:tagname:CNBC Europe Source']\n",
      "\u001b[40m\u001b[35mtitle\u001b[0m: 10-year Treasury yield falls to 0.8% as investors return to safety amid pause in stock rally\n",
      "========================================================================================================================\n",
      "Response # 4\n",
      "\u001b[40m\u001b[35mhasAuthors\u001b[0m: [{'name': 'Herb Greenberg'}]\n",
      "\u001b[40m\u001b[35mkeywords\u001b[0m: ['cnbc', 'Articles', 'Commodity markets', 'Currency markets', 'Bonds', 'Athenahealth Inc', 'Chipotle Mexican Grill Inc', 'Netflix Inc', 'OpenTable Inc', 'Apple Inc', 'Futures & Commodities', 'Currencies', 'DOW 30', 'Markets', 'stocks', 'Stock Blog', 'source:tagname:CNBC US Source']\n",
      "\u001b[40m\u001b[35mtitle\u001b[0m: Greenberg: Momentum King’s Next Big Move\n",
      "========================================================================================================================\n"
     ]
    }
   ],
   "source": [
    "query = \"\"\"\n",
    "{{\n",
    "  Get {{\n",
    "    Article(where: {{\n",
    "        path: [\"{path}\"],\n",
    "        operator: Equal,\n",
    "        valueText: \"{valueText}\"\n",
    "      }}, limit: 5) {{\n",
    "      title\n",
    "      keywords\n",
    "      hasAuthors {{\n",
    "        ... on Author {{\n",
    "          name\n",
    "        }}\n",
    "      }}\n",
    "    }}\n",
    "  }}\n",
    "}}\n",
    "\"\"\"\n",
    "\n",
    "query = query.format(path=\"keywords\", valueText=\"bonds\")\n",
    "print(query)\n",
    "\n",
    "response = client.query.raw(query)\n",
    "pprint_response(response)"
   ]
  },
  {
   "cell_type": "markdown",
   "metadata": {},
   "source": [
    "### 2.0.3. Template approach of formatting raw string"
   ]
  },
  {
   "cell_type": "markdown",
   "metadata": {},
   "source": [
    "As for me it's the easiest way: mark with dollar sing place where to put provided variable, convert raw string into Template class and substitute named placeholders with variables."
   ]
  },
  {
   "cell_type": "code",
   "execution_count": 18,
   "metadata": {},
   "outputs": [
    {
     "name": "stdout",
     "output_type": "stream",
     "text": [
      "\n",
      "{\n",
      "  Get {\n",
      "    Article(where: {\n",
      "        path: [\"keywords\"],\n",
      "        operator: Equal,\n",
      "        valueText: \"bonds\"\n",
      "      }, limit: 5) {\n",
      "      title\n",
      "      keywords\n",
      "      hasAuthors {\n",
      "        ... on Author {\n",
      "          name\n",
      "        }\n",
      "      }\n",
      "    }\n",
      "  }\n",
      "}\n",
      "\n",
      "\u001b[1m\u001b[47m\u001b[31mARTICLE\u001b[0m\n",
      "Response # 0\n",
      "\u001b[40m\u001b[35mhasAuthors\u001b[0m: [{'name': 'Silvia Amaro'}]\n",
      "\u001b[40m\u001b[35mkeywords\u001b[0m: ['cnbc', 'Articles', 'Bonds', 'U.S. 10 Year Treasury', 'U.S. 2 Year Treasury', 'U.S. 5 Year Treasury', 'iShares Core U.S. Aggregate Bond ETF', 'Vanguard Total Bond Market Index Fund ETF Shares', 'Markets', 'source:tagname:']\n",
      "\u001b[40m\u001b[35mtitle\u001b[0m: US Treasurys lower as investors focus on data, monitor Russia-US relations\n",
      "========================================================================================================================\n",
      "Response # 1\n",
      "\u001b[40m\u001b[35mhasAuthors\u001b[0m: [{'name': 'Tom DiChristopher'}]\n",
      "\u001b[40m\u001b[35mkeywords\u001b[0m: ['cnbc', 'Articles', 'Jamal Khashoggi', 'Saudi Arabia', 'Bonds', 'Personal loans', 'Markets', 'Politics', 'Energy', 'Oil and Gas', 'Debt', 'source:tagname:CNBC US Source']\n",
      "\u001b[40m\u001b[35mtitle\u001b[0m: Instead of shunning Saudi Arabia after Khashoggi killing, investors flock to $7.5 billion bond sale\n",
      "========================================================================================================================\n",
      "Response # 2\n",
      "\u001b[40m\u001b[35mhasAuthors\u001b[0m: [{'name': 'Unknown'}]\n",
      "\u001b[40m\u001b[35mkeywords\u001b[0m: ['cnbc', 'Articles', 'Disclaimer', 'Bonds', 'Currencies', 'Futures & Commodities', 'DOW 30', '5 Stocks Under $10 That Probably Won’t Double', 'Lights. Camera. Invest! Putting Filmmaking in the Portfolio', 'VeriFone Systems Inc', 'IMAX Corp', 'Synageva BioPharma Corp', 'Deckers Outdoor Corp', 'Markets', 'stocks', 'Stock Blog', 'source:tagname:The Street']\n",
      "\u001b[40m\u001b[35mtitle\u001b[0m: 5 Stocks Insiders Love Right Now\n",
      "========================================================================================================================\n",
      "Response # 3\n",
      "\u001b[40m\u001b[35mhasAuthors\u001b[0m: [{'name': 'Elliot Smith'}]\n",
      "\u001b[40m\u001b[35mkeywords\u001b[0m: ['cnbc', 'Articles', 'Breaking News: Markets', 'Bonds', 'Central banking', 'World Markets', 'Bitcoin', 'Markets', 'U.S. 10 Year Treasury', 'U.S. 2 Year Treasury', 'U.S. 5 Year Treasury', 'iShares Core U.S. Aggregate Bond ETF', 'Vanguard Total Bond Market Index Fund ETF Shares', 'U.S. 30 Year Treasury', 'US Economy', 'Central Banks', 'U.S. Markets', 'US: News', 'source:tagname:CNBC Europe Source']\n",
      "\u001b[40m\u001b[35mtitle\u001b[0m: 10-year Treasury yield falls to 0.8% as investors return to safety amid pause in stock rally\n",
      "========================================================================================================================\n",
      "Response # 4\n",
      "\u001b[40m\u001b[35mhasAuthors\u001b[0m: [{'name': 'Herb Greenberg'}]\n",
      "\u001b[40m\u001b[35mkeywords\u001b[0m: ['cnbc', 'Articles', 'Commodity markets', 'Currency markets', 'Bonds', 'Athenahealth Inc', 'Chipotle Mexican Grill Inc', 'Netflix Inc', 'OpenTable Inc', 'Apple Inc', 'Futures & Commodities', 'Currencies', 'DOW 30', 'Markets', 'stocks', 'Stock Blog', 'source:tagname:CNBC US Source']\n",
      "\u001b[40m\u001b[35mtitle\u001b[0m: Greenberg: Momentum King’s Next Big Move\n",
      "========================================================================================================================\n"
     ]
    }
   ],
   "source": [
    "query = \"\"\"\n",
    "{\n",
    "  Get {\n",
    "    Article(where: {\n",
    "        path: [\"${path}\"],\n",
    "        operator: Equal,\n",
    "        valueText: \"${valueText}\"\n",
    "      }, limit: 5) {\n",
    "      title\n",
    "      keywords\n",
    "      hasAuthors {\n",
    "        ... on Author {\n",
    "          name\n",
    "        }\n",
    "      }\n",
    "    }\n",
    "  }\n",
    "}\n",
    "\"\"\"\n",
    "\n",
    "query = Template(query)\n",
    "query = query.substitute(path=\"keywords\", valueText=\"bonds\")\n",
    "print(query)\n",
    "\n",
    "response = client.query.raw(query)\n",
    "pprint_response(response)"
   ]
  },
  {
   "cell_type": "markdown",
   "metadata": {},
   "source": [
    "<div class=\"alert alert-block alert-info\">From here and on \"template approach\" is used.</div>"
   ]
  },
  {
   "cell_type": "markdown",
   "metadata": {},
   "source": [
    "## 2.1. Filter authors by number of wrote articles"
   ]
  },
  {
   "cell_type": "markdown",
   "metadata": {},
   "source": [
    "In the schema two classes are defined:\n",
    "- Article \n",
    "- Author\n",
    "\n",
    "Each article has reference to author object, each auhor - to article object. With that in mind we can find authors that wrote at least 2 articles and take first 5 results from the response. Weaviate will do [counting automatically](https://weaviate.io/developers/weaviate/current/graphql-references/filters.html#filter-objects-by-count-of-reference)."
   ]
  },
  {
   "cell_type": "code",
   "execution_count": 19,
   "metadata": {},
   "outputs": [
    {
     "name": "stdout",
     "output_type": "stream",
     "text": [
      "\u001b[1m\u001b[47m\u001b[31mAUTHOR\u001b[0m\n",
      "Response # 0\n",
      "\u001b[40m\u001b[35mhasArticles\u001b[0m: [{'title': \"Georgia's lieutenant governor says he will 'kill' Delta tax break unless airline reinstates relationship with NRA\"}, {'title': 'Raytheon and United Technologies agree to all-stock merger that would create aerospace behemoth'}]\n",
      "\u001b[40m\u001b[35mname\u001b[0m: Leslie Josephs\n",
      "========================================================================================================================\n",
      "Response # 1\n",
      "\u001b[40m\u001b[35mhasArticles\u001b[0m: [{'title': 'Cramer adds new stocks, recommends buying 12 laggards in his Covid-19 index'}, {'title': \"'I come to bury Bitcoin, not to praise it': UBS\\xa0\"}]\n",
      "\u001b[40m\u001b[35mname\u001b[0m: Tyler Clifford\n",
      "========================================================================================================================\n",
      "Response # 2\n",
      "\u001b[40m\u001b[35mhasArticles\u001b[0m: [{'title': \"Energy Falls Despite 'Above Average' Hurricane Forecast\"}, {'title': \"Want to start a business? Here's what you need to know\"}]\n",
      "\u001b[40m\u001b[35mname\u001b[0m: Sharon Epperson\n",
      "========================================================================================================================\n",
      "Response # 3\n",
      "\u001b[40m\u001b[35mhasArticles\u001b[0m: [{'title': 'Guggenheim says solar sell-off is a buying opportunity and has an unusual favorite stock'}, {'title': 'Should CEO pay be tied to share price?'}]\n",
      "\u001b[40m\u001b[35mname\u001b[0m: Pippa Stevens\n",
      "========================================================================================================================\n",
      "Response # 4\n",
      "\u001b[40m\u001b[35mhasArticles\u001b[0m: [{'title': \"This writer's tweet raised over $100,000 to wipe out students' school lunch debts\"}, {'title': 'The 15 best medical schools in the US, according to US News & World Report'}]\n",
      "\u001b[40m\u001b[35mname\u001b[0m: Abigail Johnson Hess\n",
      "========================================================================================================================\n"
     ]
    }
   ],
   "source": [
    "query = \"\"\"\n",
    "{\n",
    "  Get {\n",
    "    Author(\n",
    "      where:{\n",
    "        valueInt: ${limit},\n",
    "        operator: GreaterThanEqual,\n",
    "        path: [\"hasArticles\"]\n",
    "      }, limit: 5\n",
    "    ) {\n",
    "      name\n",
    "      hasArticles {\n",
    "        ... on Article {\n",
    "          title\n",
    "        }\n",
    "      }\n",
    "    }\n",
    "  }\n",
    "}\n",
    "\"\"\"\n",
    "\n",
    "query = Template(query).substitute(limit=2)\n",
    "response = client.query.raw(query)\n",
    "pprint_response(response)"
   ]
  },
  {
   "cell_type": "markdown",
   "metadata": {},
   "source": [
    "## 2.3. Filter articles by author"
   ]
  },
  {
   "cell_type": "markdown",
   "metadata": {},
   "source": [
    "Also using Article-Author cross referencing we can filter articles that [are wrote by specific authors](https://weaviate.io/developers/weaviate/current/graphql-references/filters.html#beacon-reference-filters)."
   ]
  },
  {
   "cell_type": "code",
   "execution_count": 20,
   "metadata": {},
   "outputs": [
    {
     "name": "stdout",
     "output_type": "stream",
     "text": [
      "\u001b[1m\u001b[47m\u001b[31mARTICLE\u001b[0m\n",
      "Response # 0\n",
      "\u001b[40m\u001b[35mhasAuthors\u001b[0m: [{'name': 'Tyler Clifford'}]\n",
      "\u001b[40m\u001b[35mtitle\u001b[0m: Cramer adds new stocks, recommends buying 12 laggards in his Covid-19 index\n",
      "========================================================================================================================\n",
      "Response # 1\n",
      "\u001b[40m\u001b[35mhasAuthors\u001b[0m: [{'name': 'Tyler Clifford'}]\n",
      "\u001b[40m\u001b[35mtitle\u001b[0m: 'I come to bury Bitcoin, not to praise it': UBS \n",
      "========================================================================================================================\n",
      "Response # 2\n",
      "\u001b[40m\u001b[35mhasAuthors\u001b[0m: [{'name': 'Tyler Bailey'}]\n",
      "\u001b[40m\u001b[35mtitle\u001b[0m: Your first trade for Wednesday, January 15\n",
      "========================================================================================================================\n"
     ]
    }
   ],
   "source": [
    "query = \"\"\"\n",
    "{\n",
    "  Get {\n",
    "    Article(\n",
    "      where:{\n",
    "        valueString: \"${authorName}\",\n",
    "        operator: Equal,\n",
    "        path: [\"hasAuthors\", \"Author\", \"name\"]\n",
    "      }, limit: 5\n",
    "    ) {\n",
    "      title\n",
    "      hasAuthors {\n",
    "        ... on Author {\n",
    "          name\n",
    "        }\n",
    "      }\n",
    "    }\n",
    "  }\n",
    " }\n",
    "\"\"\"\n",
    "\n",
    "query = Template(query).substitute(authorName=\"Tyler\")\n",
    "response = client.query.raw(query)\n",
    "pprint_response(response)"
   ]
  },
  {
   "cell_type": "markdown",
   "metadata": {},
   "source": [
    "# 3. All combined"
   ]
  },
  {
   "cell_type": "markdown",
   "metadata": {},
   "source": [
    "As a final step here is a query that does:\n",
    "- vector search\n",
    "- filtering by:\n",
    "    - publish date\n",
    "    - keywords\n",
    "    - title\n",
    "    - author\n",
    "    - description word count\n",
    "\n",
    "In order to filter by author we need to use cross-referencing with \"hasAuthors\" operator which is not supported by GetBuilder. That is why the whole query is written in GraphQL format."
   ]
  },
  {
   "cell_type": "code",
   "execution_count": 21,
   "metadata": {},
   "outputs": [
    {
     "name": "stdout",
     "output_type": "stream",
     "text": [
      "\u001b[1m\u001b[47m\u001b[31mARTICLE\u001b[0m\n",
      "Response # 0\n",
      "\u001b[40m\u001b[35m_additional\u001b[0m: {'certainty': 0.7344096}\n",
      "\u001b[40m\u001b[35mdescription\u001b[0m: Europe could be looking at a Japan-style deflationary environment  for the next five years, investor Marc Lasry told CNBC on  Wednesday. Read MoreEuro tests low last  seen at its birth in1999  Lasry's Avenue Capital is continuing to buy credit-side debt at a  discount in Europe. Over the last three or four years, the amount  of debt that European banks have sold has increased by 100  percent, he said in a \"Squawk  Box\" interview.   \"The way that the banks were able to sell this debt is, they keep  on buying sovereign debt, and then through that they make their  profits, and then each year they end up using those profits to  offset losses on that. And that's sort of of what happened in  Japan over a 10 year period,\" said Lasry, who specializes in  distressed debt investments.  Read More Can cash-strapped Europe  prevent terrorism surge?  The way for Europe to avoid a deflationary period is to clock 4  to 5 percent GDP growth, he said.   \"You're not having that. The reason everybody focuses on that is  because GDP growth in Europe today is sort of, negative one,  flat, up one. It's really not moving that much,\" he said.  The chairman and CEO of Avenue Capital said his firm is playing  the credit side of the European debt market because the pressure  is still on the banks to deleverage. \"This is sort of a five year  process, so for us it's going to be the gift that keeps on  giving,\" he said.  Lasry is personally invested in Greek debt, but Avenue Capital  does not buy sovereign bonds, he said. Read More Should markets fear  Greece's radical Syriza party?  Europe is still in an investing phase because there is $2.5  trillion of debt, he said. \"The supply side in Europe is still so  great relative to the demand side in Europe,\" he added.\n",
      "\u001b[40m\u001b[35mdescriptionWordCount\u001b[0m: 344\n",
      "\u001b[40m\u001b[35mhasAuthors\u001b[0m: [{'name': 'Tom DiChristopher'}]\n",
      "\u001b[40m\u001b[35mkeywords\u001b[0m: ['cnbc', 'Articles', 'World Markets', 'Bonds', 'Markets', 'Corporate bonds', 'Investment strategy', 'Corporate Debt', 'Investing', 'Credit and Debt', 'Squawk on the Street', 'Market Outlook', 'Europe Economy', 'source:tagname:CNBC US Source']\n",
      "\u001b[40m\u001b[35mpublished_at\u001b[0m: 2015-01-08T16:06:28Z\n",
      "\u001b[40m\u001b[35mtitle\u001b[0m: Lasry: Europe could face Japan-style deflation era\n",
      "========================================================================================================================\n"
     ]
    }
   ],
   "source": [
    "query = \"\"\"\n",
    "{\n",
    "  Get {\n",
    "    Article(\n",
    "      limit: 5\n",
    "      nearText: \n",
    "      {\n",
    "        concepts: [\"debt of european banks\"],\n",
    "        moveTo:\n",
    "        {\n",
    "          concepts: [\"deflation\"],\n",
    "          force: 0.9\n",
    "        }\n",
    "      }\n",
    "      where: \n",
    "      {\n",
    "        operator: And,\n",
    "        operands: \n",
    "        [\n",
    "          {\n",
    "            operator: GreaterThan,\n",
    "            path: [\"published_at\"],\n",
    "            valueDate: \"2015-01-01T0:00:00.52Z\",\n",
    "          },\n",
    "          {\n",
    "            operator: Equal,\n",
    "            path: [\"keywords\"],\n",
    "            valueText: \"bonds\",\n",
    "          },\n",
    "          {\n",
    "            operator: Equal,\n",
    "            path: [\"title\"],\n",
    "            valueText: \"Europe Japan\",\n",
    "          },\n",
    "          {\n",
    "            operator: Equal,\n",
    "            path: [\"hasAuthors\", \"Author\", \"name\"],\n",
    "            valueString: \"Tom DiChristopher\",\n",
    "          },\n",
    "          {\n",
    "            operator: GreaterThan,\n",
    "            path: [\"descriptionWordCount\"],\n",
    "            valueInt: 100,\n",
    "          }\n",
    "        ]\n",
    "      }\n",
    "    ) \n",
    "    {\n",
    "      title\n",
    "      description\n",
    "      keywords\n",
    "      published_at\n",
    "      descriptionWordCount\n",
    "      hasAuthors {\n",
    "        ... on Author {\n",
    "          name\n",
    "        }\n",
    "      }\n",
    "      _additional {\n",
    "        certainty\n",
    "      }\n",
    "    }\n",
    "  }\n",
    "}\n",
    "\"\"\"\n",
    "\n",
    "response = client.query.raw(query)\n",
    "pprint_response(response)"
   ]
  }
 ],
 "metadata": {
  "interpreter": {
   "hash": "cb9e94dbe4e7fc92a3d7162f471039658b9fdbbc9b042b59ec1fc38823150b03"
  },
  "kernelspec": {
   "display_name": "Python 3.9.9 64-bit ('weaviate-demo')",
   "language": "python",
   "name": "python3"
  },
  "language_info": {
   "codemirror_mode": {
    "name": "ipython",
    "version": 3
   },
   "file_extension": ".py",
   "mimetype": "text/x-python",
   "name": "python",
   "nbconvert_exporter": "python",
   "pygments_lexer": "ipython3",
   "version": "3.9.9"
  },
  "orig_nbformat": 4
 },
 "nbformat": 4,
 "nbformat_minor": 2
}
