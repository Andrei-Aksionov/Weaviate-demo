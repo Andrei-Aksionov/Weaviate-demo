{
 "cells": [
  {
   "cell_type": "markdown",
   "metadata": {},
   "source": [
    "<h1><center>DATA PREPROCESSING</center></h1>"
   ]
  },
  {
   "cell_type": "markdown",
   "metadata": {},
   "source": [
    "Structure:\n",
    "\n",
    "1. [x] Repeat findings from EDA notebook\n",
    "2. [] Run preprocessing:\n",
    "    - [x] title\n",
    "    - [x] published_at\n",
    "    - [x] author\n",
    "    - [] short_description\n",
    "    - [] description"
   ]
  },
  {
   "cell_type": "markdown",
   "metadata": {},
   "source": [
    "# 1. Preparations"
   ]
  },
  {
   "cell_type": "markdown",
   "metadata": {},
   "source": [
    "I would like to repeat what are the preprocessing steps based on EDA findings:\n",
    "1. **title**: get rid of special characters, strip empty chars in the beginning/end of the text\n",
    "2. **published_at**: convert to RFC 3339 format\n",
    "3. **author**: if author is missing replace with \"Unknown\" token\n",
    "4. **short_description**: if missing, take beginning of the description (the first sentence or first 1500 chars as it's an average len of short_description).\n",
    "5. **description**: if missing, take raw_description (if exist) and strip HTML tags; if raw_description is also missing - take short_description (if exist). If all 3 descriptions are missing - drop that article. "
   ]
  },
  {
   "cell_type": "markdown",
   "metadata": {},
   "source": [
    "Required imports."
   ]
  },
  {
   "cell_type": "code",
   "execution_count": 1,
   "metadata": {},
   "outputs": [],
   "source": [
    "import os\n",
    "import sys\n",
    "\n",
    "import pandas as pd\n",
    "import spacy\n",
    "from bs4 import BeautifulSoup\n",
    "from omegaconf import OmegaConf\n",
    "\n",
    "pd.set_option(\"display.max_colwidth\", 200)\n"
   ]
  },
  {
   "cell_type": "code",
   "execution_count": 2,
   "metadata": {},
   "outputs": [],
   "source": [
    "ROOT = os.path.relpath(\"../\")\n",
    "config = OmegaConf.load(os.path.join(ROOT, \"src/config/config.yaml\"))\n"
   ]
  },
  {
   "cell_type": "markdown",
   "metadata": {},
   "source": [
    "Helper utils."
   ]
  },
  {
   "cell_type": "code",
   "execution_count": 3,
   "metadata": {},
   "outputs": [],
   "source": [
    "def show_missing_values_statistics(data: pd.DataFrame, column: str) -> None:\n",
    "    missing_count = data[column].isna().sum()\n",
    "    print(\n",
    "        f'Articles with missing \"{column}\": {missing_count} of {len(data)}'\n",
    "        f\" ({missing_count / len(data) * 100:.1f}%).\"\n",
    "    )\n"
   ]
  },
  {
   "cell_type": "markdown",
   "metadata": {},
   "source": [
    "Reading the data that will be preprocessed."
   ]
  },
  {
   "cell_type": "code",
   "execution_count": 4,
   "metadata": {},
   "outputs": [
    {
     "data": {
      "text/html": [
       "<div>\n",
       "<style scoped>\n",
       "    .dataframe tbody tr th:only-of-type {\n",
       "        vertical-align: middle;\n",
       "    }\n",
       "\n",
       "    .dataframe tbody tr th {\n",
       "        vertical-align: top;\n",
       "    }\n",
       "\n",
       "    .dataframe thead th {\n",
       "        text-align: right;\n",
       "    }\n",
       "</style>\n",
       "<table border=\"1\" class=\"dataframe\">\n",
       "  <thead>\n",
       "    <tr style=\"text-align: right;\">\n",
       "      <th></th>\n",
       "      <th>title</th>\n",
       "      <th>url</th>\n",
       "      <th>published_at</th>\n",
       "      <th>author</th>\n",
       "      <th>publisher</th>\n",
       "      <th>short_description</th>\n",
       "      <th>keywords</th>\n",
       "      <th>header_image</th>\n",
       "      <th>raw_description</th>\n",
       "      <th>description</th>\n",
       "      <th>scraped_at</th>\n",
       "    </tr>\n",
       "  </thead>\n",
       "  <tbody>\n",
       "    <tr>\n",
       "      <th>0</th>\n",
       "      <td>Santoli’s Wednesday market notes: Could September’s stock shakeout tee up strength for the fourth quarter?</td>\n",
       "      <td>https://www.cnbc.com/2021/09/29/santolis-wednesday-market-notes-could-septembers-stock-shakeout-tee-up-strength-for-the-fourth-quarter.html</td>\n",
       "      <td>2021-09-29T17:09:39+0000</td>\n",
       "      <td>Michael Santoli</td>\n",
       "      <td>CNBC</td>\n",
       "      <td>This is the daily notebook of Mike Santoli, CNBC's senior markets commentator, with ideas about trends, stocks and market statistics.</td>\n",
       "      <td>cnbc, Premium, Articles, Investment strategy, Markets, Investing, PRO Home, CNBC Pro, Pro: Santoli on Stocks, source:tagname:CNBC US Source</td>\n",
       "      <td>https://image.cnbcfm.com/api/v1/image/106949602-1632934577499-FINTECH_ETF_9-29.jpg?v=1632934691</td>\n",
       "      <td>&lt;div class=\"group\"&gt;&lt;p&gt;&lt;em&gt;This is the daily notebook of Mike Santoli, CNBC's senior markets commentator, with ideas about trends, stocks and market statistics.&lt;/em&gt;&lt;/p&gt;&lt;ul&gt;&lt;li&gt;A muted, inconclusiv...</td>\n",
       "      <td>This is the daily notebook of Mike Santoli, CNBC's senior markets commentator, with ideas about trends, stocks and market statistics.A muted, inconclusive bounce that has left the indexes fully wi...</td>\n",
       "      <td>2021-10-30 14:11:23.709372</td>\n",
       "    </tr>\n",
       "  </tbody>\n",
       "</table>\n",
       "</div>"
      ],
      "text/plain": [
       "                                                                                                        title  \\\n",
       "0  Santoli’s Wednesday market notes: Could September’s stock shakeout tee up strength for the fourth quarter?   \n",
       "\n",
       "                                                                                                                                           url  \\\n",
       "0  https://www.cnbc.com/2021/09/29/santolis-wednesday-market-notes-could-septembers-stock-shakeout-tee-up-strength-for-the-fourth-quarter.html   \n",
       "\n",
       "               published_at           author publisher  \\\n",
       "0  2021-09-29T17:09:39+0000  Michael Santoli      CNBC   \n",
       "\n",
       "                                                                                                                       short_description  \\\n",
       "0  This is the daily notebook of Mike Santoli, CNBC's senior markets commentator, with ideas about trends, stocks and market statistics.   \n",
       "\n",
       "                                                                                                                                      keywords  \\\n",
       "0  cnbc, Premium, Articles, Investment strategy, Markets, Investing, PRO Home, CNBC Pro, Pro: Santoli on Stocks, source:tagname:CNBC US Source   \n",
       "\n",
       "                                                                                      header_image  \\\n",
       "0  https://image.cnbcfm.com/api/v1/image/106949602-1632934577499-FINTECH_ETF_9-29.jpg?v=1632934691   \n",
       "\n",
       "                                                                                                                                                                                           raw_description  \\\n",
       "0  <div class=\"group\"><p><em>This is the daily notebook of Mike Santoli, CNBC's senior markets commentator, with ideas about trends, stocks and market statistics.</em></p><ul><li>A muted, inconclusiv...   \n",
       "\n",
       "                                                                                                                                                                                               description  \\\n",
       "0  This is the daily notebook of Mike Santoli, CNBC's senior markets commentator, with ideas about trends, stocks and market statistics.A muted, inconclusive bounce that has left the indexes fully wi...   \n",
       "\n",
       "                   scraped_at  \n",
       "0  2021-10-30 14:11:23.709372  "
      ]
     },
     "execution_count": 4,
     "metadata": {},
     "output_type": "execute_result"
    }
   ],
   "source": [
    "data = pd.read_csv(os.path.join(ROOT, config.data.raw))\n",
    "data.head(1)\n"
   ]
  },
  {
   "cell_type": "code",
   "execution_count": 5,
   "metadata": {},
   "outputs": [
    {
     "data": {
      "text/plain": [
       "['title',\n",
       " 'url',\n",
       " 'published_at',\n",
       " 'author',\n",
       " 'publisher',\n",
       " 'short_description',\n",
       " 'keywords',\n",
       " 'header_image',\n",
       " 'raw_description',\n",
       " 'description',\n",
       " 'scraped_at']"
      ]
     },
     "execution_count": 5,
     "metadata": {},
     "output_type": "execute_result"
    }
   ],
   "source": [
    "data.columns.tolist()\n"
   ]
  },
  {
   "cell_type": "markdown",
   "metadata": {},
   "source": [
    "# 2. Preprocessing"
   ]
  },
  {
   "cell_type": "markdown",
   "metadata": {},
   "source": [
    "## 2.1. Title"
   ]
  },
  {
   "cell_type": "code",
   "execution_count": 6,
   "metadata": {},
   "outputs": [
    {
     "name": "stdout",
     "output_type": "stream",
     "text": [
      "Articles with missing \"title\": 0 of 625 (0.0%).\n"
     ]
    }
   ],
   "source": [
    "show_missing_values_statistics(data, \"title\")\n"
   ]
  },
  {
   "cell_type": "markdown",
   "metadata": {},
   "source": [
    "No articles with missing title."
   ]
  },
  {
   "cell_type": "code",
   "execution_count": 7,
   "metadata": {},
   "outputs": [
    {
     "data": {
      "text/plain": [
       "'Europe&#039;s recovery depends on Renzi&#039;s Italy'"
      ]
     },
     "execution_count": 7,
     "metadata": {},
     "output_type": "execute_result"
    }
   ],
   "source": [
    "data.loc[2, \"title\"]\n"
   ]
  },
  {
   "cell_type": "markdown",
   "metadata": {},
   "source": [
    "As it was shown in EDA and also is clear from the output above, title in some articles may contain specially encoded characters.</br>\n",
    "We can get rid of it with BeautifulSoup package."
   ]
  },
  {
   "cell_type": "code",
   "execution_count": 8,
   "metadata": {},
   "outputs": [],
   "source": [
    "data[\"title\"] = data[\"title\"].apply(lambda x: BeautifulSoup(x).text)\n"
   ]
  },
  {
   "cell_type": "code",
   "execution_count": 9,
   "metadata": {},
   "outputs": [
    {
     "data": {
      "text/plain": [
       "\"Europe's recovery depends on Renzi's Italy\""
      ]
     },
     "execution_count": 9,
     "metadata": {},
     "output_type": "execute_result"
    }
   ],
   "source": [
    "data.loc[2, \"title\"]\n"
   ]
  },
  {
   "cell_type": "markdown",
   "metadata": {},
   "source": [
    "Now everything is fine."
   ]
  },
  {
   "cell_type": "markdown",
   "metadata": {},
   "source": [
    "## 2.2. Published_at"
   ]
  },
  {
   "cell_type": "code",
   "execution_count": 10,
   "metadata": {},
   "outputs": [
    {
     "name": "stdout",
     "output_type": "stream",
     "text": [
      "Articles with missing \"published_at\": 0 of 625 (0.0%).\n"
     ]
    }
   ],
   "source": [
    "show_missing_values_statistics(data, \"published_at\")\n"
   ]
  },
  {
   "cell_type": "markdown",
   "metadata": {},
   "source": [
    "No articles with missing published_at property."
   ]
  },
  {
   "cell_type": "code",
   "execution_count": 11,
   "metadata": {},
   "outputs": [
    {
     "data": {
      "text/plain": [
       "'2021-09-29T17:09:39+0000'"
      ]
     },
     "execution_count": 11,
     "metadata": {},
     "output_type": "execute_result"
    }
   ],
   "source": [
    "data.loc[0, \"published_at\"]\n"
   ]
  },
  {
   "cell_type": "markdown",
   "metadata": {},
   "source": [
    "Almost everything is fine, except for Weaviate expects datetime in RFC 3339 format and instead of \"+0000\" datetime should ends with \"+00:00\"."
   ]
  },
  {
   "cell_type": "code",
   "execution_count": 12,
   "metadata": {},
   "outputs": [],
   "source": [
    "data[\"published_at\"] = data[\"published_at\"].apply(lambda x: pd.to_datetime(x, utc=True).isoformat())\n"
   ]
  },
  {
   "cell_type": "code",
   "execution_count": 13,
   "metadata": {},
   "outputs": [
    {
     "data": {
      "text/plain": [
       "'2021-09-29T17:09:39+00:00'"
      ]
     },
     "execution_count": 13,
     "metadata": {},
     "output_type": "execute_result"
    }
   ],
   "source": [
    "data.loc[0, \"published_at\"]\n"
   ]
  },
  {
   "cell_type": "markdown",
   "metadata": {},
   "source": [
    "Now it's fine.\n",
    "\n",
    "The problem that I noticed that if datetime is not in a proper format loading data into Weaviate instance might fail without any error raised and it will affect not only property with datetime, but all other properties will have null value. At least it's true for the version of Weaviate that is used for this project (1.10.1)."
   ]
  },
  {
   "cell_type": "markdown",
   "metadata": {},
   "source": [
    "## 2.3. Author"
   ]
  },
  {
   "cell_type": "code",
   "execution_count": 14,
   "metadata": {},
   "outputs": [
    {
     "name": "stdout",
     "output_type": "stream",
     "text": [
      "Articles with missing \"author\": 228 of 625 (36.5%).\n"
     ]
    }
   ],
   "source": [
    "show_missing_values_statistics(data, \"author\")\n"
   ]
  },
  {
   "cell_type": "code",
   "execution_count": 15,
   "metadata": {},
   "outputs": [
    {
     "data": {
      "text/plain": [
       "14                         NaN\n",
       "15                     Tae Kim\n",
       "16    Dawn Kopecki,Rich Mendez\n",
       "17                         NaN\n",
       "Name: author, dtype: object"
      ]
     },
     "execution_count": 15,
     "metadata": {},
     "output_type": "execute_result"
    }
   ],
   "source": [
    "data.loc[14:17, \"author\"]\n"
   ]
  },
  {
   "cell_type": "markdown",
   "metadata": {},
   "source": [
    "As we can see some articles doesn't have author (~36% of articles). One of the ways to tackle it is to replace empty values with \"Unknown\" token."
   ]
  },
  {
   "cell_type": "code",
   "execution_count": 16,
   "metadata": {},
   "outputs": [],
   "source": [
    "data[\"author\"] = data[\"author\"].fillna(config.preprocessing.author.fillna_value)\n"
   ]
  },
  {
   "cell_type": "code",
   "execution_count": 17,
   "metadata": {},
   "outputs": [
    {
     "data": {
      "text/plain": [
       "14                     Unknown\n",
       "15                     Tae Kim\n",
       "16    Dawn Kopecki,Rich Mendez\n",
       "17                     Unknown\n",
       "Name: author, dtype: object"
      ]
     },
     "execution_count": 17,
     "metadata": {},
     "output_type": "execute_result"
    }
   ],
   "source": [
    "data.loc[14:17, \"author\"]\n"
   ]
  },
  {
   "cell_type": "markdown",
   "metadata": {},
   "source": [
    "Now if we want to find articles that doesn't have authors, we can use \"Unknown\" token as a filter value."
   ]
  },
  {
   "cell_type": "markdown",
   "metadata": {},
   "source": [
    "## 2.4. Short_description"
   ]
  },
  {
   "cell_type": "code",
   "execution_count": 18,
   "metadata": {},
   "outputs": [
    {
     "name": "stdout",
     "output_type": "stream",
     "text": [
      "Articles with missing \"short_description\": 16 of 625 (2.6%).\n"
     ]
    }
   ],
   "source": [
    "show_missing_values_statistics(data, \"short_description\")\n"
   ]
  },
  {
   "cell_type": "markdown",
   "metadata": {},
   "source": [
    "There are 16 articles with missing short_description property. As short_description is not the most important part of the article (description property is the most important) we will not drop articles because of it, but rather will try to fill up missing values.\n",
    "\n",
    "As it's shown in EDA description is a shortened version of description (hence the name), so we can take first part of the description in cases when there is no short_description but description exists."
   ]
  },
  {
   "cell_type": "markdown",
   "metadata": {},
   "source": [
    "Let's see in how many cases there is a description when short_description is missing:"
   ]
  },
  {
   "cell_type": "code",
   "execution_count": 19,
   "metadata": {},
   "outputs": [
    {
     "data": {
      "text/html": [
       "<div>\n",
       "<style scoped>\n",
       "    .dataframe tbody tr th:only-of-type {\n",
       "        vertical-align: middle;\n",
       "    }\n",
       "\n",
       "    .dataframe tbody tr th {\n",
       "        vertical-align: top;\n",
       "    }\n",
       "\n",
       "    .dataframe thead th {\n",
       "        text-align: right;\n",
       "    }\n",
       "</style>\n",
       "<table border=\"1\" class=\"dataframe\">\n",
       "  <thead>\n",
       "    <tr style=\"text-align: right;\">\n",
       "      <th></th>\n",
       "      <th>short_description</th>\n",
       "      <th>description</th>\n",
       "    </tr>\n",
       "  </thead>\n",
       "  <tbody>\n",
       "    <tr>\n",
       "      <th>4</th>\n",
       "      <td>NaN</td>\n",
       "      <td>President Donald Trump hailed the U.S.-led intervention in Syria as \"perfectly executed,\" adding that the military campaign to degrade Bashar Assad's chemical weapons capability had accomplished i...</td>\n",
       "    </tr>\n",
       "    <tr>\n",
       "      <th>19</th>\n",
       "      <td>NaN</td>\n",
       "      <td>In Monday’s Web Extra, Pete Najarian reveals where he’s seeing put buying. Also why stocks are plunging in Japan. This content is only available online - you won't find these trades on TV. _______...</td>\n",
       "    </tr>\n",
       "    <tr>\n",
       "      <th>84</th>\n",
       "      <td>NaN</td>\n",
       "      <td>COOPERSTOWN, N.Y., Oct. 1, 2012 /PRNewswire/ -- The National Baseball Hall of Fame and Museum is adding to its art collection with the donation of a portrait depicting one of the sport's most famo...</td>\n",
       "    </tr>\n",
       "    <tr>\n",
       "      <th>157</th>\n",
       "      <td>NaN</td>\n",
       "      <td>What was Wall Street saying about earnings season, Googlehitting an all-time high, Facebook’s1 billion users and European bank stocks? Find out in this week’s CNBC.com Stock Blog Roundup.Third-qua...</td>\n",
       "    </tr>\n",
       "    <tr>\n",
       "      <th>184</th>\n",
       "      <td>NaN</td>\n",
       "      <td>Ireland's High Court on Thursday ruled that a 850 million euro ($1 billion) data center planned by Apple in the west of Ireland may proceed, dismissing an environmental challenge made by three peo...</td>\n",
       "    </tr>\n",
       "  </tbody>\n",
       "</table>\n",
       "</div>"
      ],
      "text/plain": [
       "    short_description  \\\n",
       "4                 NaN   \n",
       "19                NaN   \n",
       "84                NaN   \n",
       "157               NaN   \n",
       "184               NaN   \n",
       "\n",
       "                                                                                                                                                                                                 description  \n",
       "4    President Donald Trump hailed the U.S.-led intervention in Syria as \"perfectly executed,\" adding that the military campaign to degrade Bashar Assad's chemical weapons capability had accomplished i...  \n",
       "19   In Monday’s Web Extra, Pete Najarian reveals where he’s seeing put buying. Also why stocks are plunging in Japan. This content is only available online - you won't find these trades on TV. _______...  \n",
       "84   COOPERSTOWN, N.Y., Oct. 1, 2012 /PRNewswire/ -- The National Baseball Hall of Fame and Museum is adding to its art collection with the donation of a portrait depicting one of the sport's most famo...  \n",
       "157  What was Wall Street saying about earnings season, Googlehitting an all-time high, Facebook’s1 billion users and European bank stocks? Find out in this week’s CNBC.com Stock Blog Roundup.Third-qua...  \n",
       "184  Ireland's High Court on Thursday ruled that a 850 million euro ($1 billion) data center planned by Apple in the west of Ireland may proceed, dismissing an environmental challenge made by three peo...  "
      ]
     },
     "execution_count": 19,
     "metadata": {},
     "output_type": "execute_result"
    }
   ],
   "source": [
    "short_description_df = data.query(\"short_description.isnull() and description.notna()\")\n",
    "short_description_df[[\"short_description\", \"description\"]].head()\n"
   ]
  },
  {
   "cell_type": "markdown",
   "metadata": {},
   "source": [
    "In order to take the first sentence we can split by \".\" and take first element from the list. But it's very unreliable approach.\n",
    "\n",
    "For example:"
   ]
  },
  {
   "cell_type": "code",
   "execution_count": 20,
   "metadata": {},
   "outputs": [
    {
     "name": "stdout",
     "output_type": "stream",
     "text": [
      "President Donald Trump hailed the U.S.-led intervention in Syria as \"perfectly executed,\" adding that the military campaign to degrade Bashar Assad's chemical weapons capability had accomplished its goals.Less than a day after U.S., British and French forces targeted suspected chemical weapons sites in retaliation to an attack that left dozens of civilians dead last week, Trump thanked the U.S. coalition partners.Yet in an echo of former president George W. Bush, Trump used words that ultimately came back to haunt his predecessor, by pronouncing \"Mission Accomplished.\" That characterization raised questions about whether Western forces would intervene again if Assad used chemical weapons again, or if the conflict escalated amid Russia's growing bellicosity.\"A perfectly executed strike last night. Thank you to France and the United Kingdom for their wisdom and the power of their fine Military. Could not have had a better result. Mission Accomplished!\" Trump said in a Twitter post.Defens\n",
      " -  -  -  -  -  -  -  -  -  -  -  -  -  -  -  -  -  -  -  -  -  -  -  -  -  -  -  -  -  -  -  -  -  -  -  -  -  -  -  -  -  -  -  -  -  -  -  -  -  - \n",
      "President Donald Trump hailed the U\n"
     ]
    }
   ],
   "source": [
    "text = short_description_df[\"description\"].iloc[0]\n",
    "\n",
    "print(text[:1000])\n",
    "print(\" - \" * 50)\n",
    "print(text.split(\".\")[0])\n"
   ]
  },
  {
   "cell_type": "markdown",
   "metadata": {},
   "source": [
    "It's much better to use more sophisticated approach, like spacy's sentence splitter: "
   ]
  },
  {
   "cell_type": "markdown",
   "metadata": {},
   "source": [
    "<div class=\"alert alert-block alert-info\"><b>NOTE</b>: Don't forget to load spacy model beforehand.</div>"
   ]
  },
  {
   "cell_type": "markdown",
   "metadata": {},
   "source": [
    "For example:\n",
    "```bash\n",
    "python -m spacy download en_core_web_sm\n",
    "```"
   ]
  },
  {
   "cell_type": "code",
   "execution_count": 21,
   "metadata": {},
   "outputs": [
    {
     "name": "stdout",
     "output_type": "stream",
     "text": [
      "Spacy pipes: ['tok2vec', 'parser']\n"
     ]
    }
   ],
   "source": [
    "def get_first_sentence(text: str, nlp: spacy.Language) -> str:\n",
    "    \"\"\"Return the first sentence of the text where . is the delimeter.\n",
    "\n",
    "    Parameters\n",
    "    ----------\n",
    "    text : str\n",
    "        full text\n",
    "\n",
    "    Returns\n",
    "    -------\n",
    "    str\n",
    "        the first sentence of the full text\n",
    "    \"\"\"\n",
    "    sents_generator = nlp(text).sents\n",
    "\n",
    "    return next(sents_generator).text\n",
    "\n",
    "\n",
    "nlp = spacy.load(config.preprocessing.spacy.model)\n",
    "# for speed disable not needed pipes\n",
    "nlp.disable_pipes(\n",
    "    \"tagger\",\n",
    "    \"attribute_ruler\",\n",
    "    \"lemmatizer\",\n",
    "    \"ner\",\n",
    ")\n",
    "print(f\"Spacy pipes: {nlp.pipe_names}\")\n"
   ]
  },
  {
   "cell_type": "code",
   "execution_count": 22,
   "metadata": {},
   "outputs": [
    {
     "name": "stdout",
     "output_type": "stream",
     "text": [
      "President Donald Trump hailed the U.S.-led intervention in Syria as \"perfectly executed,\" adding that the military campaign to degrade Bashar Assad's chemical weapons capability had accomplished its goals.\n"
     ]
    }
   ],
   "source": [
    "print(get_first_sentence(text, nlp))\n"
   ]
  },
  {
   "cell_type": "markdown",
   "metadata": {},
   "source": [
    "As we can spacy did much better job. Now let's broadcast it to all missing short_descriptions."
   ]
  },
  {
   "cell_type": "code",
   "execution_count": 23,
   "metadata": {},
   "outputs": [
    {
     "data": {
      "text/html": [
       "<div>\n",
       "<style scoped>\n",
       "    .dataframe tbody tr th:only-of-type {\n",
       "        vertical-align: middle;\n",
       "    }\n",
       "\n",
       "    .dataframe tbody tr th {\n",
       "        vertical-align: top;\n",
       "    }\n",
       "\n",
       "    .dataframe thead th {\n",
       "        text-align: right;\n",
       "    }\n",
       "</style>\n",
       "<table border=\"1\" class=\"dataframe\">\n",
       "  <thead>\n",
       "    <tr style=\"text-align: right;\">\n",
       "      <th></th>\n",
       "      <th>short_description</th>\n",
       "      <th>description</th>\n",
       "    </tr>\n",
       "  </thead>\n",
       "  <tbody>\n",
       "    <tr>\n",
       "      <th>4</th>\n",
       "      <td>President Donald Trump hailed the U.S.-led intervention in Syria as \"perfectly executed,\" adding that the military campaign to degrade Bashar Assad's chemical weapons capability had accomplished i...</td>\n",
       "      <td>President Donald Trump hailed the U.S.-led intervention in Syria as \"perfectly executed,\" adding that the military campaign to degrade Bashar Assad's chemical weapons capability had accomplished i...</td>\n",
       "    </tr>\n",
       "    <tr>\n",
       "      <th>19</th>\n",
       "      <td>In Monday’s Web Extra, Pete Najarian reveals where he’s seeing put buying.</td>\n",
       "      <td>In Monday’s Web Extra, Pete Najarian reveals where he’s seeing put buying. Also why stocks are plunging in Japan. This content is only available online - you won't find these trades on TV. _______...</td>\n",
       "    </tr>\n",
       "    <tr>\n",
       "      <th>84</th>\n",
       "      <td>COOPERSTOWN, N.Y., Oct. 1, 2012 /PRNewswire/ -- The National Baseball Hall of Fame and Museum is adding to its art collection with the donation of a portrait depicting one of the sport's most famo...</td>\n",
       "      <td>COOPERSTOWN, N.Y., Oct. 1, 2012 /PRNewswire/ -- The National Baseball Hall of Fame and Museum is adding to its art collection with the donation of a portrait depicting one of the sport's most famo...</td>\n",
       "    </tr>\n",
       "    <tr>\n",
       "      <th>157</th>\n",
       "      <td>What was Wall Street saying about earnings season, Googlehitting an all-time high, Facebook’s1 billion users and European bank stocks?</td>\n",
       "      <td>What was Wall Street saying about earnings season, Googlehitting an all-time high, Facebook’s1 billion users and European bank stocks? Find out in this week’s CNBC.com Stock Blog Roundup.Third-qua...</td>\n",
       "    </tr>\n",
       "    <tr>\n",
       "      <th>184</th>\n",
       "      <td>Ireland's High Court on Thursday ruled that a 850 million euro ($1 billion) data center planned by Apple in the west of Ireland may proceed, dismissing an environmental challenge made by three peo...</td>\n",
       "      <td>Ireland's High Court on Thursday ruled that a 850 million euro ($1 billion) data center planned by Apple in the west of Ireland may proceed, dismissing an environmental challenge made by three peo...</td>\n",
       "    </tr>\n",
       "  </tbody>\n",
       "</table>\n",
       "</div>"
      ],
      "text/plain": [
       "                                                                                                                                                                                           short_description  \\\n",
       "4    President Donald Trump hailed the U.S.-led intervention in Syria as \"perfectly executed,\" adding that the military campaign to degrade Bashar Assad's chemical weapons capability had accomplished i...   \n",
       "19                                                                                                                                In Monday’s Web Extra, Pete Najarian reveals where he’s seeing put buying.   \n",
       "84   COOPERSTOWN, N.Y., Oct. 1, 2012 /PRNewswire/ -- The National Baseball Hall of Fame and Museum is adding to its art collection with the donation of a portrait depicting one of the sport's most famo...   \n",
       "157                                                                   What was Wall Street saying about earnings season, Googlehitting an all-time high, Facebook’s1 billion users and European bank stocks?   \n",
       "184  Ireland's High Court on Thursday ruled that a 850 million euro ($1 billion) data center planned by Apple in the west of Ireland may proceed, dismissing an environmental challenge made by three peo...   \n",
       "\n",
       "                                                                                                                                                                                                 description  \n",
       "4    President Donald Trump hailed the U.S.-led intervention in Syria as \"perfectly executed,\" adding that the military campaign to degrade Bashar Assad's chemical weapons capability had accomplished i...  \n",
       "19   In Monday’s Web Extra, Pete Najarian reveals where he’s seeing put buying. Also why stocks are plunging in Japan. This content is only available online - you won't find these trades on TV. _______...  \n",
       "84   COOPERSTOWN, N.Y., Oct. 1, 2012 /PRNewswire/ -- The National Baseball Hall of Fame and Museum is adding to its art collection with the donation of a portrait depicting one of the sport's most famo...  \n",
       "157  What was Wall Street saying about earnings season, Googlehitting an all-time high, Facebook’s1 billion users and European bank stocks? Find out in this week’s CNBC.com Stock Blog Roundup.Third-qua...  \n",
       "184  Ireland's High Court on Thursday ruled that a 850 million euro ($1 billion) data center planned by Apple in the west of Ireland may proceed, dismissing an environmental challenge made by three peo...  "
      ]
     },
     "execution_count": 23,
     "metadata": {},
     "output_type": "execute_result"
    }
   ],
   "source": [
    "for idx in short_description_df.index:\n",
    "    description = data.loc[idx, \"description\"]\n",
    "    short_description = get_first_sentence(description, nlp)\n",
    "    data.loc[idx, \"short_description\"] = short_description\n",
    "\n",
    "data.loc[short_description_df.index, [\"short_description\", \"description\"]].head()\n"
   ]
  },
  {
   "cell_type": "code",
   "execution_count": 24,
   "metadata": {},
   "outputs": [
    {
     "data": {
      "text/plain": [
       "'President Donald Trump hailed the U.S.-led intervention in Syria as \"perfectly executed,\" adding that the military campaign to degrade Bashar Assad\\'s chemical weapons capability had accomplished its goals.'"
      ]
     },
     "execution_count": 24,
     "metadata": {},
     "output_type": "execute_result"
    }
   ],
   "source": [
    "data.loc[short_description_df.index[0], \"short_description\"]\n"
   ]
  },
  {
   "cell_type": "markdown",
   "metadata": {},
   "source": [
    "Cool, look's like it worked like a charm."
   ]
  },
  {
   "cell_type": "markdown",
   "metadata": {},
   "source": [
    "## 2.5. Description"
   ]
  },
  {
   "cell_type": "code",
   "execution_count": 25,
   "metadata": {},
   "outputs": [
    {
     "name": "stdout",
     "output_type": "stream",
     "text": [
      "Articles with missing \"description\": 32 of 625 (5.1%).\n"
     ]
    }
   ],
   "source": [
    "show_missing_values_statistics(data, \"description\")\n"
   ]
  },
  {
   "cell_type": "markdown",
   "metadata": {},
   "source": [
    "Now, the most crucial part. When Weaviate creates vector representation of an article it concatenates all string properties and vectorize it (if to be precise it send concatenated string to vectorizer module). Then this vector is used when running search query.\n",
    "\n",
    "As description usually contain the majority of information about article it's important to fill up missing values. If it's not possible then such article should be dropped.\n",
    "\n",
    "Base on EDA findings the strategy for filling up missing value for description is:\n",
    "- if raw_description exists strip it from HTML tags and use it as replacements\n",
    "- if raw_description doesn't not exist but short_description does - use shortened version as a replacements"
   ]
  },
  {
   "cell_type": "markdown",
   "metadata": {},
   "source": [
    "### 2.5.1. Fill up with raw_description"
   ]
  },
  {
   "cell_type": "code",
   "execution_count": 26,
   "metadata": {},
   "outputs": [
    {
     "name": "stdout",
     "output_type": "stream",
     "text": [
      "1\n"
     ]
    },
    {
     "data": {
      "text/html": [
       "<div>\n",
       "<style scoped>\n",
       "    .dataframe tbody tr th:only-of-type {\n",
       "        vertical-align: middle;\n",
       "    }\n",
       "\n",
       "    .dataframe tbody tr th {\n",
       "        vertical-align: top;\n",
       "    }\n",
       "\n",
       "    .dataframe thead th {\n",
       "        text-align: right;\n",
       "    }\n",
       "</style>\n",
       "<table border=\"1\" class=\"dataframe\">\n",
       "  <thead>\n",
       "    <tr style=\"text-align: right;\">\n",
       "      <th></th>\n",
       "      <th>description</th>\n",
       "      <th>raw_description</th>\n",
       "    </tr>\n",
       "  </thead>\n",
       "  <tbody>\n",
       "    <tr>\n",
       "      <th>372</th>\n",
       "      <td>NaN</td>\n",
       "      <td>&lt;div class=\"group\"&gt;&lt;/div&gt;</td>\n",
       "    </tr>\n",
       "  </tbody>\n",
       "</table>\n",
       "</div>"
      ],
      "text/plain": [
       "    description            raw_description\n",
       "372         NaN  <div class=\"group\"></div>"
      ]
     },
     "execution_count": 26,
     "metadata": {},
     "output_type": "execute_result"
    }
   ],
   "source": [
    "raw_description_df = data.query(\"description.isna() and raw_description.notna()\")\n",
    "print(raw_description_df.shape[0])\n",
    "raw_description_df[[\"description\", \"raw_description\"]]\n"
   ]
  },
  {
   "cell_type": "markdown",
   "metadata": {},
   "source": [
    "There is only one article where description is missing but not raw_description. What is not helpful is that raw_description contains only empty div block. That can also easily explain why description is empty."
   ]
  },
  {
   "cell_type": "markdown",
   "metadata": {},
   "source": [
    "### 2.5.2. Fill up with short_description"
   ]
  },
  {
   "cell_type": "code",
   "execution_count": 27,
   "metadata": {},
   "outputs": [
    {
     "name": "stdout",
     "output_type": "stream",
     "text": [
      "30\n"
     ]
    },
    {
     "data": {
      "text/html": [
       "<div>\n",
       "<style scoped>\n",
       "    .dataframe tbody tr th:only-of-type {\n",
       "        vertical-align: middle;\n",
       "    }\n",
       "\n",
       "    .dataframe tbody tr th {\n",
       "        vertical-align: top;\n",
       "    }\n",
       "\n",
       "    .dataframe thead th {\n",
       "        text-align: right;\n",
       "    }\n",
       "</style>\n",
       "<table border=\"1\" class=\"dataframe\">\n",
       "  <thead>\n",
       "    <tr style=\"text-align: right;\">\n",
       "      <th></th>\n",
       "      <th>description</th>\n",
       "      <th>short_description</th>\n",
       "    </tr>\n",
       "  </thead>\n",
       "  <tbody>\n",
       "    <tr>\n",
       "      <th>1</th>\n",
       "      <td>NaN</td>\n",
       "      <td>This commentary originally ran on Facebook. Boris Johnson – The former London mayor and grudging \"Leave\" supporter-turned enthusiastic \"Leave\" leader chose the winning side. He's now a front-runne...</td>\n",
       "    </tr>\n",
       "    <tr>\n",
       "      <th>2</th>\n",
       "      <td>NaN</td>\n",
       "      <td>In spring, ambitious reforms began in Italy. Under Matteo Renzi, the ailing economy will either begin a real recovery, or slide further. The outcome is vital to Italy, Europe and the global econom...</td>\n",
       "    </tr>\n",
       "    <tr>\n",
       "      <th>6</th>\n",
       "      <td>NaN</td>\n",
       "      <td>Founders: Eran Barak, Barak Klinghofer (chief product officer), Idan Levin (CTO) Launched: 2014 Headquarters: Boston Funding: $10.5 million   The three founders of Hexadite, a Boston-based cyberse...</td>\n",
       "    </tr>\n",
       "    <tr>\n",
       "      <th>31</th>\n",
       "      <td>NaN</td>\n",
       "      <td>As the coronavirus spreads across the United States, American life has come to a halt: schools are closing, sports leagues are suspended, events are canceled and officials from major cities are an...</td>\n",
       "    </tr>\n",
       "    <tr>\n",
       "      <th>34</th>\n",
       "      <td>NaN</td>\n",
       "      <td>Japan has overtaken the U.K. as the most expensive place to send overseas employees to work, a new report has found.The average expatriate package in Japan costs employers $405,685 – more than any...</td>\n",
       "    </tr>\n",
       "  </tbody>\n",
       "</table>\n",
       "</div>"
      ],
      "text/plain": [
       "   description  \\\n",
       "1          NaN   \n",
       "2          NaN   \n",
       "6          NaN   \n",
       "31         NaN   \n",
       "34         NaN   \n",
       "\n",
       "                                                                                                                                                                                          short_description  \n",
       "1   This commentary originally ran on Facebook. Boris Johnson – The former London mayor and grudging \"Leave\" supporter-turned enthusiastic \"Leave\" leader chose the winning side. He's now a front-runne...  \n",
       "2   In spring, ambitious reforms began in Italy. Under Matteo Renzi, the ailing economy will either begin a real recovery, or slide further. The outcome is vital to Italy, Europe and the global econom...  \n",
       "6   Founders: Eran Barak, Barak Klinghofer (chief product officer), Idan Levin (CTO) Launched: 2014 Headquarters: Boston Funding: $10.5 million   The three founders of Hexadite, a Boston-based cyberse...  \n",
       "31  As the coronavirus spreads across the United States, American life has come to a halt: schools are closing, sports leagues are suspended, events are canceled and officials from major cities are an...  \n",
       "34  Japan has overtaken the U.K. as the most expensive place to send overseas employees to work, a new report has found.The average expatriate package in Japan costs employers $405,685 – more than any...  "
      ]
     },
     "execution_count": 27,
     "metadata": {},
     "output_type": "execute_result"
    }
   ],
   "source": [
    "short_description_df = data.query(\"description.isna() and short_description.notna()\")\n",
    "print(short_description_df.shape[0])\n",
    "short_description_df[[\"description\", \"short_description\"]].head()\n"
   ]
  },
  {
   "cell_type": "markdown",
   "metadata": {},
   "source": [
    "There are 30 articles where description is empty but not short_description.\n",
    "We can use it."
   ]
  },
  {
   "cell_type": "code",
   "execution_count": 28,
   "metadata": {},
   "outputs": [],
   "source": [
    "data.loc[short_description_df.index, \"description\"] = data.loc[short_description_df.index, \"short_description\"]\n"
   ]
  },
  {
   "cell_type": "code",
   "execution_count": 29,
   "metadata": {},
   "outputs": [
    {
     "name": "stdout",
     "output_type": "stream",
     "text": [
      "Articles with missing \"description\": 2 of 625 (0.3%).\n"
     ]
    }
   ],
   "source": [
    "show_missing_values_statistics(data, \"description\")\n"
   ]
  },
  {
   "cell_type": "markdown",
   "metadata": {},
   "source": [
    "Out of 32 articles with missing description only 2 are left."
   ]
  },
  {
   "cell_type": "markdown",
   "metadata": {},
   "source": [
    "## 2.6. Drop articles with missing values"
   ]
  },
  {
   "cell_type": "code",
   "execution_count": 30,
   "metadata": {},
   "outputs": [
    {
     "data": {
      "text/html": [
       "<style type=\"text/css\">\n",
       "#T_b6c9b_row0_col0, #T_b6c9b_row1_col0, #T_b6c9b_row2_col0, #T_b6c9b_row3_col0, #T_b6c9b_row4_col0, #T_b6c9b_row6_col0, #T_b6c9b_row7_col0, #T_b6c9b_row10_col0 {\n",
       "  width: 10em;\n",
       "}\n",
       "#T_b6c9b_row5_col0, #T_b6c9b_row9_col0 {\n",
       "  width: 10em;\n",
       "  background: linear-gradient(90deg, #d65f5f 6.5%, transparent 6.5%);\n",
       "}\n",
       "#T_b6c9b_row8_col0 {\n",
       "  width: 10em;\n",
       "  background: linear-gradient(90deg, #d65f5f 100.0%, transparent 100.0%);\n",
       "}\n",
       "</style>\n",
       "<table id=\"T_b6c9b\">\n",
       "  <thead>\n",
       "    <tr>\n",
       "      <th class=\"blank level0\" >&nbsp;</th>\n",
       "      <th id=\"T_b6c9b_level0_col0\" class=\"col_heading level0 col0\" >Number of missing values</th>\n",
       "    </tr>\n",
       "  </thead>\n",
       "  <tbody>\n",
       "    <tr>\n",
       "      <th id=\"T_b6c9b_level0_row0\" class=\"row_heading level0 row0\" >title</th>\n",
       "      <td id=\"T_b6c9b_row0_col0\" class=\"data row0 col0\" >0</td>\n",
       "    </tr>\n",
       "    <tr>\n",
       "      <th id=\"T_b6c9b_level0_row1\" class=\"row_heading level0 row1\" >url</th>\n",
       "      <td id=\"T_b6c9b_row1_col0\" class=\"data row1 col0\" >0</td>\n",
       "    </tr>\n",
       "    <tr>\n",
       "      <th id=\"T_b6c9b_level0_row2\" class=\"row_heading level0 row2\" >published_at</th>\n",
       "      <td id=\"T_b6c9b_row2_col0\" class=\"data row2 col0\" >0</td>\n",
       "    </tr>\n",
       "    <tr>\n",
       "      <th id=\"T_b6c9b_level0_row3\" class=\"row_heading level0 row3\" >author</th>\n",
       "      <td id=\"T_b6c9b_row3_col0\" class=\"data row3 col0\" >0</td>\n",
       "    </tr>\n",
       "    <tr>\n",
       "      <th id=\"T_b6c9b_level0_row4\" class=\"row_heading level0 row4\" >publisher</th>\n",
       "      <td id=\"T_b6c9b_row4_col0\" class=\"data row4 col0\" >0</td>\n",
       "    </tr>\n",
       "    <tr>\n",
       "      <th id=\"T_b6c9b_level0_row5\" class=\"row_heading level0 row5\" >short_description</th>\n",
       "      <td id=\"T_b6c9b_row5_col0\" class=\"data row5 col0\" >2</td>\n",
       "    </tr>\n",
       "    <tr>\n",
       "      <th id=\"T_b6c9b_level0_row6\" class=\"row_heading level0 row6\" >keywords</th>\n",
       "      <td id=\"T_b6c9b_row6_col0\" class=\"data row6 col0\" >0</td>\n",
       "    </tr>\n",
       "    <tr>\n",
       "      <th id=\"T_b6c9b_level0_row7\" class=\"row_heading level0 row7\" >header_image</th>\n",
       "      <td id=\"T_b6c9b_row7_col0\" class=\"data row7 col0\" >0</td>\n",
       "    </tr>\n",
       "    <tr>\n",
       "      <th id=\"T_b6c9b_level0_row8\" class=\"row_heading level0 row8\" >raw_description</th>\n",
       "      <td id=\"T_b6c9b_row8_col0\" class=\"data row8 col0\" >31</td>\n",
       "    </tr>\n",
       "    <tr>\n",
       "      <th id=\"T_b6c9b_level0_row9\" class=\"row_heading level0 row9\" >description</th>\n",
       "      <td id=\"T_b6c9b_row9_col0\" class=\"data row9 col0\" >2</td>\n",
       "    </tr>\n",
       "    <tr>\n",
       "      <th id=\"T_b6c9b_level0_row10\" class=\"row_heading level0 row10\" >scraped_at</th>\n",
       "      <td id=\"T_b6c9b_row10_col0\" class=\"data row10 col0\" >0</td>\n",
       "    </tr>\n",
       "  </tbody>\n",
       "</table>\n"
      ],
      "text/plain": [
       "<pandas.io.formats.style.Styler at 0x126e2e970>"
      ]
     },
     "execution_count": 30,
     "metadata": {},
     "output_type": "execute_result"
    }
   ],
   "source": [
    "data.isna().sum().to_frame(name=\"Number of missing values\").style.bar()\n"
   ]
  },
  {
   "cell_type": "markdown",
   "metadata": {},
   "source": [
    "There are articles with missing:\n",
    "- 31 raw_description (we don't use anyway)\n",
    "- 2 short_description (not good not terrible)\n",
    "- 2 description - these articles has to be dropped. "
   ]
  },
  {
   "cell_type": "code",
   "execution_count": 31,
   "metadata": {},
   "outputs": [
    {
     "data": {
      "text/plain": [
       "0"
      ]
     },
     "execution_count": 31,
     "metadata": {},
     "output_type": "execute_result"
    }
   ],
   "source": [
    "data = data.dropna(subset=[\"description\"]).reset_index(drop=True)\n",
    "data[\"description\"].isna().sum()\n"
   ]
  },
  {
   "cell_type": "markdown",
   "metadata": {},
   "source": [
    "# 3. Save data"
   ]
  },
  {
   "cell_type": "markdown",
   "metadata": {},
   "source": [
    "The last step is to save preprocessed data into intermediate folder. Later this data will be used during loading into Weaviate instance."
   ]
  },
  {
   "cell_type": "markdown",
   "metadata": {},
   "source": [
    "As we don't need some of columns like scrapped_at, header_image or raw_description it's better to save some space and save only required columns."
   ]
  },
  {
   "cell_type": "code",
   "execution_count": 32,
   "metadata": {},
   "outputs": [],
   "source": [
    "columns_to_save = [\n",
    "    \"title\",\n",
    "    \"url\",\n",
    "    \"published_at\",\n",
    "    \"author\",\n",
    "    \"short_description\",\n",
    "    \"description\",\n",
    "    \"keywords\",\n",
    "]\n",
    "\n",
    "data[columns_to_save].to_csv(os.path.join(ROOT, config.data.interim), index=False)\n"
   ]
  }
 ],
 "metadata": {
  "interpreter": {
   "hash": "cb9e94dbe4e7fc92a3d7162f471039658b9fdbbc9b042b59ec1fc38823150b03"
  },
  "kernelspec": {
   "display_name": "Python 3.9.9 64-bit ('weaviate-demo')",
   "language": "python",
   "name": "python3"
  },
  "language_info": {
   "codemirror_mode": {
    "name": "ipython",
    "version": 3
   },
   "file_extension": ".py",
   "mimetype": "text/x-python",
   "name": "python",
   "nbconvert_exporter": "python",
   "pygments_lexer": "ipython3",
   "version": "3.9.9"
  },
  "orig_nbformat": 4
 },
 "nbformat": 4,
 "nbformat_minor": 2
}
