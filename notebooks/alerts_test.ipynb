{
 "cells": [
  {
   "cell_type": "markdown",
   "metadata": {},
   "source": [
    "<div class=\"alert alert-block alert-success\"><b>Success</b>: green</div>"
   ]
  },
  {
   "cell_type": "markdown",
   "metadata": {},
   "source": [
    "<div class=\"alert alert-block alert-info\"><b>Info</b>: light-blue</div>"
   ]
  },
  {
   "cell_type": "markdown",
   "metadata": {},
   "source": [
    "<div class=\"alert alert-block alert-warning\"><b>Warning</b>: yellow</div>"
   ]
  },
  {
   "cell_type": "markdown",
   "metadata": {},
   "source": [
    "<div class=\"alert alert-block alert-danger\"><b>Danger</b>: red</div>"
   ]
  },
  {
   "cell_type": "markdown",
   "metadata": {},
   "source": [
    "***"
   ]
  },
  {
   "cell_type": "code",
   "execution_count": null,
   "metadata": {},
   "outputs": [],
   "source": [
    "<div class=\"alert alert-primary\" role=\"alert\">\n",
    "  This is a primary alert—check it out!\n",
    "</div>\n",
    "<div class=\"alert alert-secondary\" role=\"alert\">\n",
    "  This is a secondary alert—check it out!\n",
    "</div>\n",
    "<div class=\"alert alert-success\" role=\"alert\">\n",
    "  This is a success alert—check it out!\n",
    "</div>\n",
    "<div class=\"alert alert-danger\" role=\"alert\">\n",
    "  This is a danger alert—check it out!\n",
    "</div>\n",
    "<div class=\"alert alert-warning\" role=\"alert\">\n",
    "  This is a warning alert—check it out!\n",
    "</div>\n",
    "<div class=\"alert alert-info\" role=\"alert\">\n",
    "  This is a info alert—check it out!\n",
    "</div>\n",
    "<div class=\"alert alert-light\" role=\"alert\">\n",
    "  This is a light alert—check it out!\n",
    "</div>\n",
    "<div class=\"alert alert-dark\" role=\"alert\">\n",
    "  This is a dark alert—check it out!\n",
    "</div>"
   ]
  },
  {
   "cell_type": "markdown",
   "metadata": {},
   "source": [
    "<div class=\"alert alert-primary\" role=\"alert\">\n",
    "  This is a primary alert—check it out!\n",
    "</div>\n",
    "<div class=\"alert alert-secondary\" role=\"alert\">\n",
    "  This is a secondary alert—check it out!\n",
    "</div>\n",
    "<div class=\"alert alert-success\" role=\"alert\">\n",
    "  This is a success alert—check it out!\n",
    "</div>\n",
    "<div class=\"alert alert-danger\" role=\"alert\">\n",
    "  This is a danger alert—check it out!\n",
    "</div>\n",
    "<div class=\"alert alert-warning\" role=\"alert\">\n",
    "  This is a warning alert—check it out!\n",
    "</div>\n",
    "<div class=\"alert alert-info\" role=\"alert\">\n",
    "  This is a info alert—check it out!\n",
    "</div>\n",
    "<div class=\"alert alert-light\" role=\"alert\">\n",
    "  This is a light alert—check it out!\n",
    "</div>\n",
    "<div class=\"alert alert-dark\" role=\"alert\">\n",
    "  This is a dark alert—check it out!\n",
    "</div>"
   ]
  }
 ],
 "metadata": {
  "interpreter": {
   "hash": "cb9e94dbe4e7fc92a3d7162f471039658b9fdbbc9b042b59ec1fc38823150b03"
  },
  "kernelspec": {
   "display_name": "Python 3 (ipykernel)",
   "language": "python",
   "name": "python3"
  },
  "language_info": {
   "codemirror_mode": {
    "name": "ipython",
    "version": 3
   },
   "file_extension": ".py",
   "mimetype": "text/x-python",
   "name": "python",
   "nbconvert_exporter": "python",
   "pygments_lexer": "ipython3",
   "version": "3.9.9"
  }
 },
 "nbformat": 4,
 "nbformat_minor": 4
}
