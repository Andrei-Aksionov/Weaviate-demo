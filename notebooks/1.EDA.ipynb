{
 "cells": [
  {
   "cell_type": "markdown",
   "metadata": {},
   "source": [
    "<h1><center>Exploratory Data Analysis</center></h1>"
   ]
  },
  {
   "cell_type": "markdown",
   "metadata": {},
   "source": [
    "This notebook contains analysis of the data. During this analysis description of each column in the data will be provided along with ideas how to preprocess it. "
   ]
  },
  {
   "cell_type": "code",
   "execution_count": 1,
   "metadata": {},
   "outputs": [],
   "source": [
    "import os\n",
    "import warnings\n",
    "from collections import Counter\n",
    "\n",
    "import numpy as np\n",
    "import pandas as pd\n",
    "import seaborn as sns\n",
    "from bertopic import BERTopic\n",
    "from bs4 import BeautifulSoup\n",
    "from Levenshtein import ratio\n",
    "from matplotlib import pyplot as plt\n",
    "from umap import UMAP\n",
    "\n",
    "from src import config\n",
    "\n",
    "pd.set_option(\"display.max_colwidth\", 100)\n",
    "\n",
    "warnings.simplefilter(action=\"ignore\", category=FutureWarning)\n"
   ]
  },
  {
   "cell_type": "code",
   "execution_count": 2,
   "metadata": {},
   "outputs": [],
   "source": [
    "# root folder of the project\n",
    "ROOT = os.path.realpath(\"../\")\n"
   ]
  },
  {
   "cell_type": "markdown",
   "metadata": {},
   "source": [
    "# 1. Read data"
   ]
  },
  {
   "cell_type": "markdown",
   "metadata": {},
   "source": [
    "Read data from csv file and display the first article."
   ]
  },
  {
   "cell_type": "code",
   "execution_count": 3,
   "metadata": {},
   "outputs": [
    {
     "data": {
      "text/html": [
       "<div>\n",
       "<style scoped>\n",
       "    .dataframe tbody tr th:only-of-type {\n",
       "        vertical-align: middle;\n",
       "    }\n",
       "\n",
       "    .dataframe tbody tr th {\n",
       "        vertical-align: top;\n",
       "    }\n",
       "\n",
       "    .dataframe thead th {\n",
       "        text-align: right;\n",
       "    }\n",
       "</style>\n",
       "<table border=\"1\" class=\"dataframe\">\n",
       "  <thead>\n",
       "    <tr style=\"text-align: right;\">\n",
       "      <th></th>\n",
       "      <th>title</th>\n",
       "      <th>url</th>\n",
       "      <th>published_at</th>\n",
       "      <th>author</th>\n",
       "      <th>publisher</th>\n",
       "      <th>short_description</th>\n",
       "      <th>keywords</th>\n",
       "      <th>header_image</th>\n",
       "      <th>raw_description</th>\n",
       "      <th>description</th>\n",
       "      <th>scraped_at</th>\n",
       "    </tr>\n",
       "  </thead>\n",
       "  <tbody>\n",
       "    <tr>\n",
       "      <th>0</th>\n",
       "      <td>Santoli’s Wednesday market notes: Could September’s stock shakeout tee up strength for the fourt...</td>\n",
       "      <td>https://www.cnbc.com/2021/09/29/santolis-wednesday-market-notes-could-septembers-stock-shakeout-...</td>\n",
       "      <td>2021-09-29T17:09:39+0000</td>\n",
       "      <td>Michael Santoli</td>\n",
       "      <td>CNBC</td>\n",
       "      <td>This is the daily notebook of Mike Santoli, CNBC's senior markets commentator, with ideas about ...</td>\n",
       "      <td>cnbc, Premium, Articles, Investment strategy, Markets, Investing, PRO Home, CNBC Pro, Pro: Santo...</td>\n",
       "      <td>https://image.cnbcfm.com/api/v1/image/106949602-1632934577499-FINTECH_ETF_9-29.jpg?v=1632934691</td>\n",
       "      <td>&lt;div class=\"group\"&gt;&lt;p&gt;&lt;em&gt;This is the daily notebook of Mike Santoli, CNBC's senior markets comm...</td>\n",
       "      <td>This is the daily notebook of Mike Santoli, CNBC's senior markets commentator, with ideas about ...</td>\n",
       "      <td>2021-10-30 14:11:23.709372</td>\n",
       "    </tr>\n",
       "  </tbody>\n",
       "</table>\n",
       "</div>"
      ],
      "text/plain": [
       "                                                                                                 title  \\\n",
       "0  Santoli’s Wednesday market notes: Could September’s stock shakeout tee up strength for the fourt...   \n",
       "\n",
       "                                                                                                   url  \\\n",
       "0  https://www.cnbc.com/2021/09/29/santolis-wednesday-market-notes-could-septembers-stock-shakeout-...   \n",
       "\n",
       "               published_at           author publisher  \\\n",
       "0  2021-09-29T17:09:39+0000  Michael Santoli      CNBC   \n",
       "\n",
       "                                                                                     short_description  \\\n",
       "0  This is the daily notebook of Mike Santoli, CNBC's senior markets commentator, with ideas about ...   \n",
       "\n",
       "                                                                                              keywords  \\\n",
       "0  cnbc, Premium, Articles, Investment strategy, Markets, Investing, PRO Home, CNBC Pro, Pro: Santo...   \n",
       "\n",
       "                                                                                      header_image  \\\n",
       "0  https://image.cnbcfm.com/api/v1/image/106949602-1632934577499-FINTECH_ETF_9-29.jpg?v=1632934691   \n",
       "\n",
       "                                                                                       raw_description  \\\n",
       "0  <div class=\"group\"><p><em>This is the daily notebook of Mike Santoli, CNBC's senior markets comm...   \n",
       "\n",
       "                                                                                           description  \\\n",
       "0  This is the daily notebook of Mike Santoli, CNBC's senior markets commentator, with ideas about ...   \n",
       "\n",
       "                   scraped_at  \n",
       "0  2021-10-30 14:11:23.709372  "
      ]
     },
     "execution_count": 3,
     "metadata": {},
     "output_type": "execute_result"
    }
   ],
   "source": [
    "data = pd.read_csv(os.path.join(ROOT, config.data.path.raw))\n",
    "data.head(1)\n"
   ]
  },
  {
   "cell_type": "code",
   "execution_count": 4,
   "metadata": {},
   "outputs": [
    {
     "name": "stdout",
     "output_type": "stream",
     "text": [
      "(625, 11)\n"
     ]
    }
   ],
   "source": [
    "# data rows\n",
    "print(data.shape)\n"
   ]
  },
  {
   "cell_type": "markdown",
   "metadata": {},
   "source": [
    "Dataset contains 625 article and each article has 11 values (columns)."
   ]
  },
  {
   "cell_type": "code",
   "execution_count": 5,
   "metadata": {},
   "outputs": [
    {
     "data": {
      "text/plain": [
       "['title',\n",
       " 'url',\n",
       " 'published_at',\n",
       " 'author',\n",
       " 'publisher',\n",
       " 'short_description',\n",
       " 'keywords',\n",
       " 'header_image',\n",
       " 'raw_description',\n",
       " 'description',\n",
       " 'scraped_at']"
      ]
     },
     "execution_count": 5,
     "metadata": {},
     "output_type": "execute_result"
    }
   ],
   "source": [
    "data.columns.tolist()\n"
   ]
  },
  {
   "cell_type": "markdown",
   "metadata": {},
   "source": [
    "Article values:\n",
    "1. **title**: title of article, how it's named on CNBC website\n",
    "2. **url**: url of article, should contain cnbc.com domain (as it's dataset with articles from CNBC)\n",
    "3. **published_at**: when article was published on CNBC website\n",
    "4. **author**: name of the article's author/authors\n",
    "5. **publisher**: name of the publisher, should be CNBC\n",
    "6. **short_description**: shortened version of description (article body), handy when quickly observing articles\n",
    "7. **keyword**: list of keywords, helps find articles of the same topic\n",
    "8. **header_image**: link to the image with which the article was posted\n",
    "9. **raw_description**: article's body without any post-processing. Description is the same as raw_description only without html tags\n",
    "10. **description**: article's body without html tags\n",
    "11. **scraped_at**: when article was scraped from cnbc.com"
   ]
  },
  {
   "cell_type": "markdown",
   "metadata": {},
   "source": [
    "Now it's a good idea to check how many missing values per each column we have:"
   ]
  },
  {
   "cell_type": "code",
   "execution_count": 6,
   "metadata": {},
   "outputs": [
    {
     "data": {
      "text/html": [
       "<div>\n",
       "<style scoped>\n",
       "    .dataframe tbody tr th:only-of-type {\n",
       "        vertical-align: middle;\n",
       "    }\n",
       "\n",
       "    .dataframe tbody tr th {\n",
       "        vertical-align: top;\n",
       "    }\n",
       "\n",
       "    .dataframe thead th {\n",
       "        text-align: right;\n",
       "    }\n",
       "</style>\n",
       "<table border=\"1\" class=\"dataframe\">\n",
       "  <thead>\n",
       "    <tr style=\"text-align: right;\">\n",
       "      <th></th>\n",
       "      <th>Columns</th>\n",
       "      <th>Num of NaN</th>\n",
       "      <th>%</th>\n",
       "    </tr>\n",
       "  </thead>\n",
       "  <tbody>\n",
       "    <tr>\n",
       "      <th>0</th>\n",
       "      <td>title</td>\n",
       "      <td>0</td>\n",
       "      <td>0</td>\n",
       "    </tr>\n",
       "    <tr>\n",
       "      <th>1</th>\n",
       "      <td>url</td>\n",
       "      <td>0</td>\n",
       "      <td>0</td>\n",
       "    </tr>\n",
       "    <tr>\n",
       "      <th>2</th>\n",
       "      <td>published_at</td>\n",
       "      <td>0</td>\n",
       "      <td>0</td>\n",
       "    </tr>\n",
       "    <tr>\n",
       "      <th>3</th>\n",
       "      <td>author</td>\n",
       "      <td>228</td>\n",
       "      <td>36</td>\n",
       "    </tr>\n",
       "    <tr>\n",
       "      <th>4</th>\n",
       "      <td>publisher</td>\n",
       "      <td>0</td>\n",
       "      <td>0</td>\n",
       "    </tr>\n",
       "    <tr>\n",
       "      <th>5</th>\n",
       "      <td>short_description</td>\n",
       "      <td>16</td>\n",
       "      <td>2</td>\n",
       "    </tr>\n",
       "    <tr>\n",
       "      <th>6</th>\n",
       "      <td>keywords</td>\n",
       "      <td>0</td>\n",
       "      <td>0</td>\n",
       "    </tr>\n",
       "    <tr>\n",
       "      <th>7</th>\n",
       "      <td>header_image</td>\n",
       "      <td>0</td>\n",
       "      <td>0</td>\n",
       "    </tr>\n",
       "    <tr>\n",
       "      <th>8</th>\n",
       "      <td>raw_description</td>\n",
       "      <td>31</td>\n",
       "      <td>4</td>\n",
       "    </tr>\n",
       "    <tr>\n",
       "      <th>9</th>\n",
       "      <td>description</td>\n",
       "      <td>32</td>\n",
       "      <td>5</td>\n",
       "    </tr>\n",
       "    <tr>\n",
       "      <th>10</th>\n",
       "      <td>scraped_at</td>\n",
       "      <td>0</td>\n",
       "      <td>0</td>\n",
       "    </tr>\n",
       "  </tbody>\n",
       "</table>\n",
       "</div>"
      ],
      "text/plain": [
       "              Columns  Num of NaN   %\n",
       "0               title           0   0\n",
       "1                 url           0   0\n",
       "2        published_at           0   0\n",
       "3              author         228  36\n",
       "4           publisher           0   0\n",
       "5   short_description          16   2\n",
       "6            keywords           0   0\n",
       "7        header_image           0   0\n",
       "8     raw_description          31   4\n",
       "9         description          32   5\n",
       "10         scraped_at           0   0"
      ]
     },
     "execution_count": 6,
     "metadata": {},
     "output_type": "execute_result"
    }
   ],
   "source": [
    "nan_values_df = data.isna().sum().reset_index().rename(columns={\"index\": \"Columns\", 0: \"Num of NaN\"})\n",
    "nan_values_df[\"%\"] = nan_values_df[\"Num of NaN\"].apply(lambda x: int(x / len(data) * 100))\n",
    "nan_values_df\n"
   ]
  },
  {
   "cell_type": "markdown",
   "metadata": {},
   "source": [
    "One third of all articles have missing author and small fraction of all variants of descriptions are missing. Interestingly enough short_description has less missing values than description or raw_description."
   ]
  },
  {
   "cell_type": "markdown",
   "metadata": {},
   "source": [
    "Now let's take a look at how many rows have only one missing value, two missing values, ... all values are missing,"
   ]
  },
  {
   "cell_type": "code",
   "execution_count": 7,
   "metadata": {},
   "outputs": [
    {
     "data": {
      "text/html": [
       "<style type=\"text/css\">\n",
       "</style>\n",
       "<table id=\"T_8a2c5\">\n",
       "  <thead>\n",
       "    <tr>\n",
       "      <th id=\"T_8a2c5_level0_col0\" class=\"col_heading level0 col0\" >NaN per row</th>\n",
       "      <th id=\"T_8a2c5_level0_col1\" class=\"col_heading level0 col1\" >Number of rows</th>\n",
       "      <th id=\"T_8a2c5_level0_col2\" class=\"col_heading level0 col2\" >%</th>\n",
       "    </tr>\n",
       "  </thead>\n",
       "  <tbody>\n",
       "    <tr>\n",
       "      <td id=\"T_8a2c5_row0_col0\" class=\"data row0 col0\" >0</td>\n",
       "      <td id=\"T_8a2c5_row0_col1\" class=\"data row0 col1\" >376</td>\n",
       "      <td id=\"T_8a2c5_row0_col2\" class=\"data row0 col2\" >60</td>\n",
       "    </tr>\n",
       "    <tr>\n",
       "      <td id=\"T_8a2c5_row1_col0\" class=\"data row1 col0\" >1</td>\n",
       "      <td id=\"T_8a2c5_row1_col1\" class=\"data row1 col1\" >207</td>\n",
       "      <td id=\"T_8a2c5_row1_col2\" class=\"data row1 col2\" >33</td>\n",
       "    </tr>\n",
       "    <tr>\n",
       "      <td id=\"T_8a2c5_row2_col0\" class=\"data row2 col0\" >2</td>\n",
       "      <td id=\"T_8a2c5_row2_col1\" class=\"data row2 col1\" >27</td>\n",
       "      <td id=\"T_8a2c5_row2_col2\" class=\"data row2 col2\" >4</td>\n",
       "    </tr>\n",
       "    <tr>\n",
       "      <td id=\"T_8a2c5_row3_col0\" class=\"data row3 col0\" >3</td>\n",
       "      <td id=\"T_8a2c5_row3_col1\" class=\"data row3 col1\" >14</td>\n",
       "      <td id=\"T_8a2c5_row3_col2\" class=\"data row3 col2\" >2</td>\n",
       "    </tr>\n",
       "    <tr>\n",
       "      <td id=\"T_8a2c5_row4_col0\" class=\"data row4 col0\" >4</td>\n",
       "      <td id=\"T_8a2c5_row4_col1\" class=\"data row4 col1\" >1</td>\n",
       "      <td id=\"T_8a2c5_row4_col2\" class=\"data row4 col2\" >0</td>\n",
       "    </tr>\n",
       "    <tr>\n",
       "      <td id=\"T_8a2c5_row5_col0\" class=\"data row5 col0\" >5</td>\n",
       "      <td id=\"T_8a2c5_row5_col1\" class=\"data row5 col1\" >0</td>\n",
       "      <td id=\"T_8a2c5_row5_col2\" class=\"data row5 col2\" >0</td>\n",
       "    </tr>\n",
       "    <tr>\n",
       "      <td id=\"T_8a2c5_row6_col0\" class=\"data row6 col0\" >6</td>\n",
       "      <td id=\"T_8a2c5_row6_col1\" class=\"data row6 col1\" >0</td>\n",
       "      <td id=\"T_8a2c5_row6_col2\" class=\"data row6 col2\" >0</td>\n",
       "    </tr>\n",
       "    <tr>\n",
       "      <td id=\"T_8a2c5_row7_col0\" class=\"data row7 col0\" >7</td>\n",
       "      <td id=\"T_8a2c5_row7_col1\" class=\"data row7 col1\" >0</td>\n",
       "      <td id=\"T_8a2c5_row7_col2\" class=\"data row7 col2\" >0</td>\n",
       "    </tr>\n",
       "    <tr>\n",
       "      <td id=\"T_8a2c5_row8_col0\" class=\"data row8 col0\" >8</td>\n",
       "      <td id=\"T_8a2c5_row8_col1\" class=\"data row8 col1\" >0</td>\n",
       "      <td id=\"T_8a2c5_row8_col2\" class=\"data row8 col2\" >0</td>\n",
       "    </tr>\n",
       "    <tr>\n",
       "      <td id=\"T_8a2c5_row9_col0\" class=\"data row9 col0\" >9</td>\n",
       "      <td id=\"T_8a2c5_row9_col1\" class=\"data row9 col1\" >0</td>\n",
       "      <td id=\"T_8a2c5_row9_col2\" class=\"data row9 col2\" >0</td>\n",
       "    </tr>\n",
       "    <tr>\n",
       "      <td id=\"T_8a2c5_row10_col0\" class=\"data row10 col0\" >10</td>\n",
       "      <td id=\"T_8a2c5_row10_col1\" class=\"data row10 col1\" >0</td>\n",
       "      <td id=\"T_8a2c5_row10_col2\" class=\"data row10 col2\" >0</td>\n",
       "    </tr>\n",
       "  </tbody>\n",
       "</table>\n"
      ],
      "text/plain": [
       "<pandas.io.formats.style.Styler at 0x123eae460>"
      ]
     },
     "execution_count": 7,
     "metadata": {},
     "output_type": "execute_result"
    }
   ],
   "source": [
    "na_count = data.isna().sum(axis=1).tolist()\n",
    "nan_values_df = pd.DataFrame(columns=[\"NaN per row\", \"Number of rows\", \"%\"])\n",
    "\n",
    "for idx in range(data.shape[-1]):\n",
    "    nan_count = na_count.count(idx)\n",
    "    nan_values_df.loc[idx] = idx, nan_count, int(nan_count / len(data) * 100)\n",
    "\n",
    "nan_values_df.style.hide_index()\n"
   ]
  },
  {
   "cell_type": "markdown",
   "metadata": {},
   "source": [
    "As we can see more than half of the dataset doesn't not have any missing value, one third of articles have one missing value and no articles have all missing values."
   ]
  },
  {
   "cell_type": "markdown",
   "metadata": {},
   "source": [
    "## 1.1. EDA structure"
   ]
  },
  {
   "cell_type": "markdown",
   "metadata": {},
   "source": [
    "Now, having initial observations above here is planned structure of the analysis:"
   ]
  },
  {
   "cell_type": "markdown",
   "metadata": {},
   "source": [
    "| Column | Planned analysis |\n",
    "| --- | --- |\n",
    "| **title** | min/max/average length, show the most popular topics |\n",
    "| **url** | what site is the most popular |\n",
    "| **published_date** | min/max range, show distribution per year, season/year |\n",
    "| **author** | show how many authors there are on average per each article, who is the most popular author |\n",
    "| **publisher** | check that there is only one publisher |\n",
    "| **short_description** | check that short_description is just a beginning of description; if it is so then in case short_description is missing it can be replaced by the beginning of description |\n",
    "| **keywords** | how many keywords there are on average, what is the most popular, what is the list popular |\n",
    "| **header_image** | check that all images are located on cnbc website |\n",
    "| **raw_description** | check that it is the same as description only with html tags. In case raw description exists but not description, raw description can be used as description but only after stripping all html tags |\n",
    "| **description** | min/average/max len of description |\n",
    "| **scraped_at** | check when this dataset was scraped |\n"
   ]
  },
  {
   "cell_type": "markdown",
   "metadata": {},
   "source": [
    "# 2. Describing each column"
   ]
  },
  {
   "cell_type": "markdown",
   "metadata": {},
   "source": [
    "## 2.1. Title"
   ]
  },
  {
   "cell_type": "code",
   "execution_count": 8,
   "metadata": {},
   "outputs": [
    {
     "data": {
      "text/plain": [
       "0    Santoli’s Wednesday market notes: Could September’s stock shakeout tee up strength for the fourt...\n",
       "1                                                         My take on the early Brexit winners and losers\n",
       "2                                                   Europe&#039;s recovery depends on Renzi&#039;s Italy\n",
       "3                                                  US Moves Closer to Becoming A Major Shareholder In GM\n",
       "Name: title, dtype: object"
      ]
     },
     "execution_count": 8,
     "metadata": {},
     "output_type": "execute_result"
    }
   ],
   "source": [
    "data.loc[:3, \"title\"]\n"
   ]
  },
  {
   "cell_type": "markdown",
   "metadata": {},
   "source": [
    "Title represented as a text."
   ]
  },
  {
   "cell_type": "code",
   "execution_count": 9,
   "metadata": {},
   "outputs": [
    {
     "data": {
      "text/plain": [
       "0"
      ]
     },
     "execution_count": 9,
     "metadata": {},
     "output_type": "execute_result"
    }
   ],
   "source": [
    "data[\"title\"].isna().sum()\n"
   ]
  },
  {
   "cell_type": "markdown",
   "metadata": {},
   "source": [
    "There are no missing values for \"title\" column."
   ]
  },
  {
   "cell_type": "markdown",
   "metadata": {},
   "source": [
    "### 2.1.1. Removing special characters"
   ]
  },
  {
   "cell_type": "code",
   "execution_count": 10,
   "metadata": {},
   "outputs": [
    {
     "data": {
      "text/plain": [
       "'Europe&#039;s recovery depends on Renzi&#039;s Italy'"
      ]
     },
     "execution_count": 10,
     "metadata": {},
     "output_type": "execute_result"
    }
   ],
   "source": [
    "title_text = data.loc[2, \"title\"]\n",
    "title_text\n"
   ]
  },
  {
   "cell_type": "markdown",
   "metadata": {},
   "source": [
    "As we can see some titles may contain specially encoded characters. Let's try to convert these characters with BeautifulSoup:"
   ]
  },
  {
   "cell_type": "code",
   "execution_count": 11,
   "metadata": {},
   "outputs": [
    {
     "data": {
      "text/plain": [
       "\"Europe's recovery depends on Renzi's Italy\""
      ]
     },
     "execution_count": 11,
     "metadata": {},
     "output_type": "execute_result"
    }
   ],
   "source": [
    "BeautifulSoup(title_text).text\n"
   ]
  },
  {
   "cell_type": "code",
   "execution_count": 12,
   "metadata": {},
   "outputs": [
    {
     "name": "stdout",
     "output_type": "stream",
     "text": [
      "Number of articles with titles containing special characters: 4\n"
     ]
    },
    {
     "data": {
      "text/html": [
       "<div>\n",
       "<style scoped>\n",
       "    .dataframe tbody tr th:only-of-type {\n",
       "        vertical-align: middle;\n",
       "    }\n",
       "\n",
       "    .dataframe tbody tr th {\n",
       "        vertical-align: top;\n",
       "    }\n",
       "\n",
       "    .dataframe thead th {\n",
       "        text-align: right;\n",
       "    }\n",
       "</style>\n",
       "<table border=\"1\" class=\"dataframe\">\n",
       "  <thead>\n",
       "    <tr style=\"text-align: right;\">\n",
       "      <th></th>\n",
       "      <th>title_original</th>\n",
       "      <th>title_converted</th>\n",
       "    </tr>\n",
       "  </thead>\n",
       "  <tbody>\n",
       "    <tr>\n",
       "      <th>0</th>\n",
       "      <td>Europe&amp;#039;s recovery depends on Renzi&amp;#039;s Italy</td>\n",
       "      <td>Europe's recovery depends on Renzi's Italy</td>\n",
       "    </tr>\n",
       "    <tr>\n",
       "      <th>1</th>\n",
       "      <td>Why Trump&amp;rsquo;s rigged-election claim is likely to backfire</td>\n",
       "      <td>Why Trump’s rigged-election claim is likely to backfire</td>\n",
       "    </tr>\n",
       "    <tr>\n",
       "      <th>2</th>\n",
       "      <td>Commodities Help Bring New Lows For NASDAQ, S&amp;P</td>\n",
       "      <td>Commodities Help Bring New Lows For NASDAQ, SP</td>\n",
       "    </tr>\n",
       "    <tr>\n",
       "      <th>3</th>\n",
       "      <td>How to nail a pitch to a &amp;lsquo;Shark&amp;rsquo;</td>\n",
       "      <td>How to nail a pitch to a ‘Shark’</td>\n",
       "    </tr>\n",
       "  </tbody>\n",
       "</table>\n",
       "</div>"
      ],
      "text/plain": [
       "                                                  title_original  \\\n",
       "0           Europe&#039;s recovery depends on Renzi&#039;s Italy   \n",
       "1  Why Trump&rsquo;s rigged-election claim is likely to backfire   \n",
       "2                Commodities Help Bring New Lows For NASDAQ, S&P   \n",
       "3                   How to nail a pitch to a &lsquo;Shark&rsquo;   \n",
       "\n",
       "                                           title_converted  \n",
       "0               Europe's recovery depends on Renzi's Italy  \n",
       "1  Why Trump’s rigged-election claim is likely to backfire  \n",
       "2           Commodities Help Bring New Lows For NASDAQ, SP  \n",
       "3                         How to nail a pitch to a ‘Shark’  "
      ]
     },
     "execution_count": 12,
     "metadata": {},
     "output_type": "execute_result"
    }
   ],
   "source": [
    "titles_converted = data[\"title\"].apply(lambda x: BeautifulSoup(x).text.strip())\n",
    "titles_original = data[\"title\"].str.strip()\n",
    "titles_with_special_chars = titles_converted != titles_original\n",
    "print(f\"Number of articles with titles containing special characters: {titles_with_special_chars.sum()}\")\n",
    "pd.DataFrame(\n",
    "    zip(*[titles_original[titles_with_special_chars], titles_converted[titles_with_special_chars]]),\n",
    "    columns=[\"title_original\", \"title_converted\"],\n",
    ")\n"
   ]
  },
  {
   "cell_type": "markdown",
   "metadata": {},
   "source": [
    "<div class=\"alert alert-block alert-info\"><b>Preprocessing idea</b>: Convert special characters and strip empty characters in the beginning and the end of the title.</div>\n"
   ]
  },
  {
   "cell_type": "markdown",
   "metadata": {},
   "source": [
    "### 2.1.2. Characters and words distribution"
   ]
  },
  {
   "cell_type": "code",
   "execution_count": 13,
   "metadata": {},
   "outputs": [
    {
     "data": {
      "image/png": "[encoded data removed]",
      "text/plain": [
       "<Figure size 2160x720 with 2 Axes>"
      ]
     },
     "metadata": {
      "needs_background": "light"
     },
     "output_type": "display_data"
    }
   ],
   "source": [
    "def show_str_statistics(data: pd.DataFrame, column: str) -> None:\n",
    "\n",
    "    chars_num = data[column].str.len()\n",
    "    words_num = data[column].apply(lambda x: len(x.split()))\n",
    "\n",
    "    fig, axes = plt.subplots(nrows=1, ncols=2, figsize=(30, 10), sharey=True)\n",
    "    fig.suptitle(f\"{column.title()} statistics\")\n",
    "    axes = axes.flatten()\n",
    "\n",
    "    for counts, counts_name, ax in zip([chars_num, words_num], [\"characters\", \"words\"], axes):\n",
    "\n",
    "        title = (\n",
    "            f\"{counts_name.title()}\\n\" f\"min: {counts.min()} | \" f\"avg: {counts.mean():.0f} | \" f\"max: {counts.max()}\"\n",
    "        )\n",
    "        sns.histplot(ax=ax, x=counts)\n",
    "        ax.set(\n",
    "            title=title,\n",
    "            xlabel=f\"Number of {counts_name}\",\n",
    "            ylabel=\"Number of titles\",\n",
    "        )\n",
    "\n",
    "\n",
    "show_str_statistics(data, \"title\")\n"
   ]
  },
  {
   "cell_type": "markdown",
   "metadata": {},
   "source": [
    "As we can see titles are quite short (both in characters and words metrics)."
   ]
  },
  {
   "cell_type": "markdown",
   "metadata": {},
   "source": [
    "### 2.1.3. Title topics"
   ]
  },
  {
   "cell_type": "markdown",
   "metadata": {},
   "source": [
    "It's useful to see what title topics are the most popular. For that [BERTopic](https://github.com/MaartenGr/BERTopic) will be used."
   ]
  },
  {
   "cell_type": "code",
   "execution_count": 14,
   "metadata": {},
   "outputs": [],
   "source": [
    "X = data[\"title\"].apply(lambda x: BeautifulSoup(x).text)\n"
   ]
  },
  {
   "cell_type": "code",
   "execution_count": 15,
   "metadata": {},
   "outputs": [
    {
     "name": "stderr",
     "output_type": "stream",
     "text": [
      "Batches: 100%|██████████| 20/20 [00:04<00:00,  4.32it/s]\n",
      "2022-04-04 18:53:41,556 - BERTopic - Transformed documents to Embeddings\n",
      "2022-04-04 18:53:50,069 - BERTopic - Reduced dimensionality with UMAP\n",
      "2022-04-04 18:53:50,127 - BERTopic - Clustered UMAP embeddings with HDBSCAN\n",
      "2022-04-04 18:53:53,005 - BERTopic - Reduced number of topics from 7 to 7\n"
     ]
    }
   ],
   "source": [
    "# UMAP with the same parameters as created by BERTopic,\n",
    "# with one addition: random_state\n",
    "# without it result will be different from run to run\n",
    "umap_model = UMAP(\n",
    "    metric=\"cosine\",\n",
    "    min_dist=0.0,\n",
    "    n_components=5,\n",
    "    n_neighbors=15,\n",
    "    random_state=config.eda.topic_modeling.umap.random_state,\n",
    ")\n",
    "model = BERTopic(\n",
    "    calculate_probabilities=True,\n",
    "    diversity=0.5,\n",
    "    embedding_model=config.eda.topic_modeling.bertopic.embedding_model,\n",
    "    language=\"english\",\n",
    "    min_topic_size=15,\n",
    "    n_gram_range=(2, 4),  # I want to see at least bigram, not unigram\n",
    "    nr_topics=\"auto\",  # topics are automatically merged if similar (> 0.9)\n",
    "    umap_model=umap_model,\n",
    "    verbose=True,\n",
    ")\n",
    "topics, probabilities = model.fit_transform(X)\n"
   ]
  },
  {
   "cell_type": "code",
   "execution_count": 16,
   "metadata": {},
   "outputs": [
    {
     "data": {
      "text/html": [
       "<div>\n",
       "<style scoped>\n",
       "    .dataframe tbody tr th:only-of-type {\n",
       "        vertical-align: middle;\n",
       "    }\n",
       "\n",
       "    .dataframe tbody tr th {\n",
       "        vertical-align: top;\n",
       "    }\n",
       "\n",
       "    .dataframe thead th {\n",
       "        text-align: right;\n",
       "    }\n",
       "</style>\n",
       "<table border=\"1\" class=\"dataframe\">\n",
       "  <thead>\n",
       "    <tr style=\"text-align: right;\">\n",
       "      <th></th>\n",
       "      <th>Topic</th>\n",
       "      <th>Count</th>\n",
       "    </tr>\n",
       "  </thead>\n",
       "  <tbody>\n",
       "    <tr>\n",
       "      <th>0</th>\n",
       "      <td>-1</td>\n",
       "      <td>301</td>\n",
       "    </tr>\n",
       "    <tr>\n",
       "      <th>1</th>\n",
       "      <td>0</td>\n",
       "      <td>143</td>\n",
       "    </tr>\n",
       "    <tr>\n",
       "      <th>2</th>\n",
       "      <td>1</td>\n",
       "      <td>73</td>\n",
       "    </tr>\n",
       "    <tr>\n",
       "      <th>3</th>\n",
       "      <td>2</td>\n",
       "      <td>42</td>\n",
       "    </tr>\n",
       "    <tr>\n",
       "      <th>4</th>\n",
       "      <td>3</td>\n",
       "      <td>28</td>\n",
       "    </tr>\n",
       "    <tr>\n",
       "      <th>5</th>\n",
       "      <td>4</td>\n",
       "      <td>23</td>\n",
       "    </tr>\n",
       "    <tr>\n",
       "      <th>6</th>\n",
       "      <td>5</td>\n",
       "      <td>15</td>\n",
       "    </tr>\n",
       "  </tbody>\n",
       "</table>\n",
       "</div>"
      ],
      "text/plain": [
       "   Topic  Count\n",
       "0     -1    301\n",
       "1      0    143\n",
       "2      1     73\n",
       "3      2     42\n",
       "4      3     28\n",
       "5      4     23\n",
       "6      5     15"
      ]
     },
     "execution_count": 16,
     "metadata": {},
     "output_type": "execute_result"
    }
   ],
   "source": [
    "model.get_topic_freq()\n"
   ]
  },
  {
   "cell_type": "markdown",
   "metadata": {},
   "source": [
    "Topic \"-1\" contains outliers (that does not belong to any cluster), that means that we have 6 topics."
   ]
  },
  {
   "cell_type": "code",
   "execution_count": 17,
   "metadata": {},
   "outputs": [
    {
     "data": {
      "text/html": [
       "<style type=\"text/css\">\n",
       "</style>\n",
       "<table id=\"T_325b9\">\n",
       "  <thead>\n",
       "    <tr>\n",
       "      <th id=\"T_325b9_level0_col0\" class=\"col_heading level0 col0\" >Cluster #</th>\n",
       "      <th id=\"T_325b9_level0_col1\" class=\"col_heading level0 col1\" >Cluster name</th>\n",
       "      <th id=\"T_325b9_level0_col2\" class=\"col_heading level0 col2\" >Topics</th>\n",
       "      <th id=\"T_325b9_level0_col3\" class=\"col_heading level0 col3\" >Number of topics</th>\n",
       "    </tr>\n",
       "  </thead>\n",
       "  <tbody>\n",
       "    <tr>\n",
       "      <td id=\"T_325b9_row0_col0\" class=\"data row0 col0\" >0</td>\n",
       "      <td id=\"T_325b9_row0_col1\" class=\"data row0 col1\" >the fed</td>\n",
       "      <td id=\"T_325b9_row0_col2\" class=\"data row0 col2\" >the fed, stocks making the biggest, making the biggest moves, moves premarket, the biggest moves midday, net profit, bull market, outlook is, hedge funds, in 2016</td>\n",
       "      <td id=\"T_325b9_row0_col3\" class=\"data row0 col3\" >143</td>\n",
       "    </tr>\n",
       "    <tr>\n",
       "      <td id=\"T_325b9_row1_col0\" class=\"data row1 col0\" >1</td>\n",
       "      <td id=\"T_325b9_row1_col1\" class=\"data row1 col1\" >government shutdown</td>\n",
       "      <td id=\"T_325b9_row1_col2\" class=\"data row1 col2\" >government shutdown, new york gov, for retirement, fully vaccinated, coronavirus cases, reform ca leaders propose, release gop, recognizes jerusalem as, recruiters with quick measure, refugees obama nominates</td>\n",
       "      <td id=\"T_325b9_row1_col3\" class=\"data row1 col3\" >73</td>\n",
       "    </tr>\n",
       "    <tr>\n",
       "      <td id=\"T_325b9_row2_col0\" class=\"data row2 col0\" >2</td>\n",
       "      <td id=\"T_325b9_row2_col1\" class=\"data row2 col1\" >the brexit</td>\n",
       "      <td id=\"T_325b9_row2_col2\" class=\"data row2 col2\" >the brexit, vs yen, euro rises, euro zone, central bank, proof dijsselbloem, range game how, raises key rate to, pm tsipras says, president luxembourg pm</td>\n",
       "      <td id=\"T_325b9_row2_col3\" class=\"data row2 col3\" >42</td>\n",
       "    </tr>\n",
       "    <tr>\n",
       "      <td id=\"T_325b9_row3_col0\" class=\"data row3 col0\" >3</td>\n",
       "      <td id=\"T_325b9_row3_col1\" class=\"data row3 col1\" >to open</td>\n",
       "      <td id=\"T_325b9_row3_col2\" class=\"data row3 col2\" >to open, wal mart, 2011 surge, prices are overheating, pct in january fliers, pending home sales, pfizer no ifs, pharmacy is, pillpack is battling, prescriptions amazon gives shoppers</td>\n",
       "      <td id=\"T_325b9_row3_col3\" class=\"data row3 col3\" >28</td>\n",
       "    </tr>\n",
       "    <tr>\n",
       "      <td id=\"T_325b9_row4_col0\" class=\"data row4 col0\" >4</td>\n",
       "      <td id=\"T_325b9_row4_col1\" class=\"data row4 col1\" >ceo pay</td>\n",
       "      <td id=\"T_325b9_row4_col2\" class=\"data row4 col2\" >ceo pay, 10 million, old ceo steps, of firming seen ge, officer standish names raman, organizational shuffle, on protests equal pay, our greatest new threat, ousts its ceo naming, out of his</td>\n",
       "      <td id=\"T_325b9_row4_col3\" class=\"data row4 col3\" >23</td>\n",
       "    </tr>\n",
       "    <tr>\n",
       "      <td id=\"T_325b9_row5_col0\" class=\"data row5 col0\" >5</td>\n",
       "      <td id=\"T_325b9_row5_col1\" class=\"data row5 col1\" >oil prices</td>\n",
       "      <td id=\"T_325b9_row5_col2\" class=\"data row5 col2\" >oil prices, after khashoggi, saudi aramco, reports us opens, relations not, pushes prices higher saudi, production capacity will return, prices will rise analyst, prices surge on gulf, prepare for an oil</td>\n",
       "      <td id=\"T_325b9_row5_col3\" class=\"data row5 col3\" >15</td>\n",
       "    </tr>\n",
       "  </tbody>\n",
       "</table>\n"
      ],
      "text/plain": [
       "<pandas.io.formats.style.Styler at 0x142722f40>"
      ]
     },
     "execution_count": 17,
     "metadata": {},
     "output_type": "execute_result"
    }
   ],
   "source": [
    "clusters_df = pd.DataFrame(columns=[\"Cluster #\", \"Cluster name\", \"Topics\", \"Number of topics\"])\n",
    "\n",
    "for cluster_index, cluster in model.get_topics().items():\n",
    "    # skipping cluster with outliers\n",
    "    if cluster_index == -1:\n",
    "        continue\n",
    "\n",
    "    # cluster contains data as:\n",
    "    # [('in china', 0.002428209587760862),\n",
    "    #  ('first trade', 0.002428209587760862),\n",
    "    #  ('economic data', 0.002428209587760862)]\n",
    "    \n",
    "    # topic with the highest score will be used as cluster's name\n",
    "    cluster_name = cluster[0][0]\n",
    "    topics = \", \".join(x[0] for x in cluster)\n",
    "    number_of_topics = model.get_topic_freq(cluster_index)\n",
    "\n",
    "    clusters_df.loc[len(clusters_df)] = cluster_index, cluster_name, topics, number_of_topics\n",
    "\n",
    "clusters_df.style.hide_index()\n"
   ]
  },
  {
   "cell_type": "markdown",
   "metadata": {},
   "source": [
    "Now we can see what are the most popular topics in titles:\n",
    "- market and government's influence on it\n",
    "- government, covid, vaccine\n",
    "- europe and brexit\n",
    "- what is about to open\n",
    "- CEOs payments and in contrast unequal payments of workers\n",
    "- oil and Saudi Arabia "
   ]
  },
  {
   "cell_type": "markdown",
   "metadata": {},
   "source": [
    "## 2.2. Url"
   ]
  },
  {
   "cell_type": "code",
   "execution_count": 18,
   "metadata": {},
   "outputs": [
    {
     "data": {
      "text/plain": [
       "0    https://www.cnbc.com/2021/09/29/santolis-wednesday-market-notes-could-septembers-stock-shakeout-...\n",
       "1    https://www.cnbc.com/2016/06/24/ian-bremmers-take-on-the-early-brexit-winners-and-losers-comment...\n",
       "2                https://www.cnbc.com/2014/03/25/europes-recovery-depends-on-renzis-italycommentary.html\n",
       "3             https://www.cnbc.com/2009/04/22/us-moves-closer-to-becoming-a-major-shareholder-in-gm.html\n",
       "Name: url, dtype: object"
      ]
     },
     "execution_count": 18,
     "metadata": {},
     "output_type": "execute_result"
    }
   ],
   "source": [
    "data.loc[:3, \"url\"]\n"
   ]
  },
  {
   "cell_type": "markdown",
   "metadata": {},
   "source": [
    "Url is represented as a string."
   ]
  },
  {
   "cell_type": "code",
   "execution_count": 19,
   "metadata": {},
   "outputs": [
    {
     "data": {
      "text/plain": [
       "True"
      ]
     },
     "execution_count": 19,
     "metadata": {},
     "output_type": "execute_result"
    }
   ],
   "source": [
    "data[\"url\"].str.startswith(\"https://www.cnbc.com\").all()\n"
   ]
  },
  {
   "cell_type": "markdown",
   "metadata": {},
   "source": [
    "All urls are from \"cnbc.com\" which does make sense since it's a cnbc dataset :)"
   ]
  },
  {
   "cell_type": "markdown",
   "metadata": {},
   "source": [
    "## 2.3. Published_at"
   ]
  },
  {
   "cell_type": "code",
   "execution_count": 20,
   "metadata": {},
   "outputs": [
    {
     "data": {
      "text/plain": [
       "0    2021-09-29T17:09:39+0000\n",
       "1    2016-06-24T13:50:48-0400\n",
       "2    2014-03-25T13:29:45-0400\n",
       "3    2009-04-22T19:49:03+0000\n",
       "Name: published_at, dtype: object"
      ]
     },
     "execution_count": 20,
     "metadata": {},
     "output_type": "execute_result"
    }
   ],
   "source": [
    "data.loc[:3, \"published_at\"]\n"
   ]
  },
  {
   "cell_type": "markdown",
   "metadata": {},
   "source": [
    "\"Published_at\" column contains dates in datatime format. \n",
    "\n",
    "Weaviate expects date format in [RFC 3339](https://weaviate.io/developers/weaviate/current/data-schema/datatypes.html#datatype-date) format. Dates in \"published_at\" column are in slightly different format: timezone offset should ends with time separated by colon. For example instead of current form:"
   ]
  },
  {
   "cell_type": "code",
   "execution_count": 21,
   "metadata": {},
   "outputs": [
    {
     "data": {
      "text/plain": [
       "'2021-09-29T17:09:39+0000'"
      ]
     },
     "execution_count": 21,
     "metadata": {},
     "output_type": "execute_result"
    }
   ],
   "source": [
    "data.loc[0, \"published_at\"]\n"
   ]
  },
  {
   "cell_type": "markdown",
   "metadata": {},
   "source": [
    "... it should be in form:"
   ]
  },
  {
   "cell_type": "code",
   "execution_count": 22,
   "metadata": {},
   "outputs": [
    {
     "data": {
      "text/plain": [
       "0    2021-09-29T17:09:39+00:00\n",
       "Name: published_at, dtype: object"
      ]
     },
     "execution_count": 22,
     "metadata": {},
     "output_type": "execute_result"
    }
   ],
   "source": [
    "data.loc[:0, \"published_at\"].apply(lambda x: pd.to_datetime(x).isoformat())\n"
   ]
  },
  {
   "cell_type": "markdown",
   "metadata": {},
   "source": [
    "Otherwise data loading procedure (into Weaviate) might fail without any error, just field (not only with dates) might be empty."
   ]
  },
  {
   "cell_type": "markdown",
   "metadata": {},
   "source": [
    "### 2.3.1. Dates statistics"
   ]
  },
  {
   "cell_type": "code",
   "execution_count": 23,
   "metadata": {},
   "outputs": [
    {
     "data": {
      "text/html": [
       "<div>\n",
       "<style scoped>\n",
       "    .dataframe tbody tr th:only-of-type {\n",
       "        vertical-align: middle;\n",
       "    }\n",
       "\n",
       "    .dataframe tbody tr th {\n",
       "        vertical-align: top;\n",
       "    }\n",
       "\n",
       "    .dataframe thead th {\n",
       "        text-align: right;\n",
       "    }\n",
       "</style>\n",
       "<table border=\"1\" class=\"dataframe\">\n",
       "  <thead>\n",
       "    <tr style=\"text-align: right;\">\n",
       "      <th></th>\n",
       "      <th>datetime</th>\n",
       "      <th>year</th>\n",
       "      <th>month</th>\n",
       "      <th>weekday</th>\n",
       "    </tr>\n",
       "  </thead>\n",
       "  <tbody>\n",
       "    <tr>\n",
       "      <th>0</th>\n",
       "      <td>2021-09-29 17:09:39+00:00</td>\n",
       "      <td>2021</td>\n",
       "      <td>9</td>\n",
       "      <td>2</td>\n",
       "    </tr>\n",
       "    <tr>\n",
       "      <th>1</th>\n",
       "      <td>2016-06-24 17:50:48+00:00</td>\n",
       "      <td>2016</td>\n",
       "      <td>6</td>\n",
       "      <td>4</td>\n",
       "    </tr>\n",
       "    <tr>\n",
       "      <th>2</th>\n",
       "      <td>2014-03-25 17:29:45+00:00</td>\n",
       "      <td>2014</td>\n",
       "      <td>3</td>\n",
       "      <td>1</td>\n",
       "    </tr>\n",
       "  </tbody>\n",
       "</table>\n",
       "</div>"
      ],
      "text/plain": [
       "                   datetime  year  month  weekday\n",
       "0 2021-09-29 17:09:39+00:00  2021      9        2\n",
       "1 2016-06-24 17:50:48+00:00  2016      6        4\n",
       "2 2014-03-25 17:29:45+00:00  2014      3        1"
      ]
     },
     "execution_count": 23,
     "metadata": {},
     "output_type": "execute_result"
    }
   ],
   "source": [
    "published_dates = pd.to_datetime(data[\"published_at\"], utc=True).to_frame(name=\"datetime\")\n",
    "published_dates[\"year\"] = published_dates[\"datetime\"].dt.year\n",
    "published_dates[\"month\"] = published_dates[\"datetime\"].dt.month\n",
    "published_dates[\"weekday\"] = published_dates[\"datetime\"].dt.weekday\n",
    "\n",
    "published_dates.iloc[:3]\n"
   ]
  },
  {
   "cell_type": "code",
   "execution_count": 24,
   "metadata": {},
   "outputs": [
    {
     "name": "stdout",
     "output_type": "stream",
     "text": [
      "The first article was published in 2006.\n",
      "The last  article was published in 2021.\n"
     ]
    }
   ],
   "source": [
    "print(f\"The first article was published in {published_dates.year.min()}.\")\n",
    "print(f\"The last  article was published in {published_dates.year.max()}.\")\n"
   ]
  },
  {
   "cell_type": "code",
   "execution_count": 25,
   "metadata": {},
   "outputs": [
    {
     "name": "stdout",
     "output_type": "stream",
     "text": [
      "The first article was published on December 04 2006.\n",
      "The last article was published on October 18 2021.\n"
     ]
    }
   ],
   "source": [
    "print(f\"The first article was published on {published_dates.min()['datetime'].strftime('%B %d %Y')}.\")\n",
    "print(f\"The last article was published on {published_dates.max()['datetime'].strftime('%B %d %Y')}.\")\n"
   ]
  },
  {
   "cell_type": "code",
   "execution_count": 26,
   "metadata": {},
   "outputs": [
    {
     "data": {
      "image/png": "[encoded data removed]",
      "text/plain": [
       "<Figure size 2160x1080 with 3 Axes>"
      ]
     },
     "metadata": {
      "needs_background": "light"
     },
     "output_type": "display_data"
    }
   ],
   "source": [
    "fig, axes = plt.subplots(nrows=1, ncols=3, figsize=(30, 15), sharey=True)\n",
    "fig.suptitle(\"Dates distribution\")\n",
    "\n",
    "for idx, column_name in enumerate([\"year\", \"month\", \"weekday\"]):\n",
    "    sns.histplot(ax=axes[idx], x=published_dates[column_name])\n",
    "    axes[idx].set(title=f\"Distribution of articles per {column_name}\", ylabel=\"Number of articles\")\n",
    "\n",
    "plt.show()\n"
   ]
  },
  {
   "cell_type": "markdown",
   "metadata": {},
   "source": [
    "Observations:\n",
    "- **year**: number of articles published per year reached it's peak in 2013\n",
    "- **month**: more or less even distribution, but in november-december more articles are published (perhaps right before end of the year markets are the most active - more articles to write about)\n",
    "- **weekday**: significant drop on weekend (which is expected)"
   ]
  },
  {
   "cell_type": "markdown",
   "metadata": {},
   "source": [
    "## 2.4. Author"
   ]
  },
  {
   "cell_type": "code",
   "execution_count": 27,
   "metadata": {},
   "outputs": [
    {
     "data": {
      "text/plain": [
       "14                         NaN\n",
       "15                     Tae Kim\n",
       "16    Dawn Kopecki,Rich Mendez\n",
       "17                         NaN\n",
       "Name: author, dtype: object"
      ]
     },
     "execution_count": 27,
     "metadata": {},
     "output_type": "execute_result"
    }
   ],
   "source": [
    "data.loc[14:17, \"author\"]\n"
   ]
  },
  {
   "cell_type": "markdown",
   "metadata": {},
   "source": [
    "Author might by either string containing author name (or multiple with comma separator) or NaN value if author is unknown. As discovered in chapter 1 around 36% of articles have missing author name."
   ]
  },
  {
   "cell_type": "markdown",
   "metadata": {},
   "source": [
    "<div class=\"alert alert-block alert-info\"><b>Preprocessing idea</b>: in case of missing value replace it with \"Unknown\" token.</div>\n"
   ]
  },
  {
   "cell_type": "code",
   "execution_count": 28,
   "metadata": {},
   "outputs": [
    {
     "data": {
      "text/html": [
       "<style type=\"text/css\">\n",
       "#T_e7ff5_row0_col0 {\n",
       "  width: 10em;\n",
       "  background: linear-gradient(90deg, #d65f5f 100.0%, transparent 100.0%);\n",
       "}\n",
       "#T_e7ff5_row1_col0 {\n",
       "  width: 10em;\n",
       "  background: linear-gradient(90deg, #d65f5f 4.5%, transparent 4.5%);\n",
       "}\n",
       "#T_e7ff5_row2_col0 {\n",
       "  width: 10em;\n",
       "  background: linear-gradient(90deg, #d65f5f 0.3%, transparent 0.3%);\n",
       "}\n",
       "</style>\n",
       "<table id=\"T_e7ff5\">\n",
       "  <thead>\n",
       "    <tr>\n",
       "      <th class=\"blank level0\" >&nbsp;</th>\n",
       "      <th id=\"T_e7ff5_level0_col0\" class=\"col_heading level0 col0\" >author</th>\n",
       "    </tr>\n",
       "  </thead>\n",
       "  <tbody>\n",
       "    <tr>\n",
       "      <th id=\"T_e7ff5_level0_row0\" class=\"row_heading level0 row0\" >1</th>\n",
       "      <td id=\"T_e7ff5_row0_col0\" class=\"data row0 col0\" >379</td>\n",
       "    </tr>\n",
       "    <tr>\n",
       "      <th id=\"T_e7ff5_level0_row1\" class=\"row_heading level0 row1\" >2</th>\n",
       "      <td id=\"T_e7ff5_row1_col0\" class=\"data row1 col0\" >17</td>\n",
       "    </tr>\n",
       "    <tr>\n",
       "      <th id=\"T_e7ff5_level0_row2\" class=\"row_heading level0 row2\" >3</th>\n",
       "      <td id=\"T_e7ff5_row2_col0\" class=\"data row2 col0\" >1</td>\n",
       "    </tr>\n",
       "  </tbody>\n",
       "</table>\n"
      ],
      "text/plain": [
       "<pandas.io.formats.style.Styler at 0x1426ff100>"
      ]
     },
     "execution_count": 28,
     "metadata": {},
     "output_type": "execute_result"
    }
   ],
   "source": [
    "keywords_count = data[\"author\"].str.count(\",\")\n",
    "keywords_count = keywords_count.value_counts()\n",
    "keywords_count.index = keywords_count.index.map(int) + 1\n",
    "keywords_count.to_frame().style.bar()\n"
   ]
  },
  {
   "cell_type": "markdown",
   "metadata": {},
   "source": [
    "As we can see the majority of all articles has only one author, 17 articles - 2 authors and only one article has 3 authors."
   ]
  },
  {
   "cell_type": "code",
   "execution_count": 29,
   "metadata": {},
   "outputs": [
    {
     "data": {
      "text/plain": [
       "count            397\n",
       "unique           201\n",
       "top       Lee Brodie\n",
       "freq              24\n",
       "Name: author, dtype: object"
      ]
     },
     "execution_count": 29,
     "metadata": {},
     "output_type": "execute_result"
    }
   ],
   "source": [
    "data[\"author\"].describe()\n"
   ]
  },
  {
   "cell_type": "markdown",
   "metadata": {},
   "source": [
    "Two outcomes:\n",
    "1. The most popular author is \"Lee Brodie\" which wrote 24 articles.\n",
    "2. Number of titles with not missing author name is 397, while number of authors - 201. "
   ]
  },
  {
   "cell_type": "markdown",
   "metadata": {},
   "source": [
    "## 2.5. Publisher"
   ]
  },
  {
   "cell_type": "code",
   "execution_count": 30,
   "metadata": {},
   "outputs": [
    {
     "data": {
      "text/plain": [
       "0    CNBC\n",
       "1    CNBC\n",
       "2    CNBC\n",
       "3    CNBC\n",
       "Name: publisher, dtype: object"
      ]
     },
     "execution_count": 30,
     "metadata": {},
     "output_type": "execute_result"
    }
   ],
   "source": [
    "data.loc[:3, \"publisher\"]\n"
   ]
  },
  {
   "cell_type": "code",
   "execution_count": 31,
   "metadata": {},
   "outputs": [
    {
     "data": {
      "text/plain": [
       "True"
      ]
     },
     "execution_count": 31,
     "metadata": {},
     "output_type": "execute_result"
    }
   ],
   "source": [
    "(data[\"publisher\"] == \"CNBC\").all()\n"
   ]
  },
  {
   "cell_type": "markdown",
   "metadata": {},
   "source": [
    "As expected there is only one publisher - CNBC"
   ]
  },
  {
   "cell_type": "markdown",
   "metadata": {},
   "source": [
    "## 2.6. Short_description"
   ]
  },
  {
   "cell_type": "code",
   "execution_count": 32,
   "metadata": {},
   "outputs": [
    {
     "data": {
      "text/plain": [
       "0    This is the daily notebook of Mike Santoli, CNBC's senior markets commentator, with ideas about ...\n",
       "1    This commentary originally ran on Facebook. Boris Johnson – The former London mayor and grudging...\n",
       "2    In spring, ambitious reforms began in Italy. Under Matteo Renzi, the ailing economy will either ...\n",
       "3    The US government is increasingly likely to convert a $13.4 billion loan to General Motors into ...\n",
       "Name: short_description, dtype: object"
      ]
     },
     "execution_count": 32,
     "metadata": {},
     "output_type": "execute_result"
    }
   ],
   "source": [
    "data.loc[:3, \"short_description\"]\n"
   ]
  },
  {
   "cell_type": "code",
   "execution_count": 33,
   "metadata": {},
   "outputs": [
    {
     "data": {
      "text/plain": [
       "16"
      ]
     },
     "execution_count": 33,
     "metadata": {},
     "output_type": "execute_result"
    }
   ],
   "source": [
    "data[\"short_description\"].isna().sum()\n"
   ]
  },
  {
   "cell_type": "markdown",
   "metadata": {},
   "source": [
    "The are only 16 missing short_description values."
   ]
  },
  {
   "cell_type": "code",
   "execution_count": 34,
   "metadata": {},
   "outputs": [
    {
     "name": "stdout",
     "output_type": "stream",
     "text": [
      "1541\n",
      "3119\n"
     ]
    }
   ],
   "source": [
    "print(data[\"short_description\"].str.len().mean().astype(int))\n",
    "print(data[\"description\"].str.len().mean().astype(int))\n"
   ]
  },
  {
   "cell_type": "markdown",
   "metadata": {},
   "source": [
    "On average short_description is around 2x shorter than description."
   ]
  },
  {
   "cell_type": "code",
   "execution_count": 35,
   "metadata": {},
   "outputs": [
    {
     "name": "stdout",
     "output_type": "stream",
     "text": [
      "Short description is the begginning of descripion in 544/ 87.0% cases\n"
     ]
    }
   ],
   "source": [
    "description_identical_beginning_count = (\n",
    "    data.dropna(subset=[\"short_description\", \"description\"])\n",
    "    .apply(lambda x: x.description.startswith(x.short_description), axis=1)\n",
    "    .sum()\n",
    ")\n",
    "\n",
    "print(\n",
    "    f\"Short description is the begginning of descripion in {description_identical_beginning_count}\"\n",
    "    f\"/ {description_identical_beginning_count / len(data) * 100:.1f}% cases\"\n",
    ")\n"
   ]
  },
  {
   "cell_type": "markdown",
   "metadata": {},
   "source": [
    "As we can see short_description is a shortened version of description (hence the name) in 87 % of time. "
   ]
  },
  {
   "cell_type": "markdown",
   "metadata": {},
   "source": [
    "<div class=\"alert alert-block alert-info\"><b>Preprocessing idea</b>: In case when short_description is missing but description exists, take beginning of description (maybe the first sentence) and use it as short_description. In case description is missing and short_description exists - use short_description as a description.</div>\n"
   ]
  },
  {
   "cell_type": "markdown",
   "metadata": {},
   "source": [
    "## 2.7. Keywords"
   ]
  },
  {
   "cell_type": "code",
   "execution_count": 36,
   "metadata": {},
   "outputs": [
    {
     "data": {
      "text/plain": [
       "0    cnbc, Premium, Articles, Investment strategy, Markets, Investing, PRO Home, CNBC Pro, Pro: Santo...\n",
       "1    Articles, Politics, Europe News, European Central Bank, S&P 500 Index, U.S. Markets, Commentary,...\n",
       "2    Articles, Business News, Economy, Europe Economy, Employment, Commentary, Politics, source:tagna...\n",
       "3    cnbc, Articles, General Motors Co, Business News, Transportation, Autos, source:tagname:CNBC US ...\n",
       "Name: keywords, dtype: object"
      ]
     },
     "execution_count": 36,
     "metadata": {},
     "output_type": "execute_result"
    }
   ],
   "source": [
    "data.loc[:3, \"keywords\"]\n"
   ]
  },
  {
   "cell_type": "markdown",
   "metadata": {},
   "source": [
    "Keywords is a string with list of keywords and comma separator."
   ]
  },
  {
   "cell_type": "code",
   "execution_count": 37,
   "metadata": {},
   "outputs": [
    {
     "data": {
      "text/plain": [
       "0"
      ]
     },
     "execution_count": 37,
     "metadata": {},
     "output_type": "execute_result"
    }
   ],
   "source": [
    "data[\"keywords\"].isna().sum()\n"
   ]
  },
  {
   "cell_type": "markdown",
   "metadata": {},
   "source": [
    "There are no articles without keywords."
   ]
  },
  {
   "cell_type": "code",
   "execution_count": 38,
   "metadata": {},
   "outputs": [
    {
     "name": "stdout",
     "output_type": "stream",
     "text": [
      "Min number of keywords: 3\n",
      "Avg number of keywords: 21\n",
      "Max number of keywords: 60\n"
     ]
    },
    {
     "data": {
      "text/html": [
       "<style type=\"text/css\">\n",
       "#T_56018_row0_col0 {\n",
       "  width: 10em;\n",
       "  background: linear-gradient(90deg, #d65f5f 100.0%, transparent 100.0%);\n",
       "}\n",
       "#T_56018_row1_col0 {\n",
       "  width: 10em;\n",
       "  background: linear-gradient(90deg, #d65f5f 66.2%, transparent 66.2%);\n",
       "}\n",
       "#T_56018_row2_col0, #T_56018_row3_col0 {\n",
       "  width: 10em;\n",
       "  background: linear-gradient(90deg, #d65f5f 64.9%, transparent 64.9%);\n",
       "}\n",
       "#T_56018_row4_col0 {\n",
       "  width: 10em;\n",
       "  background: linear-gradient(90deg, #d65f5f 63.5%, transparent 63.5%);\n",
       "}\n",
       "#T_56018_row5_col0 {\n",
       "  width: 10em;\n",
       "  background: linear-gradient(90deg, #d65f5f 62.2%, transparent 62.2%);\n",
       "}\n",
       "#T_56018_row6_col0 {\n",
       "  width: 10em;\n",
       "  background: linear-gradient(90deg, #d65f5f 54.1%, transparent 54.1%);\n",
       "}\n",
       "#T_56018_row7_col0 {\n",
       "  width: 10em;\n",
       "  background: linear-gradient(90deg, #d65f5f 50.0%, transparent 50.0%);\n",
       "}\n",
       "#T_56018_row8_col0 {\n",
       "  width: 10em;\n",
       "  background: linear-gradient(90deg, #d65f5f 48.6%, transparent 48.6%);\n",
       "}\n",
       "#T_56018_row9_col0 {\n",
       "  width: 10em;\n",
       "  background: linear-gradient(90deg, #d65f5f 37.8%, transparent 37.8%);\n",
       "}\n",
       "</style>\n",
       "<table id=\"T_56018\">\n",
       "  <thead>\n",
       "    <tr>\n",
       "      <th class=\"blank level0\" >&nbsp;</th>\n",
       "      <th id=\"T_56018_level0_col0\" class=\"col_heading level0 col0\" >keywords</th>\n",
       "    </tr>\n",
       "  </thead>\n",
       "  <tbody>\n",
       "    <tr>\n",
       "      <th id=\"T_56018_level0_row0\" class=\"row_heading level0 row0\" >7</th>\n",
       "      <td id=\"T_56018_row0_col0\" class=\"data row0 col0\" >74</td>\n",
       "    </tr>\n",
       "    <tr>\n",
       "      <th id=\"T_56018_level0_row1\" class=\"row_heading level0 row1\" >9</th>\n",
       "      <td id=\"T_56018_row1_col0\" class=\"data row1 col0\" >49</td>\n",
       "    </tr>\n",
       "    <tr>\n",
       "      <th id=\"T_56018_level0_row2\" class=\"row_heading level0 row2\" >8</th>\n",
       "      <td id=\"T_56018_row2_col0\" class=\"data row2 col0\" >48</td>\n",
       "    </tr>\n",
       "    <tr>\n",
       "      <th id=\"T_56018_level0_row3\" class=\"row_heading level0 row3\" >5</th>\n",
       "      <td id=\"T_56018_row3_col0\" class=\"data row3 col0\" >48</td>\n",
       "    </tr>\n",
       "    <tr>\n",
       "      <th id=\"T_56018_level0_row4\" class=\"row_heading level0 row4\" >11</th>\n",
       "      <td id=\"T_56018_row4_col0\" class=\"data row4 col0\" >47</td>\n",
       "    </tr>\n",
       "    <tr>\n",
       "      <th id=\"T_56018_level0_row5\" class=\"row_heading level0 row5\" >6</th>\n",
       "      <td id=\"T_56018_row5_col0\" class=\"data row5 col0\" >46</td>\n",
       "    </tr>\n",
       "    <tr>\n",
       "      <th id=\"T_56018_level0_row6\" class=\"row_heading level0 row6\" >10</th>\n",
       "      <td id=\"T_56018_row6_col0\" class=\"data row6 col0\" >40</td>\n",
       "    </tr>\n",
       "    <tr>\n",
       "      <th id=\"T_56018_level0_row7\" class=\"row_heading level0 row7\" >13</th>\n",
       "      <td id=\"T_56018_row7_col0\" class=\"data row7 col0\" >37</td>\n",
       "    </tr>\n",
       "    <tr>\n",
       "      <th id=\"T_56018_level0_row8\" class=\"row_heading level0 row8\" >12</th>\n",
       "      <td id=\"T_56018_row8_col0\" class=\"data row8 col0\" >36</td>\n",
       "    </tr>\n",
       "    <tr>\n",
       "      <th id=\"T_56018_level0_row9\" class=\"row_heading level0 row9\" >14</th>\n",
       "      <td id=\"T_56018_row9_col0\" class=\"data row9 col0\" >28</td>\n",
       "    </tr>\n",
       "  </tbody>\n",
       "</table>\n"
      ],
      "text/plain": [
       "<pandas.io.formats.style.Styler at 0x142355490>"
      ]
     },
     "execution_count": 38,
     "metadata": {},
     "output_type": "execute_result"
    }
   ],
   "source": [
    "keywords_count = data[\"keywords\"].str.count(\",\")\n",
    "keywords_count = keywords_count.value_counts()\n",
    "keywords_count.index = keywords_count.index.map(int) + 1\n",
    "print(f\"Min number of keywords: {keywords_count.index.min()}\")\n",
    "print(f\"Avg number of keywords: {np.mean(keywords_count.index):.0f}\")\n",
    "print(f\"Max number of keywords: {keywords_count.index.max()}\")\n",
    "keywords_count.to_frame().iloc[:10].style.bar()\n"
   ]
  },
  {
   "cell_type": "markdown",
   "metadata": {},
   "source": [
    "Minimal number of keywords is 3, maximum - 60 and on average each article contains 21 keywords.\n",
    "\n",
    "Let's take a look a the article with the maximum number of keywords."
   ]
  },
  {
   "cell_type": "code",
   "execution_count": 39,
   "metadata": {},
   "outputs": [
    {
     "data": {
      "text/plain": [
       "array(['cnbc, Articles, Bank of Montreal, Wyoming, Wisconsin, West Virginia, Washington DC, Virginia, Vermont, Utah, Texas, Tennessee, South Dakota, South Carolina, Rhode Island, Pennsylvania, Oregon, Ohio, North Dakota, North Carolina, New York City, New York, New Mexico, New Jersey, New Hampshire, Nevada, Montana, Missouri, Mississippi, Minnesota, Michigan, Massachusetts, Maryland, Maine, Louisiana, Kentucky, Kansas, Iowa, Indiana, Illinois, Idaho, Hawaii, Georgia, Florida, Delaware, Connecticut, Colorado, Chicago, California, Arkansas, Arizona, Alaska, Alabama, North America, United States, Canada, Press Releases, CNBC Information and Policies, CNBC: News Releases, source:tagname:PR Newswire'],\n",
       "      dtype=object)"
      ]
     },
     "execution_count": 39,
     "metadata": {},
     "output_type": "execute_result"
    }
   ],
   "source": [
    "data.loc[data[\"keywords\"].str.count(\",\") == keywords_count.index.max() - 1, \"keywords\"].values\n"
   ]
  },
  {
   "cell_type": "markdown",
   "metadata": {},
   "source": [
    "Looks like this article contains all US states as keywords."
   ]
  },
  {
   "cell_type": "markdown",
   "metadata": {},
   "source": [
    "And here is the most popular set of keywords."
   ]
  },
  {
   "cell_type": "code",
   "execution_count": 40,
   "metadata": {},
   "outputs": [
    {
     "data": {
      "text/plain": [
       "count                                                                    625\n",
       "unique                                                                   581\n",
       "top       cnbc, Articles, CNBC TV, Fast Money, source:tagname:CNBC US Source\n",
       "freq                                                                      10\n",
       "Name: keywords, dtype: object"
      ]
     },
     "execution_count": 40,
     "metadata": {},
     "output_type": "execute_result"
    }
   ],
   "source": [
    "data[\"keywords\"].describe()\n"
   ]
  },
  {
   "cell_type": "markdown",
   "metadata": {},
   "source": [
    "## 2.8. Header_image"
   ]
  },
  {
   "cell_type": "code",
   "execution_count": 41,
   "metadata": {},
   "outputs": [
    {
     "data": {
      "text/plain": [
       "0        https://image.cnbcfm.com/api/v1/image/106949602-1632934577499-FINTECH_ETF_9-29.jpg?v=1632934691\n",
       "1    https://fm.cnbc.com/applications/cnbc.com/resources/img/editorial/2016/06/24/103742956-RTX2FMUL....\n",
       "2    https://fm.cnbc.com/applications/cnbc.com/resources/img/editorial/2014/03/24/101520523-480336057...\n",
       "3                          https://image.cnbcfm.com/api/v1/image/24947979-gm_dealership.jpg?v=1354732729\n",
       "Name: header_image, dtype: object"
      ]
     },
     "execution_count": 41,
     "metadata": {},
     "output_type": "execute_result"
    }
   ],
   "source": [
    "data.loc[:3, \"header_image\"]\n"
   ]
  },
  {
   "cell_type": "code",
   "execution_count": 42,
   "metadata": {},
   "outputs": [
    {
     "data": {
      "text/plain": [
       "Counter({'https://image.cnbcfm': 471,\n",
       "         'https://fm.cnbc': 12,\n",
       "         'https://sc.cnbcfm': 142})"
      ]
     },
     "execution_count": 42,
     "metadata": {},
     "output_type": "execute_result"
    }
   ],
   "source": [
    "image_urls = data[\"header_image\"].apply(lambda x: x.split(\".com/\")[0])\n",
    "counter = Counter(image_urls)\n",
    "\n",
    "counter\n"
   ]
  },
  {
   "cell_type": "markdown",
   "metadata": {},
   "source": [
    "Header_image column contains links to the image from article that was used as a header image. There are three different resources from which images can be loaded, but they all are related to CNBC."
   ]
  },
  {
   "cell_type": "markdown",
   "metadata": {},
   "source": [
    "## 2.9. Raw_description"
   ]
  },
  {
   "cell_type": "code",
   "execution_count": 43,
   "metadata": {},
   "outputs": [
    {
     "data": {
      "text/plain": [
       "0    <div class=\"group\"><p><em>This is the daily notebook of Mike Santoli, CNBC's senior markets comm...\n",
       "1                                                                                                    NaN\n",
       "2                                                                                                    NaN\n",
       "3    <div class=\"group\"><p>The US government is increasingly likely to convert a $13.4 billion loan t...\n",
       "Name: raw_description, dtype: object"
      ]
     },
     "execution_count": 43,
     "metadata": {},
     "output_type": "execute_result"
    }
   ],
   "source": [
    "data.loc[:3, \"raw_description\"]\n"
   ]
  },
  {
   "cell_type": "code",
   "execution_count": 44,
   "metadata": {},
   "outputs": [
    {
     "data": {
      "text/plain": [
       "31"
      ]
     },
     "execution_count": 44,
     "metadata": {},
     "output_type": "execute_result"
    }
   ],
   "source": [
    "data[\"raw_description\"].isna().sum()\n"
   ]
  },
  {
   "cell_type": "markdown",
   "metadata": {},
   "source": [
    "There are 31 missing raw_description values."
   ]
  },
  {
   "cell_type": "markdown",
   "metadata": {},
   "source": [
    "Raw_description is a string which supposedly is the same as description only with HTML tags.\n",
    "\n",
    "Let's check this assumption."
   ]
  },
  {
   "cell_type": "code",
   "execution_count": 45,
   "metadata": {},
   "outputs": [
    {
     "name": "stdout",
     "output_type": "stream",
     "text": [
      "raw_description (without html tags) is the same as description in 136 cases out of 593 (23%).\n"
     ]
    }
   ],
   "source": [
    "d = data.dropna(subset=[\"description\", \"raw_description\"])\n",
    "d[\"raw_description_stripped\"] = d[\"raw_description\"].apply(lambda x: BeautifulSoup(x).text)\n",
    "description_equal_count = (d[\"description\"] == d[\"raw_description_stripped\"]).sum()\n",
    "print(\n",
    "    f\"raw_description (without html tags) is the same as description in {description_equal_count} cases\"\n",
    "    f\" out of {len(d)} ({description_equal_count / len(d) * 100:.0f}%).\"\n",
    ")\n"
   ]
  },
  {
   "cell_type": "code",
   "execution_count": 46,
   "metadata": {},
   "outputs": [
    {
     "name": "stdout",
     "output_type": "stream",
     "text": [
      "raw_description (without html tags) and description are similar on average by 99.95%.\n"
     ]
    }
   ],
   "source": [
    "# this is a partial similarity check\n",
    "partial_similarity = d.apply(lambda x: ratio(x.description, x.raw_description_stripped), axis=1).mean()\n",
    "print(f\"raw_description (without html tags) and description are similar on average by {partial_similarity * 100:.2f}%.\")\n"
   ]
  },
  {
   "cell_type": "markdown",
   "metadata": {},
   "source": [
    "Even raw_description after stripping all html tags is identical to description in only 23% of articles, it's 99.9% similar. That means that only some characters are different like maybe missing space character or some punctuation sign."
   ]
  },
  {
   "cell_type": "markdown",
   "metadata": {},
   "source": [
    "<div class=\"alert alert-block alert-info\"><b>Preprocessing idea</b>: In case description is missing and raw_description exists, then raw_description after stripping HTML tags can be used as description.</div>"
   ]
  },
  {
   "cell_type": "markdown",
   "metadata": {},
   "source": [
    "## 2.10. Description"
   ]
  },
  {
   "cell_type": "code",
   "execution_count": 47,
   "metadata": {},
   "outputs": [
    {
     "data": {
      "text/plain": [
       "0    This is the daily notebook of Mike Santoli, CNBC's senior markets commentator, with ideas about ...\n",
       "1                                                                                                    NaN\n",
       "2                                                                                                    NaN\n",
       "3    The US government is increasingly likely to convert a $13.4 billion loan to General Motors into ...\n",
       "Name: description, dtype: object"
      ]
     },
     "execution_count": 47,
     "metadata": {},
     "output_type": "execute_result"
    }
   ],
   "source": [
    "data.loc[:3, \"description\"]\n"
   ]
  },
  {
   "cell_type": "code",
   "execution_count": 48,
   "metadata": {},
   "outputs": [
    {
     "data": {
      "text/plain": [
       "32"
      ]
     },
     "execution_count": 48,
     "metadata": {},
     "output_type": "execute_result"
    }
   ],
   "source": [
    "data[\"description\"].isna().sum()\n"
   ]
  },
  {
   "cell_type": "markdown",
   "metadata": {},
   "source": [
    "There are only 32 articles with missing description."
   ]
  },
  {
   "cell_type": "code",
   "execution_count": 49,
   "metadata": {},
   "outputs": [
    {
     "data": {
      "image/png": "[encoded data removed]",
      "text/plain": [
       "<Figure size 2160x720 with 2 Axes>"
      ]
     },
     "metadata": {
      "needs_background": "light"
     },
     "output_type": "display_data"
    }
   ],
   "source": [
    "show_str_statistics(data.dropna(subset=[\"description\"]), \"description\")\n"
   ]
  },
  {
   "cell_type": "markdown",
   "metadata": {},
   "source": [
    "As we can see article's description is on average contains ~500 words which is not bad. In the same time there are some articles with short description."
   ]
  },
  {
   "cell_type": "markdown",
   "metadata": {},
   "source": [
    "<div class=\"alert alert-block alert-info\"><b>Vectorization idea</b>: not all models can handle a string with this length. Some models with a string of length that exceeds maximum expected length might fail or automatically truncate input. In both cases it might be beneficial to split long texts into smaller parts and vectorize them separately.</div>"
   ]
  },
  {
   "cell_type": "markdown",
   "metadata": {},
   "source": [
    "<div class=\"alert alert-block alert-info\"><b>Preprocessing idea</b>: In case description is missing it can be replaced by raw_description after stripping html tags and if raw_description is missing - by short_description. In addition it might be a good idea to drop articles with low number of words (maybe less then 20?).</div>"
   ]
  },
  {
   "cell_type": "markdown",
   "metadata": {},
   "source": [
    "## 2.11. Scraped_at"
   ]
  },
  {
   "cell_type": "code",
   "execution_count": 50,
   "metadata": {},
   "outputs": [
    {
     "data": {
      "text/plain": [
       "0    2021-10-30 14:11:23.709372\n",
       "1    2021-10-30 14:11:23.820139\n",
       "2    2021-10-30 14:11:23.854710\n",
       "3    2021-10-30 14:11:24.261143\n",
       "Name: scraped_at, dtype: object"
      ]
     },
     "execution_count": 50,
     "metadata": {},
     "output_type": "execute_result"
    }
   ],
   "source": [
    "data.loc[:3, \"scraped_at\"]\n"
   ]
  },
  {
   "cell_type": "code",
   "execution_count": 51,
   "metadata": {},
   "outputs": [
    {
     "data": {
      "text/plain": [
       "True"
      ]
     },
     "execution_count": 51,
     "metadata": {},
     "output_type": "execute_result"
    }
   ],
   "source": [
    "scraped_dates = pd.to_datetime(data[\"scraped_at\"])\n",
    "scraped_dates = scraped_dates.dt.strftime(\"%Y-%m-%d\")\n",
    "scraped_dates.duplicated(keep=False).all()\n"
   ]
  },
  {
   "cell_type": "markdown",
   "metadata": {},
   "source": [
    "As we can see all articles were scraped at the same date (year-month-day)."
   ]
  },
  {
   "cell_type": "markdown",
   "metadata": {},
   "source": [
    "# 3. List of preprocessing recommendations"
   ]
  },
  {
   "cell_type": "markdown",
   "metadata": {},
   "source": [
    "Steps for preprocessing:\n",
    "1. **title**: get rid of special characters, strip empty chars in the beginning/end of the text\n",
    "2. **published_at**: convert to RFC 3339 format\n",
    "3. **author**: if author is missing replace with \"Unknown\" token\n",
    "4. **short_description**: if missing, take beginning of the description (the first sentence or first 1500 chars as it's an average len of short_description).\n",
    "5. **description**: if missing, take raw_description (if exist) and strip HTML tags; if raw_description is also missing - take short_description (if exist). If all 3 descriptions are missing - drop that article. "
   ]
  }
 ],
 "metadata": {
  "interpreter": {
   "hash": "cb9e94dbe4e7fc92a3d7162f471039658b9fdbbc9b042b59ec1fc38823150b03"
  },
  "kernelspec": {
   "display_name": "Python 3.9.9 64-bit ('weaviate-demo')",
   "language": "python",
   "name": "python3"
  },
  "language_info": {
   "codemirror_mode": {
    "name": "ipython",
    "version": 3
   },
   "file_extension": ".py",
   "mimetype": "text/x-python",
   "name": "python",
   "nbconvert_exporter": "python",
   "pygments_lexer": "ipython3",
   "version": "3.9.9"
  },
  "orig_nbformat": 4
 },
 "nbformat": 4,
 "nbformat_minor": 2
}
