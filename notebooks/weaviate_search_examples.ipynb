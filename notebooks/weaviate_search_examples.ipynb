{
 "cells": [
  {
   "cell_type": "markdown",
   "metadata": {},
   "source": [
    "<h1><center>WEAVIATE SEARCH REQUEST EXAMPLES</center></h1>"
   ]
  },
  {
   "cell_type": "markdown",
   "metadata": {},
   "source": [
    "As described on their [website](https://weaviate.io/): \"Weaviate is an open source vector search engine that stores both objects and vectors, allowing for combining vector search with structured filtering with the fault-tolerance and scalability of a cloud-native database, all accessible through GraphQL, REST, and various language clients.\"\n",
    "\n",
    "In other words Weaviate is a search engine that is especially created with vector search in mind hence includes some nifty vector search optimizations and search filters."
   ]
  },
  {
   "cell_type": "markdown",
   "metadata": {},
   "source": [
    "As for data CNBC news dataset from [data.world](https://data.world/crawlfeeds/cnbc-news-dataset) is used. It is relatively small (~600 articles), but it's sufficient for demo purposes."
   ]
  },
  {
   "cell_type": "markdown",
   "metadata": {},
   "source": [
    "# Preparations"
   ]
  },
  {
   "cell_type": "markdown",
   "metadata": {},
   "source": [
    "Required imports."
   ]
  },
  {
   "cell_type": "code",
   "execution_count": 1,
   "metadata": {},
   "outputs": [],
   "source": [
    "import re\n",
    "from datetime import datetime, timezone\n",
    "from string import Template\n",
    "from typing import Optional\n",
    "\n",
    "import weaviate\n",
    "from termcolor import colored\n"
   ]
  },
  {
   "cell_type": "markdown",
   "metadata": {},
   "source": [
    "Helper utils."
   ]
  },
  {
   "cell_type": "code",
   "execution_count": 2,
   "metadata": {},
   "outputs": [],
   "source": [
    "def pprint_response(response: dict, description_size_limit: Optional[int] = 500) -> None:\n",
    "    \"\"\"Prints response in a prettier way.\n",
    "\n",
    "    Parameters\n",
    "    ----------\n",
    "    response : dict\n",
    "    description_size_limit : Optional[int], optional\n",
    "        if set \"descripton\" and \"short_description\" will be limited to that amount, by default 500\n",
    "    \"\"\"\n",
    "    response = response[\"data\"][\"Get\"]\n",
    "\n",
    "    for class_name in response:\n",
    "        print(colored(class_name.upper(), \"red\", \"on_white\", attrs=[\"bold\"]))\n",
    "\n",
    "        for idx, resp in enumerate(response[class_name]):\n",
    "            print(f\"Response # {idx}\")\n",
    "            for key, value in resp.items():\n",
    "                if key in {\"description\", \"short_description\"} and description_size_limit:\n",
    "                    value = value[:description_size_limit]\n",
    "                print(f\"{colored(key, 'magenta', 'on_grey')}: {value}\")\n",
    "            print(\"=\" * 120)\n"
   ]
  },
  {
   "cell_type": "markdown",
   "metadata": {},
   "source": [
    "Establishing connection to Weaviate."
   ]
  },
  {
   "cell_type": "code",
   "execution_count": 3,
   "metadata": {},
   "outputs": [
    {
     "name": "stdout",
     "output_type": "stream",
     "text": [
      "Weaviate:\n",
      "\tis live: True\n",
      "\tis ready: True\n"
     ]
    }
   ],
   "source": [
    "client = weaviate.Client(\"http://localhost:8080\")\n",
    "print(f\"Weaviate:\\n\\tis live: {client.is_live()}\\n\\tis ready: {client.is_ready()}\")"
   ]
  },
  {
   "cell_type": "code",
   "execution_count": 4,
   "metadata": {},
   "outputs": [
    {
     "name": "stdout",
     "output_type": "stream",
     "text": [
      "Class name: Article\n",
      "\tObjects count: 593\n",
      "Class name: Author\n",
      "\tObjects count: 187\n"
     ]
    }
   ],
   "source": [
    "for weaviate_class in client.schema.get()[\"classes\"]:\n",
    "    class_name = weaviate_class[\"class\"]\n",
    "    response = client.query.aggregate(class_name).with_meta_count().do()\n",
    "    class_object_count = response[\"data\"][\"Aggregate\"][class_name][0][\"meta\"][\"count\"]\n",
    "    print(f\"Class name: {class_name}\\n\\tObjects count: {class_object_count}\")"
   ]
  },
  {
   "cell_type": "markdown",
   "metadata": {},
   "source": [
    "Now, as Weaviate instance is live and ready and contains articles/authors data we can start writing queries."
   ]
  },
  {
   "cell_type": "markdown",
   "metadata": {},
   "source": [
    "# Weaviate query"
   ]
  },
  {
   "cell_type": "markdown",
   "metadata": {},
   "source": [
    "Weaviate query can be formed in two ways:\n",
    "- using **GetBuilder** (basically calling query method from `client.query`)\n",
    "- using **GraphQL** (passed as a raw string into `client.query.raw` method)"
   ]
  },
  {
   "cell_type": "markdown",
   "metadata": {},
   "source": [
    "Typical GetBuilder looks like this:\n",
    "```python\n",
    "client.query.get( \n",
    "    \"name of a class\",\n",
    "    \"what properties to return\")\n",
    "    .with_near_text(\n",
    "        \"dictionary with text for vector search\"\n",
    "        )\n",
    "    .with_where(\n",
    "        \"here are described filters like title/keyword to match\"\n",
    "    )\n",
    "    .with_limit(\n",
    "        \"return top N responses\"\n",
    "    )\n",
    "    .do() # runs query\n",
    "```\n"
   ]
  },
  {
   "cell_type": "markdown",
   "metadata": {},
   "source": [
    "GraphQL looks like this:\n",
    "```text\n",
    "{\n",
    "  Get {\n",
    "    Article(\n",
    "      where: {operator: GreaterThanEqual, path: [\"descriptionWordCount\"], valueInt: 100}\n",
    "      limit: 5\n",
    "    ) {\n",
    "      descriptionWordCount\n",
    "      title\n",
    "      url\n",
    "    }\n",
    "  }\n",
    "}\n",
    "```\n",
    "\n",
    "The main limitation is that GraphQL has to be in a form of raw string hence it's a bit inconvenient to format with variables.\n",
    "\n",
    "<div class=\"alert alert-block alert-warning\"> <b>IMPORTANT</b>: the above is true at the moment of notebook creation.</br>\n",
    "In order to see whether desired type of request is supported by GetBuilder check <a href=\"https://weaviate.io/developers/weaviate/current/graphql-references/filters.html\">weaviate filter docs</a>.</div>"
   ]
  },
  {
   "cell_type": "markdown",
   "metadata": {},
   "source": [
    "In my opinion Query builder approach looks better but unfortunately not all queries can be formed with the builder (but every request can be formed with GraphQL syntax).</br>\n",
    "That's why I separated all examples into two categories: that can be formed without GraphQL syntax and that cannot."
   ]
  },
  {
   "cell_type": "markdown",
   "metadata": {},
   "source": [
    "# 1. Requests with filters that are supported by GetBuilder "
   ]
  },
  {
   "cell_type": "markdown",
   "metadata": {},
   "source": [
    "## 1.1. Near text filer (vector search) <a class=\"anchor\" id=\"near-text-filer\"></a>"
   ]
  },
  {
   "cell_type": "markdown",
   "metadata": {},
   "source": [
    "For vector search [nearText](https://weaviate.io/developers/weaviate/current/graphql-references/filters.html#nearvector-filter) method can be used.\n",
    "\n",
    "It expects 4 properties:\n",
    "- **concepts** - text of the query\n",
    "- **certainty** (optional) - \"determine which data results to return. The value is a float between 0.0 (return all data objects, regardless similarity) and 1.0 (only return data objects that are matching completely, without any uncertainty). The certainty of a query result is computed by normalized distance of the fuzzy query and the data object in the vector space.\"\n",
    "- **moveto** (optional) - reranks response with desired concepts that are closer to the top \n",
    "- **moveAwayFrom** (optional) - reranks response with undesired concepts are close to the bottom"
   ]
  },
  {
   "cell_type": "markdown",
   "metadata": {},
   "source": [
    "<div class=\"alert alert-block alert-info\">As the dataset is used to run queries against is relatively small some results (especially that are not the top 2) might look somewhat off. Basically the more date the more relevant articles can be found .</div>"
   ]
  },
  {
   "cell_type": "markdown",
   "metadata": {},
   "source": [
    "Imagine that we are looking for articles with text about the state of retail in fashion. Anything that has certainty lower than 0.5 will be dropped. Return titles of top 5 results."
   ]
  },
  {
   "cell_type": "code",
   "execution_count": 5,
   "metadata": {},
   "outputs": [
    {
     "name": "stdout",
     "output_type": "stream",
     "text": [
      "\u001b[1m\u001b[47m\u001b[31mARTICLE\u001b[0m\n",
      "Response # 0\n",
      "\u001b[40m\u001b[35m_additional\u001b[0m: {'certainty': 0.6842943}\n",
      "\u001b[40m\u001b[35mtitle\u001b[0m: No More Retail 'Nirvana': Hedge Fund Manager\n",
      "========================================================================================================================\n",
      "Response # 1\n",
      "\u001b[40m\u001b[35m_additional\u001b[0m: {'certainty': 0.68259203}\n",
      "\u001b[40m\u001b[35mtitle\u001b[0m: Chinese Retail Sales Surge, Partly on Inflation\n",
      "========================================================================================================================\n",
      "Response # 2\n",
      "\u001b[40m\u001b[35m_additional\u001b[0m: {'certainty': 0.6756055}\n",
      "\u001b[40m\u001b[35mtitle\u001b[0m: UK retail sales growth muted as food sales dip\n",
      "========================================================================================================================\n",
      "Response # 3\n",
      "\u001b[40m\u001b[35m_additional\u001b[0m: {'certainty': 0.6677345}\n",
      "\u001b[40m\u001b[35mtitle\u001b[0m: Nadja Swarovski: The luxury sector has been ‘incredibly resilient’ amid the pandemic\n",
      "========================================================================================================================\n",
      "Response # 4\n",
      "\u001b[40m\u001b[35m_additional\u001b[0m: {'certainty': 0.6403848}\n",
      "\u001b[40m\u001b[35mtitle\u001b[0m: How teen created a profitable sneaker pawn shop\n",
      "========================================================================================================================\n"
     ]
    }
   ],
   "source": [
    "# for this section class_name and properties are shared between queries\n",
    "class_name = \"Article\"\n",
    "properties = [\n",
    "    \"title\",\n",
    "    \"_additional {certainty}\",\n",
    "]\n",
    "\n",
    "nearText = {\n",
    "    \"concepts\": [\"retail in fashion industry\"],\n",
    "    \"certainty\": 0.5,\n",
    "}\n",
    "\n",
    "response = client.query.get(class_name, properties).with_near_text(nearText).with_limit(5).do()\n",
    "\n",
    "pprint_response(response)\n"
   ]
  },
  {
   "cell_type": "markdown",
   "metadata": {},
   "source": [
    "As we can see the higher certainty the more text of the article is related to fashion."
   ]
  },
  {
   "cell_type": "markdown",
   "metadata": {},
   "source": [
    "Now if we want to run the same query about fashion but don't want to include articles that describe fashion retail in european market:"
   ]
  },
  {
   "cell_type": "code",
   "execution_count": 6,
   "metadata": {},
   "outputs": [
    {
     "name": "stdout",
     "output_type": "stream",
     "text": [
      "\u001b[1m\u001b[47m\u001b[31mARTICLE\u001b[0m\n",
      "Response # 0\n",
      "\u001b[40m\u001b[35m_additional\u001b[0m: {'certainty': 0.6714165}\n",
      "\u001b[40m\u001b[35mtitle\u001b[0m: No More Retail 'Nirvana': Hedge Fund Manager\n",
      "========================================================================================================================\n",
      "Response # 1\n",
      "\u001b[40m\u001b[35m_additional\u001b[0m: {'certainty': 0.6694423}\n",
      "\u001b[40m\u001b[35mtitle\u001b[0m: Chinese Retail Sales Surge, Partly on Inflation\n",
      "========================================================================================================================\n",
      "Response # 2\n",
      "\u001b[40m\u001b[35m_additional\u001b[0m: {'certainty': 0.6566581}\n",
      "\u001b[40m\u001b[35mtitle\u001b[0m: UK retail sales growth muted as food sales dip\n",
      "========================================================================================================================\n",
      "Response # 3\n",
      "\u001b[40m\u001b[35m_additional\u001b[0m: {'certainty': 0.6343906}\n",
      "\u001b[40m\u001b[35mtitle\u001b[0m: Nadja Swarovski: The luxury sector has been ‘incredibly resilient’ amid the pandemic\n",
      "========================================================================================================================\n",
      "Response # 4\n",
      "\u001b[40m\u001b[35m_additional\u001b[0m: {'certainty': 0.63371277}\n",
      "\u001b[40m\u001b[35mtitle\u001b[0m: How teen created a profitable sneaker pawn shop\n",
      "========================================================================================================================\n"
     ]
    }
   ],
   "source": [
    "nearText = {\n",
    "    \"concepts\": [\"retail in fashion industry\"],\n",
    "    \"certainty\": 0.5,\n",
    "    \"moveAwayFrom\": {\n",
    "        \"concepts\": [\"european market\"],\n",
    "        \"force\": 0.9,\n",
    "    },\n",
    "}\n",
    "\n",
    "response = client.query.get(class_name, properties).with_near_text(nearText).with_limit(5).do()\n",
    "\n",
    "pprint_response(response)\n"
   ]
  },
  {
   "cell_type": "markdown",
   "metadata": {},
   "source": [
    "If we want articles about fashion retail not in europe but in asia:"
   ]
  },
  {
   "cell_type": "code",
   "execution_count": 7,
   "metadata": {},
   "outputs": [
    {
     "name": "stdout",
     "output_type": "stream",
     "text": [
      "\u001b[1m\u001b[47m\u001b[31mARTICLE\u001b[0m\n",
      "Response # 0\n",
      "\u001b[40m\u001b[35m_additional\u001b[0m: {'certainty': 0.70898855}\n",
      "\u001b[40m\u001b[35mtitle\u001b[0m: Chinese Retail Sales Surge, Partly on Inflation\n",
      "========================================================================================================================\n",
      "Response # 1\n",
      "\u001b[40m\u001b[35m_additional\u001b[0m: {'certainty': 0.6663642}\n",
      "\u001b[40m\u001b[35mtitle\u001b[0m: Global Markets Up, but Where Is the Retail Investor?\n",
      "========================================================================================================================\n",
      "Response # 2\n",
      "\u001b[40m\u001b[35m_additional\u001b[0m: {'certainty': 0.6534552}\n",
      "\u001b[40m\u001b[35mtitle\u001b[0m: UK retail sales growth muted as food sales dip\n",
      "========================================================================================================================\n",
      "Response # 3\n",
      "\u001b[40m\u001b[35m_additional\u001b[0m: {'certainty': 0.64692867}\n",
      "\u001b[40m\u001b[35mtitle\u001b[0m: JD.com wants a network of 5 million stores as e-commerce battle heats up \n",
      "========================================================================================================================\n",
      "Response # 4\n",
      "\u001b[40m\u001b[35m_additional\u001b[0m: {'certainty': 0.6449816}\n",
      "\u001b[40m\u001b[35mtitle\u001b[0m: Ping An Not Concerned about Pru-AIG deal\n",
      "========================================================================================================================\n"
     ]
    }
   ],
   "source": [
    "nearText = {\n",
    "    \"concepts\": [\"what is the state of retail in fashion industry\"],\n",
    "    \"certainty\": 0.5,\n",
    "    \"moveAwayFrom\": {\n",
    "        \"concepts\": [\"european market\"],\n",
    "        \"force\": 0.9,\n",
    "    },\n",
    "    \"moveTo\": {\n",
    "        \"concepts\": [\"asian market\"],\n",
    "        \"force\": 1.0,\n",
    "    }\n",
    "}\n",
    "\n",
    "response = client.query.get(class_name, properties).with_near_text(nearText).with_limit(5).do()\n",
    "\n",
    "pprint_response(response)\n"
   ]
  },
  {
   "cell_type": "markdown",
   "metadata": {},
   "source": [
    "## 1.2. Filter by date"
   ]
  },
  {
   "cell_type": "markdown",
   "metadata": {},
   "source": [
    "Weaviate can do not only vector search but also combine it with additional filters. Let's take a look at how to [filter articles by date](https://github.com/semi-technologies/weaviate/issues/1271)."
   ]
  },
  {
   "cell_type": "markdown",
   "metadata": {},
   "source": [
    "Date has to be provided in supported [date format](https://weaviate.io/developers/weaviate/current/data-schema/datatypes.html#datatype-date)."
   ]
  },
  {
   "cell_type": "code",
   "execution_count": 8,
   "metadata": {},
   "outputs": [
    {
     "name": "stdout",
     "output_type": "stream",
     "text": [
      "2020-01-01T00:00:00+00:00\n"
     ]
    }
   ],
   "source": [
    "date = datetime(year=2020, month=1, day=1, tzinfo=timezone.utc).isoformat()\n",
    "print(date)\n"
   ]
  },
  {
   "cell_type": "markdown",
   "metadata": {},
   "source": [
    "To find articles related to computer risks in US published before January 1 2020:"
   ]
  },
  {
   "cell_type": "code",
   "execution_count": 9,
   "metadata": {},
   "outputs": [
    {
     "name": "stdout",
     "output_type": "stream",
     "text": [
      "\u001b[1m\u001b[47m\u001b[31mARTICLE\u001b[0m\n",
      "Response # 0\n",
      "\u001b[40m\u001b[35m_additional\u001b[0m: {'certainty': 0.7508904}\n",
      "\u001b[40m\u001b[35mpublished_at\u001b[0m: 2017-09-20T10:05:17Z\n",
      "\u001b[40m\u001b[35mshort_description\u001b[0m: Cybersecurity, health of the global economy, energy price shock and terrorist attacks are some of the top risks that concern businesses and may threaten their ability to operate, according to results from a new survey by the World Economic Forum (WEF) published Wednesday.The survey, conducted annually by the WEF's strategic partners Marsh & McLennan Companies and Zurich Insurance Group, highlighted the following ten risks that businesses are presently concerned about:While concerns about the ove\n",
      "\u001b[40m\u001b[35mtitle\u001b[0m: Here are the top 10 major worries for global business leaders right now, according to WEF\n",
      "========================================================================================================================\n",
      "Response # 1\n",
      "\u001b[40m\u001b[35m_additional\u001b[0m: {'certainty': 0.64123785}\n",
      "\u001b[40m\u001b[35mpublished_at\u001b[0m: 2014-10-02T19:56:18Z\n",
      "\u001b[40m\u001b[35mshort_description\u001b[0m: For the second time in roughly three  months, JPMorgan Chase is  scrambling to contain the fallout from a security breach of its  vast computer network, according to several people with knowledge  of the investigation. JPMorgan, the nation's largest bank, recently found that  hackers, with links to Italy or southern Europe, had gained entry  to some of the bank's servers, these people said. Read MoreJPMorgan:We are not aware of a new cyberattack The discovery follows an attack that was uncovered\n",
      "\u001b[40m\u001b[35mtitle\u001b[0m: JPMorgan Discovers Further Cyber Security Issues\n",
      "========================================================================================================================\n",
      "Response # 2\n",
      "\u001b[40m\u001b[35m_additional\u001b[0m: {'certainty': 0.63418925}\n",
      "\u001b[40m\u001b[35mpublished_at\u001b[0m: 2011-07-06T15:46:48Z\n",
      "\u001b[40m\u001b[35mshort_description\u001b[0m: Stocks edged higher in another choppy, thin-volume session Wednesday after investors largely shrugged off news that ISM non-manufacturing index slipped last month and China's latest interest rate increase.The Dow Jones Industrial Average rose into positive territory, after snapping a five-day rally in the previous session.  Among the blue-chip index, Bank of America  and JPMorgan  slipped, while DuPont  gained. The S&P 500 and the tech-heavy Nasdaq also turned higher. The CBOE Volatility Index, \n",
      "\u001b[40m\u001b[35mtitle\u001b[0m: Stocks Edge Up, Shaking Off Economic News\n",
      "========================================================================================================================\n"
     ]
    }
   ],
   "source": [
    "nearText = {\n",
    "    \"concepts\": [\"computer risks in US\"],\n",
    "    \"certainty\": 0.5,\n",
    "}\n",
    "\n",
    "response = (\n",
    "    client.query.get(\n",
    "        \"Article\",\n",
    "        [\n",
    "            \"title\",\n",
    "            \"short_description\",\n",
    "            \"published_at\",\n",
    "            \"_additional {certainty}\",\n",
    "        ],\n",
    "    )\n",
    "    .with_near_text(nearText)\n",
    "    .with_where(\n",
    "        {\n",
    "            \"operator\": \"LessThan\",\n",
    "            \"path\": [\"published_at\"],\n",
    "            \"valueDate\": date,\n",
    "        }\n",
    "    )\n",
    "    .with_limit(3)\n",
    "    .do()\n",
    ")\n",
    "\n",
    "pprint_response(response)\n"
   ]
  },
  {
   "cell_type": "markdown",
   "metadata": {},
   "source": [
    "## 1.3. Filter by keywords"
   ]
  },
  {
   "cell_type": "markdown",
   "metadata": {},
   "source": [
    "As we have list of keywords for each article we can use it as a filter.\n",
    "\n",
    "Let's say we are eager to find articles about predictions from banks and hedge fonds but keep only articles with \"bonds\" keyword."
   ]
  },
  {
   "cell_type": "code",
   "execution_count": 10,
   "metadata": {},
   "outputs": [
    {
     "name": "stdout",
     "output_type": "stream",
     "text": [
      "\u001b[1m\u001b[47m\u001b[31mARTICLE\u001b[0m\n",
      "Response # 0\n",
      "\u001b[40m\u001b[35m_additional\u001b[0m: {'certainty': 0.7086749}\n",
      "\u001b[40m\u001b[35mkeywords\u001b[0m: ['cnbc', 'Articles', 'Commodity markets', 'Currency markets', 'Bonds', 'SK Telecom Co Ltd', 'Microsoft Corp', 'Boeing Co', 'Currencies', 'Futures & Commodities', 'Markets', 'stocks', 'Stock Blog', 'source:tagname:CNBC US Source']\n",
      "\u001b[40m\u001b[35mshort_description\u001b[0m: In a shorter holiday week, U.S. stocks ended flat Friday, as positives struggled with the Dubai debt news. How should investors prepare for next week? Alan Valdes, vice president at Kabrik Trading, and Doug Kreps, principal and managing director at Fort Pitt Capital Group, offered CNBC their portfolio advice. (See Kreps' stock picks, below.)\"Sometimes your best trade is no trade at all,\" Valdes said.\n",
      "\u001b[40m\u001b[35mtitle\u001b[0m: Portfolio Prep for Next Week: 'Don't Get Crazy'\n",
      "========================================================================================================================\n",
      "Response # 1\n",
      "\u001b[40m\u001b[35m_additional\u001b[0m: {'certainty': 0.66487396}\n",
      "\u001b[40m\u001b[35mkeywords\u001b[0m: ['cnbc', 'Articles', 'Commodity markets', 'Currency markets', 'Bonds', 'Barclays PLC', 'HSBC Holdings PLC', 'Meta Platforms Inc', 'Microsoft Corp', 'Alphabet Class A', 'International Business Machines Corp', 'Howmet Aerospace Inc', 'Citigroup Inc', 'Goldman Sachs Group Inc', 'Currencies', 'Futures & Commodities', 'DOW 30', 'Markets', 'stocks', 'Stock Blog', 'source:tagname:CNBC US Source']\n",
      "\u001b[40m\u001b[35mshort_description\u001b[0m: What was Wall Street saying about earnings season, Googlehitting an all-time high, Facebook’s1 billion users and European bank stocks?\n",
      "\u001b[40m\u001b[35mtitle\u001b[0m: The Stocks Analysts Are Talking About\n",
      "========================================================================================================================\n"
     ]
    }
   ],
   "source": [
    "nearText = {\n",
    "    \"concepts\": [\"banks hedge fonds predictions\"],\n",
    "    \"certainty\": 0.5,\n",
    "}\n",
    "\n",
    "class_name = \"Article\"\n",
    "properties = [\n",
    "    \"title\",\n",
    "    \"keywords\",\n",
    "    \"short_description\",\n",
    "    \"_additional {certainty}\",\n",
    "]\n",
    "\n",
    "response = (\n",
    "    client.query.get(class_name, properties)\n",
    "    .with_near_text(nearText)\n",
    "    .with_where(\n",
    "        {\n",
    "            \"operator\": \"Equal\",\n",
    "            \"path\": [\"keywords\"],\n",
    "            \"valueText\": [\"bonds\"],  # there are no articles with these keywords at the same time\n",
    "        }\n",
    "    )\n",
    "    .with_limit(2)\n",
    "    .do()\n",
    ")\n",
    "\n",
    "pprint_response(response)\n"
   ]
  },
  {
   "cell_type": "markdown",
   "metadata": {},
   "source": [
    "The same query but with \"fast money\" keyword:"
   ]
  },
  {
   "cell_type": "code",
   "execution_count": 11,
   "metadata": {},
   "outputs": [
    {
     "name": "stdout",
     "output_type": "stream",
     "text": [
      "\u001b[1m\u001b[47m\u001b[31mARTICLE\u001b[0m\n",
      "Response # 0\n",
      "\u001b[40m\u001b[35m_additional\u001b[0m: {'certainty': 0.6835275}\n",
      "\u001b[40m\u001b[35mkeywords\u001b[0m: ['cnbc', 'Articles', 'S&P 500 Index', 'iShares 20+ Year Treasury Bond ETF', 'Fed Should Raise Interest Rates to 2-3 Percent: Einhorn', 'Bank Crisis Strikes Europe', 'CNBC TV', 'Fast Money', 'Fast Money: Behind The Money', 'source:tagname:CNBC US Source']\n",
      "\u001b[40m\u001b[35mshort_description\u001b[0m: They are supposed to be the smart money—the best of the best—yet they can’t even beat a basic Treasury bond fund.\n",
      "\u001b[40m\u001b[35mtitle\u001b[0m: Dumb Money: Hedge Funds Can't Even Beat Bond Funds\n",
      "========================================================================================================================\n",
      "Response # 1\n",
      "\u001b[40m\u001b[35m_additional\u001b[0m: {'certainty': 0.66039157}\n",
      "\u001b[40m\u001b[35mkeywords\u001b[0m: ['cnbc', 'Articles', 'S&P 500 Index', 'Alexion Pharmaceuticals Inc', 'Capital One Financial Corp', 'Goldman Sachs Group Inc', 'HP Inc', '3M Co', 'Microsoft Corp', 'Travelers Companies Inc', 'Wells Fargo & Co', \"McDonald's Corp\", 'Fast Money', 'CNBC TV', 'Fast Money Halftime Report', 'source:tagname:CNBC US Source']\n",
      "\u001b[40m\u001b[35mshort_description\u001b[0m: Stocks were searching for direction on Thursday with investors digesting generally positive earnings reports versus not so positive economic news.Among the Dow components 3M, Travelers  and McDonald's  all posted solid results suggesting strength, however, the number of workers filing new jobless claims rose by 11,000 last week, indicating the labor market remains fragile.Adding to the negative tone, one day earlier, widely followed bank analyst Dick Bove cut his view of Wells Fargo saying loan \n",
      "\u001b[40m\u001b[35mtitle\u001b[0m: Halftime Report: Watch Goldman Action Closely Into Close\n",
      "========================================================================================================================\n"
     ]
    }
   ],
   "source": [
    "response = (\n",
    "    client.query.get(class_name, properties)\n",
    "    .with_near_text(nearText)\n",
    "    .with_where(\n",
    "        {\n",
    "            \"operator\": \"Equal\",\n",
    "            \"path\": [\"keywords\"],\n",
    "            \"valueText\": [\"fast money\"],  # there are no articles with these keywords at the same time\n",
    "        }\n",
    "    )\n",
    "    .with_limit(2)\n",
    "    .do()\n",
    ")\n",
    "\n",
    "pprint_response(response)\n"
   ]
  },
  {
   "cell_type": "markdown",
   "metadata": {},
   "source": [
    "If we want to repeat the query but now filter for articles that include both \"bonds\" and \"fast money\" keywords the response will be empty. That's because there are no such articles containing both keywords at the same time."
   ]
  },
  {
   "cell_type": "code",
   "execution_count": 12,
   "metadata": {},
   "outputs": [
    {
     "name": "stdout",
     "output_type": "stream",
     "text": [
      "\u001b[1m\u001b[47m\u001b[31mARTICLE\u001b[0m\n"
     ]
    }
   ],
   "source": [
    "response = (\n",
    "    client.query.get(class_name, properties)\n",
    "    .with_near_text(nearText)\n",
    "    .with_where(\n",
    "        {\n",
    "            \"operator\": \"Equal\",\n",
    "            \"path\": [\"keywords\"],\n",
    "            \"valueText\": [\"bonds\", \"fast money\"],  # there are no articles with these keywords at the same time\n",
    "        }\n",
    "    )\n",
    "    .with_limit(5)\n",
    "    .do()\n",
    ")\n",
    "\n",
    "pprint_response(response)\n"
   ]
  },
  {
   "cell_type": "markdown",
   "metadata": {},
   "source": [
    "Enter operator! We can specify that we want to modify our query about market predictions and articles should contain either \"bonds\" or \"fast money\" keywords.\n",
    "\n",
    "The list of operators can be found on [this page](https://weaviate.io/developers/weaviate/current/graphql-references/filters.html)."
   ]
  },
  {
   "cell_type": "code",
   "execution_count": 13,
   "metadata": {},
   "outputs": [
    {
     "name": "stdout",
     "output_type": "stream",
     "text": [
      "\u001b[1m\u001b[47m\u001b[31mARTICLE\u001b[0m\n",
      "Response # 0\n",
      "\u001b[40m\u001b[35m_additional\u001b[0m: {'certainty': 0.7086749}\n",
      "\u001b[40m\u001b[35mkeywords\u001b[0m: ['cnbc', 'Articles', 'Commodity markets', 'Currency markets', 'Bonds', 'SK Telecom Co Ltd', 'Microsoft Corp', 'Boeing Co', 'Currencies', 'Futures & Commodities', 'Markets', 'stocks', 'Stock Blog', 'source:tagname:CNBC US Source']\n",
      "\u001b[40m\u001b[35mshort_description\u001b[0m: In a shorter holiday week, U.S. stocks ended flat Friday, as positives struggled with the Dubai debt news. How should investors prepare for next week? Alan Valdes, vice president at Kabrik Trading, and Doug Kreps, principal and managing director at Fort Pitt Capital Group, offered CNBC their portfolio advice. (See Kreps' stock picks, below.)\"Sometimes your best trade is no trade at all,\" Valdes said.\n",
      "\u001b[40m\u001b[35mtitle\u001b[0m: Portfolio Prep for Next Week: 'Don't Get Crazy'\n",
      "========================================================================================================================\n",
      "Response # 1\n",
      "\u001b[40m\u001b[35m_additional\u001b[0m: {'certainty': 0.6835275}\n",
      "\u001b[40m\u001b[35mkeywords\u001b[0m: ['cnbc', 'Articles', 'S&P 500 Index', 'iShares 20+ Year Treasury Bond ETF', 'Fed Should Raise Interest Rates to 2-3 Percent: Einhorn', 'Bank Crisis Strikes Europe', 'CNBC TV', 'Fast Money', 'Fast Money: Behind The Money', 'source:tagname:CNBC US Source']\n",
      "\u001b[40m\u001b[35mshort_description\u001b[0m: They are supposed to be the smart money—the best of the best—yet they can’t even beat a basic Treasury bond fund.\n",
      "\u001b[40m\u001b[35mtitle\u001b[0m: Dumb Money: Hedge Funds Can't Even Beat Bond Funds\n",
      "========================================================================================================================\n",
      "Response # 2\n",
      "\u001b[40m\u001b[35m_additional\u001b[0m: {'certainty': 0.66487396}\n",
      "\u001b[40m\u001b[35mkeywords\u001b[0m: ['cnbc', 'Articles', 'Commodity markets', 'Currency markets', 'Bonds', 'Barclays PLC', 'HSBC Holdings PLC', 'Meta Platforms Inc', 'Microsoft Corp', 'Alphabet Class A', 'International Business Machines Corp', 'Howmet Aerospace Inc', 'Citigroup Inc', 'Goldman Sachs Group Inc', 'Currencies', 'Futures & Commodities', 'DOW 30', 'Markets', 'stocks', 'Stock Blog', 'source:tagname:CNBC US Source']\n",
      "\u001b[40m\u001b[35mshort_description\u001b[0m: What was Wall Street saying about earnings season, Googlehitting an all-time high, Facebook’s1 billion users and European bank stocks?\n",
      "\u001b[40m\u001b[35mtitle\u001b[0m: The Stocks Analysts Are Talking About\n",
      "========================================================================================================================\n",
      "Response # 3\n",
      "\u001b[40m\u001b[35m_additional\u001b[0m: {'certainty': 0.66039157}\n",
      "\u001b[40m\u001b[35mkeywords\u001b[0m: ['cnbc', 'Articles', 'S&P 500 Index', 'Alexion Pharmaceuticals Inc', 'Capital One Financial Corp', 'Goldman Sachs Group Inc', 'HP Inc', '3M Co', 'Microsoft Corp', 'Travelers Companies Inc', 'Wells Fargo & Co', \"McDonald's Corp\", 'Fast Money', 'CNBC TV', 'Fast Money Halftime Report', 'source:tagname:CNBC US Source']\n",
      "\u001b[40m\u001b[35mshort_description\u001b[0m: Stocks were searching for direction on Thursday with investors digesting generally positive earnings reports versus not so positive economic news.Among the Dow components 3M, Travelers  and McDonald's  all posted solid results suggesting strength, however, the number of workers filing new jobless claims rose by 11,000 last week, indicating the labor market remains fragile.Adding to the negative tone, one day earlier, widely followed bank analyst Dick Bove cut his view of Wells Fargo saying loan \n",
      "\u001b[40m\u001b[35mtitle\u001b[0m: Halftime Report: Watch Goldman Action Closely Into Close\n",
      "========================================================================================================================\n",
      "Response # 4\n",
      "\u001b[40m\u001b[35m_additional\u001b[0m: {'certainty': 0.65837777}\n",
      "\u001b[40m\u001b[35mkeywords\u001b[0m: ['cnbc', 'Articles', 'Bonds', 'American International Group Inc', 'Bank of America Corp', 'Cisco Systems Inc', 'Goldman Sachs Group Inc', 'Markets', 'stocks', 'Stock Blog', 'source:tagname:CNBC US Source']\n",
      "\u001b[40m\u001b[35mshort_description\u001b[0m: Doug MacKay of Broadleaf Partners and Bill Spiropoulos of Corestates Capital Advisors agree: The March bottom will hold — and you want to be in equities now.\n",
      "\u001b[40m\u001b[35mtitle\u001b[0m: March Lows Will Hold — So Buy Equities: Strategists\n",
      "========================================================================================================================\n"
     ]
    }
   ],
   "source": [
    "where_filter = {\n",
    "    \"operator\": \"Or\",\n",
    "    \"operands\": [\n",
    "        {\n",
    "            \"operator\": \"Equal\",\n",
    "            \"path\": [\"keywords\"],\n",
    "            \"valueText\": \"bonds\",\n",
    "        },\n",
    "        {\n",
    "            \"operator\": \"Equal\",\n",
    "            \"path\": [\"keywords\"],\n",
    "            \"valueText\": \"fast money\",\n",
    "        },\n",
    "    ],\n",
    "}\n",
    "\n",
    "response = client.query.get(class_name, properties).with_near_text(nearText).with_where(where_filter).with_limit(5).do()\n",
    "\n",
    "pprint_response(response)\n"
   ]
  },
  {
   "cell_type": "markdown",
   "metadata": {},
   "source": [
    "## 1.4. Filter by minimum description length"
   ]
  },
  {
   "cell_type": "markdown",
   "metadata": {},
   "source": [
    "In our weaviate schema we have property \"descriptionWordCount\" which stores description length in words. We can return articles filtered by that parameter. Let's say we are looking for article longer that 100 words and are related to pandemic affect on stock market."
   ]
  },
  {
   "cell_type": "code",
   "execution_count": 14,
   "metadata": {},
   "outputs": [
    {
     "name": "stdout",
     "output_type": "stream",
     "text": [
      "\u001b[1m\u001b[47m\u001b[31mARTICLE\u001b[0m\n",
      "Response # 0\n",
      "\u001b[40m\u001b[35m_additional\u001b[0m: {'certainty': 0.7150651}\n",
      "\u001b[40m\u001b[35mdescription\u001b[0m: Germany is considering how to implement a gradual recovery from the coronavirus pandemic, the country's health minister, Jens Spahn, told CNBC on Monday. \"We are thinking about step by step, that is important ... going back to a new normal,\" Spahn said on \"Closing Bell.\"Spahn, who was speaking from Berlin, stressed that it will indeed be a new normal because \"all the measures we have taken like keeping distance, wearing masks, no parties ... are definitely measures that need to be there in place\n",
      "\u001b[40m\u001b[35mdescriptionWordCount\u001b[0m: 364\n",
      "\u001b[40m\u001b[35mpublished_at\u001b[0m: 2020-04-13T21:08:49Z\n",
      "\u001b[40m\u001b[35mtitle\u001b[0m: German health minister says the country is considering steps to return to a 'new normal'\n",
      "========================================================================================================================\n",
      "Response # 1\n",
      "\u001b[40m\u001b[35m_additional\u001b[0m: {'certainty': 0.71365166}\n",
      "\u001b[40m\u001b[35mdescription\u001b[0m: Here are the most important news, trends and analysis that investors need to start their trading day:Dow set to open lower after closing down for third straight sessionGameStop sinks on lack of guidance; Lululemon soars on strong outlookUnited staff with religious exemptions to Covid shot must take unpaid leaveBiden to unveil drive to boost Covid vaccinations, fight delta variantUkraine to become latest country to legalize bitcoin as it goes globalU.S. stock futures were under some pressure Thur\n",
      "\u001b[40m\u001b[35mdescriptionWordCount\u001b[0m: 745\n",
      "\u001b[40m\u001b[35mpublished_at\u001b[0m: 2021-09-09T11:40:58Z\n",
      "\u001b[40m\u001b[35mtitle\u001b[0m: 5 things to know before the stock market opens Thursday\n",
      "========================================================================================================================\n",
      "Response # 2\n",
      "\u001b[40m\u001b[35m_additional\u001b[0m: {'certainty': 0.6997676}\n",
      "\u001b[40m\u001b[35mdescription\u001b[0m: CNBC's Jim Cramer on Monday reviewed and made changes to his pandemic playbook to bring more diversification to his coronavirus index.The Cramer Covid-19 Index, a basket of 100 stocks he determined can work in a coronavirus-plagued market, has outgained the major indexes since Cramer last updated the stock catalog.\"When you look at the biggest winners in the index, they're overwhelmingly tech companies that help facilitate the stay-at-home economy, and a lot of these got hit today,\" the \"Mad Mon\n",
      "\u001b[40m\u001b[35mdescriptionWordCount\u001b[0m: 551\n",
      "\u001b[40m\u001b[35mpublished_at\u001b[0m: 2020-06-29T23:01:54Z\n",
      "\u001b[40m\u001b[35mtitle\u001b[0m: Cramer adds new stocks, recommends buying 12 laggards in his Covid-19 index\n",
      "========================================================================================================================\n",
      "Response # 3\n",
      "\u001b[40m\u001b[35m_additional\u001b[0m: {'certainty': 0.6992346}\n",
      "\u001b[40m\u001b[35mdescription\u001b[0m: Treasury yields fell on Tuesday as the massive stock rally hit a pause. Investors also awaited the Federal Reserve's monetary policy decision.The yield on the benchmark 10-year Treasury note dropped 7 basis points to 0.81% and the yield on the 30-year bond was down 9 basis points at 1.56%. Yields move inversely to prices.The Federal Open Market Committee (FOMC) meets Tuesday and will announce its latest monetary policy decision on Wednesday. While markets expect short-term interest rates to rema\n",
      "\u001b[40m\u001b[35mdescriptionWordCount\u001b[0m: 289\n",
      "\u001b[40m\u001b[35mpublished_at\u001b[0m: 2020-06-09T06:27:35Z\n",
      "\u001b[40m\u001b[35mtitle\u001b[0m: 10-year Treasury yield falls to 0.8% as investors return to safety amid pause in stock rally\n",
      "========================================================================================================================\n",
      "Response # 4\n",
      "\u001b[40m\u001b[35m_additional\u001b[0m: {'certainty': 0.6945949}\n",
      "\u001b[40m\u001b[35mdescription\u001b[0m: Ad budgets were already shifting from TV to digital before the coronavirus pandemic, but that's going to speed up, according to a Europe-focused report by Goldman Sachs.\"Overall, we expect the crisis will only accelerate the secular shift in advertising budgets towards digital, while potentially also leading to more attempts by the EU broadcasters to seek further partnerships and M&A (mergers and acquisitions) to share costs and build scale,\" according to the company's Europe Media: Broadcasting\n",
      "\u001b[40m\u001b[35mdescriptionWordCount\u001b[0m: 544\n",
      "\u001b[40m\u001b[35mpublished_at\u001b[0m: 2020-05-26T15:21:01Z\n",
      "\u001b[40m\u001b[35mtitle\u001b[0m: Ad shift from TV to digital will speed up even more because of coronavirus, Goldman Sachs says\n",
      "========================================================================================================================\n"
     ]
    }
   ],
   "source": [
    "nearText = {\n",
    "    \"concepts\": [\"pandemic covid affect on stock market\"],\n",
    "    \"certainty\": 0.5,\n",
    "}\n",
    "\n",
    "response = (\n",
    "    client.query.get(\n",
    "        \"Article\",\n",
    "        [\n",
    "            \"title\",\n",
    "            \"description\",\n",
    "            \"published_at\",\n",
    "            \"descriptionWordCount\",\n",
    "            \"_additional {certainty}\",\n",
    "        ],\n",
    "    )\n",
    "    .with_where(\n",
    "        {\n",
    "            \"operator\": \"GreaterThan\",\n",
    "            \"path\": [\"descriptionWordCount\"],\n",
    "            \"valueInt\": 100,\n",
    "        }\n",
    "    )\n",
    "    .with_near_text(nearText)\n",
    "    .with_limit(5)\n",
    "    .do()\n",
    ")\n",
    "\n",
    "pprint_response(response)\n"
   ]
  },
  {
   "cell_type": "markdown",
   "metadata": {},
   "source": [
    "## 1.5. Filter by title (text search)"
   ]
  },
  {
   "cell_type": "markdown",
   "metadata": {},
   "source": [
    "Despite title property is being vectorized we still can do text search against title. That's possible because Weaviate stores both text and vector representation (if it's specified in schema file).\n",
    "\n",
    "If we are looking articles about acquisition that are about to happen and title should include words \"google\" and \"motorola\":"
   ]
  },
  {
   "cell_type": "code",
   "execution_count": 15,
   "metadata": {},
   "outputs": [
    {
     "name": "stdout",
     "output_type": "stream",
     "text": [
      "\u001b[1m\u001b[47m\u001b[31mARTICLE\u001b[0m\n",
      "Response # 0\n",
      "\u001b[40m\u001b[35m_additional\u001b[0m: {'certainty': 0.629853}\n",
      "\u001b[40m\u001b[35mdescription\u001b[0m: Google's $12.5 billion acquisition of Motorola Mobilitygives the Internet search company patent protection while putting it squarely into the smartphone hardware business, Executive Chairman Eric Schmidt told CNBC Monday. But the acquisition won't affect how Google  does business with the other phone makers that use its Android operating system, including HTC, he added.\"We are going into the hardware business, but we’re going to keep it separate and we’re going to treat everybody else on a fair \n",
      "\u001b[40m\u001b[35mtitle\u001b[0m: Motorola Deal Buys Google Patent Protection: Schmidt\n",
      "========================================================================================================================\n"
     ]
    }
   ],
   "source": [
    "nearText = {\n",
    "    \"concepts\": [\"future acquisition\"],\n",
    "    \"certainty\": 0.5,\n",
    "}\n",
    "\n",
    "where_filter = {\n",
    "    \"operator\": \"Equal\",\n",
    "    \"path\": [\"title\"],\n",
    "    \"valueText\": [\"google motorola\"],\n",
    "}\n",
    "\n",
    "response = (\n",
    "    client.query.get(\n",
    "        \"Article\",\n",
    "        [\n",
    "            \"title\",\n",
    "            \"description\",\n",
    "            \"_additional {certainty}\",\n",
    "        ],\n",
    "    )\n",
    "    .with_where(where_filter)\n",
    "    .with_near_text(nearText)\n",
    "    .with_limit(5)\n",
    "    .do()\n",
    ")\n",
    "\n",
    "pprint_response(response)\n"
   ]
  },
  {
   "cell_type": "markdown",
   "metadata": {},
   "source": [
    "## 1.6. \"Like\" filter (fuzzy match)"
   ]
  },
  {
   "cell_type": "markdown",
   "metadata": {},
   "source": [
    "Weaviate also provides ability to run fuzzy text search with [\"Like\" operator](https://weaviate.io/developers/weaviate/current/graphql-references/filters.html#like-operator).\n",
    "\n",
    "Notes from official docs:\n",
    "\n",
    "> Each query using the Like operator iterates over the entire inverted index for that property. The search time will go up linearly with the dataset size. Be aware that there might be a point where this query is too expensive and will not work anymore."
   ]
  },
  {
   "cell_type": "markdown",
   "metadata": {},
   "source": [
    "So if we are looking for author with first name Katie and last name starts with H:"
   ]
  },
  {
   "cell_type": "code",
   "execution_count": 16,
   "metadata": {},
   "outputs": [
    {
     "name": "stdout",
     "output_type": "stream",
     "text": [
      "\u001b[1m\u001b[47m\u001b[31mAUTHOR\u001b[0m\n",
      "Response # 0\n",
      "\u001b[40m\u001b[35mname\u001b[0m: Katie Holliday\n",
      "========================================================================================================================\n"
     ]
    }
   ],
   "source": [
    "where_filter = {\n",
    "    \"operator\": \"Like\",\n",
    "    \"path\": [\"name\"],\n",
    "    \"valueString\": \"Katie H*\",\n",
    "}\n",
    "\n",
    "response = (\n",
    "    client.query.get(\n",
    "        \"Author\",\n",
    "        [\n",
    "            \"name\",\n",
    "        ],\n",
    "    )\n",
    "    .with_where(where_filter)\n",
    "    .with_limit(5)\n",
    "    .do()\n",
    ")\n",
    "\n",
    "pprint_response(response)\n"
   ]
  },
  {
   "cell_type": "markdown",
   "metadata": {},
   "source": [
    "# 2. Filters that accepts only raw string (GraphQL syntax)"
   ]
  },
  {
   "cell_type": "markdown",
   "metadata": {},
   "source": [
    "As it was mentioned in the beginning of the notebook in order to use GraphQL syntax we need to provide it as a raw string into `client.query.raw` method.\n",
    "\n",
    "It's inconvenient in cases when variables has to be provided as values for GraphQL search.\n",
    "\n",
    "It can be tackled with any of these options: \n",
    "- with regex\n",
    "- with .format method\n",
    "- with string's builtin [Template class](https://docs.python.org/3.6/library/string.html#template-strings) (safer varian as you can see in an [example](https://realpython.com/python-string-formatting/#4-template-strings-standard-library))\n",
    "\n",
    "Let's say we have such query for filtering articles by keywords.\n",
    "\n",
    "GraphQL query will look like this:\n",
    "\n",
    "```text\n",
    "{\n",
    "  Get {\n",
    "    Article(where: {\n",
    "        path: [\"keywords\"],\n",
    "        operator: Equal,\n",
    "        valueText: \"bonds\",\n",
    "      }, limit: 5) {\n",
    "      title\n",
    "      hasAuthors {\n",
    "        ... on Author {\n",
    "          name\n",
    "        }\n",
    "      }\n",
    "    }\n",
    "  }\n",
    "}\n",
    "```\n",
    "The goal is to create raw string where `path` and `valueText` are filled with provided variables."
   ]
  },
  {
   "cell_type": "markdown",
   "metadata": {},
   "source": [
    "Let's take a look at each option with an example."
   ]
  },
  {
   "cell_type": "markdown",
   "metadata": {},
   "source": [
    "### 2.0.1. Regex approach of formatting raw string"
   ]
  },
  {
   "cell_type": "markdown",
   "metadata": {},
   "source": [
    "Create raw string with some arbitrary placeholder which then will be replaced by regex. "
   ]
  },
  {
   "cell_type": "code",
   "execution_count": 17,
   "metadata": {},
   "outputs": [
    {
     "name": "stdout",
     "output_type": "stream",
     "text": [
      "\n",
      "{\n",
      "  Get {\n",
      "    Article(where: {\n",
      "        path: [\"keywords\"],\n",
      "        operator: Equal,  # operator\n",
      "        valueText: \"bonds\",\n",
      "      }, limit: 5) {\n",
      "      title\n",
      "      hasAuthors {\n",
      "        ... on Author {\n",
      "          name\n",
      "        }\n",
      "      }\n",
      "    }\n",
      "  }\n",
      "}\n",
      "\n",
      "\u001b[1m\u001b[47m\u001b[31mARTICLE\u001b[0m\n",
      "Response # 0\n",
      "\u001b[40m\u001b[35mhasAuthors\u001b[0m: [{'name': 'Tom DiChristopher'}]\n",
      "\u001b[40m\u001b[35mtitle\u001b[0m: Instead of shunning Saudi Arabia after Khashoggi killing, investors flock to $7.5 billion bond sale\n",
      "========================================================================================================================\n",
      "Response # 1\n",
      "\u001b[40m\u001b[35mhasAuthors\u001b[0m: [{'name': 'Silvia Amaro'}]\n",
      "\u001b[40m\u001b[35mtitle\u001b[0m: US Treasurys lower as investors focus on data, monitor Russia-US relations\n",
      "========================================================================================================================\n",
      "Response # 2\n",
      "\u001b[40m\u001b[35mhasAuthors\u001b[0m: [{'name': 'Unknown'}]\n",
      "\u001b[40m\u001b[35mtitle\u001b[0m: 5 Stocks Insiders Love Right Now\n",
      "========================================================================================================================\n",
      "Response # 3\n",
      "\u001b[40m\u001b[35mhasAuthors\u001b[0m: [{'name': 'Elliot Smith'}]\n",
      "\u001b[40m\u001b[35mtitle\u001b[0m: 10-year Treasury yield falls to 0.8% as investors return to safety amid pause in stock rally\n",
      "========================================================================================================================\n",
      "Response # 4\n",
      "\u001b[40m\u001b[35mhasAuthors\u001b[0m: [{'name': 'Herb Greenberg'}]\n",
      "\u001b[40m\u001b[35mtitle\u001b[0m: Greenberg: Momentum King’s Next Big Move\n",
      "========================================================================================================================\n"
     ]
    }
   ],
   "source": [
    "query = \"\"\"\n",
    "{\n",
    "  Get {\n",
    "    Article(where: {\n",
    "        path: [\"{placeholder}\"],\n",
    "        operator: Equal,  # operator\n",
    "        valueText: \"{placeholder}\",\n",
    "      }, limit: 5) {\n",
    "      title\n",
    "      hasAuthors {\n",
    "        ... on Author {\n",
    "          name\n",
    "        }\n",
    "      }\n",
    "    }\n",
    "  }\n",
    "}\n",
    "\"\"\"\n",
    "\n",
    "\n",
    "def format_raw_request(query: str, *args, template: str = \"{placeholder}\"):\n",
    "    for arg in args:\n",
    "        query = re.sub(template, arg, query, count=1)\n",
    "    return query\n",
    "\n",
    "\n",
    "query = format_raw_request(query, \"keywords\", \"bonds\")\n",
    "print(query)\n",
    "\n",
    "response = client.query.raw(query)\n",
    "pprint_response(response)\n"
   ]
  },
  {
   "cell_type": "markdown",
   "metadata": {},
   "source": [
    "### 2.0.2. .format approach of formatting raw string"
   ]
  },
  {
   "cell_type": "markdown",
   "metadata": {},
   "source": [
    "As for me it is the most inconvenient approach as it requires to escape curly braces by changing single brace to double (in places where we don't wont to format with provided variable)."
   ]
  },
  {
   "cell_type": "code",
   "execution_count": 18,
   "metadata": {},
   "outputs": [
    {
     "name": "stdout",
     "output_type": "stream",
     "text": [
      "\n",
      "{\n",
      "  Get {\n",
      "    Article(where: {\n",
      "        path: [\"keywords\"],    # Path to the property that should be used\n",
      "        operator: Equal,  # operator\n",
      "        valueText: \"bonds\"         # value (which is always = to the type of the path property)\n",
      "      }, limit: 5) {\n",
      "      title\n",
      "      hasAuthors {\n",
      "        ... on Author {\n",
      "          name\n",
      "        }\n",
      "      }\n",
      "    }\n",
      "  }\n",
      "}\n",
      "\n",
      "\u001b[1m\u001b[47m\u001b[31mARTICLE\u001b[0m\n",
      "Response # 0\n",
      "\u001b[40m\u001b[35mhasAuthors\u001b[0m: [{'name': 'Tom DiChristopher'}]\n",
      "\u001b[40m\u001b[35mtitle\u001b[0m: Instead of shunning Saudi Arabia after Khashoggi killing, investors flock to $7.5 billion bond sale\n",
      "========================================================================================================================\n",
      "Response # 1\n",
      "\u001b[40m\u001b[35mhasAuthors\u001b[0m: [{'name': 'Silvia Amaro'}]\n",
      "\u001b[40m\u001b[35mtitle\u001b[0m: US Treasurys lower as investors focus on data, monitor Russia-US relations\n",
      "========================================================================================================================\n",
      "Response # 2\n",
      "\u001b[40m\u001b[35mhasAuthors\u001b[0m: [{'name': 'Unknown'}]\n",
      "\u001b[40m\u001b[35mtitle\u001b[0m: 5 Stocks Insiders Love Right Now\n",
      "========================================================================================================================\n",
      "Response # 3\n",
      "\u001b[40m\u001b[35mhasAuthors\u001b[0m: [{'name': 'Elliot Smith'}]\n",
      "\u001b[40m\u001b[35mtitle\u001b[0m: 10-year Treasury yield falls to 0.8% as investors return to safety amid pause in stock rally\n",
      "========================================================================================================================\n",
      "Response # 4\n",
      "\u001b[40m\u001b[35mhasAuthors\u001b[0m: [{'name': 'Herb Greenberg'}]\n",
      "\u001b[40m\u001b[35mtitle\u001b[0m: Greenberg: Momentum King’s Next Big Move\n",
      "========================================================================================================================\n"
     ]
    }
   ],
   "source": [
    "query = \"\"\"\n",
    "{{\n",
    "  Get {{\n",
    "    Article(where: {{\n",
    "        path: [\"{path}\"],    # Path to the property that should be used\n",
    "        operator: Equal,  # operator\n",
    "        valueText: \"{valueText}\"         # value (which is always = to the type of the path property)\n",
    "      }}, limit: 5) {{\n",
    "      title\n",
    "      hasAuthors {{\n",
    "        ... on Author {{\n",
    "          name\n",
    "        }}\n",
    "      }}\n",
    "    }}\n",
    "  }}\n",
    "}}\n",
    "\"\"\"\n",
    "\n",
    "query = query.format(path=\"keywords\", valueText=\"bonds\")\n",
    "print(query)\n",
    "\n",
    "response = client.query.raw(query)\n",
    "pprint_response(response)\n"
   ]
  },
  {
   "cell_type": "markdown",
   "metadata": {},
   "source": [
    "### 2.0.3. Template approach of formatting raw string"
   ]
  },
  {
   "cell_type": "markdown",
   "metadata": {},
   "source": [
    "As for me the easiest way: mark with dollar sing place where to put provided variable, convert raw string into Template class as substitute."
   ]
  },
  {
   "cell_type": "code",
   "execution_count": 19,
   "metadata": {},
   "outputs": [
    {
     "name": "stdout",
     "output_type": "stream",
     "text": [
      "\n",
      "{\n",
      "  Get {\n",
      "    Article(where: {\n",
      "        path: [\"keywords\"],    # Path to the property that should be used\n",
      "        operator: Equal,  # operator\n",
      "        valueText: \"bonds\"         # value (which is always = to the type of the path property)\n",
      "      }, limit: 5) {\n",
      "      title\n",
      "      hasAuthors {\n",
      "        ... on Author {\n",
      "          name\n",
      "        }\n",
      "      }\n",
      "    }\n",
      "  }\n",
      "}\n",
      "\n",
      "\u001b[1m\u001b[47m\u001b[31mARTICLE\u001b[0m\n",
      "Response # 0\n",
      "\u001b[40m\u001b[35mhasAuthors\u001b[0m: [{'name': 'Tom DiChristopher'}]\n",
      "\u001b[40m\u001b[35mtitle\u001b[0m: Instead of shunning Saudi Arabia after Khashoggi killing, investors flock to $7.5 billion bond sale\n",
      "========================================================================================================================\n",
      "Response # 1\n",
      "\u001b[40m\u001b[35mhasAuthors\u001b[0m: [{'name': 'Silvia Amaro'}]\n",
      "\u001b[40m\u001b[35mtitle\u001b[0m: US Treasurys lower as investors focus on data, monitor Russia-US relations\n",
      "========================================================================================================================\n",
      "Response # 2\n",
      "\u001b[40m\u001b[35mhasAuthors\u001b[0m: [{'name': 'Unknown'}]\n",
      "\u001b[40m\u001b[35mtitle\u001b[0m: 5 Stocks Insiders Love Right Now\n",
      "========================================================================================================================\n",
      "Response # 3\n",
      "\u001b[40m\u001b[35mhasAuthors\u001b[0m: [{'name': 'Elliot Smith'}]\n",
      "\u001b[40m\u001b[35mtitle\u001b[0m: 10-year Treasury yield falls to 0.8% as investors return to safety amid pause in stock rally\n",
      "========================================================================================================================\n",
      "Response # 4\n",
      "\u001b[40m\u001b[35mhasAuthors\u001b[0m: [{'name': 'Herb Greenberg'}]\n",
      "\u001b[40m\u001b[35mtitle\u001b[0m: Greenberg: Momentum King’s Next Big Move\n",
      "========================================================================================================================\n"
     ]
    }
   ],
   "source": [
    "query = \"\"\"\n",
    "{\n",
    "  Get {\n",
    "    Article(where: {\n",
    "        path: [\"${path}\"],    # Path to the property that should be used\n",
    "        operator: Equal,  # operator\n",
    "        valueText: \"${valueText}\"         # value (which is always = to the type of the path property)\n",
    "      }, limit: 5) {\n",
    "      title\n",
    "      hasAuthors {\n",
    "        ... on Author {\n",
    "          name\n",
    "        }\n",
    "      }\n",
    "    }\n",
    "  }\n",
    "}\n",
    "\"\"\"\n",
    "\n",
    "query = Template(query)\n",
    "query = query.substitute(path=\"keywords\", valueText=\"bonds\")\n",
    "print(query)\n",
    "\n",
    "response = client.query.raw(query)\n",
    "pprint_response(response)\n"
   ]
  },
  {
   "cell_type": "markdown",
   "metadata": {},
   "source": [
    "<ins>From here and on Template approach is used.</ins>"
   ]
  },
  {
   "cell_type": "markdown",
   "metadata": {},
   "source": [
    "## 2.1. Filter authors by number of wrote articles"
   ]
  },
  {
   "cell_type": "markdown",
   "metadata": {},
   "source": [
    "In the schema two classes are defined:\n",
    "- Article \n",
    "- Author\n",
    "\n",
    "Each article has reference to author object, each auhor - to article object. With that in mind we can find authors that wrote at least 2 articles and take first 5. Weaviate will do [counting automatically](https://weaviate.io/developers/weaviate/current/graphql-references/filters.html#filter-objects-by-count-of-reference)."
   ]
  },
  {
   "cell_type": "code",
   "execution_count": 20,
   "metadata": {},
   "outputs": [
    {
     "name": "stdout",
     "output_type": "stream",
     "text": [
      "\u001b[1m\u001b[47m\u001b[31mAUTHOR\u001b[0m\n",
      "Response # 0\n",
      "\u001b[40m\u001b[35mname\u001b[0m: Leslie Josephs\n",
      "\u001b[40m\u001b[35mwroteArticles\u001b[0m: [{'title': \"Georgia's lieutenant governor says he will 'kill' Delta tax break unless airline reinstates relationship with NRA\"}, {'title': 'Raytheon and United Technologies agree to all-stock merger that would create aerospace behemoth'}]\n",
      "========================================================================================================================\n",
      "Response # 1\n",
      "\u001b[40m\u001b[35mname\u001b[0m: Tyler Clifford\n",
      "\u001b[40m\u001b[35mwroteArticles\u001b[0m: [{'title': 'Cramer adds new stocks, recommends buying 12 laggards in his Covid-19 index'}, {'title': \"'I come to bury Bitcoin, not to praise it': UBS\\xa0\"}]\n",
      "========================================================================================================================\n",
      "Response # 2\n",
      "\u001b[40m\u001b[35mname\u001b[0m: Sharon Epperson\n",
      "\u001b[40m\u001b[35mwroteArticles\u001b[0m: [{'title': \"Energy Falls Despite 'Above Average' Hurricane Forecast\"}, {'title': \"Want to start a business? Here's what you need to know\"}]\n",
      "========================================================================================================================\n",
      "Response # 3\n",
      "\u001b[40m\u001b[35mname\u001b[0m: Pippa Stevens\n",
      "\u001b[40m\u001b[35mwroteArticles\u001b[0m: [{'title': 'Guggenheim says solar sell-off is a buying opportunity and has an unusual favorite stock'}, {'title': 'Should CEO pay be tied to share price?'}]\n",
      "========================================================================================================================\n",
      "Response # 4\n",
      "\u001b[40m\u001b[35mname\u001b[0m: Chris Morris\n",
      "\u001b[40m\u001b[35mwroteArticles\u001b[0m: [{'title': 'Video Game Sales Get off to Slow Start in 2011'}, {'title': ' Did EA Bust the Social Gaming Bubble?'}]\n",
      "========================================================================================================================\n"
     ]
    }
   ],
   "source": [
    "query = \"\"\"\n",
    "{\n",
    "  Get {\n",
    "    Author(\n",
    "      where:{\n",
    "        valueInt: ${limit},\n",
    "        operator: GreaterThanEqual,\n",
    "        path: [\"wroteArticles\"]\n",
    "      }, limit: 5\n",
    "    ) {\n",
    "      name\n",
    "      wroteArticles {\n",
    "        ... on Article {\n",
    "          title\n",
    "        }\n",
    "      }\n",
    "    }\n",
    "  }\n",
    "}\n",
    "\"\"\"\n",
    "\n",
    "query = Template(query).substitute(limit=2)\n",
    "response = client.query.raw(query)\n",
    "pprint_response(response)\n"
   ]
  },
  {
   "cell_type": "markdown",
   "metadata": {},
   "source": [
    "## 2.3. Filter articles by author"
   ]
  },
  {
   "cell_type": "markdown",
   "metadata": {},
   "source": [
    "Also using Article-Author cross referencing we can filter articles that [are wrote by specific authors](https://weaviate.io/developers/weaviate/current/graphql-references/filters.html#beacon-reference-filters)."
   ]
  },
  {
   "cell_type": "code",
   "execution_count": 21,
   "metadata": {},
   "outputs": [
    {
     "name": "stdout",
     "output_type": "stream",
     "text": [
      "\u001b[1m\u001b[47m\u001b[31mARTICLE\u001b[0m\n",
      "Response # 0\n",
      "\u001b[40m\u001b[35mhasAuthors\u001b[0m: [{'name': 'Tyler Clifford'}]\n",
      "\u001b[40m\u001b[35mtitle\u001b[0m: Cramer adds new stocks, recommends buying 12 laggards in his Covid-19 index\n",
      "========================================================================================================================\n",
      "Response # 1\n",
      "\u001b[40m\u001b[35mhasAuthors\u001b[0m: [{'name': 'Tyler Clifford'}]\n",
      "\u001b[40m\u001b[35mtitle\u001b[0m: 'I come to bury Bitcoin, not to praise it': UBS \n",
      "========================================================================================================================\n",
      "Response # 2\n",
      "\u001b[40m\u001b[35mhasAuthors\u001b[0m: [{'name': 'Tyler Bailey'}]\n",
      "\u001b[40m\u001b[35mtitle\u001b[0m: Your first trade for Wednesday, January 15\n",
      "========================================================================================================================\n"
     ]
    }
   ],
   "source": [
    "query = \"\"\"\n",
    "{\n",
    "  Get {\n",
    "    Article(\n",
    "      where:{\n",
    "        valueString: \"${authorName}\",\n",
    "        operator: Equal,\n",
    "        path: [\"hasAuthors\", \"Author\", \"name\"]\n",
    "      }, limit: 5\n",
    "    ) {\n",
    "      title\n",
    "      hasAuthors {\n",
    "        ... on Author {\n",
    "          name\n",
    "        }\n",
    "      }\n",
    "    }\n",
    "  }\n",
    " }\n",
    "\"\"\"\n",
    "\n",
    "query = Template(query).substitute(authorName=\"Tyler\")\n",
    "response = client.query.raw(query)\n",
    "pprint_response(response)\n"
   ]
  },
  {
   "cell_type": "markdown",
   "metadata": {},
   "source": [
    "# 3. All combined"
   ]
  },
  {
   "cell_type": "markdown",
   "metadata": {},
   "source": [
    "As a final step here is the query do:\n",
    "- vector search\n",
    "- filter by:\n",
    "    - publish date\n",
    "    - keywords\n",
    "    - title\n",
    "    - author\n",
    "    - description word count"
   ]
  },
  {
   "cell_type": "code",
   "execution_count": 22,
   "metadata": {},
   "outputs": [
    {
     "name": "stdout",
     "output_type": "stream",
     "text": [
      "\u001b[1m\u001b[47m\u001b[31mARTICLE\u001b[0m\n",
      "Response # 0\n",
      "\u001b[40m\u001b[35m_additional\u001b[0m: {'certainty': 0.7344097}\n",
      "\u001b[40m\u001b[35mdescription\u001b[0m: Europe could be looking at a Japan-style deflationary environment  for the next five years, investor Marc Lasry told CNBC on  Wednesday. Read MoreEuro tests low last  seen at its birth in1999  Lasry's Avenue Capital is continuing to buy credit-side debt at a  discount in Europe. Over the last three or four years, the amount  of debt that European banks have sold has increased by 100  percent, he said in a \"Squawk  Box\" interview.   \"The way that the banks were able to sell this debt is, they kee\n",
      "\u001b[40m\u001b[35mdescriptionWordCount\u001b[0m: 344\n",
      "\u001b[40m\u001b[35mhasAuthors\u001b[0m: [{'name': 'Tom DiChristopher'}]\n",
      "\u001b[40m\u001b[35mkeywords\u001b[0m: ['cnbc', 'Articles', 'World Markets', 'Bonds', 'Markets', 'Corporate bonds', 'Investment strategy', 'Corporate Debt', 'Investing', 'Credit and Debt', 'Squawk on the Street', 'Market Outlook', 'Europe Economy', 'source:tagname:CNBC US Source']\n",
      "\u001b[40m\u001b[35mpublished_at\u001b[0m: 2015-01-08T16:06:28Z\n",
      "\u001b[40m\u001b[35mtitle\u001b[0m: Lasry: Europe could face Japan-style deflation era\n",
      "========================================================================================================================\n"
     ]
    }
   ],
   "source": [
    "query = \"\"\"\n",
    "{\n",
    "  Get {\n",
    "    Article(\n",
    "      limit: 5\n",
    "      nearText: \n",
    "      {\n",
    "        concepts: [\"debt of european banks\"],\n",
    "        moveTo:\n",
    "        {\n",
    "          concepts: [\"deflation\"],\n",
    "          force: 0.9\n",
    "        }\n",
    "      }\n",
    "      where: \n",
    "      {\n",
    "        operator: And,\n",
    "        operands: \n",
    "        [\n",
    "          {\n",
    "            operator: GreaterThan,\n",
    "            path: [\"published_at\"],\n",
    "            valueDate: \"2015-01-01T0:00:00.52Z\",\n",
    "          },\n",
    "          {\n",
    "            operator: Equal,\n",
    "            path: [\"keywords\"],\n",
    "            valueText: \"bonds\",\n",
    "          },\n",
    "          {\n",
    "            operator: Equal,\n",
    "            path: [\"title\"],\n",
    "            valueText: \"Europe Japan\",\n",
    "          },\n",
    "          {\n",
    "            operator: Equal,\n",
    "            path: [\"hasAuthors\", \"Author\", \"name\"],\n",
    "            valueString: \"Tom DiChristopher\",\n",
    "          },\n",
    "          {\n",
    "            operator: GreaterThan,\n",
    "            path: [\"descriptionWordCount\"],\n",
    "            valueInt: 100,\n",
    "          }\n",
    "        ]\n",
    "      }\n",
    "    ) \n",
    "    {\n",
    "      title\n",
    "      description\n",
    "      keywords\n",
    "      published_at\n",
    "      descriptionWordCount\n",
    "      hasAuthors {\n",
    "        ... on Author {\n",
    "          name\n",
    "        }\n",
    "      }\n",
    "      _additional {\n",
    "        certainty\n",
    "      }\n",
    "    }\n",
    "  }\n",
    "}\n",
    "\"\"\"\n",
    "\n",
    "response = client.query.raw(query)\n",
    "pprint_response(response)\n"
   ]
  }
 ],
 "metadata": {
  "interpreter": {
   "hash": "cb9e94dbe4e7fc92a3d7162f471039658b9fdbbc9b042b59ec1fc38823150b03"
  },
  "kernelspec": {
   "display_name": "Python 3.9.9 64-bit ('weaviate-demo')",
   "language": "python",
   "name": "python3"
  },
  "language_info": {
   "codemirror_mode": {
    "name": "ipython",
    "version": 3
   },
   "file_extension": ".py",
   "mimetype": "text/x-python",
   "name": "python",
   "nbconvert_exporter": "python",
   "pygments_lexer": "ipython3",
   "version": "3.9.9"
  },
  "orig_nbformat": 4
 },
 "nbformat": 4,
 "nbformat_minor": 2
}
